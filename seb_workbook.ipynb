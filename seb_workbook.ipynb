{
 "cells": [
  {
   "cell_type": "markdown",
   "id": "fd31b9c6",
   "metadata": {},
   "source": [
    "# Initial Workbook"
   ]
  }
 ],
 "metadata": {
  "language_info": {
   "name": "python"
  }
 },
 "nbformat": 4,
 "nbformat_minor": 5
}
