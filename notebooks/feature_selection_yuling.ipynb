{
 "cells": [
  {
   "cell_type": "code",
   "execution_count": 50,
   "id": "58aa7be6",
   "metadata": {},
   "outputs": [],
   "source": [
    "import pandas as pd\n",
    "import numpy as np\n",
    "from tsfresh.feature_extraction import extract_features, EfficientFCParameters\n",
    "from tsfresh.utilities.dataframe_functions import impute\n",
    "from sklearn.model_selection import train_test_split\n",
    "from sklearn.preprocessing import MinMaxScaler, StandardScaler\n",
    "\n",
    "import pandas as pd\n",
    "import numpy as np\n",
    "import matplotlib.pyplot as plt\n",
    "import import_ipynb\n",
    "\n",
    "from xgboost import XGBClassifier\n",
    "from sklearn.model_selection import train_test_split, GridSearchCV\n",
    "from sklearn.metrics import accuracy_score, roc_auc_score, confusion_matrix, classification_report, balanced_accuracy_score\n",
    "from sklearn.utils.class_weight import compute_class_weight\n",
    "from sklearn.utils.class_weight import compute_sample_weight\n",
    "from tsfresh.feature_selection import select_features\n",
    "from tsfresh.feature_extraction import extract_features, MinimalFCParameters\n",
    "from sklearn.feature_selection import SelectPercentile, mutual_info_classif\n",
    "from sklearn.pipeline import Pipeline\n",
    "from sklearn.decomposition import PCA\n"
   ]
  },
  {
   "cell_type": "code",
   "execution_count": 2,
   "id": "ea18a0ae",
   "metadata": {},
   "outputs": [],
   "source": [
    "raw_data_prep_dir = '../raw_data/pads-parkinsons-disease-smartwatch-dataset-1.0.0/preprocessed/'\n",
    "\n",
    "#/Users/yulingsun/code/marzecovaa/spark/raw_data/pads-parkinsons-disease-smartwatch-dataset-1.0.0"
   ]
  },
  {
   "cell_type": "code",
   "execution_count": 3,
   "id": "b81f21be",
   "metadata": {},
   "outputs": [
    {
     "data": {
      "text/html": [
       "<div>\n",
       "<style scoped>\n",
       "    .dataframe tbody tr th:only-of-type {\n",
       "        vertical-align: middle;\n",
       "    }\n",
       "\n",
       "    .dataframe tbody tr th {\n",
       "        vertical-align: top;\n",
       "    }\n",
       "\n",
       "    .dataframe thead th {\n",
       "        text-align: right;\n",
       "    }\n",
       "</style>\n",
       "<table border=\"1\" class=\"dataframe\">\n",
       "  <thead>\n",
       "    <tr style=\"text-align: right;\">\n",
       "      <th></th>\n",
       "      <th>resource_type</th>\n",
       "      <th>id</th>\n",
       "      <th>study_id</th>\n",
       "      <th>condition</th>\n",
       "      <th>disease_comment</th>\n",
       "      <th>age_at_diagnosis</th>\n",
       "      <th>age</th>\n",
       "      <th>height</th>\n",
       "      <th>weight</th>\n",
       "      <th>gender</th>\n",
       "      <th>handedness</th>\n",
       "      <th>appearance_in_kinship</th>\n",
       "      <th>appearance_in_first_grade_kinship</th>\n",
       "      <th>effect_of_alcohol_on_tremor</th>\n",
       "      <th>label</th>\n",
       "    </tr>\n",
       "  </thead>\n",
       "  <tbody>\n",
       "    <tr>\n",
       "      <th>0</th>\n",
       "      <td>patient</td>\n",
       "      <td>1</td>\n",
       "      <td>PADS</td>\n",
       "      <td>Healthy</td>\n",
       "      <td>-</td>\n",
       "      <td>56</td>\n",
       "      <td>56</td>\n",
       "      <td>173</td>\n",
       "      <td>78</td>\n",
       "      <td>male</td>\n",
       "      <td>right</td>\n",
       "      <td>True</td>\n",
       "      <td>True</td>\n",
       "      <td>Unknown</td>\n",
       "      <td>0</td>\n",
       "    </tr>\n",
       "    <tr>\n",
       "      <th>1</th>\n",
       "      <td>patient</td>\n",
       "      <td>2</td>\n",
       "      <td>PADS</td>\n",
       "      <td>Other Movement Disorders</td>\n",
       "      <td>Left-Sided resting tremor and hypokinesia with...</td>\n",
       "      <td>69</td>\n",
       "      <td>81</td>\n",
       "      <td>193</td>\n",
       "      <td>104</td>\n",
       "      <td>male</td>\n",
       "      <td>right</td>\n",
       "      <td>False</td>\n",
       "      <td>NaN</td>\n",
       "      <td>No effect</td>\n",
       "      <td>2</td>\n",
       "    </tr>\n",
       "    <tr>\n",
       "      <th>2</th>\n",
       "      <td>patient</td>\n",
       "      <td>3</td>\n",
       "      <td>PADS</td>\n",
       "      <td>Healthy</td>\n",
       "      <td>-</td>\n",
       "      <td>45</td>\n",
       "      <td>45</td>\n",
       "      <td>170</td>\n",
       "      <td>78</td>\n",
       "      <td>female</td>\n",
       "      <td>right</td>\n",
       "      <td>False</td>\n",
       "      <td>NaN</td>\n",
       "      <td>Unknown</td>\n",
       "      <td>0</td>\n",
       "    </tr>\n",
       "    <tr>\n",
       "      <th>3</th>\n",
       "      <td>patient</td>\n",
       "      <td>4</td>\n",
       "      <td>PADS</td>\n",
       "      <td>Parkinson's</td>\n",
       "      <td>IPS akinetic-rigid type</td>\n",
       "      <td>63</td>\n",
       "      <td>67</td>\n",
       "      <td>161</td>\n",
       "      <td>90</td>\n",
       "      <td>female</td>\n",
       "      <td>right</td>\n",
       "      <td>False</td>\n",
       "      <td>NaN</td>\n",
       "      <td>No effect</td>\n",
       "      <td>1</td>\n",
       "    </tr>\n",
       "    <tr>\n",
       "      <th>4</th>\n",
       "      <td>patient</td>\n",
       "      <td>5</td>\n",
       "      <td>PADS</td>\n",
       "      <td>Parkinson's</td>\n",
       "      <td>IPS tremordominant type</td>\n",
       "      <td>65</td>\n",
       "      <td>75</td>\n",
       "      <td>172</td>\n",
       "      <td>86</td>\n",
       "      <td>male</td>\n",
       "      <td>left</td>\n",
       "      <td>False</td>\n",
       "      <td>NaN</td>\n",
       "      <td>Unknown</td>\n",
       "      <td>1</td>\n",
       "    </tr>\n",
       "    <tr>\n",
       "      <th>...</th>\n",
       "      <td>...</td>\n",
       "      <td>...</td>\n",
       "      <td>...</td>\n",
       "      <td>...</td>\n",
       "      <td>...</td>\n",
       "      <td>...</td>\n",
       "      <td>...</td>\n",
       "      <td>...</td>\n",
       "      <td>...</td>\n",
       "      <td>...</td>\n",
       "      <td>...</td>\n",
       "      <td>...</td>\n",
       "      <td>...</td>\n",
       "      <td>...</td>\n",
       "      <td>...</td>\n",
       "    </tr>\n",
       "    <tr>\n",
       "      <th>464</th>\n",
       "      <td>patient</td>\n",
       "      <td>465</td>\n",
       "      <td>PADS</td>\n",
       "      <td>Parkinson's</td>\n",
       "      <td>IPS mixed type</td>\n",
       "      <td>62</td>\n",
       "      <td>65</td>\n",
       "      <td>175</td>\n",
       "      <td>80</td>\n",
       "      <td>male</td>\n",
       "      <td>right</td>\n",
       "      <td>True</td>\n",
       "      <td>False</td>\n",
       "      <td>No effect</td>\n",
       "      <td>1</td>\n",
       "    </tr>\n",
       "    <tr>\n",
       "      <th>465</th>\n",
       "      <td>patient</td>\n",
       "      <td>466</td>\n",
       "      <td>PADS</td>\n",
       "      <td>Healthy</td>\n",
       "      <td>-</td>\n",
       "      <td>84</td>\n",
       "      <td>84</td>\n",
       "      <td>172</td>\n",
       "      <td>74</td>\n",
       "      <td>female</td>\n",
       "      <td>right</td>\n",
       "      <td>True</td>\n",
       "      <td>True</td>\n",
       "      <td>No effect</td>\n",
       "      <td>0</td>\n",
       "    </tr>\n",
       "    <tr>\n",
       "      <th>466</th>\n",
       "      <td>patient</td>\n",
       "      <td>467</td>\n",
       "      <td>PADS</td>\n",
       "      <td>Parkinson's</td>\n",
       "      <td>Essential Tremor, starting IPS tremordominant ...</td>\n",
       "      <td>55</td>\n",
       "      <td>57</td>\n",
       "      <td>190</td>\n",
       "      <td>100</td>\n",
       "      <td>male</td>\n",
       "      <td>right</td>\n",
       "      <td>False</td>\n",
       "      <td>NaN</td>\n",
       "      <td>Improvement</td>\n",
       "      <td>1</td>\n",
       "    </tr>\n",
       "    <tr>\n",
       "      <th>467</th>\n",
       "      <td>patient</td>\n",
       "      <td>468</td>\n",
       "      <td>PADS</td>\n",
       "      <td>Parkinson's</td>\n",
       "      <td>IPS mixed type</td>\n",
       "      <td>73</td>\n",
       "      <td>76</td>\n",
       "      <td>198</td>\n",
       "      <td>118</td>\n",
       "      <td>male</td>\n",
       "      <td>right</td>\n",
       "      <td>False</td>\n",
       "      <td>NaN</td>\n",
       "      <td>No effect</td>\n",
       "      <td>1</td>\n",
       "    </tr>\n",
       "    <tr>\n",
       "      <th>468</th>\n",
       "      <td>patient</td>\n",
       "      <td>469</td>\n",
       "      <td>PADS</td>\n",
       "      <td>Parkinson's</td>\n",
       "      <td>IPS tremordominant type</td>\n",
       "      <td>44</td>\n",
       "      <td>54</td>\n",
       "      <td>165</td>\n",
       "      <td>67</td>\n",
       "      <td>female</td>\n",
       "      <td>right</td>\n",
       "      <td>False</td>\n",
       "      <td>NaN</td>\n",
       "      <td>Unknown</td>\n",
       "      <td>1</td>\n",
       "    </tr>\n",
       "  </tbody>\n",
       "</table>\n",
       "<p>469 rows × 15 columns</p>\n",
       "</div>"
      ],
      "text/plain": [
       "    resource_type   id study_id                 condition  \\\n",
       "0         patient    1     PADS                   Healthy   \n",
       "1         patient    2     PADS  Other Movement Disorders   \n",
       "2         patient    3     PADS                   Healthy   \n",
       "3         patient    4     PADS               Parkinson's   \n",
       "4         patient    5     PADS               Parkinson's   \n",
       "..            ...  ...      ...                       ...   \n",
       "464       patient  465     PADS               Parkinson's   \n",
       "465       patient  466     PADS                   Healthy   \n",
       "466       patient  467     PADS               Parkinson's   \n",
       "467       patient  468     PADS               Parkinson's   \n",
       "468       patient  469     PADS               Parkinson's   \n",
       "\n",
       "                                       disease_comment  age_at_diagnosis  age  \\\n",
       "0                                                    -                56   56   \n",
       "1    Left-Sided resting tremor and hypokinesia with...                69   81   \n",
       "2                                                    -                45   45   \n",
       "3                              IPS akinetic-rigid type                63   67   \n",
       "4                              IPS tremordominant type                65   75   \n",
       "..                                                 ...               ...  ...   \n",
       "464                                     IPS mixed type                62   65   \n",
       "465                                                  -                84   84   \n",
       "466  Essential Tremor, starting IPS tremordominant ...                55   57   \n",
       "467                                     IPS mixed type                73   76   \n",
       "468                            IPS tremordominant type                44   54   \n",
       "\n",
       "     height  weight  gender handedness  appearance_in_kinship  \\\n",
       "0       173      78    male      right                   True   \n",
       "1       193     104    male      right                  False   \n",
       "2       170      78  female      right                  False   \n",
       "3       161      90  female      right                  False   \n",
       "4       172      86    male       left                  False   \n",
       "..      ...     ...     ...        ...                    ...   \n",
       "464     175      80    male      right                   True   \n",
       "465     172      74  female      right                   True   \n",
       "466     190     100    male      right                  False   \n",
       "467     198     118    male      right                  False   \n",
       "468     165      67  female      right                  False   \n",
       "\n",
       "    appearance_in_first_grade_kinship effect_of_alcohol_on_tremor  label  \n",
       "0                                True                     Unknown      0  \n",
       "1                                 NaN                   No effect      2  \n",
       "2                                 NaN                     Unknown      0  \n",
       "3                                 NaN                   No effect      1  \n",
       "4                                 NaN                     Unknown      1  \n",
       "..                                ...                         ...    ...  \n",
       "464                             False                   No effect      1  \n",
       "465                              True                   No effect      0  \n",
       "466                               NaN                 Improvement      1  \n",
       "467                               NaN                   No effect      1  \n",
       "468                               NaN                     Unknown      1  \n",
       "\n",
       "[469 rows x 15 columns]"
      ]
     },
     "execution_count": 3,
     "metadata": {},
     "output_type": "execute_result"
    }
   ],
   "source": [
    "file_list = pd.read_csv(raw_data_prep_dir  + \"file_list.csv\")\n",
    "file_list"
   ]
  },
  {
   "cell_type": "code",
   "execution_count": 4,
   "id": "f32d9836",
   "metadata": {},
   "outputs": [
    {
     "data": {
      "text/plain": [
       "469"
      ]
     },
     "execution_count": 4,
     "metadata": {},
     "output_type": "execute_result"
    }
   ],
   "source": [
    "n_id = len(file_list['id'])\n",
    "n_id"
   ]
  },
  {
   "cell_type": "code",
   "execution_count": 7,
   "id": "1011fe83",
   "metadata": {},
   "outputs": [
    {
     "data": {
      "text/plain": [
       "4    1\n",
       "Name: label, dtype: int64"
      ]
     },
     "execution_count": 7,
     "metadata": {},
     "output_type": "execute_result"
    }
   ],
   "source": [
    "file_list[file_list['id']==5]['label']"
   ]
  },
  {
   "cell_type": "code",
   "execution_count": 8,
   "id": "9a809b5d",
   "metadata": {},
   "outputs": [
    {
     "name": "stdout",
     "output_type": "stream",
     "text": [
      "(469,) (469,)\n"
     ]
    }
   ],
   "source": [
    "time_data = []\n",
    "y = []\n",
    "X_to_split = []\n",
    "for idx, subject_idx in enumerate(file_list['id']):\n",
    "    file_name = raw_data_prep_dir + f'movement/{subject_idx:03d}_ml.bin'\n",
    "    time_idx_data = np.fromfile(file_name, dtype=np.float32).reshape((-1, 976))\n",
    "    time_data.append(time_idx_data)\n",
    "    y_idx = file_list[file_list['id']==subject_idx].label.values\n",
    "    X_id = idx\n",
    "    y.append(y_idx)\n",
    "    X_to_split.append(X_id)\n",
    "\n",
    "X_to_split = np.array(X_to_split)\n",
    "y = np.array(y).flatten()\n",
    "print(X_to_split.shape, y.shape)\n"
   ]
  },
  {
   "cell_type": "code",
   "execution_count": 69,
   "id": "100209ed",
   "metadata": {},
   "outputs": [
    {
     "name": "stdout",
     "output_type": "stream",
     "text": [
      "['Relaxed1_Acceleration_LeftWrist_X', 'Relaxed1_Acceleration_LeftWrist_Y', 'Relaxed1_Acceleration_LeftWrist_Z', 'Relaxed1_Rotation_LeftWrist_X', 'Relaxed1_Rotation_LeftWrist_Y', 'Relaxed1_Rotation_LeftWrist_Z', 'Relaxed1_Acceleration_RightWrist_X', 'Relaxed1_Acceleration_RightWrist_Y', 'Relaxed1_Acceleration_RightWrist_Z', 'Relaxed1_Rotation_RightWrist_X', 'Relaxed1_Rotation_RightWrist_Y', 'Relaxed1_Rotation_RightWrist_Z', 'Relaxed2_Acceleration_LeftWrist_X', 'Relaxed2_Acceleration_LeftWrist_Y', 'Relaxed2_Acceleration_LeftWrist_Z', 'Relaxed2_Rotation_LeftWrist_X', 'Relaxed2_Rotation_LeftWrist_Y', 'Relaxed2_Rotation_LeftWrist_Z', 'Relaxed2_Acceleration_RightWrist_X', 'Relaxed2_Acceleration_RightWrist_Y', 'Relaxed2_Acceleration_RightWrist_Z', 'Relaxed2_Rotation_RightWrist_X', 'Relaxed2_Rotation_RightWrist_Y', 'Relaxed2_Rotation_RightWrist_Z', 'RelaxedTask1_Acceleration_LeftWrist_X', 'RelaxedTask1_Acceleration_LeftWrist_Y', 'RelaxedTask1_Acceleration_LeftWrist_Z', 'RelaxedTask1_Rotation_LeftWrist_X', 'RelaxedTask1_Rotation_LeftWrist_Y', 'RelaxedTask1_Rotation_LeftWrist_Z', 'RelaxedTask1_Acceleration_RightWrist_X', 'RelaxedTask1_Acceleration_RightWrist_Y', 'RelaxedTask1_Acceleration_RightWrist_Z', 'RelaxedTask1_Rotation_RightWrist_X', 'RelaxedTask1_Rotation_RightWrist_Y', 'RelaxedTask1_Rotation_RightWrist_Z', 'RelaxedTask2_Acceleration_LeftWrist_X', 'RelaxedTask2_Acceleration_LeftWrist_Y', 'RelaxedTask2_Acceleration_LeftWrist_Z', 'RelaxedTask2_Rotation_LeftWrist_X', 'RelaxedTask2_Rotation_LeftWrist_Y', 'RelaxedTask2_Rotation_LeftWrist_Z', 'RelaxedTask2_Acceleration_RightWrist_X', 'RelaxedTask2_Acceleration_RightWrist_Y', 'RelaxedTask2_Acceleration_RightWrist_Z', 'RelaxedTask2_Rotation_RightWrist_X', 'RelaxedTask2_Rotation_RightWrist_Y', 'RelaxedTask2_Rotation_RightWrist_Z', 'StretchHold_Acceleration_LeftWrist_X', 'StretchHold_Acceleration_LeftWrist_Y', 'StretchHold_Acceleration_LeftWrist_Z', 'StretchHold_Rotation_LeftWrist_X', 'StretchHold_Rotation_LeftWrist_Y', 'StretchHold_Rotation_LeftWrist_Z', 'StretchHold_Acceleration_RightWrist_X', 'StretchHold_Acceleration_RightWrist_Y', 'StretchHold_Acceleration_RightWrist_Z', 'StretchHold_Rotation_RightWrist_X', 'StretchHold_Rotation_RightWrist_Y', 'StretchHold_Rotation_RightWrist_Z', 'HoldWeight_Acceleration_LeftWrist_X', 'HoldWeight_Acceleration_LeftWrist_Y', 'HoldWeight_Acceleration_LeftWrist_Z', 'HoldWeight_Rotation_LeftWrist_X', 'HoldWeight_Rotation_LeftWrist_Y', 'HoldWeight_Rotation_LeftWrist_Z', 'HoldWeight_Acceleration_RightWrist_X', 'HoldWeight_Acceleration_RightWrist_Y', 'HoldWeight_Acceleration_RightWrist_Z', 'HoldWeight_Rotation_RightWrist_X', 'HoldWeight_Rotation_RightWrist_Y', 'HoldWeight_Rotation_RightWrist_Z', 'DrinkGlas_Acceleration_LeftWrist_X', 'DrinkGlas_Acceleration_LeftWrist_Y', 'DrinkGlas_Acceleration_LeftWrist_Z', 'DrinkGlas_Rotation_LeftWrist_X', 'DrinkGlas_Rotation_LeftWrist_Y', 'DrinkGlas_Rotation_LeftWrist_Z', 'DrinkGlas_Acceleration_RightWrist_X', 'DrinkGlas_Acceleration_RightWrist_Y', 'DrinkGlas_Acceleration_RightWrist_Z', 'DrinkGlas_Rotation_RightWrist_X', 'DrinkGlas_Rotation_RightWrist_Y', 'DrinkGlas_Rotation_RightWrist_Z', 'CrossArms_Acceleration_LeftWrist_X', 'CrossArms_Acceleration_LeftWrist_Y', 'CrossArms_Acceleration_LeftWrist_Z', 'CrossArms_Rotation_LeftWrist_X', 'CrossArms_Rotation_LeftWrist_Y', 'CrossArms_Rotation_LeftWrist_Z', 'CrossArms_Acceleration_RightWrist_X', 'CrossArms_Acceleration_RightWrist_Y', 'CrossArms_Acceleration_RightWrist_Z', 'CrossArms_Rotation_RightWrist_X', 'CrossArms_Rotation_RightWrist_Y', 'CrossArms_Rotation_RightWrist_Z', 'TouchNose_Acceleration_LeftWrist_X', 'TouchNose_Acceleration_LeftWrist_Y', 'TouchNose_Acceleration_LeftWrist_Z', 'TouchNose_Rotation_LeftWrist_X', 'TouchNose_Rotation_LeftWrist_Y', 'TouchNose_Rotation_LeftWrist_Z', 'TouchNose_Acceleration_RightWrist_X', 'TouchNose_Acceleration_RightWrist_Y', 'TouchNose_Acceleration_RightWrist_Z', 'TouchNose_Rotation_RightWrist_X', 'TouchNose_Rotation_RightWrist_Y', 'TouchNose_Rotation_RightWrist_Z', 'Entrainment1_Acceleration_LeftWrist_X', 'Entrainment1_Acceleration_LeftWrist_Y', 'Entrainment1_Acceleration_LeftWrist_Z', 'Entrainment1_Rotation_LeftWrist_X', 'Entrainment1_Rotation_LeftWrist_Y', 'Entrainment1_Rotation_LeftWrist_Z', 'Entrainment1_Acceleration_RightWrist_X', 'Entrainment1_Acceleration_RightWrist_Y', 'Entrainment1_Acceleration_RightWrist_Z', 'Entrainment1_Rotation_RightWrist_X', 'Entrainment1_Rotation_RightWrist_Y', 'Entrainment1_Rotation_RightWrist_Z', 'Entrainment2_Acceleration_LeftWrist_X', 'Entrainment2_Acceleration_LeftWrist_Y', 'Entrainment2_Acceleration_LeftWrist_Z', 'Entrainment2_Rotation_LeftWrist_X', 'Entrainment2_Rotation_LeftWrist_Y', 'Entrainment2_Rotation_LeftWrist_Z', 'Entrainment2_Acceleration_RightWrist_X', 'Entrainment2_Acceleration_RightWrist_Y', 'Entrainment2_Acceleration_RightWrist_Z', 'Entrainment2_Rotation_RightWrist_X', 'Entrainment2_Rotation_RightWrist_Y', 'Entrainment2_Rotation_RightWrist_Z']\n"
     ]
    }
   ],
   "source": [
    "channels = []\n",
    "for task in [\"Relaxed1\", \"Relaxed2\", \"RelaxedTask1\", \"RelaxedTask2\", \"StretchHold\", \"HoldWeight\",\n",
    "                \"DrinkGlas\", \"CrossArms\", \"TouchNose\", \"Entrainment1\", \"Entrainment2\"]:\n",
    "    for device_location in [\"LeftWrist\", \"RightWrist\"]:\n",
    "        for sensor in [\"Acceleration\", \"Rotation\"]:\n",
    "            for axis in [\"X\", \"Y\", \"Z\"]:\n",
    "                channel = f\"{task}_{sensor}_{device_location}_{axis}\"\n",
    "                channels.append(channel)\n",
    "len(channels)\n",
    "print(channels)"
   ]
  },
  {
   "cell_type": "code",
   "execution_count": 10,
   "id": "a8604f34",
   "metadata": {},
   "outputs": [
    {
     "name": "stdout",
     "output_type": "stream",
     "text": [
      "(469, 132, 976)\n"
     ]
    }
   ],
   "source": [
    "time_data_array = np.array(time_data)\n",
    "print(time_data_array.shape)"
   ]
  },
  {
   "cell_type": "code",
   "execution_count": 119,
   "id": "8c5d421d",
   "metadata": {},
   "outputs": [
    {
     "data": {
      "text/plain": [
       "array([[[-7.18307542e-03, -7.97853246e-03, -7.81304389e-03, ...,\n",
       "          1.72191102e-03,  2.75583961e-03,  1.86453806e-03],\n",
       "        [-2.89946591e-04, -1.60217297e-03, -2.94661568e-03, ...,\n",
       "          2.54398095e-04,  1.34622052e-04,  1.96311320e-03],\n",
       "        [ 4.12839325e-03,  3.16892145e-03,  2.27304758e-03, ...,\n",
       "          4.87453333e-04,  1.48784160e-03, -4.89200873e-04],\n",
       "        ...,\n",
       "        [ 7.97079727e-02,  7.00292438e-02,  4.42504846e-02, ...,\n",
       "         -1.05950013e-02, -6.27173204e-03,  3.40433232e-03],\n",
       "        [-1.02272712e-01, -9.49295759e-02, -7.82209039e-02, ...,\n",
       "          6.99309483e-02,  6.35627955e-02,  5.61850406e-02],\n",
       "        [-1.67727657e-02, -1.67666413e-02, -2.31204107e-02, ...,\n",
       "         -1.13539649e-02, -1.77311711e-02, -2.30463073e-02]],\n",
       "\n",
       "       [[ 8.36125482e-03,  5.90733485e-03, -4.05572727e-03, ...,\n",
       "         -1.88475254e-03, -9.19213693e-04,  9.88525455e-04],\n",
       "        [-1.96502102e-03,  2.39871955e-03, -4.03387845e-03, ...,\n",
       "         -1.77135039e-02, -1.80895422e-02, -1.35900667e-02],\n",
       "        [ 1.00842845e-02,  1.44647313e-02,  1.11305481e-02, ...,\n",
       "         -3.04453704e-03, -3.19689699e-03, -2.37555546e-03],\n",
       "        ...,\n",
       "        [-3.35034803e-02, -2.94538755e-02,  5.43396082e-03, ...,\n",
       "          6.99473219e-03, -3.90803516e-02, -8.36318452e-03],\n",
       "        [-2.51751933e-02, -2.79452093e-03,  3.03960573e-02, ...,\n",
       "         -2.29245365e-01, -2.11706057e-01, -1.88031361e-01],\n",
       "        [ 4.64640781e-02,  5.60304187e-02,  5.49775362e-02, ...,\n",
       "          1.02626286e-01,  8.77815560e-02,  9.73417759e-02]],\n",
       "\n",
       "       [[ 4.62400261e-03,  6.21386850e-03,  5.93274506e-03, ...,\n",
       "          3.05457902e-03, -1.88732939e-03, -5.82108507e-03],\n",
       "        [-3.22533189e-03, -2.32648163e-04, -1.74778033e-04, ...,\n",
       "          3.12083517e-03,  2.16861512e-03, -2.68246373e-03],\n",
       "        [ 5.01487451e-03,  3.77275911e-03,  4.54784371e-03, ...,\n",
       "         -9.48164787e-04, -3.04465575e-05, -1.02764671e-03],\n",
       "        ...,\n",
       "        [ 1.66941583e-02,  2.42982823e-02,  2.01685168e-02, ...,\n",
       "         -2.12571397e-02, -6.17986545e-03,  5.56707149e-03],\n",
       "        [-1.13197774e-01, -1.26980975e-01, -1.40832722e-01, ...,\n",
       "          4.59144451e-02,  3.10243107e-02,  2.88386550e-02],\n",
       "        [ 4.37210761e-02,  3.52178700e-02,  3.20272669e-02, ...,\n",
       "         -7.61731714e-02, -1.01667210e-01, -1.27154469e-01]],\n",
       "\n",
       "       ...,\n",
       "\n",
       "       [[-2.20972374e-02, -9.14510526e-03,  9.38488916e-03, ...,\n",
       "          1.66935343e-02,  3.17576826e-02,  5.80960885e-03],\n",
       "        [ 3.63792926e-02,  4.16808352e-02,  4.23407694e-03, ...,\n",
       "         -3.49291898e-02, -4.30771969e-02, -3.97694893e-02],\n",
       "        [-1.48343490e-04,  1.24118999e-02,  6.05058949e-03, ...,\n",
       "         -4.50072484e-03, -8.28905124e-03, -1.83163136e-02],\n",
       "        ...,\n",
       "        [-9.80462432e-02,  1.37112737e-01,  2.75088221e-01, ...,\n",
       "          9.25082788e-02,  8.85298848e-02,  1.18309096e-01],\n",
       "        [-1.44872934e-01, -7.72384927e-02, -4.21041669e-03, ...,\n",
       "          2.01530635e-01,  2.76535362e-01,  3.89972955e-01],\n",
       "        [ 2.98148602e-01,  2.66268700e-01,  2.15303317e-01, ...,\n",
       "         -4.57521118e-02, -9.13701952e-02, -1.46534652e-01]],\n",
       "\n",
       "       [[ 8.75444897e-03,  4.33374429e-03,  2.26567988e-03, ...,\n",
       "         -3.95556539e-03, -1.86740785e-04,  3.22435168e-03],\n",
       "        [ 7.78336730e-03,  6.91282982e-03,  3.25070857e-03, ...,\n",
       "          1.39460247e-03,  8.03240295e-03,  1.09300418e-02],\n",
       "        [ 3.46472976e-03,  6.89115515e-03,  2.59848149e-03, ...,\n",
       "         -1.76820450e-03, -4.48600436e-03, -4.91582043e-03],\n",
       "        ...,\n",
       "        [ 2.35260606e-01,  1.59672901e-01,  7.16572106e-02, ...,\n",
       "         -1.08799472e-01, -9.72944349e-02, -6.82388172e-02],\n",
       "        [-4.84612212e-02, -2.36799736e-02,  5.07843681e-03, ...,\n",
       "          1.09375022e-01,  1.36836991e-01,  1.55176848e-01],\n",
       "        [ 1.09312020e-01,  1.07321836e-01,  1.17433533e-01, ...,\n",
       "         -4.83003780e-02, -8.27455670e-02, -1.17528580e-01]],\n",
       "\n",
       "       [[ 1.71402353e-03,  5.86650684e-04,  1.42322108e-03, ...,\n",
       "         -2.10232858e-04, -3.14288121e-03, -4.14645532e-03],\n",
       "        [ 4.81363339e-03,  3.89338937e-03,  2.92152795e-03, ...,\n",
       "          6.13220152e-04,  1.58190704e-03,  6.21251180e-04],\n",
       "        [ 4.43531526e-03,  3.40049202e-03,  3.71357426e-04, ...,\n",
       "          1.04908447e-03, -2.86440458e-03, -1.89287565e-03],\n",
       "        ...,\n",
       "        [-2.55793445e-02, -3.29656228e-02, -5.21528497e-02, ...,\n",
       "         -1.21610969e-01, -1.19265735e-01, -1.17108569e-01],\n",
       "        [-1.36809602e-01, -1.45383656e-01, -1.47666246e-01, ...,\n",
       "         -1.36324510e-01, -1.57518074e-01, -1.59600675e-01],\n",
       "        [-1.18657626e-01, -1.21845432e-01, -1.20780163e-01, ...,\n",
       "         -7.82845020e-02, -7.72348121e-02, -7.40510076e-02]]],\n",
       "      dtype=float32)"
      ]
     },
     "execution_count": 119,
     "metadata": {},
     "output_type": "execute_result"
    }
   ],
   "source": [
    "time_data_array"
   ]
  },
  {
   "cell_type": "code",
   "execution_count": 70,
   "id": "32612f3b",
   "metadata": {},
   "outputs": [
    {
     "data": {
      "text/plain": [
       "array([  0,   1,   2,   3,   4,   5,   6,   7,   8,   9,  10,  11,  12,\n",
       "        13,  14,  15,  16,  17,  18,  19,  20,  21,  22,  23,  24,  25,\n",
       "        26,  27,  28,  29,  30,  31,  32,  33,  34,  35,  36,  37,  38,\n",
       "        39,  40,  41,  42,  43,  44,  45,  46,  47,  48,  49,  50,  51,\n",
       "        52,  53,  54,  55,  56,  57,  58,  59,  60,  61,  62,  63,  64,\n",
       "        65,  66,  67,  68,  69,  70,  71,  72,  73,  74,  75,  76,  77,\n",
       "        78,  79,  80,  81,  82,  83,  84,  85,  86,  87,  88,  89,  90,\n",
       "        91,  92,  93,  94,  95,  96,  97,  98,  99, 100, 101, 102, 103,\n",
       "       104, 105, 106, 107, 108, 109, 110, 111, 112, 113, 114, 115, 116,\n",
       "       117, 118, 119, 120, 121, 122, 123, 124, 125, 126, 127, 128, 129,\n",
       "       130, 131, 132, 133, 134, 135, 136, 137, 138, 139, 140, 141, 142,\n",
       "       143, 144, 145, 146, 147, 148, 149, 150, 151, 152, 153, 154, 155,\n",
       "       156, 157, 158, 159, 160, 161, 162, 163, 164, 165, 166, 167, 168,\n",
       "       169, 170, 171, 172, 173, 174, 175, 176, 177, 178, 179, 180, 181,\n",
       "       182, 183, 184, 185, 186, 187, 188, 189, 190, 191, 192, 193, 194,\n",
       "       195, 196, 197, 198, 199, 200, 201, 202, 203, 204, 205, 206, 207,\n",
       "       208, 209, 210, 211, 212, 213, 214, 215, 216, 217, 218, 219, 220,\n",
       "       221, 222, 223, 224, 225, 226, 227, 228, 229, 230, 231, 232, 233,\n",
       "       234, 235, 236, 237, 238, 239, 240, 241, 242, 243, 244, 245, 246,\n",
       "       247, 248, 249, 250, 251, 252, 253, 254, 255, 256, 257, 258, 259,\n",
       "       260, 261, 262, 263, 264, 265, 266, 267, 268, 269, 270, 271, 272,\n",
       "       273, 274, 275, 276, 277, 278, 279, 280, 281, 282, 283, 284, 285,\n",
       "       286, 287, 288, 289, 290, 291, 292, 293, 294, 295, 296, 297, 298,\n",
       "       299, 300, 301, 302, 303, 304, 305, 306, 307, 308, 309, 310, 311,\n",
       "       312, 313, 314, 315, 316, 317, 318, 319, 320, 321, 322, 323, 324,\n",
       "       325, 326, 327, 328, 329, 330, 331, 332, 333, 334, 335, 336, 337,\n",
       "       338, 339, 340, 341, 342, 343, 344, 345, 346, 347, 348, 349, 350,\n",
       "       351, 352, 353, 354, 355, 356, 357, 358, 359, 360, 361, 362, 363,\n",
       "       364, 365, 366, 367, 368, 369, 370, 371, 372, 373, 374, 375, 376,\n",
       "       377, 378, 379, 380, 381, 382, 383, 384, 385, 386, 387, 388, 389,\n",
       "       390, 391, 392, 393, 394, 395, 396, 397, 398, 399, 400, 401, 402,\n",
       "       403, 404, 405, 406, 407, 408, 409, 410, 411, 412, 413, 414, 415,\n",
       "       416, 417, 418, 419, 420, 421, 422, 423, 424, 425, 426, 427, 428,\n",
       "       429, 430, 431, 432, 433, 434, 435, 436, 437, 438, 439, 440, 441,\n",
       "       442, 443, 444, 445, 446, 447, 448, 449, 450, 451, 452, 453, 454,\n",
       "       455, 456, 457, 458, 459, 460, 461, 462, 463, 464, 465, 466, 467,\n",
       "       468])"
      ]
     },
     "execution_count": 70,
     "metadata": {},
     "output_type": "execute_result"
    }
   ],
   "source": [
    "X_to_split"
   ]
  },
  {
   "cell_type": "code",
   "execution_count": 73,
   "id": "ebb13cbf",
   "metadata": {},
   "outputs": [
    {
     "data": {
      "text/plain": [
       "(469,)"
      ]
     },
     "execution_count": 73,
     "metadata": {},
     "output_type": "execute_result"
    }
   ],
   "source": [
    "X_to_split.shape"
   ]
  },
  {
   "cell_type": "code",
   "execution_count": 11,
   "id": "ddfe610e",
   "metadata": {},
   "outputs": [],
   "source": [
    "X_train_idx, X_test_idx, y_train, y_test = train_test_split(X_to_split, y, test_size=0.20, random_state=42, stratify = y)"
   ]
  },
  {
   "cell_type": "code",
   "execution_count": 12,
   "id": "94f2158e",
   "metadata": {},
   "outputs": [
    {
     "name": "stdout",
     "output_type": "stream",
     "text": [
      "375 94\n",
      "375 94\n"
     ]
    },
    {
     "data": {
      "text/plain": [
       "469"
      ]
     },
     "execution_count": 12,
     "metadata": {},
     "output_type": "execute_result"
    }
   ],
   "source": [
    "X_train = time_data_array[X_train_idx]\n",
    "X_test = time_data_array[X_test_idx]\n",
    "print(len(X_train), len(X_test))\n",
    "print(len(y_train), len(y_test))\n",
    "X = time_data_array\n",
    "X.shape[0]"
   ]
  },
  {
   "cell_type": "code",
   "execution_count": 13,
   "id": "c64a01d8",
   "metadata": {},
   "outputs": [
    {
     "name": "stderr",
     "output_type": "stream",
     "text": [
      "Feature Extraction: 100%|██████████| 61908/61908 [01:02<00:00, 985.14it/s] \n"
     ]
    },
    {
     "name": "stdout",
     "output_type": "stream",
     "text": [
      "(469, 1320)\n"
     ]
    }
   ],
   "source": [
    "# shape (N, F, T)\n",
    "N, F, T = X_test.shape\n",
    "feature_names = [f\"feat_{i}\" for i in range(F)]\n",
    "\n",
    "def make_long_df(batch_data: np.ndarray, id_offset: int = 0) -> pd.DataFrame:\n",
    "\n",
    "    n_batch = batch_data.shape[0]\n",
    "\n",
    "\n",
    "    x = np.transpose(batch_data, (0, 2, 1))\n",
    "    values = x.reshape(-1)\n",
    "\n",
    "    ids = np.repeat(np.arange(id_offset, id_offset + n_batch), T * F)\n",
    "\n",
    "\n",
    "    times = np.tile(np.repeat(np.arange(T), F), n_batch)\n",
    "\n",
    "\n",
    "    kinds_idx = np.tile(np.arange(F), n_batch * T)\n",
    "    kinds = np.array(feature_names, dtype=object)[kinds_idx]\n",
    "\n",
    "    return pd.DataFrame({\"id\": ids, \"time\": times, \"kind\": kinds, \"value\": values})\n",
    "\n",
    "df_long = make_long_df(X, id_offset=0)\n",
    "\n",
    "\n",
    "X_features = extract_features(\n",
    "    df_long,\n",
    "    column_id=\"id\",\n",
    "    column_sort=\"time\",\n",
    "    column_kind=\"kind\",\n",
    "    column_value=\"value\",\n",
    "    default_fc_parameters=MinimalFCParameters(),\n",
    "    n_jobs=0\n",
    ")\n",
    "\n",
    "print(X_features.shape)  # (375, num_features)"
   ]
  },
  {
   "cell_type": "code",
   "execution_count": 120,
   "id": "469e88a6",
   "metadata": {},
   "outputs": [
    {
     "data": {
      "text/html": [
       "<div>\n",
       "<style scoped>\n",
       "    .dataframe tbody tr th:only-of-type {\n",
       "        vertical-align: middle;\n",
       "    }\n",
       "\n",
       "    .dataframe tbody tr th {\n",
       "        vertical-align: top;\n",
       "    }\n",
       "\n",
       "    .dataframe thead th {\n",
       "        text-align: right;\n",
       "    }\n",
       "</style>\n",
       "<table border=\"1\" class=\"dataframe\">\n",
       "  <thead>\n",
       "    <tr style=\"text-align: right;\">\n",
       "      <th></th>\n",
       "      <th>id</th>\n",
       "      <th>time</th>\n",
       "      <th>kind</th>\n",
       "      <th>value</th>\n",
       "    </tr>\n",
       "  </thead>\n",
       "  <tbody>\n",
       "    <tr>\n",
       "      <th>0</th>\n",
       "      <td>0</td>\n",
       "      <td>0</td>\n",
       "      <td>feat_0</td>\n",
       "      <td>-0.007183</td>\n",
       "    </tr>\n",
       "    <tr>\n",
       "      <th>1</th>\n",
       "      <td>0</td>\n",
       "      <td>0</td>\n",
       "      <td>feat_1</td>\n",
       "      <td>-0.000290</td>\n",
       "    </tr>\n",
       "    <tr>\n",
       "      <th>2</th>\n",
       "      <td>0</td>\n",
       "      <td>0</td>\n",
       "      <td>feat_2</td>\n",
       "      <td>0.004128</td>\n",
       "    </tr>\n",
       "    <tr>\n",
       "      <th>3</th>\n",
       "      <td>0</td>\n",
       "      <td>0</td>\n",
       "      <td>feat_3</td>\n",
       "      <td>-0.006711</td>\n",
       "    </tr>\n",
       "    <tr>\n",
       "      <th>4</th>\n",
       "      <td>0</td>\n",
       "      <td>0</td>\n",
       "      <td>feat_4</td>\n",
       "      <td>-0.008454</td>\n",
       "    </tr>\n",
       "    <tr>\n",
       "      <th>...</th>\n",
       "      <td>...</td>\n",
       "      <td>...</td>\n",
       "      <td>...</td>\n",
       "      <td>...</td>\n",
       "    </tr>\n",
       "    <tr>\n",
       "      <th>60422203</th>\n",
       "      <td>468</td>\n",
       "      <td>975</td>\n",
       "      <td>feat_127</td>\n",
       "      <td>0.020523</td>\n",
       "    </tr>\n",
       "    <tr>\n",
       "      <th>60422204</th>\n",
       "      <td>468</td>\n",
       "      <td>975</td>\n",
       "      <td>feat_128</td>\n",
       "      <td>-0.009127</td>\n",
       "    </tr>\n",
       "    <tr>\n",
       "      <th>60422205</th>\n",
       "      <td>468</td>\n",
       "      <td>975</td>\n",
       "      <td>feat_129</td>\n",
       "      <td>-0.117109</td>\n",
       "    </tr>\n",
       "    <tr>\n",
       "      <th>60422206</th>\n",
       "      <td>468</td>\n",
       "      <td>975</td>\n",
       "      <td>feat_130</td>\n",
       "      <td>-0.159601</td>\n",
       "    </tr>\n",
       "    <tr>\n",
       "      <th>60422207</th>\n",
       "      <td>468</td>\n",
       "      <td>975</td>\n",
       "      <td>feat_131</td>\n",
       "      <td>-0.074051</td>\n",
       "    </tr>\n",
       "  </tbody>\n",
       "</table>\n",
       "<p>60422208 rows × 4 columns</p>\n",
       "</div>"
      ],
      "text/plain": [
       "           id  time      kind     value\n",
       "0           0     0    feat_0 -0.007183\n",
       "1           0     0    feat_1 -0.000290\n",
       "2           0     0    feat_2  0.004128\n",
       "3           0     0    feat_3 -0.006711\n",
       "4           0     0    feat_4 -0.008454\n",
       "...       ...   ...       ...       ...\n",
       "60422203  468   975  feat_127  0.020523\n",
       "60422204  468   975  feat_128 -0.009127\n",
       "60422205  468   975  feat_129 -0.117109\n",
       "60422206  468   975  feat_130 -0.159601\n",
       "60422207  468   975  feat_131 -0.074051\n",
       "\n",
       "[60422208 rows x 4 columns]"
      ]
     },
     "execution_count": 120,
     "metadata": {},
     "output_type": "execute_result"
    }
   ],
   "source": [
    "df_long.shape\n",
    "\n",
    "df_long"
   ]
  },
  {
   "cell_type": "code",
   "execution_count": 15,
   "id": "34663296",
   "metadata": {},
   "outputs": [
    {
     "data": {
      "text/plain": [
       "(469, 132, 976)"
      ]
     },
     "execution_count": 15,
     "metadata": {},
     "output_type": "execute_result"
    }
   ],
   "source": [
    "X.shape"
   ]
  },
  {
   "cell_type": "code",
   "execution_count": 31,
   "id": "3ec93976",
   "metadata": {},
   "outputs": [
    {
     "data": {
      "text/html": [
       "<div>\n",
       "<style scoped>\n",
       "    .dataframe tbody tr th:only-of-type {\n",
       "        vertical-align: middle;\n",
       "    }\n",
       "\n",
       "    .dataframe tbody tr th {\n",
       "        vertical-align: top;\n",
       "    }\n",
       "\n",
       "    .dataframe thead th {\n",
       "        text-align: right;\n",
       "    }\n",
       "</style>\n",
       "<table border=\"1\" class=\"dataframe\">\n",
       "  <thead>\n",
       "    <tr style=\"text-align: right;\">\n",
       "      <th></th>\n",
       "      <th>feat_0__sum_values</th>\n",
       "      <th>feat_0__median</th>\n",
       "      <th>feat_0__mean</th>\n",
       "      <th>feat_0__length</th>\n",
       "      <th>feat_0__standard_deviation</th>\n",
       "      <th>feat_0__variance</th>\n",
       "      <th>feat_0__root_mean_square</th>\n",
       "      <th>feat_0__maximum</th>\n",
       "      <th>feat_0__absolute_maximum</th>\n",
       "      <th>feat_0__minimum</th>\n",
       "      <th>...</th>\n",
       "      <th>feat_99__sum_values</th>\n",
       "      <th>feat_99__median</th>\n",
       "      <th>feat_99__mean</th>\n",
       "      <th>feat_99__length</th>\n",
       "      <th>feat_99__standard_deviation</th>\n",
       "      <th>feat_99__variance</th>\n",
       "      <th>feat_99__root_mean_square</th>\n",
       "      <th>feat_99__maximum</th>\n",
       "      <th>feat_99__absolute_maximum</th>\n",
       "      <th>feat_99__minimum</th>\n",
       "    </tr>\n",
       "  </thead>\n",
       "  <tbody>\n",
       "    <tr>\n",
       "      <th>0</th>\n",
       "      <td>-0.237587</td>\n",
       "      <td>-0.000077</td>\n",
       "      <td>-0.000243</td>\n",
       "      <td>976.0</td>\n",
       "      <td>0.002691</td>\n",
       "      <td>0.000007</td>\n",
       "      <td>0.002702</td>\n",
       "      <td>0.009177</td>\n",
       "      <td>0.012745</td>\n",
       "      <td>-0.012745</td>\n",
       "      <td>...</td>\n",
       "      <td>-67.718842</td>\n",
       "      <td>0.099464</td>\n",
       "      <td>-0.069384</td>\n",
       "      <td>976.0</td>\n",
       "      <td>2.833473</td>\n",
       "      <td>8.028572</td>\n",
       "      <td>2.834323</td>\n",
       "      <td>6.799439</td>\n",
       "      <td>10.478931</td>\n",
       "      <td>-10.478931</td>\n",
       "    </tr>\n",
       "    <tr>\n",
       "      <th>1</th>\n",
       "      <td>0.301411</td>\n",
       "      <td>0.000378</td>\n",
       "      <td>0.000309</td>\n",
       "      <td>976.0</td>\n",
       "      <td>0.008624</td>\n",
       "      <td>0.000074</td>\n",
       "      <td>0.008629</td>\n",
       "      <td>0.029810</td>\n",
       "      <td>0.043526</td>\n",
       "      <td>-0.043526</td>\n",
       "      <td>...</td>\n",
       "      <td>-147.278595</td>\n",
       "      <td>-0.157933</td>\n",
       "      <td>-0.150900</td>\n",
       "      <td>976.0</td>\n",
       "      <td>2.830704</td>\n",
       "      <td>8.012886</td>\n",
       "      <td>2.834723</td>\n",
       "      <td>11.696977</td>\n",
       "      <td>11.696977</td>\n",
       "      <td>-8.907615</td>\n",
       "    </tr>\n",
       "    <tr>\n",
       "      <th>2</th>\n",
       "      <td>0.350752</td>\n",
       "      <td>0.000160</td>\n",
       "      <td>0.000359</td>\n",
       "      <td>976.0</td>\n",
       "      <td>0.002243</td>\n",
       "      <td>0.000005</td>\n",
       "      <td>0.002272</td>\n",
       "      <td>0.008429</td>\n",
       "      <td>0.008970</td>\n",
       "      <td>-0.008970</td>\n",
       "      <td>...</td>\n",
       "      <td>76.057953</td>\n",
       "      <td>-0.331110</td>\n",
       "      <td>0.077928</td>\n",
       "      <td>976.0</td>\n",
       "      <td>3.733343</td>\n",
       "      <td>13.937848</td>\n",
       "      <td>3.734156</td>\n",
       "      <td>9.977861</td>\n",
       "      <td>9.977861</td>\n",
       "      <td>-8.990277</td>\n",
       "    </tr>\n",
       "    <tr>\n",
       "      <th>3</th>\n",
       "      <td>0.113223</td>\n",
       "      <td>0.000056</td>\n",
       "      <td>0.000116</td>\n",
       "      <td>976.0</td>\n",
       "      <td>0.002189</td>\n",
       "      <td>0.000005</td>\n",
       "      <td>0.002192</td>\n",
       "      <td>0.009155</td>\n",
       "      <td>0.010024</td>\n",
       "      <td>-0.010024</td>\n",
       "      <td>...</td>\n",
       "      <td>91.516708</td>\n",
       "      <td>0.032148</td>\n",
       "      <td>0.093767</td>\n",
       "      <td>976.0</td>\n",
       "      <td>1.649790</td>\n",
       "      <td>2.721806</td>\n",
       "      <td>1.652452</td>\n",
       "      <td>6.039165</td>\n",
       "      <td>6.039165</td>\n",
       "      <td>-4.076265</td>\n",
       "    </tr>\n",
       "    <tr>\n",
       "      <th>4</th>\n",
       "      <td>-0.082396</td>\n",
       "      <td>0.000290</td>\n",
       "      <td>-0.000084</td>\n",
       "      <td>976.0</td>\n",
       "      <td>0.010322</td>\n",
       "      <td>0.000107</td>\n",
       "      <td>0.010323</td>\n",
       "      <td>0.032632</td>\n",
       "      <td>0.037207</td>\n",
       "      <td>-0.037207</td>\n",
       "      <td>...</td>\n",
       "      <td>7.750221</td>\n",
       "      <td>-0.384863</td>\n",
       "      <td>0.007941</td>\n",
       "      <td>976.0</td>\n",
       "      <td>1.738122</td>\n",
       "      <td>3.021067</td>\n",
       "      <td>1.738140</td>\n",
       "      <td>4.977539</td>\n",
       "      <td>4.977539</td>\n",
       "      <td>-3.313544</td>\n",
       "    </tr>\n",
       "  </tbody>\n",
       "</table>\n",
       "<p>5 rows × 1320 columns</p>\n",
       "</div>"
      ],
      "text/plain": [
       "   feat_0__sum_values  feat_0__median  feat_0__mean  feat_0__length  \\\n",
       "0           -0.237587       -0.000077     -0.000243           976.0   \n",
       "1            0.301411        0.000378      0.000309           976.0   \n",
       "2            0.350752        0.000160      0.000359           976.0   \n",
       "3            0.113223        0.000056      0.000116           976.0   \n",
       "4           -0.082396        0.000290     -0.000084           976.0   \n",
       "\n",
       "   feat_0__standard_deviation  feat_0__variance  feat_0__root_mean_square  \\\n",
       "0                    0.002691          0.000007                  0.002702   \n",
       "1                    0.008624          0.000074                  0.008629   \n",
       "2                    0.002243          0.000005                  0.002272   \n",
       "3                    0.002189          0.000005                  0.002192   \n",
       "4                    0.010322          0.000107                  0.010323   \n",
       "\n",
       "   feat_0__maximum  feat_0__absolute_maximum  feat_0__minimum  ...  \\\n",
       "0         0.009177                  0.012745        -0.012745  ...   \n",
       "1         0.029810                  0.043526        -0.043526  ...   \n",
       "2         0.008429                  0.008970        -0.008970  ...   \n",
       "3         0.009155                  0.010024        -0.010024  ...   \n",
       "4         0.032632                  0.037207        -0.037207  ...   \n",
       "\n",
       "   feat_99__sum_values  feat_99__median  feat_99__mean  feat_99__length  \\\n",
       "0           -67.718842         0.099464      -0.069384            976.0   \n",
       "1          -147.278595        -0.157933      -0.150900            976.0   \n",
       "2            76.057953        -0.331110       0.077928            976.0   \n",
       "3            91.516708         0.032148       0.093767            976.0   \n",
       "4             7.750221        -0.384863       0.007941            976.0   \n",
       "\n",
       "   feat_99__standard_deviation  feat_99__variance  feat_99__root_mean_square  \\\n",
       "0                     2.833473           8.028572                   2.834323   \n",
       "1                     2.830704           8.012886                   2.834723   \n",
       "2                     3.733343          13.937848                   3.734156   \n",
       "3                     1.649790           2.721806                   1.652452   \n",
       "4                     1.738122           3.021067                   1.738140   \n",
       "\n",
       "   feat_99__maximum  feat_99__absolute_maximum  feat_99__minimum  \n",
       "0          6.799439                  10.478931        -10.478931  \n",
       "1         11.696977                  11.696977         -8.907615  \n",
       "2          9.977861                   9.977861         -8.990277  \n",
       "3          6.039165                   6.039165         -4.076265  \n",
       "4          4.977539                   4.977539         -3.313544  \n",
       "\n",
       "[5 rows x 1320 columns]"
      ]
     },
     "execution_count": 31,
     "metadata": {},
     "output_type": "execute_result"
    }
   ],
   "source": [
    "X_features.head(5)"
   ]
  },
  {
   "cell_type": "code",
   "execution_count": 17,
   "id": "48c12684",
   "metadata": {},
   "outputs": [],
   "source": [
    "X_train, X_test, y_train, y_test = train_test_split(X_features, y, test_size=0.20, random_state=42, stratify = y)"
   ]
  },
  {
   "cell_type": "markdown",
   "id": "b3bcb3b3",
   "metadata": {},
   "source": [
    "Select percentile for feature selection"
   ]
  },
  {
   "cell_type": "code",
   "execution_count": 109,
   "id": "1079e6cb",
   "metadata": {},
   "outputs": [],
   "source": [
    "preproc_selector = SelectPercentile(\n",
    "    mutual_info_classif,\n",
    "    percentile=20, \n",
    ")"
   ]
  },
  {
   "cell_type": "code",
   "execution_count": 110,
   "id": "bd0760c1",
   "metadata": {},
   "outputs": [],
   "source": [
    "X_train_percent = preproc_selector.fit_transform(X_train, y_train)\n",
    "X_test_percent = preproc_selector.transform(X_test)"
   ]
  },
  {
   "cell_type": "code",
   "execution_count": 111,
   "id": "db13a83f",
   "metadata": {},
   "outputs": [
    {
     "data": {
      "text/plain": [
       "(375, 264)"
      ]
     },
     "execution_count": 111,
     "metadata": {},
     "output_type": "execute_result"
    }
   ],
   "source": [
    "X_train_percent.shape"
   ]
  },
  {
   "cell_type": "code",
   "execution_count": 112,
   "id": "3b80848e",
   "metadata": {},
   "outputs": [
    {
     "data": {
      "text/plain": [
       "(94, 264)"
      ]
     },
     "execution_count": 112,
     "metadata": {},
     "output_type": "execute_result"
    }
   ],
   "source": [
    "X_test_percent.shape"
   ]
  },
  {
   "cell_type": "code",
   "execution_count": 113,
   "id": "16288583",
   "metadata": {},
   "outputs": [],
   "source": [
    "minmaxscaler = MinMaxScaler()\n",
    "minmaxscaler.fit(X_train_percent)\n",
    "\n",
    "X_train_trans = minmaxscaler.transform(X_train_percent)\n",
    "X_test_trans = minmaxscaler.transform(X_test_percent)"
   ]
  },
  {
   "cell_type": "code",
   "execution_count": 114,
   "id": "08dd9f7c",
   "metadata": {},
   "outputs": [
    {
     "data": {
      "text/plain": [
       "(375, 264)"
      ]
     },
     "execution_count": 114,
     "metadata": {},
     "output_type": "execute_result"
    }
   ],
   "source": [
    "X_train_trans.shape"
   ]
  },
  {
   "cell_type": "code",
   "execution_count": 115,
   "id": "40f85db4",
   "metadata": {},
   "outputs": [],
   "source": [
    "xgb = XGBClassifier()\n",
    "\n",
    "sample_weights = compute_sample_weight(class_weight=\"balanced\", y=y_train)\n",
    "\n",
    "\n",
    "xgb.fit(X_train_trans, y_train, sample_weight=sample_weights)\n",
    "\n",
    "y_pred = xgb.predict(X_test_trans)"
   ]
  },
  {
   "cell_type": "code",
   "execution_count": 116,
   "id": "80f3a1cd",
   "metadata": {},
   "outputs": [
    {
     "data": {
      "image/png": "[encoded data removed]",
      "text/plain": [
       "<Figure size 1000x600 with 1 Axes>"
      ]
     },
     "metadata": {},
     "output_type": "display_data"
    }
   ],
   "source": [
    "importance = xgb.get_booster().get_score(importance_type='weight')  \n",
    "# Options: 'weight', 'gain', 'cover', 'total_gain', 'total_cover'\n",
    "\n",
    "# 2. Convert to DataFrame for easier handling\n",
    "importance_df = pd.DataFrame({\n",
    "    'feature': list(importance.keys()),\n",
    "    'importance': list(importance.values())\n",
    "})\n",
    "\n",
    "# 3. Sort by importance\n",
    "importance_df = importance_df.sort_values(by='importance', ascending=False)\n",
    "\n",
    "# 4. Plot feature importance\n",
    "plt.figure(figsize=(10, 6))\n",
    "plt.barh(importance_df['feature'], importance_df['importance'])\n",
    "plt.xlabel(\"Importance Score\")\n",
    "plt.ylabel(\"Features\")\n",
    "plt.title(\"XGBoost Feature Importance\")\n",
    "plt.gca().invert_yaxis()  # most important at the top\n",
    "plt.show()"
   ]
  },
  {
   "cell_type": "code",
   "execution_count": 117,
   "id": "0eae9b3c",
   "metadata": {},
   "outputs": [
    {
     "name": "stdout",
     "output_type": "stream",
     "text": [
      "Balanced Accuracy: 0.5395256916996047\n",
      "\n",
      "Confusion Matrix:\n",
      " [[ 8  8  0]\n",
      " [ 5 40 10]\n",
      " [ 2 12  9]]\n",
      "\n",
      "Classification Report:\n",
      "               precision    recall  f1-score   support\n",
      "\n",
      "           0       0.53      0.50      0.52        16\n",
      "           1       0.67      0.73      0.70        55\n",
      "           2       0.47      0.39      0.43        23\n",
      "\n",
      "    accuracy                           0.61        94\n",
      "   macro avg       0.56      0.54      0.55        94\n",
      "weighted avg       0.60      0.61      0.60        94\n",
      "\n"
     ]
    }
   ],
   "source": [
    "# Metrics\n",
    "print(\"Balanced Accuracy:\", balanced_accuracy_score(y_test, y_pred))\n",
    "\n",
    "print(\"\\nConfusion Matrix:\\n\", confusion_matrix(y_test, y_pred))\n",
    "print(\"\\nClassification Report:\\n\", classification_report(y_test, y_pred))"
   ]
  },
  {
   "cell_type": "code",
   "execution_count": 118,
   "id": "dcea4149",
   "metadata": {},
   "outputs": [],
   "source": [
    "top20 = importance_df.head(20)"
   ]
  },
  {
   "cell_type": "code",
   "execution_count": null,
   "id": "ff1c40f9",
   "metadata": {},
   "outputs": [],
   "source": []
  },
  {
   "cell_type": "markdown",
   "id": "aad203d8",
   "metadata": {},
   "source": [
    "PCA feature selection"
   ]
  },
  {
   "cell_type": "code",
   "execution_count": 149,
   "id": "a37bcf8d",
   "metadata": {},
   "outputs": [],
   "source": [
    "pca = PCA(n_components = 20)"
   ]
  },
  {
   "cell_type": "code",
   "execution_count": 150,
   "id": "3e1a28ca",
   "metadata": {},
   "outputs": [],
   "source": [
    "scaler_2 = StandardScaler()\n",
    "X_train_std = scaler_2.fit_transform(X_train)"
   ]
  },
  {
   "cell_type": "code",
   "execution_count": 151,
   "id": "421a4119",
   "metadata": {},
   "outputs": [],
   "source": [
    "X_test_std = scaler_2.transform(X_test)"
   ]
  },
  {
   "cell_type": "code",
   "execution_count": 152,
   "id": "aa8474e6",
   "metadata": {},
   "outputs": [],
   "source": [
    "X_train_reduced = pca.fit_transform(X_train_std)"
   ]
  },
  {
   "cell_type": "code",
   "execution_count": 153,
   "id": "d6cccf23",
   "metadata": {},
   "outputs": [
    {
     "data": {
      "text/plain": [
       "(375, 20)"
      ]
     },
     "execution_count": 153,
     "metadata": {},
     "output_type": "execute_result"
    }
   ],
   "source": [
    "X_train_reduced.shape"
   ]
  },
  {
   "cell_type": "code",
   "execution_count": 154,
   "id": "983f4dce",
   "metadata": {},
   "outputs": [],
   "source": [
    "X_test_reduced = pca.transform(X_test_std)"
   ]
  },
  {
   "cell_type": "code",
   "execution_count": 155,
   "id": "f0416c62",
   "metadata": {},
   "outputs": [],
   "source": [
    "xgb.fit(X_train_reduced, y_train, sample_weight=sample_weights)\n",
    "\n",
    "y_pred_pca = xgb.predict(X_test_reduced)"
   ]
  },
  {
   "cell_type": "code",
   "execution_count": 156,
   "id": "18a7213a",
   "metadata": {},
   "outputs": [
    {
     "name": "stdout",
     "output_type": "stream",
     "text": [
      "Balanced Accuracy: 0.5395256916996047\n",
      "\n",
      "Confusion Matrix:\n",
      " [[ 8  7  1]\n",
      " [ 3 40 12]\n",
      " [ 1 13  9]]\n",
      "\n",
      "Classification Report:\n",
      "               precision    recall  f1-score   support\n",
      "\n",
      "           0       0.67      0.50      0.57        16\n",
      "           1       0.67      0.73      0.70        55\n",
      "           2       0.41      0.39      0.40        23\n",
      "\n",
      "    accuracy                           0.61        94\n",
      "   macro avg       0.58      0.54      0.56        94\n",
      "weighted avg       0.60      0.61      0.60        94\n",
      "\n"
     ]
    }
   ],
   "source": [
    "print(\"Balanced Accuracy:\", balanced_accuracy_score(y_test, y_pred_pca))\n",
    "\n",
    "print(\"\\nConfusion Matrix:\\n\", confusion_matrix(y_test, y_pred_pca))\n",
    "print(\"\\nClassification Report:\\n\", classification_report(y_test, y_pred_pca))"
   ]
  },
  {
   "cell_type": "code",
   "execution_count": null,
   "id": "fb1a82e4",
   "metadata": {},
   "outputs": [],
   "source": []
  }
 ],
 "metadata": {
  "kernelspec": {
   "display_name": "spark",
   "language": "python",
   "name": "python3"
  },
  "language_info": {
   "codemirror_mode": {
    "name": "ipython",
    "version": 3
   },
   "file_extension": ".py",
   "mimetype": "text/x-python",
   "name": "python",
   "nbconvert_exporter": "python",
   "pygments_lexer": "ipython3",
   "version": "3.10.6"
  }
 },
 "nbformat": 4,
 "nbformat_minor": 5
}
