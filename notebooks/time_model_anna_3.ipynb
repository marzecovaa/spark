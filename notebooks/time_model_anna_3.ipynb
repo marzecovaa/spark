{
 "cells": [
  {
   "cell_type": "markdown",
   "id": "c179ca3a",
   "metadata": {},
   "source": [
    "# TIME series model prototype"
   ]
  },
  {
   "cell_type": "code",
   "execution_count": 93,
   "id": "88ced4f0",
   "metadata": {},
   "outputs": [],
   "source": [
    "import pandas as pd\n",
    "import numpy as np\n",
    "from sklearn.model_selection import train_test_split, StratifiedKFold\n",
    "\n",
    "from tensorflow.keras.models import Sequential\n",
    "from tensorflow.keras import layers\n",
    "from tensorflow.keras.optimizers import Adam, AdamW, schedules\n",
    "from tensorflow.keras import Model, regularizers, layers\n",
    "from tensorflow.keras.callbacks import EarlyStopping, ReduceLROnPlateau\n",
    "from tensorflow.keras.utils import to_categorical\n",
    "\n",
    "from sklearn.metrics import balanced_accuracy_score"
   ]
  },
  {
   "cell_type": "markdown",
   "id": "9cded95f",
   "metadata": {},
   "source": [
    "## Loading time series "
   ]
  },
  {
   "cell_type": "code",
   "execution_count": 5,
   "id": "276a0c4c",
   "metadata": {},
   "outputs": [],
   "source": [
    "raw_data_prep_dir = '../raw_data/pads-parkinsons-disease-smartwatch-dataset-1.0.0/preprocessed/'"
   ]
  },
  {
   "cell_type": "code",
   "execution_count": 6,
   "id": "3a5e6883",
   "metadata": {},
   "outputs": [
    {
     "data": {
      "text/html": [
       "<div>\n",
       "<style scoped>\n",
       "    .dataframe tbody tr th:only-of-type {\n",
       "        vertical-align: middle;\n",
       "    }\n",
       "\n",
       "    .dataframe tbody tr th {\n",
       "        vertical-align: top;\n",
       "    }\n",
       "\n",
       "    .dataframe thead th {\n",
       "        text-align: right;\n",
       "    }\n",
       "</style>\n",
       "<table border=\"1\" class=\"dataframe\">\n",
       "  <thead>\n",
       "    <tr style=\"text-align: right;\">\n",
       "      <th></th>\n",
       "      <th>resource_type</th>\n",
       "      <th>id</th>\n",
       "      <th>study_id</th>\n",
       "      <th>condition</th>\n",
       "      <th>disease_comment</th>\n",
       "      <th>age_at_diagnosis</th>\n",
       "      <th>age</th>\n",
       "      <th>height</th>\n",
       "      <th>weight</th>\n",
       "      <th>gender</th>\n",
       "      <th>handedness</th>\n",
       "      <th>appearance_in_kinship</th>\n",
       "      <th>appearance_in_first_grade_kinship</th>\n",
       "      <th>effect_of_alcohol_on_tremor</th>\n",
       "      <th>label</th>\n",
       "    </tr>\n",
       "  </thead>\n",
       "  <tbody>\n",
       "    <tr>\n",
       "      <th>0</th>\n",
       "      <td>patient</td>\n",
       "      <td>1</td>\n",
       "      <td>PADS</td>\n",
       "      <td>Healthy</td>\n",
       "      <td>-</td>\n",
       "      <td>56</td>\n",
       "      <td>56</td>\n",
       "      <td>173</td>\n",
       "      <td>78</td>\n",
       "      <td>male</td>\n",
       "      <td>right</td>\n",
       "      <td>True</td>\n",
       "      <td>True</td>\n",
       "      <td>Unknown</td>\n",
       "      <td>0</td>\n",
       "    </tr>\n",
       "    <tr>\n",
       "      <th>1</th>\n",
       "      <td>patient</td>\n",
       "      <td>2</td>\n",
       "      <td>PADS</td>\n",
       "      <td>Other Movement Disorders</td>\n",
       "      <td>Left-Sided resting tremor and hypokinesia with...</td>\n",
       "      <td>69</td>\n",
       "      <td>81</td>\n",
       "      <td>193</td>\n",
       "      <td>104</td>\n",
       "      <td>male</td>\n",
       "      <td>right</td>\n",
       "      <td>False</td>\n",
       "      <td>NaN</td>\n",
       "      <td>No effect</td>\n",
       "      <td>2</td>\n",
       "    </tr>\n",
       "    <tr>\n",
       "      <th>2</th>\n",
       "      <td>patient</td>\n",
       "      <td>3</td>\n",
       "      <td>PADS</td>\n",
       "      <td>Healthy</td>\n",
       "      <td>-</td>\n",
       "      <td>45</td>\n",
       "      <td>45</td>\n",
       "      <td>170</td>\n",
       "      <td>78</td>\n",
       "      <td>female</td>\n",
       "      <td>right</td>\n",
       "      <td>False</td>\n",
       "      <td>NaN</td>\n",
       "      <td>Unknown</td>\n",
       "      <td>0</td>\n",
       "    </tr>\n",
       "    <tr>\n",
       "      <th>3</th>\n",
       "      <td>patient</td>\n",
       "      <td>4</td>\n",
       "      <td>PADS</td>\n",
       "      <td>Parkinson's</td>\n",
       "      <td>IPS akinetic-rigid type</td>\n",
       "      <td>63</td>\n",
       "      <td>67</td>\n",
       "      <td>161</td>\n",
       "      <td>90</td>\n",
       "      <td>female</td>\n",
       "      <td>right</td>\n",
       "      <td>False</td>\n",
       "      <td>NaN</td>\n",
       "      <td>No effect</td>\n",
       "      <td>1</td>\n",
       "    </tr>\n",
       "    <tr>\n",
       "      <th>4</th>\n",
       "      <td>patient</td>\n",
       "      <td>5</td>\n",
       "      <td>PADS</td>\n",
       "      <td>Parkinson's</td>\n",
       "      <td>IPS tremordominant type</td>\n",
       "      <td>65</td>\n",
       "      <td>75</td>\n",
       "      <td>172</td>\n",
       "      <td>86</td>\n",
       "      <td>male</td>\n",
       "      <td>left</td>\n",
       "      <td>False</td>\n",
       "      <td>NaN</td>\n",
       "      <td>Unknown</td>\n",
       "      <td>1</td>\n",
       "    </tr>\n",
       "    <tr>\n",
       "      <th>...</th>\n",
       "      <td>...</td>\n",
       "      <td>...</td>\n",
       "      <td>...</td>\n",
       "      <td>...</td>\n",
       "      <td>...</td>\n",
       "      <td>...</td>\n",
       "      <td>...</td>\n",
       "      <td>...</td>\n",
       "      <td>...</td>\n",
       "      <td>...</td>\n",
       "      <td>...</td>\n",
       "      <td>...</td>\n",
       "      <td>...</td>\n",
       "      <td>...</td>\n",
       "      <td>...</td>\n",
       "    </tr>\n",
       "    <tr>\n",
       "      <th>464</th>\n",
       "      <td>patient</td>\n",
       "      <td>465</td>\n",
       "      <td>PADS</td>\n",
       "      <td>Parkinson's</td>\n",
       "      <td>IPS mixed type</td>\n",
       "      <td>62</td>\n",
       "      <td>65</td>\n",
       "      <td>175</td>\n",
       "      <td>80</td>\n",
       "      <td>male</td>\n",
       "      <td>right</td>\n",
       "      <td>True</td>\n",
       "      <td>False</td>\n",
       "      <td>No effect</td>\n",
       "      <td>1</td>\n",
       "    </tr>\n",
       "    <tr>\n",
       "      <th>465</th>\n",
       "      <td>patient</td>\n",
       "      <td>466</td>\n",
       "      <td>PADS</td>\n",
       "      <td>Healthy</td>\n",
       "      <td>-</td>\n",
       "      <td>84</td>\n",
       "      <td>84</td>\n",
       "      <td>172</td>\n",
       "      <td>74</td>\n",
       "      <td>female</td>\n",
       "      <td>right</td>\n",
       "      <td>True</td>\n",
       "      <td>True</td>\n",
       "      <td>No effect</td>\n",
       "      <td>0</td>\n",
       "    </tr>\n",
       "    <tr>\n",
       "      <th>466</th>\n",
       "      <td>patient</td>\n",
       "      <td>467</td>\n",
       "      <td>PADS</td>\n",
       "      <td>Parkinson's</td>\n",
       "      <td>Essential Tremor, starting IPS tremordominant ...</td>\n",
       "      <td>55</td>\n",
       "      <td>57</td>\n",
       "      <td>190</td>\n",
       "      <td>100</td>\n",
       "      <td>male</td>\n",
       "      <td>right</td>\n",
       "      <td>False</td>\n",
       "      <td>NaN</td>\n",
       "      <td>Improvement</td>\n",
       "      <td>1</td>\n",
       "    </tr>\n",
       "    <tr>\n",
       "      <th>467</th>\n",
       "      <td>patient</td>\n",
       "      <td>468</td>\n",
       "      <td>PADS</td>\n",
       "      <td>Parkinson's</td>\n",
       "      <td>IPS mixed type</td>\n",
       "      <td>73</td>\n",
       "      <td>76</td>\n",
       "      <td>198</td>\n",
       "      <td>118</td>\n",
       "      <td>male</td>\n",
       "      <td>right</td>\n",
       "      <td>False</td>\n",
       "      <td>NaN</td>\n",
       "      <td>No effect</td>\n",
       "      <td>1</td>\n",
       "    </tr>\n",
       "    <tr>\n",
       "      <th>468</th>\n",
       "      <td>patient</td>\n",
       "      <td>469</td>\n",
       "      <td>PADS</td>\n",
       "      <td>Parkinson's</td>\n",
       "      <td>IPS tremordominant type</td>\n",
       "      <td>44</td>\n",
       "      <td>54</td>\n",
       "      <td>165</td>\n",
       "      <td>67</td>\n",
       "      <td>female</td>\n",
       "      <td>right</td>\n",
       "      <td>False</td>\n",
       "      <td>NaN</td>\n",
       "      <td>Unknown</td>\n",
       "      <td>1</td>\n",
       "    </tr>\n",
       "  </tbody>\n",
       "</table>\n",
       "<p>469 rows × 15 columns</p>\n",
       "</div>"
      ],
      "text/plain": [
       "    resource_type   id study_id                 condition  \\\n",
       "0         patient    1     PADS                   Healthy   \n",
       "1         patient    2     PADS  Other Movement Disorders   \n",
       "2         patient    3     PADS                   Healthy   \n",
       "3         patient    4     PADS               Parkinson's   \n",
       "4         patient    5     PADS               Parkinson's   \n",
       "..            ...  ...      ...                       ...   \n",
       "464       patient  465     PADS               Parkinson's   \n",
       "465       patient  466     PADS                   Healthy   \n",
       "466       patient  467     PADS               Parkinson's   \n",
       "467       patient  468     PADS               Parkinson's   \n",
       "468       patient  469     PADS               Parkinson's   \n",
       "\n",
       "                                       disease_comment  age_at_diagnosis  age  \\\n",
       "0                                                    -                56   56   \n",
       "1    Left-Sided resting tremor and hypokinesia with...                69   81   \n",
       "2                                                    -                45   45   \n",
       "3                              IPS akinetic-rigid type                63   67   \n",
       "4                              IPS tremordominant type                65   75   \n",
       "..                                                 ...               ...  ...   \n",
       "464                                     IPS mixed type                62   65   \n",
       "465                                                  -                84   84   \n",
       "466  Essential Tremor, starting IPS tremordominant ...                55   57   \n",
       "467                                     IPS mixed type                73   76   \n",
       "468                            IPS tremordominant type                44   54   \n",
       "\n",
       "     height  weight  gender handedness  appearance_in_kinship  \\\n",
       "0       173      78    male      right                   True   \n",
       "1       193     104    male      right                  False   \n",
       "2       170      78  female      right                  False   \n",
       "3       161      90  female      right                  False   \n",
       "4       172      86    male       left                  False   \n",
       "..      ...     ...     ...        ...                    ...   \n",
       "464     175      80    male      right                   True   \n",
       "465     172      74  female      right                   True   \n",
       "466     190     100    male      right                  False   \n",
       "467     198     118    male      right                  False   \n",
       "468     165      67  female      right                  False   \n",
       "\n",
       "    appearance_in_first_grade_kinship effect_of_alcohol_on_tremor  label  \n",
       "0                                True                     Unknown      0  \n",
       "1                                 NaN                   No effect      2  \n",
       "2                                 NaN                     Unknown      0  \n",
       "3                                 NaN                   No effect      1  \n",
       "4                                 NaN                     Unknown      1  \n",
       "..                                ...                         ...    ...  \n",
       "464                             False                   No effect      1  \n",
       "465                              True                   No effect      0  \n",
       "466                               NaN                 Improvement      1  \n",
       "467                               NaN                   No effect      1  \n",
       "468                               NaN                     Unknown      1  \n",
       "\n",
       "[469 rows x 15 columns]"
      ]
     },
     "execution_count": 6,
     "metadata": {},
     "output_type": "execute_result"
    }
   ],
   "source": [
    "file_list = pd.read_csv(raw_data_prep_dir  + \"file_list.csv\")\n",
    "file_list"
   ]
  },
  {
   "cell_type": "code",
   "execution_count": 7,
   "id": "f1119e5b",
   "metadata": {},
   "outputs": [
    {
     "data": {
      "text/plain": [
       "469"
      ]
     },
     "execution_count": 7,
     "metadata": {},
     "output_type": "execute_result"
    }
   ],
   "source": [
    "n_id = len(file_list['id'])\n",
    "n_id"
   ]
  },
  {
   "cell_type": "code",
   "execution_count": 8,
   "id": "acf7192b",
   "metadata": {},
   "outputs": [
    {
     "name": "stdout",
     "output_type": "stream",
     "text": [
      "(469,) (469,)\n"
     ]
    }
   ],
   "source": [
    "time_data = []\n",
    "y = []\n",
    "X_to_split = []\n",
    "for idx, subject_idx in enumerate(file_list['id']):\n",
    "    file_name = raw_data_prep_dir + f'movement/{subject_idx:03d}_ml.bin'\n",
    "    time_idx_data = np.fromfile(file_name, dtype=np.float32).reshape((-1, 976))\n",
    "    time_data.append(time_idx_data)\n",
    "    y_idx = file_list[file_list['id']==subject_idx].label.values\n",
    "    X_id = idx\n",
    "    y.append(y_idx)\n",
    "    X_to_split.append(X_id)\n",
    "\n",
    "X_to_split = np.array(X_to_split)\n",
    "y = np.array(y).flatten()\n",
    "print(X_to_split.shape, y.shape)"
   ]
  },
  {
   "cell_type": "code",
   "execution_count": 10,
   "id": "f0f8d2dc",
   "metadata": {},
   "outputs": [
    {
     "data": {
      "text/plain": [
       "132"
      ]
     },
     "execution_count": 10,
     "metadata": {},
     "output_type": "execute_result"
    }
   ],
   "source": [
    "channels = []\n",
    "for task in [\"Relaxed1\", \"Relaxed2\", \"RelaxedTask1\", \"RelaxedTask2\", \"StretchHold\", \"HoldWeight\",\n",
    "                \"DrinkGlas\", \"CrossArms\", \"TouchNose\", \"Entrainment1\", \"Entrainment2\"]:\n",
    "    for device_location in [\"LeftWrist\", \"RightWrist\"]:\n",
    "        for sensor in [\"Acceleration\", \"Rotation\"]:\n",
    "            for axis in [\"X\", \"Y\", \"Z\"]:\n",
    "                channel = f\"{task}_{sensor}_{device_location}_{axis}\"\n",
    "                channels.append(channel)\n",
    "len(channels)"
   ]
  },
  {
   "cell_type": "code",
   "execution_count": 11,
   "id": "e572649d",
   "metadata": {},
   "outputs": [
    {
     "name": "stdout",
     "output_type": "stream",
     "text": [
      "(469, 132, 976)\n"
     ]
    }
   ],
   "source": [
    "time_data_array = np.array(time_data)\n",
    "print(time_data_array.shape)"
   ]
  },
  {
   "cell_type": "code",
   "execution_count": 177,
   "id": "c6ea8174",
   "metadata": {},
   "outputs": [],
   "source": [
    "X_train_idx, X_test_idx, y_train, y_test = train_test_split(X_to_split, y, test_size=0.20, random_state=23, stratify = y)"
   ]
  },
  {
   "cell_type": "code",
   "execution_count": 178,
   "id": "bd3d08ee",
   "metadata": {},
   "outputs": [
    {
     "name": "stdout",
     "output_type": "stream",
     "text": [
      "375 94\n",
      "375 94\n"
     ]
    }
   ],
   "source": [
    "X_train = time_data_array[X_train_idx]\n",
    "X_test = time_data_array[X_test_idx]\n",
    "print(len(X_train), len(X_test))\n",
    "print(len(y_train), len(y_test))"
   ]
  },
  {
   "cell_type": "code",
   "execution_count": 179,
   "id": "b0b2b766",
   "metadata": {},
   "outputs": [
    {
     "data": {
      "text/plain": [
       "(375, 976, 132)"
      ]
     },
     "execution_count": 179,
     "metadata": {},
     "output_type": "execute_result"
    }
   ],
   "source": [
    "n_obs, n_chan, n_time =  X_train.shape\n",
    "\n",
    "X_train_nn = X_train.reshape(n_obs, n_time, n_chan)\n",
    "X_train_nn.shape\n",
    "\n",
    "n_obs_test, n_chan_test, n_time_test =  X_test.shape\n",
    "\n",
    "X_test_nn = X_test.reshape(n_obs_test, n_time_test, n_chan_test)\n",
    "X_test_nn.shape\n",
    "X_train_nn.shape"
   ]
  },
  {
   "cell_type": "code",
   "execution_count": 180,
   "id": "0135f0f4",
   "metadata": {},
   "outputs": [
    {
     "data": {
      "text/plain": [
       "(375,)"
      ]
     },
     "execution_count": 180,
     "metadata": {},
     "output_type": "execute_result"
    }
   ],
   "source": [
    "y_test.shape\n",
    "y_train.shape"
   ]
  },
  {
   "cell_type": "code",
   "execution_count": 221,
   "id": "47e77720",
   "metadata": {},
   "outputs": [],
   "source": [
    "y_train_cat = to_categorical(y_train)\n",
    "y_test_cat  = to_categorical(y_test)"
   ]
  },
  {
   "cell_type": "code",
   "execution_count": 222,
   "id": "c5de54ee",
   "metadata": {},
   "outputs": [],
   "source": [
    "def initialize_model_lstm(input_shape:tuple, dropout_rate: float = 0.3) -> Model:\n",
    "    model = Sequential()\n",
    "    normalizer = layers.Normalization(axis = -1)\n",
    "    normalizer.adapt(X_train_nn)\n",
    "\n",
    "    model.add(layers.Input(shape=input_shape))\n",
    "    model.add(normalizer)\n",
    "\n",
    "    #two lstm layers to better capture\n",
    "    model.add(layers.GRU(units=64, activation='tanh',\n",
    "                   return_sequences=True))\n",
    "    model.add(layers.GRU(units=32, activation='tanh',\n",
    "                          ))\n",
    "    model.add(layers.Flatten())\n",
    "    #dense layer with batch normalization\n",
    "    model.add(layers.Dense(32, activation = layers.LeakyReLU(), kernel_regularizer=regularizers.L2(0.0001)))\n",
    "    model.add(layers.BatchNormalization())\n",
    "    model.add(layers.Dense(16, activation = layers.LeakyReLU(), kernel_regularizer=regularizers.L2(0.0001)))\n",
    "    model.add(layers.Dropout(dropout_rate))\n",
    "\n",
    "    #output layer with 3 classification\n",
    "    model.add(layers.Dense(3, activation='softmax'))\n",
    "\n",
    "    return model"
   ]
  },
  {
   "cell_type": "code",
   "execution_count": 223,
   "id": "b90e71b3",
   "metadata": {},
   "outputs": [],
   "source": [
    "model_lstm = initialize_model_lstm(input_shape=X_train_nn.shape[1:], dropout_rate = 0.2)"
   ]
  },
  {
   "cell_type": "code",
   "execution_count": 224,
   "id": "103b4815",
   "metadata": {},
   "outputs": [],
   "source": [
    "init_lr = 0.001\n",
    "#lr_schedule = schedules.ExponentialDecay(\n",
    "#     init_lr,\n",
    "#     decay_steps=100000,\n",
    "#     decay_rate=0.96,\n",
    "#     staircase=True)\n",
    "\n",
    "opt = AdamW(init_lr)\n",
    "\n",
    "model_lstm.compile(\n",
    "    loss=\"categorical_focal_crossentropy\",\n",
    "    optimizer=opt,\n",
    "    metrics=['accuracy', 'precision', 'recall'])"
   ]
  },
  {
   "cell_type": "code",
   "execution_count": 225,
   "id": "7f4c2b8b",
   "metadata": {},
   "outputs": [
    {
     "data": {
      "text/html": [
       "<pre style=\"white-space:pre;overflow-x:auto;line-height:normal;font-family:Menlo,'DejaVu Sans Mono',consolas,'Courier New',monospace\"><span style=\"font-weight: bold\">Model: \"sequential_27\"</span>\n",
       "</pre>\n"
      ],
      "text/plain": [
       "\u001b[1mModel: \"sequential_27\"\u001b[0m\n"
      ]
     },
     "metadata": {},
     "output_type": "display_data"
    },
    {
     "data": {
      "text/html": [
       "<pre style=\"white-space:pre;overflow-x:auto;line-height:normal;font-family:Menlo,'DejaVu Sans Mono',consolas,'Courier New',monospace\">┏━━━━━━━━━━━━━━━━━━━━━━━━━━━━━━━━━┳━━━━━━━━━━━━━━━━━━━━━━━━┳━━━━━━━━━━━━━━━┓\n",
       "┃<span style=\"font-weight: bold\"> Layer (type)                    </span>┃<span style=\"font-weight: bold\"> Output Shape           </span>┃<span style=\"font-weight: bold\">       Param # </span>┃\n",
       "┡━━━━━━━━━━━━━━━━━━━━━━━━━━━━━━━━━╇━━━━━━━━━━━━━━━━━━━━━━━━╇━━━━━━━━━━━━━━━┩\n",
       "│ normalization_27                │ (<span style=\"color: #00d7ff; text-decoration-color: #00d7ff\">None</span>, <span style=\"color: #00af00; text-decoration-color: #00af00\">976</span>, <span style=\"color: #00af00; text-decoration-color: #00af00\">132</span>)       │           <span style=\"color: #00af00; text-decoration-color: #00af00\">265</span> │\n",
       "│ (<span style=\"color: #0087ff; text-decoration-color: #0087ff\">Normalization</span>)                 │                        │               │\n",
       "├─────────────────────────────────┼────────────────────────┼───────────────┤\n",
       "│ gru_33 (<span style=\"color: #0087ff; text-decoration-color: #0087ff\">GRU</span>)                    │ (<span style=\"color: #00d7ff; text-decoration-color: #00d7ff\">None</span>, <span style=\"color: #00af00; text-decoration-color: #00af00\">976</span>, <span style=\"color: #00af00; text-decoration-color: #00af00\">64</span>)        │        <span style=\"color: #00af00; text-decoration-color: #00af00\">38,016</span> │\n",
       "├─────────────────────────────────┼────────────────────────┼───────────────┤\n",
       "│ gru_34 (<span style=\"color: #0087ff; text-decoration-color: #0087ff\">GRU</span>)                    │ (<span style=\"color: #00d7ff; text-decoration-color: #00d7ff\">None</span>, <span style=\"color: #00af00; text-decoration-color: #00af00\">32</span>)             │         <span style=\"color: #00af00; text-decoration-color: #00af00\">9,408</span> │\n",
       "├─────────────────────────────────┼────────────────────────┼───────────────┤\n",
       "│ flatten_12 (<span style=\"color: #0087ff; text-decoration-color: #0087ff\">Flatten</span>)            │ (<span style=\"color: #00d7ff; text-decoration-color: #00d7ff\">None</span>, <span style=\"color: #00af00; text-decoration-color: #00af00\">32</span>)             │             <span style=\"color: #00af00; text-decoration-color: #00af00\">0</span> │\n",
       "├─────────────────────────────────┼────────────────────────┼───────────────┤\n",
       "│ dense_57 (<span style=\"color: #0087ff; text-decoration-color: #0087ff\">Dense</span>)                │ (<span style=\"color: #00d7ff; text-decoration-color: #00d7ff\">None</span>, <span style=\"color: #00af00; text-decoration-color: #00af00\">32</span>)             │         <span style=\"color: #00af00; text-decoration-color: #00af00\">1,056</span> │\n",
       "├─────────────────────────────────┼────────────────────────┼───────────────┤\n",
       "│ batch_normalization_31          │ (<span style=\"color: #00d7ff; text-decoration-color: #00d7ff\">None</span>, <span style=\"color: #00af00; text-decoration-color: #00af00\">32</span>)             │           <span style=\"color: #00af00; text-decoration-color: #00af00\">128</span> │\n",
       "│ (<span style=\"color: #0087ff; text-decoration-color: #0087ff\">BatchNormalization</span>)            │                        │               │\n",
       "├─────────────────────────────────┼────────────────────────┼───────────────┤\n",
       "│ dense_58 (<span style=\"color: #0087ff; text-decoration-color: #0087ff\">Dense</span>)                │ (<span style=\"color: #00d7ff; text-decoration-color: #00d7ff\">None</span>, <span style=\"color: #00af00; text-decoration-color: #00af00\">16</span>)             │           <span style=\"color: #00af00; text-decoration-color: #00af00\">528</span> │\n",
       "├─────────────────────────────────┼────────────────────────┼───────────────┤\n",
       "│ dropout_50 (<span style=\"color: #0087ff; text-decoration-color: #0087ff\">Dropout</span>)            │ (<span style=\"color: #00d7ff; text-decoration-color: #00d7ff\">None</span>, <span style=\"color: #00af00; text-decoration-color: #00af00\">16</span>)             │             <span style=\"color: #00af00; text-decoration-color: #00af00\">0</span> │\n",
       "├─────────────────────────────────┼────────────────────────┼───────────────┤\n",
       "│ dense_59 (<span style=\"color: #0087ff; text-decoration-color: #0087ff\">Dense</span>)                │ (<span style=\"color: #00d7ff; text-decoration-color: #00d7ff\">None</span>, <span style=\"color: #00af00; text-decoration-color: #00af00\">3</span>)              │            <span style=\"color: #00af00; text-decoration-color: #00af00\">51</span> │\n",
       "└─────────────────────────────────┴────────────────────────┴───────────────┘\n",
       "</pre>\n"
      ],
      "text/plain": [
       "┏━━━━━━━━━━━━━━━━━━━━━━━━━━━━━━━━━┳━━━━━━━━━━━━━━━━━━━━━━━━┳━━━━━━━━━━━━━━━┓\n",
       "┃\u001b[1m \u001b[0m\u001b[1mLayer (type)                   \u001b[0m\u001b[1m \u001b[0m┃\u001b[1m \u001b[0m\u001b[1mOutput Shape          \u001b[0m\u001b[1m \u001b[0m┃\u001b[1m \u001b[0m\u001b[1m      Param #\u001b[0m\u001b[1m \u001b[0m┃\n",
       "┡━━━━━━━━━━━━━━━━━━━━━━━━━━━━━━━━━╇━━━━━━━━━━━━━━━━━━━━━━━━╇━━━━━━━━━━━━━━━┩\n",
       "│ normalization_27                │ (\u001b[38;5;45mNone\u001b[0m, \u001b[38;5;34m976\u001b[0m, \u001b[38;5;34m132\u001b[0m)       │           \u001b[38;5;34m265\u001b[0m │\n",
       "│ (\u001b[38;5;33mNormalization\u001b[0m)                 │                        │               │\n",
       "├─────────────────────────────────┼────────────────────────┼───────────────┤\n",
       "│ gru_33 (\u001b[38;5;33mGRU\u001b[0m)                    │ (\u001b[38;5;45mNone\u001b[0m, \u001b[38;5;34m976\u001b[0m, \u001b[38;5;34m64\u001b[0m)        │        \u001b[38;5;34m38,016\u001b[0m │\n",
       "├─────────────────────────────────┼────────────────────────┼───────────────┤\n",
       "│ gru_34 (\u001b[38;5;33mGRU\u001b[0m)                    │ (\u001b[38;5;45mNone\u001b[0m, \u001b[38;5;34m32\u001b[0m)             │         \u001b[38;5;34m9,408\u001b[0m │\n",
       "├─────────────────────────────────┼────────────────────────┼───────────────┤\n",
       "│ flatten_12 (\u001b[38;5;33mFlatten\u001b[0m)            │ (\u001b[38;5;45mNone\u001b[0m, \u001b[38;5;34m32\u001b[0m)             │             \u001b[38;5;34m0\u001b[0m │\n",
       "├─────────────────────────────────┼────────────────────────┼───────────────┤\n",
       "│ dense_57 (\u001b[38;5;33mDense\u001b[0m)                │ (\u001b[38;5;45mNone\u001b[0m, \u001b[38;5;34m32\u001b[0m)             │         \u001b[38;5;34m1,056\u001b[0m │\n",
       "├─────────────────────────────────┼────────────────────────┼───────────────┤\n",
       "│ batch_normalization_31          │ (\u001b[38;5;45mNone\u001b[0m, \u001b[38;5;34m32\u001b[0m)             │           \u001b[38;5;34m128\u001b[0m │\n",
       "│ (\u001b[38;5;33mBatchNormalization\u001b[0m)            │                        │               │\n",
       "├─────────────────────────────────┼────────────────────────┼───────────────┤\n",
       "│ dense_58 (\u001b[38;5;33mDense\u001b[0m)                │ (\u001b[38;5;45mNone\u001b[0m, \u001b[38;5;34m16\u001b[0m)             │           \u001b[38;5;34m528\u001b[0m │\n",
       "├─────────────────────────────────┼────────────────────────┼───────────────┤\n",
       "│ dropout_50 (\u001b[38;5;33mDropout\u001b[0m)            │ (\u001b[38;5;45mNone\u001b[0m, \u001b[38;5;34m16\u001b[0m)             │             \u001b[38;5;34m0\u001b[0m │\n",
       "├─────────────────────────────────┼────────────────────────┼───────────────┤\n",
       "│ dense_59 (\u001b[38;5;33mDense\u001b[0m)                │ (\u001b[38;5;45mNone\u001b[0m, \u001b[38;5;34m3\u001b[0m)              │            \u001b[38;5;34m51\u001b[0m │\n",
       "└─────────────────────────────────┴────────────────────────┴───────────────┘\n"
      ]
     },
     "metadata": {},
     "output_type": "display_data"
    },
    {
     "data": {
      "text/html": [
       "<pre style=\"white-space:pre;overflow-x:auto;line-height:normal;font-family:Menlo,'DejaVu Sans Mono',consolas,'Courier New',monospace\"><span style=\"font-weight: bold\"> Total params: </span><span style=\"color: #00af00; text-decoration-color: #00af00\">49,452</span> (193.18 KB)\n",
       "</pre>\n"
      ],
      "text/plain": [
       "\u001b[1m Total params: \u001b[0m\u001b[38;5;34m49,452\u001b[0m (193.18 KB)\n"
      ]
     },
     "metadata": {},
     "output_type": "display_data"
    },
    {
     "data": {
      "text/html": [
       "<pre style=\"white-space:pre;overflow-x:auto;line-height:normal;font-family:Menlo,'DejaVu Sans Mono',consolas,'Courier New',monospace\"><span style=\"font-weight: bold\"> Trainable params: </span><span style=\"color: #00af00; text-decoration-color: #00af00\">49,123</span> (191.89 KB)\n",
       "</pre>\n"
      ],
      "text/plain": [
       "\u001b[1m Trainable params: \u001b[0m\u001b[38;5;34m49,123\u001b[0m (191.89 KB)\n"
      ]
     },
     "metadata": {},
     "output_type": "display_data"
    },
    {
     "data": {
      "text/html": [
       "<pre style=\"white-space:pre;overflow-x:auto;line-height:normal;font-family:Menlo,'DejaVu Sans Mono',consolas,'Courier New',monospace\"><span style=\"font-weight: bold\"> Non-trainable params: </span><span style=\"color: #00af00; text-decoration-color: #00af00\">329</span> (1.29 KB)\n",
       "</pre>\n"
      ],
      "text/plain": [
       "\u001b[1m Non-trainable params: \u001b[0m\u001b[38;5;34m329\u001b[0m (1.29 KB)\n"
      ]
     },
     "metadata": {},
     "output_type": "display_data"
    }
   ],
   "source": [
    "model_lstm.summary()"
   ]
  },
  {
   "cell_type": "code",
   "execution_count": 230,
   "id": "231c4dfa",
   "metadata": {},
   "outputs": [
    {
     "name": "stdout",
     "output_type": "stream",
     "text": [
      "Epoch 1/200\n",
      "\u001b[1m2/2\u001b[0m \u001b[32m━━━━━━━━━━━━━━━━━━━━\u001b[0m\u001b[37m\u001b[0m \u001b[1m3s\u001b[0m 931ms/step - accuracy: 0.7900 - loss: 0.0585 - precision: 0.8857 - recall: 0.6200 - val_accuracy: 0.5467 - val_loss: 0.1151 - val_precision: 0.0000e+00 - val_recall: 0.0000e+00 - learning_rate: 1.0000e-08\n",
      "Epoch 2/200\n",
      "\u001b[1m2/2\u001b[0m \u001b[32m━━━━━━━━━━━━━━━━━━━━\u001b[0m\u001b[37m\u001b[0m \u001b[1m3s\u001b[0m 884ms/step - accuracy: 0.7633 - loss: 0.0622 - precision: 0.8889 - recall: 0.5600 - val_accuracy: 0.5467 - val_loss: 0.1151 - val_precision: 0.0000e+00 - val_recall: 0.0000e+00 - learning_rate: 1.0000e-08\n",
      "Epoch 3/200\n",
      "\u001b[1m2/2\u001b[0m \u001b[32m━━━━━━━━━━━━━━━━━━━━\u001b[0m\u001b[37m\u001b[0m \u001b[1m3s\u001b[0m 1s/step - accuracy: 0.7667 - loss: 0.0600 - precision: 0.9032 - recall: 0.5600 - val_accuracy: 0.5467 - val_loss: 0.1150 - val_precision: 0.0000e+00 - val_recall: 0.0000e+00 - learning_rate: 1.0000e-08\n",
      "Epoch 4/200\n",
      "\u001b[1m2/2\u001b[0m \u001b[32m━━━━━━━━━━━━━━━━━━━━\u001b[0m\u001b[37m\u001b[0m \u001b[1m3s\u001b[0m 773ms/step - accuracy: 0.7900 - loss: 0.0618 - precision: 0.8744 - recall: 0.5800 - val_accuracy: 0.5467 - val_loss: 0.1150 - val_precision: 0.0000e+00 - val_recall: 0.0000e+00 - learning_rate: 1.0000e-08\n",
      "Epoch 5/200\n",
      "\u001b[1m2/2\u001b[0m \u001b[32m━━━━━━━━━━━━━━━━━━━━\u001b[0m\u001b[37m\u001b[0m \u001b[1m4s\u001b[0m 1s/step - accuracy: 0.7867 - loss: 0.0606 - precision: 0.8995 - recall: 0.5667 - val_accuracy: 0.5467 - val_loss: 0.1150 - val_precision: 0.0000e+00 - val_recall: 0.0000e+00 - learning_rate: 1.0000e-08\n",
      "Epoch 6/200\n",
      "\u001b[1m2/2\u001b[0m \u001b[32m━━━━━━━━━━━━━━━━━━━━\u001b[0m\u001b[37m\u001b[0m \u001b[1m4s\u001b[0m 1s/step - accuracy: 0.7767 - loss: 0.0606 - precision: 0.8878 - recall: 0.5800 - val_accuracy: 0.5467 - val_loss: 0.1150 - val_precision: 0.0000e+00 - val_recall: 0.0000e+00 - learning_rate: 1.0000e-08\n",
      "Epoch 7/200\n",
      "\u001b[1m2/2\u001b[0m \u001b[32m━━━━━━━━━━━━━━━━━━━━\u001b[0m\u001b[37m\u001b[0m \u001b[1m4s\u001b[0m 817ms/step - accuracy: 0.7933 - loss: 0.0619 - precision: 0.8980 - recall: 0.5867 - val_accuracy: 0.5467 - val_loss: 0.1150 - val_precision: 0.0000e+00 - val_recall: 0.0000e+00 - learning_rate: 1.0000e-08\n",
      "Epoch 8/200\n",
      "\u001b[1m2/2\u001b[0m \u001b[32m━━━━━━━━━━━━━━━━━━━━\u001b[0m\u001b[37m\u001b[0m \u001b[1m3s\u001b[0m 897ms/step - accuracy: 0.7700 - loss: 0.0599 - precision: 0.9128 - recall: 0.5933 - val_accuracy: 0.5467 - val_loss: 0.1150 - val_precision: 0.0000e+00 - val_recall: 0.0000e+00 - learning_rate: 1.0000e-08\n",
      "Epoch 9/200\n",
      "\u001b[1m2/2\u001b[0m \u001b[32m━━━━━━━━━━━━━━━━━━━━\u001b[0m\u001b[37m\u001b[0m \u001b[1m3s\u001b[0m 936ms/step - accuracy: 0.7900 - loss: 0.0604 - precision: 0.8838 - recall: 0.5833 - val_accuracy: 0.5467 - val_loss: 0.1150 - val_precision: 0.0000e+00 - val_recall: 0.0000e+00 - learning_rate: 1.0000e-08\n",
      "Epoch 10/200\n",
      "\u001b[1m2/2\u001b[0m \u001b[32m━━━━━━━━━━━━━━━━━━━━\u001b[0m\u001b[37m\u001b[0m \u001b[1m3s\u001b[0m 835ms/step - accuracy: 0.7567 - loss: 0.0637 - precision: 0.9026 - recall: 0.5867 - val_accuracy: 0.5467 - val_loss: 0.1150 - val_precision: 0.0000e+00 - val_recall: 0.0000e+00 - learning_rate: 1.0000e-08\n",
      "Epoch 11/200\n",
      "\u001b[1m2/2\u001b[0m \u001b[32m━━━━━━━━━━━━━━━━━━━━\u001b[0m\u001b[37m\u001b[0m \u001b[1m3s\u001b[0m 705ms/step - accuracy: 0.7633 - loss: 0.0612 - precision: 0.8889 - recall: 0.5867 - val_accuracy: 0.5467 - val_loss: 0.1150 - val_precision: 0.0000e+00 - val_recall: 0.0000e+00 - learning_rate: 1.0000e-08\n",
      "Epoch 12/200\n",
      "\u001b[1m2/2\u001b[0m \u001b[32m━━━━━━━━━━━━━━━━━━━━\u001b[0m\u001b[37m\u001b[0m \u001b[1m3s\u001b[0m 783ms/step - accuracy: 0.7633 - loss: 0.0611 - precision: 0.9082 - recall: 0.5933 - val_accuracy: 0.5467 - val_loss: 0.1149 - val_precision: 0.0000e+00 - val_recall: 0.0000e+00 - learning_rate: 1.0000e-08\n",
      "Epoch 13/200\n",
      "\u001b[1m2/2\u001b[0m \u001b[32m━━━━━━━━━━━━━━━━━━━━\u001b[0m\u001b[37m\u001b[0m \u001b[1m3s\u001b[0m 778ms/step - accuracy: 0.7533 - loss: 0.0622 - precision: 0.8510 - recall: 0.5900 - val_accuracy: 0.5467 - val_loss: 0.1149 - val_precision: 0.0000e+00 - val_recall: 0.0000e+00 - learning_rate: 1.0000e-08\n",
      "Epoch 14/200\n",
      "\u001b[1m2/2\u001b[0m \u001b[32m━━━━━━━━━━━━━━━━━━━━\u001b[0m\u001b[37m\u001b[0m \u001b[1m3s\u001b[0m 970ms/step - accuracy: 0.7700 - loss: 0.0633 - precision: 0.8985 - recall: 0.5900 - val_accuracy: 0.5467 - val_loss: 0.1149 - val_precision: 0.0000e+00 - val_recall: 0.0000e+00 - learning_rate: 1.0000e-08\n",
      "Epoch 15/200\n",
      "\u001b[1m2/2\u001b[0m \u001b[32m━━━━━━━━━━━━━━━━━━━━\u001b[0m\u001b[37m\u001b[0m \u001b[1m3s\u001b[0m 886ms/step - accuracy: 0.8000 - loss: 0.0589 - precision: 0.8850 - recall: 0.5900 - val_accuracy: 0.5467 - val_loss: 0.1149 - val_precision: 0.0000e+00 - val_recall: 0.0000e+00 - learning_rate: 1.0000e-08\n",
      "Epoch 16/200\n",
      "\u001b[1m2/2\u001b[0m \u001b[32m━━━━━━━━━━━━━━━━━━━━\u001b[0m\u001b[37m\u001b[0m \u001b[1m4s\u001b[0m 1s/step - accuracy: 0.7600 - loss: 0.0627 - precision: 0.8912 - recall: 0.5733 - val_accuracy: 0.5467 - val_loss: 0.1149 - val_precision: 0.0000e+00 - val_recall: 0.0000e+00 - learning_rate: 1.0000e-08\n",
      "Epoch 17/200\n",
      "\u001b[1m2/2\u001b[0m \u001b[32m━━━━━━━━━━━━━━━━━━━━\u001b[0m\u001b[37m\u001b[0m \u001b[1m4s\u001b[0m 950ms/step - accuracy: 0.7767 - loss: 0.0605 - precision: 0.8782 - recall: 0.5767 - val_accuracy: 0.5467 - val_loss: 0.1149 - val_precision: 0.0000e+00 - val_recall: 0.0000e+00 - learning_rate: 1.0000e-08\n",
      "Epoch 18/200\n",
      "\u001b[1m2/2\u001b[0m \u001b[32m━━━━━━━━━━━━━━━━━━━━\u001b[0m\u001b[37m\u001b[0m \u001b[1m3s\u001b[0m 839ms/step - accuracy: 0.7900 - loss: 0.0604 - precision: 0.9005 - recall: 0.6033 - val_accuracy: 0.5467 - val_loss: 0.1149 - val_precision: 0.0000e+00 - val_recall: 0.0000e+00 - learning_rate: 1.0000e-08\n",
      "Epoch 19/200\n",
      "\u001b[1m2/2\u001b[0m \u001b[32m━━━━━━━━━━━━━━━━━━━━\u001b[0m\u001b[37m\u001b[0m \u001b[1m3s\u001b[0m 859ms/step - accuracy: 0.7867 - loss: 0.0617 - precision: 0.9048 - recall: 0.5700 - val_accuracy: 0.5467 - val_loss: 0.1149 - val_precision: 0.0000e+00 - val_recall: 0.0000e+00 - learning_rate: 1.0000e-08\n",
      "Epoch 20/200\n",
      "\u001b[1m2/2\u001b[0m \u001b[32m━━━━━━━━━━━━━━━━━━━━\u001b[0m\u001b[37m\u001b[0m \u001b[1m3s\u001b[0m 785ms/step - accuracy: 0.7733 - loss: 0.0629 - precision: 0.8780 - recall: 0.6000 - val_accuracy: 0.5467 - val_loss: 0.1149 - val_precision: 0.0000e+00 - val_recall: 0.0000e+00 - learning_rate: 1.0000e-08\n",
      "Epoch 21/200\n",
      "\u001b[1m2/2\u001b[0m \u001b[32m━━━━━━━━━━━━━━━━━━━━\u001b[0m\u001b[37m\u001b[0m \u001b[1m3s\u001b[0m 780ms/step - accuracy: 0.7633 - loss: 0.0638 - precision: 0.8698 - recall: 0.5567 - val_accuracy: 0.5467 - val_loss: 0.1149 - val_precision: 0.0000e+00 - val_recall: 0.0000e+00 - learning_rate: 1.0000e-08\n",
      "Epoch 22/200\n",
      "\u001b[1m2/2\u001b[0m \u001b[32m━━━━━━━━━━━━━━━━━━━━\u001b[0m\u001b[37m\u001b[0m \u001b[1m3s\u001b[0m 752ms/step - accuracy: 0.8133 - loss: 0.0598 - precision: 0.9037 - recall: 0.5633 - val_accuracy: 0.5467 - val_loss: 0.1149 - val_precision: 0.0000e+00 - val_recall: 0.0000e+00 - learning_rate: 1.0000e-09\n",
      "Epoch 23/200\n",
      "\u001b[1m2/2\u001b[0m \u001b[32m━━━━━━━━━━━━━━━━━━━━\u001b[0m\u001b[37m\u001b[0m \u001b[1m3s\u001b[0m 810ms/step - accuracy: 0.8033 - loss: 0.0588 - precision: 0.8916 - recall: 0.6033 - val_accuracy: 0.5467 - val_loss: 0.1148 - val_precision: 0.0000e+00 - val_recall: 0.0000e+00 - learning_rate: 1.0000e-09\n",
      "Epoch 24/200\n",
      "\u001b[1m2/2\u001b[0m \u001b[32m━━━━━━━━━━━━━━━━━━━━\u001b[0m\u001b[37m\u001b[0m \u001b[1m3s\u001b[0m 969ms/step - accuracy: 0.7700 - loss: 0.0642 - precision: 0.8683 - recall: 0.5933 - val_accuracy: 0.5467 - val_loss: 0.1148 - val_precision: 0.0000e+00 - val_recall: 0.0000e+00 - learning_rate: 1.0000e-09\n",
      "Epoch 25/200\n",
      "\u001b[1m2/2\u001b[0m \u001b[32m━━━━━━━━━━━━━━━━━━━━\u001b[0m\u001b[37m\u001b[0m \u001b[1m3s\u001b[0m 961ms/step - accuracy: 0.7700 - loss: 0.0602 - precision: 0.8953 - recall: 0.5700 - val_accuracy: 0.5467 - val_loss: 0.1148 - val_precision: 0.0000e+00 - val_recall: 0.0000e+00 - learning_rate: 1.0000e-09\n",
      "Epoch 26/200\n",
      "\u001b[1m2/2\u001b[0m \u001b[32m━━━━━━━━━━━━━━━━━━━━\u001b[0m\u001b[37m\u001b[0m \u001b[1m3s\u001b[0m 960ms/step - accuracy: 0.7600 - loss: 0.0672 - precision: 0.8653 - recall: 0.5567 - val_accuracy: 0.5467 - val_loss: 0.1148 - val_precision: 0.0000e+00 - val_recall: 0.0000e+00 - learning_rate: 1.0000e-09\n",
      "Epoch 27/200\n",
      "\u001b[1m2/2\u001b[0m \u001b[32m━━━━━━━━━━━━━━━━━━━━\u001b[0m\u001b[37m\u001b[0m \u001b[1m3s\u001b[0m 933ms/step - accuracy: 0.7767 - loss: 0.0604 - precision: 0.8788 - recall: 0.5800 - val_accuracy: 0.5467 - val_loss: 0.1148 - val_precision: 0.0000e+00 - val_recall: 0.0000e+00 - learning_rate: 1.0000e-09\n",
      "Epoch 28/200\n",
      "\u001b[1m2/2\u001b[0m \u001b[32m━━━━━━━━━━━━━━━━━━━━\u001b[0m\u001b[37m\u001b[0m \u001b[1m3s\u001b[0m 1s/step - accuracy: 0.7633 - loss: 0.0646 - precision: 0.8693 - recall: 0.5767 - val_accuracy: 0.5467 - val_loss: 0.1148 - val_precision: 0.0000e+00 - val_recall: 0.0000e+00 - learning_rate: 1.0000e-09\n",
      "Epoch 29/200\n",
      "\u001b[1m2/2\u001b[0m \u001b[32m━━━━━━━━━━━━━━━━━━━━\u001b[0m\u001b[37m\u001b[0m \u001b[1m4s\u001b[0m 1s/step - accuracy: 0.8033 - loss: 0.0582 - precision: 0.8932 - recall: 0.6133 - val_accuracy: 0.5467 - val_loss: 0.1148 - val_precision: 0.0000e+00 - val_recall: 0.0000e+00 - learning_rate: 1.0000e-09\n",
      "Epoch 30/200\n",
      "\u001b[1m2/2\u001b[0m \u001b[32m━━━━━━━━━━━━━━━━━━━━\u001b[0m\u001b[37m\u001b[0m \u001b[1m3s\u001b[0m 767ms/step - accuracy: 0.7867 - loss: 0.0610 - precision: 0.9022 - recall: 0.5533 - val_accuracy: 0.5467 - val_loss: 0.1148 - val_precision: 0.0000e+00 - val_recall: 0.0000e+00 - learning_rate: 1.0000e-09\n",
      "Epoch 31/200\n",
      "\u001b[1m2/2\u001b[0m \u001b[32m━━━━━━━━━━━━━━━━━━━━\u001b[0m\u001b[37m\u001b[0m \u001b[1m3s\u001b[0m 785ms/step - accuracy: 0.7833 - loss: 0.0631 - precision: 0.8856 - recall: 0.5933 - val_accuracy: 0.5467 - val_loss: 0.1148 - val_precision: 0.0000e+00 - val_recall: 0.0000e+00 - learning_rate: 1.0000e-09\n",
      "Epoch 32/200\n",
      "\u001b[1m2/2\u001b[0m \u001b[32m━━━━━━━━━━━━━━━━━━━━\u001b[0m\u001b[37m\u001b[0m \u001b[1m3s\u001b[0m 725ms/step - accuracy: 0.7433 - loss: 0.0653 - precision: 0.8622 - recall: 0.5633 - val_accuracy: 0.5467 - val_loss: 0.1148 - val_precision: 0.0000e+00 - val_recall: 0.0000e+00 - learning_rate: 1.0000e-09\n",
      "Epoch 33/200\n",
      "\u001b[1m2/2\u001b[0m \u001b[32m━━━━━━━━━━━━━━━━━━━━\u001b[0m\u001b[37m\u001b[0m \u001b[1m3s\u001b[0m 732ms/step - accuracy: 0.7700 - loss: 0.0617 - precision: 0.8750 - recall: 0.5833 - val_accuracy: 0.5467 - val_loss: 0.1148 - val_precision: 0.0000e+00 - val_recall: 0.0000e+00 - learning_rate: 1.0000e-09\n",
      "Epoch 34/200\n",
      "\u001b[1m2/2\u001b[0m \u001b[32m━━━━━━━━━━━━━━━━━━━━\u001b[0m\u001b[37m\u001b[0m \u001b[1m3s\u001b[0m 835ms/step - accuracy: 0.7833 - loss: 0.0610 - precision: 0.8906 - recall: 0.5700 - val_accuracy: 0.5467 - val_loss: 0.1148 - val_precision: 0.0000e+00 - val_recall: 0.0000e+00 - learning_rate: 1.0000e-10\n",
      "Epoch 35/200\n",
      "\u001b[1m2/2\u001b[0m \u001b[32m━━━━━━━━━━━━━━━━━━━━\u001b[0m\u001b[37m\u001b[0m \u001b[1m3s\u001b[0m 750ms/step - accuracy: 0.7500 - loss: 0.0643 - precision: 0.8808 - recall: 0.5667 - val_accuracy: 0.5467 - val_loss: 0.1148 - val_precision: 0.0000e+00 - val_recall: 0.0000e+00 - learning_rate: 1.0000e-10\n",
      "Epoch 36/200\n",
      "\u001b[1m2/2\u001b[0m \u001b[32m━━━━━━━━━━━━━━━━━━━━\u001b[0m\u001b[37m\u001b[0m \u001b[1m3s\u001b[0m 914ms/step - accuracy: 0.8100 - loss: 0.0605 - precision: 0.8969 - recall: 0.5800 - val_accuracy: 0.5600 - val_loss: 0.1148 - val_precision: 0.0000e+00 - val_recall: 0.0000e+00 - learning_rate: 1.0000e-10\n",
      "Epoch 37/200\n",
      "\u001b[1m2/2\u001b[0m \u001b[32m━━━━━━━━━━━━━━━━━━━━\u001b[0m\u001b[37m\u001b[0m \u001b[1m4s\u001b[0m 1s/step - accuracy: 0.7633 - loss: 0.0611 - precision: 0.8788 - recall: 0.5800 - val_accuracy: 0.5600 - val_loss: 0.1148 - val_precision: 0.0000e+00 - val_recall: 0.0000e+00 - learning_rate: 1.0000e-10\n",
      "Epoch 38/200\n",
      "\u001b[1m2/2\u001b[0m \u001b[32m━━━━━━━━━━━━━━━━━━━━\u001b[0m\u001b[37m\u001b[0m \u001b[1m3s\u001b[0m 951ms/step - accuracy: 0.7700 - loss: 0.0620 - precision: 0.9250 - recall: 0.6167 - val_accuracy: 0.5600 - val_loss: 0.1148 - val_precision: 0.0000e+00 - val_recall: 0.0000e+00 - learning_rate: 1.0000e-10\n",
      "Epoch 39/200\n",
      "\u001b[1m2/2\u001b[0m \u001b[32m━━━━━━━━━━━━━━━━━━━━\u001b[0m\u001b[37m\u001b[0m \u001b[1m3s\u001b[0m 968ms/step - accuracy: 0.7967 - loss: 0.0594 - precision: 0.8861 - recall: 0.5967 - val_accuracy: 0.5600 - val_loss: 0.1148 - val_precision: 0.0000e+00 - val_recall: 0.0000e+00 - learning_rate: 1.0000e-10\n",
      "Epoch 40/200\n",
      "\u001b[1m2/2\u001b[0m \u001b[32m━━━━━━━━━━━━━━━━━━━━\u001b[0m\u001b[37m\u001b[0m \u001b[1m3s\u001b[0m 968ms/step - accuracy: 0.7600 - loss: 0.0611 - precision: 0.9067 - recall: 0.5833 - val_accuracy: 0.5600 - val_loss: 0.1148 - val_precision: 0.0000e+00 - val_recall: 0.0000e+00 - learning_rate: 1.0000e-10\n",
      "Epoch 41/200\n",
      "\u001b[1m2/2\u001b[0m \u001b[32m━━━━━━━━━━━━━━━━━━━━\u001b[0m\u001b[37m\u001b[0m \u001b[1m3s\u001b[0m 838ms/step - accuracy: 0.7933 - loss: 0.0613 - precision: 0.8980 - recall: 0.5867 - val_accuracy: 0.5600 - val_loss: 0.1148 - val_precision: 0.0000e+00 - val_recall: 0.0000e+00 - learning_rate: 1.0000e-10\n",
      "Epoch 42/200\n",
      "\u001b[1m2/2\u001b[0m \u001b[32m━━━━━━━━━━━━━━━━━━━━\u001b[0m\u001b[37m\u001b[0m \u001b[1m3s\u001b[0m 943ms/step - accuracy: 0.7800 - loss: 0.0598 - precision: 0.9005 - recall: 0.6033 - val_accuracy: 0.5600 - val_loss: 0.1148 - val_precision: 0.0000e+00 - val_recall: 0.0000e+00 - learning_rate: 1.0000e-10\n",
      "Epoch 43/200\n",
      "\u001b[1m2/2\u001b[0m \u001b[32m━━━━━━━━━━━━━━━━━━━━\u001b[0m\u001b[37m\u001b[0m \u001b[1m4s\u001b[0m 1s/step - accuracy: 0.7733 - loss: 0.0594 - precision: 0.8878 - recall: 0.5800 - val_accuracy: 0.5600 - val_loss: 0.1148 - val_precision: 0.0000e+00 - val_recall: 0.0000e+00 - learning_rate: 1.0000e-10\n",
      "Epoch 44/200\n",
      "\u001b[1m2/2\u001b[0m \u001b[32m━━━━━━━━━━━━━━━━━━━━\u001b[0m\u001b[37m\u001b[0m \u001b[1m3s\u001b[0m 775ms/step - accuracy: 0.8033 - loss: 0.0613 - precision: 0.8856 - recall: 0.5933 - val_accuracy: 0.5600 - val_loss: 0.1148 - val_precision: 0.3333 - val_recall: 0.0133 - learning_rate: 1.0000e-11\n",
      "Epoch 45/200\n",
      "\u001b[1m2/2\u001b[0m \u001b[32m━━━━━━━━━━━━━━━━━━━━\u001b[0m\u001b[37m\u001b[0m \u001b[1m4s\u001b[0m 1s/step - accuracy: 0.7800 - loss: 0.0613 - precision: 0.9048 - recall: 0.5700 - val_accuracy: 0.5600 - val_loss: 0.1148 - val_precision: 0.3333 - val_recall: 0.0133 - learning_rate: 1.0000e-11\n",
      "Epoch 46/200\n",
      "\u001b[1m2/2\u001b[0m \u001b[32m━━━━━━━━━━━━━━━━━━━━\u001b[0m\u001b[37m\u001b[0m \u001b[1m3s\u001b[0m 869ms/step - accuracy: 0.7700 - loss: 0.0604 - precision: 0.8756 - recall: 0.5867 - val_accuracy: 0.5600 - val_loss: 0.1148 - val_precision: 0.3333 - val_recall: 0.0133 - learning_rate: 1.0000e-11\n",
      "Epoch 47/200\n",
      "\u001b[1m2/2\u001b[0m \u001b[32m━━━━━━━━━━━━━━━━━━━━\u001b[0m\u001b[37m\u001b[0m \u001b[1m4s\u001b[0m 989ms/step - accuracy: 0.7767 - loss: 0.0609 - precision: 0.8878 - recall: 0.5800 - val_accuracy: 0.5333 - val_loss: 0.1148 - val_precision: 0.3333 - val_recall: 0.0133 - learning_rate: 1.0000e-11\n",
      "Epoch 48/200\n",
      "\u001b[1m2/2\u001b[0m \u001b[32m━━━━━━━━━━━━━━━━━━━━\u001b[0m\u001b[37m\u001b[0m \u001b[1m3s\u001b[0m 998ms/step - accuracy: 0.7933 - loss: 0.0617 - precision: 0.8737 - recall: 0.5767 - val_accuracy: 0.5333 - val_loss: 0.1148 - val_precision: 0.3333 - val_recall: 0.0133 - learning_rate: 1.0000e-11\n",
      "Epoch 49/200\n",
      "\u001b[1m2/2\u001b[0m \u001b[32m━━━━━━━━━━━━━━━━━━━━\u001b[0m\u001b[37m\u001b[0m \u001b[1m4s\u001b[0m 919ms/step - accuracy: 0.7900 - loss: 0.0592 - precision: 0.9095 - recall: 0.6033 - val_accuracy: 0.5333 - val_loss: 0.1148 - val_precision: 0.3333 - val_recall: 0.0133 - learning_rate: 1.0000e-11\n",
      "Epoch 50/200\n",
      "\u001b[1m2/2\u001b[0m \u001b[32m━━━━━━━━━━━━━━━━━━━━\u001b[0m\u001b[37m\u001b[0m \u001b[1m3s\u001b[0m 922ms/step - accuracy: 0.7367 - loss: 0.0638 - precision: 0.8796 - recall: 0.5600 - val_accuracy: 0.5333 - val_loss: 0.1148 - val_precision: 0.3333 - val_recall: 0.0133 - learning_rate: 1.0000e-11\n",
      "Epoch 51/200\n",
      "\u001b[1m2/2\u001b[0m \u001b[32m━━━━━━━━━━━━━━━━━━━━\u001b[0m\u001b[37m\u001b[0m \u001b[1m3s\u001b[0m 835ms/step - accuracy: 0.8100 - loss: 0.0584 - precision: 0.9128 - recall: 0.5933 - val_accuracy: 0.5333 - val_loss: 0.1148 - val_precision: 0.3333 - val_recall: 0.0133 - learning_rate: 1.0000e-11\n",
      "Epoch 52/200\n",
      "\u001b[1m2/2\u001b[0m \u001b[32m━━━━━━━━━━━━━━━━━━━━\u001b[0m\u001b[37m\u001b[0m \u001b[1m3s\u001b[0m 999ms/step - accuracy: 0.7700 - loss: 0.0651 - precision: 0.8663 - recall: 0.5833 - val_accuracy: 0.5333 - val_loss: 0.1148 - val_precision: 0.3333 - val_recall: 0.0133 - learning_rate: 1.0000e-11\n",
      "Epoch 53/200\n",
      "\u001b[1m2/2\u001b[0m \u001b[32m━━━━━━━━━━━━━━━━━━━━\u001b[0m\u001b[37m\u001b[0m \u001b[1m3s\u001b[0m 732ms/step - accuracy: 0.7733 - loss: 0.0608 - precision: 0.8846 - recall: 0.6133 - val_accuracy: 0.5333 - val_loss: 0.1148 - val_precision: 0.3333 - val_recall: 0.0133 - learning_rate: 1.0000e-11\n",
      "Epoch 54/200\n",
      "\u001b[1m2/2\u001b[0m \u001b[32m━━━━━━━━━━━━━━━━━━━━\u001b[0m\u001b[37m\u001b[0m \u001b[1m3s\u001b[0m 914ms/step - accuracy: 0.7700 - loss: 0.0623 - precision: 0.9000 - recall: 0.6000 - val_accuracy: 0.5333 - val_loss: 0.1148 - val_precision: 0.3333 - val_recall: 0.0133 - learning_rate: 1.0000e-12\n",
      "Epoch 55/200\n",
      "\u001b[1m2/2\u001b[0m \u001b[32m━━━━━━━━━━━━━━━━━━━━\u001b[0m\u001b[37m\u001b[0m \u001b[1m3s\u001b[0m 766ms/step - accuracy: 0.7767 - loss: 0.0593 - precision: 0.9128 - recall: 0.5933 - val_accuracy: 0.5333 - val_loss: 0.1148 - val_precision: 0.3333 - val_recall: 0.0133 - learning_rate: 1.0000e-12\n",
      "Epoch 56/200\n",
      "\u001b[1m2/2\u001b[0m \u001b[32m━━━━━━━━━━━━━━━━━━━━\u001b[0m\u001b[37m\u001b[0m \u001b[1m3s\u001b[0m 824ms/step - accuracy: 0.7600 - loss: 0.0660 - precision: 0.8711 - recall: 0.5633 - val_accuracy: 0.5333 - val_loss: 0.1148 - val_precision: 0.3333 - val_recall: 0.0133 - learning_rate: 1.0000e-12\n",
      "Epoch 57/200\n",
      "\u001b[1m2/2\u001b[0m \u001b[32m━━━━━━━━━━━━━━━━━━━━\u001b[0m\u001b[37m\u001b[0m \u001b[1m3s\u001b[0m 947ms/step - accuracy: 0.7800 - loss: 0.0602 - precision: 0.8984 - recall: 0.5600 - val_accuracy: 0.5333 - val_loss: 0.1148 - val_precision: 0.3333 - val_recall: 0.0133 - learning_rate: 1.0000e-12\n",
      "Epoch 58/200\n",
      "\u001b[1m2/2\u001b[0m \u001b[32m━━━━━━━━━━━━━━━━━━━━\u001b[0m\u001b[37m\u001b[0m \u001b[1m3s\u001b[0m 869ms/step - accuracy: 0.7800 - loss: 0.0617 - precision: 0.9091 - recall: 0.6000 - val_accuracy: 0.5333 - val_loss: 0.1148 - val_precision: 0.3333 - val_recall: 0.0133 - learning_rate: 1.0000e-12\n",
      "Epoch 59/200\n",
      "\u001b[1m2/2\u001b[0m \u001b[32m━━━━━━━━━━━━━━━━━━━━\u001b[0m\u001b[37m\u001b[0m \u001b[1m3s\u001b[0m 796ms/step - accuracy: 0.7900 - loss: 0.0613 - precision: 0.9036 - recall: 0.5933 - val_accuracy: 0.5333 - val_loss: 0.1148 - val_precision: 0.3333 - val_recall: 0.0133 - learning_rate: 1.0000e-12\n",
      "Epoch 60/200\n",
      "\u001b[1m2/2\u001b[0m \u001b[32m━━━━━━━━━━━━━━━━━━━━\u001b[0m\u001b[37m\u001b[0m \u001b[1m3s\u001b[0m 757ms/step - accuracy: 0.7933 - loss: 0.0624 - precision: 0.8800 - recall: 0.5867 - val_accuracy: 0.5467 - val_loss: 0.1148 - val_precision: 0.2500 - val_recall: 0.0133 - learning_rate: 1.0000e-12\n",
      "Epoch 61/200\n",
      "\u001b[1m2/2\u001b[0m \u001b[32m━━━━━━━━━━━━━━━━━━━━\u001b[0m\u001b[37m\u001b[0m \u001b[1m3s\u001b[0m 853ms/step - accuracy: 0.7667 - loss: 0.0614 - precision: 0.8905 - recall: 0.5967 - val_accuracy: 0.5467 - val_loss: 0.1149 - val_precision: 0.2500 - val_recall: 0.0133 - learning_rate: 1.0000e-12\n",
      "Epoch 62/200\n",
      "\u001b[1m2/2\u001b[0m \u001b[32m━━━━━━━━━━━━━━━━━━━━\u001b[0m\u001b[37m\u001b[0m \u001b[1m3s\u001b[0m 730ms/step - accuracy: 0.7767 - loss: 0.0641 - precision: 0.8732 - recall: 0.5967 - val_accuracy: 0.5467 - val_loss: 0.1149 - val_precision: 0.2500 - val_recall: 0.0133 - learning_rate: 1.0000e-12\n",
      "Epoch 63/200\n",
      "\u001b[1m2/2\u001b[0m \u001b[32m━━━━━━━━━━━━━━━━━━━━\u001b[0m\u001b[37m\u001b[0m \u001b[1m3s\u001b[0m 803ms/step - accuracy: 0.7633 - loss: 0.0614 - precision: 0.9095 - recall: 0.6033 - val_accuracy: 0.5467 - val_loss: 0.1149 - val_precision: 0.2000 - val_recall: 0.0133 - learning_rate: 1.0000e-12\n",
      "Epoch 64/200\n",
      "\u001b[1m2/2\u001b[0m \u001b[32m━━━━━━━━━━━━━━━━━━━━\u001b[0m\u001b[37m\u001b[0m \u001b[1m3s\u001b[0m 738ms/step - accuracy: 0.7933 - loss: 0.0592 - precision: 0.9140 - recall: 0.5667 - val_accuracy: 0.5467 - val_loss: 0.1149 - val_precision: 0.2000 - val_recall: 0.0133 - learning_rate: 1.0000e-13\n",
      "Epoch 65/200\n",
      "\u001b[1m2/2\u001b[0m \u001b[32m━━━━━━━━━━━━━━━━━━━━\u001b[0m\u001b[37m\u001b[0m \u001b[1m3s\u001b[0m 687ms/step - accuracy: 0.7900 - loss: 0.0603 - precision: 0.9036 - recall: 0.5933 - val_accuracy: 0.5467 - val_loss: 0.1149 - val_precision: 0.2000 - val_recall: 0.0133 - learning_rate: 1.0000e-13\n",
      "Epoch 66/200\n",
      "\u001b[1m2/2\u001b[0m \u001b[32m━━━━━━━━━━━━━━━━━━━━\u001b[0m\u001b[37m\u001b[0m \u001b[1m3s\u001b[0m 708ms/step - accuracy: 0.7967 - loss: 0.0609 - precision: 0.8923 - recall: 0.5800 - val_accuracy: 0.5467 - val_loss: 0.1149 - val_precision: 0.2000 - val_recall: 0.0133 - learning_rate: 1.0000e-13\n",
      "Epoch 67/200\n",
      "\u001b[1m2/2\u001b[0m \u001b[32m━━━━━━━━━━━━━━━━━━━━\u001b[0m\u001b[37m\u001b[0m \u001b[1m3s\u001b[0m 778ms/step - accuracy: 0.7533 - loss: 0.0635 - precision: 0.8673 - recall: 0.5667 - val_accuracy: 0.5467 - val_loss: 0.1149 - val_precision: 0.2000 - val_recall: 0.0133 - learning_rate: 1.0000e-13\n",
      "Epoch 68/200\n",
      "\u001b[1m2/2\u001b[0m \u001b[32m━━━━━━━━━━━━━━━━━━━━\u001b[0m\u001b[37m\u001b[0m \u001b[1m3s\u001b[0m 733ms/step - accuracy: 0.7900 - loss: 0.0636 - precision: 0.8878 - recall: 0.5800 - val_accuracy: 0.5467 - val_loss: 0.1149 - val_precision: 0.2000 - val_recall: 0.0133 - learning_rate: 1.0000e-13\n",
      "Epoch 69/200\n",
      "\u001b[1m2/2\u001b[0m \u001b[32m━━━━━━━━━━━━━━━━━━━━\u001b[0m\u001b[37m\u001b[0m \u001b[1m3s\u001b[0m 790ms/step - accuracy: 0.7967 - loss: 0.0596 - precision: 0.8775 - recall: 0.5967 - val_accuracy: 0.5467 - val_loss: 0.1150 - val_precision: 0.2000 - val_recall: 0.0133 - learning_rate: 1.0000e-13\n",
      "Epoch 70/200\n",
      "\u001b[1m2/2\u001b[0m \u001b[32m━━━━━━━━━━━━━━━━━━━━\u001b[0m\u001b[37m\u001b[0m \u001b[1m3s\u001b[0m 809ms/step - accuracy: 0.7700 - loss: 0.0610 - precision: 0.8900 - recall: 0.5933 - val_accuracy: 0.5467 - val_loss: 0.1150 - val_precision: 0.2000 - val_recall: 0.0133 - learning_rate: 1.0000e-13\n",
      "Epoch 71/200\n",
      "\u001b[1m2/2\u001b[0m \u001b[32m━━━━━━━━━━━━━━━━━━━━\u001b[0m\u001b[37m\u001b[0m \u001b[1m3s\u001b[0m 866ms/step - accuracy: 0.7833 - loss: 0.0604 - precision: 0.8945 - recall: 0.5933 - val_accuracy: 0.5467 - val_loss: 0.1150 - val_precision: 0.3333 - val_recall: 0.0267 - learning_rate: 1.0000e-13\n",
      "Epoch 72/200\n",
      "\u001b[1m2/2\u001b[0m \u001b[32m━━━━━━━━━━━━━━━━━━━━\u001b[0m\u001b[37m\u001b[0m \u001b[1m3s\u001b[0m 753ms/step - accuracy: 0.8000 - loss: 0.0608 - precision: 0.8945 - recall: 0.5933 - val_accuracy: 0.5467 - val_loss: 0.1150 - val_precision: 0.3333 - val_recall: 0.0267 - learning_rate: 1.0000e-13\n",
      "Epoch 73/200\n",
      "\u001b[1m2/2\u001b[0m \u001b[32m━━━━━━━━━━━━━━━━━━━━\u001b[0m\u001b[37m\u001b[0m \u001b[1m3s\u001b[0m 756ms/step - accuracy: 0.7833 - loss: 0.0616 - precision: 0.8872 - recall: 0.5767 - val_accuracy: 0.5467 - val_loss: 0.1150 - val_precision: 0.3333 - val_recall: 0.0267 - learning_rate: 1.0000e-13\n",
      "Epoch 74/200\n",
      "\u001b[1m2/2\u001b[0m \u001b[32m━━━━━━━━━━━━━━━━━━━━\u001b[0m\u001b[37m\u001b[0m \u001b[1m3s\u001b[0m 957ms/step - accuracy: 0.7833 - loss: 0.0611 - precision: 0.8900 - recall: 0.6200 - val_accuracy: 0.5467 - val_loss: 0.1151 - val_precision: 0.3333 - val_recall: 0.0267 - learning_rate: 1.0000e-14\n",
      "Epoch 75/200\n",
      "\u001b[1m2/2\u001b[0m \u001b[32m━━━━━━━━━━━━━━━━━━━━\u001b[0m\u001b[37m\u001b[0m \u001b[1m3s\u001b[0m 923ms/step - accuracy: 0.7700 - loss: 0.0646 - precision: 0.8698 - recall: 0.5567 - val_accuracy: 0.5467 - val_loss: 0.1151 - val_precision: 0.3333 - val_recall: 0.0267 - learning_rate: 1.0000e-14\n",
      "Epoch 76/200\n",
      "\u001b[1m2/2\u001b[0m \u001b[32m━━━━━━━━━━━━━━━━━━━━\u001b[0m\u001b[37m\u001b[0m \u001b[1m3s\u001b[0m 937ms/step - accuracy: 0.7967 - loss: 0.0604 - precision: 0.9067 - recall: 0.5833 - val_accuracy: 0.5467 - val_loss: 0.1151 - val_precision: 0.4286 - val_recall: 0.0400 - learning_rate: 1.0000e-14\n",
      "Epoch 77/200\n",
      "\u001b[1m2/2\u001b[0m \u001b[32m━━━━━━━━━━━━━━━━━━━━\u001b[0m\u001b[37m\u001b[0m \u001b[1m3s\u001b[0m 779ms/step - accuracy: 0.7733 - loss: 0.0631 - precision: 0.8889 - recall: 0.6133 - val_accuracy: 0.5467 - val_loss: 0.1151 - val_precision: 0.4286 - val_recall: 0.0400 - learning_rate: 1.0000e-14\n",
      "Epoch 78/200\n",
      "\u001b[1m2/2\u001b[0m \u001b[32m━━━━━━━━━━━━━━━━━━━━\u001b[0m\u001b[37m\u001b[0m \u001b[1m3s\u001b[0m 792ms/step - accuracy: 0.7600 - loss: 0.0635 - precision: 0.8854 - recall: 0.5667 - val_accuracy: 0.5467 - val_loss: 0.1152 - val_precision: 0.4286 - val_recall: 0.0400 - learning_rate: 1.0000e-14\n",
      "Epoch 79/200\n",
      "\u001b[1m2/2\u001b[0m \u001b[32m━━━━━━━━━━━━━━━━━━━━\u001b[0m\u001b[37m\u001b[0m \u001b[1m3s\u001b[0m 986ms/step - accuracy: 0.7800 - loss: 0.0612 - precision: 0.8762 - recall: 0.5900 - val_accuracy: 0.5467 - val_loss: 0.1152 - val_precision: 0.4286 - val_recall: 0.0400 - learning_rate: 1.0000e-14\n",
      "Epoch 80/200\n",
      "\u001b[1m2/2\u001b[0m \u001b[32m━━━━━━━━━━━━━━━━━━━━\u001b[0m\u001b[37m\u001b[0m \u001b[1m3s\u001b[0m 1s/step - accuracy: 0.7700 - loss: 0.0624 - precision: 0.9082 - recall: 0.5933 - val_accuracy: 0.5467 - val_loss: 0.1152 - val_precision: 0.4286 - val_recall: 0.0400 - learning_rate: 1.0000e-14\n",
      "Epoch 81/200\n",
      "\u001b[1m2/2\u001b[0m \u001b[32m━━━━━━━━━━━━━━━━━━━━\u001b[0m\u001b[37m\u001b[0m \u001b[1m4s\u001b[0m 984ms/step - accuracy: 0.7733 - loss: 0.0655 - precision: 0.8770 - recall: 0.5467 - val_accuracy: 0.5467 - val_loss: 0.1153 - val_precision: 0.4286 - val_recall: 0.0400 - learning_rate: 1.0000e-14\n",
      "Epoch 82/200\n",
      "\u001b[1m2/2\u001b[0m \u001b[32m━━━━━━━━━━━━━━━━━━━━\u001b[0m\u001b[37m\u001b[0m \u001b[1m3s\u001b[0m 884ms/step - accuracy: 0.7833 - loss: 0.0615 - precision: 0.8974 - recall: 0.5833 - val_accuracy: 0.5467 - val_loss: 0.1153 - val_precision: 0.4286 - val_recall: 0.0400 - learning_rate: 1.0000e-14\n",
      "Epoch 83/200\n",
      "\u001b[1m2/2\u001b[0m \u001b[32m━━━━━━━━━━━━━━━━━━━━\u001b[0m\u001b[37m\u001b[0m \u001b[1m3s\u001b[0m 908ms/step - accuracy: 0.7867 - loss: 0.0603 - precision: 0.9184 - recall: 0.6000 - val_accuracy: 0.5467 - val_loss: 0.1153 - val_precision: 0.4286 - val_recall: 0.0400 - learning_rate: 1.0000e-14\n",
      "Epoch 84/200\n",
      "\u001b[1m2/2\u001b[0m \u001b[32m━━━━━━━━━━━━━━━━━━━━\u001b[0m\u001b[37m\u001b[0m \u001b[1m3s\u001b[0m 978ms/step - accuracy: 0.7900 - loss: 0.0603 - precision: 0.8763 - recall: 0.5667 - val_accuracy: 0.5467 - val_loss: 0.1154 - val_precision: 0.5556 - val_recall: 0.0667 - learning_rate: 1.0000e-15\n",
      "Epoch 85/200\n",
      "\u001b[1m2/2\u001b[0m \u001b[32m━━━━━━━━━━━━━━━━━━━━\u001b[0m\u001b[37m\u001b[0m \u001b[1m3s\u001b[0m 824ms/step - accuracy: 0.7867 - loss: 0.0576 - precision: 0.9095 - recall: 0.6033 - val_accuracy: 0.5467 - val_loss: 0.1154 - val_precision: 0.5556 - val_recall: 0.0667 - learning_rate: 1.0000e-15\n",
      "Epoch 86/200\n",
      "\u001b[1m2/2\u001b[0m \u001b[32m━━━━━━━━━━━━━━━━━━━━\u001b[0m\u001b[37m\u001b[0m \u001b[1m3s\u001b[0m 971ms/step - accuracy: 0.7800 - loss: 0.0614 - precision: 0.9231 - recall: 0.6000 - val_accuracy: 0.5467 - val_loss: 0.1154 - val_precision: 0.5556 - val_recall: 0.0667 - learning_rate: 1.0000e-15\n",
      "Epoch 87/200\n",
      "\u001b[1m2/2\u001b[0m \u001b[32m━━━━━━━━━━━━━━━━━━━━\u001b[0m\u001b[37m\u001b[0m \u001b[1m3s\u001b[0m 1s/step - accuracy: 0.7800 - loss: 0.0630 - precision: 0.8698 - recall: 0.5567 - val_accuracy: 0.5467 - val_loss: 0.1155 - val_precision: 0.5556 - val_recall: 0.0667 - learning_rate: 1.0000e-15\n",
      "Epoch 88/200\n",
      "\u001b[1m2/2\u001b[0m \u001b[32m━━━━━━━━━━━━━━━━━━━━\u001b[0m\u001b[37m\u001b[0m \u001b[1m3s\u001b[0m 860ms/step - accuracy: 0.7767 - loss: 0.0601 - precision: 0.9231 - recall: 0.6000 - val_accuracy: 0.5467 - val_loss: 0.1155 - val_precision: 0.5556 - val_recall: 0.0667 - learning_rate: 1.0000e-15\n",
      "Epoch 89/200\n",
      "\u001b[1m2/2\u001b[0m \u001b[32m━━━━━━━━━━━━━━━━━━━━\u001b[0m\u001b[37m\u001b[0m \u001b[1m3s\u001b[0m 789ms/step - accuracy: 0.7733 - loss: 0.0629 - precision: 0.8788 - recall: 0.5800 - val_accuracy: 0.5467 - val_loss: 0.1156 - val_precision: 0.5556 - val_recall: 0.0667 - learning_rate: 1.0000e-15\n",
      "Epoch 90/200\n",
      "\u001b[1m2/2\u001b[0m \u001b[32m━━━━━━━━━━━━━━━━━━━━\u001b[0m\u001b[37m\u001b[0m \u001b[1m3s\u001b[0m 917ms/step - accuracy: 0.7767 - loss: 0.0622 - precision: 0.9031 - recall: 0.5900 - val_accuracy: 0.5467 - val_loss: 0.1156 - val_precision: 0.5556 - val_recall: 0.0667 - learning_rate: 1.0000e-15\n",
      "Epoch 91/200\n",
      "\u001b[1m2/2\u001b[0m \u001b[32m━━━━━━━━━━━━━━━━━━━━\u001b[0m\u001b[37m\u001b[0m \u001b[1m3s\u001b[0m 901ms/step - accuracy: 0.7600 - loss: 0.0613 - precision: 0.8824 - recall: 0.6000 - val_accuracy: 0.5467 - val_loss: 0.1156 - val_precision: 0.5556 - val_recall: 0.0667 - learning_rate: 1.0000e-15\n",
      "Epoch 92/200\n",
      "\u001b[1m2/2\u001b[0m \u001b[32m━━━━━━━━━━━━━━━━━━━━\u001b[0m\u001b[37m\u001b[0m \u001b[1m3s\u001b[0m 777ms/step - accuracy: 0.8000 - loss: 0.0582 - precision: 0.9064 - recall: 0.6133 - val_accuracy: 0.5467 - val_loss: 0.1157 - val_precision: 0.5000 - val_recall: 0.0667 - learning_rate: 1.0000e-15\n",
      "Epoch 93/200\n",
      "\u001b[1m2/2\u001b[0m \u001b[32m━━━━━━━━━━━━━━━━━━━━\u001b[0m\u001b[37m\u001b[0m \u001b[1m3s\u001b[0m 699ms/step - accuracy: 0.7867 - loss: 0.0600 - precision: 0.9115 - recall: 0.5833 - val_accuracy: 0.5467 - val_loss: 0.1157 - val_precision: 0.5000 - val_recall: 0.0667 - learning_rate: 1.0000e-15\n",
      "Epoch 94/200\n",
      "\u001b[1m2/2\u001b[0m \u001b[32m━━━━━━━━━━━━━━━━━━━━\u001b[0m\u001b[37m\u001b[0m \u001b[1m3s\u001b[0m 795ms/step - accuracy: 0.7667 - loss: 0.0626 - precision: 0.9000 - recall: 0.5700 - val_accuracy: 0.5467 - val_loss: 0.1158 - val_precision: 0.5000 - val_recall: 0.0667 - learning_rate: 1.0000e-16\n",
      "Epoch 95/200\n",
      "\u001b[1m2/2\u001b[0m \u001b[32m━━━━━━━━━━━━━━━━━━━━\u001b[0m\u001b[37m\u001b[0m \u001b[1m3s\u001b[0m 815ms/step - accuracy: 0.7533 - loss: 0.0640 - precision: 0.8827 - recall: 0.5767 - val_accuracy: 0.5467 - val_loss: 0.1158 - val_precision: 0.5000 - val_recall: 0.0667 - learning_rate: 1.0000e-16\n",
      "Epoch 96/200\n",
      "\u001b[1m2/2\u001b[0m \u001b[32m━━━━━━━━━━━━━━━━━━━━\u001b[0m\u001b[37m\u001b[0m \u001b[1m3s\u001b[0m 1s/step - accuracy: 0.7867 - loss: 0.0608 - precision: 0.9077 - recall: 0.5900 - val_accuracy: 0.5467 - val_loss: 0.1159 - val_precision: 0.5000 - val_recall: 0.0667 - learning_rate: 1.0000e-16\n",
      "Epoch 97/200\n",
      "\u001b[1m2/2\u001b[0m \u001b[32m━━━━━━━━━━━━━━━━━━━━\u001b[0m\u001b[37m\u001b[0m \u001b[1m3s\u001b[0m 779ms/step - accuracy: 0.7700 - loss: 0.0620 - precision: 0.9016 - recall: 0.5800 - val_accuracy: 0.5467 - val_loss: 0.1159 - val_precision: 0.5000 - val_recall: 0.0667 - learning_rate: 1.0000e-16\n",
      "Epoch 98/200\n",
      "\u001b[1m2/2\u001b[0m \u001b[32m━━━━━━━━━━━━━━━━━━━━\u001b[0m\u001b[37m\u001b[0m \u001b[1m4s\u001b[0m 850ms/step - accuracy: 0.7767 - loss: 0.0633 - precision: 0.8923 - recall: 0.5800 - val_accuracy: 0.5467 - val_loss: 0.1160 - val_precision: 0.5000 - val_recall: 0.0667 - learning_rate: 1.0000e-16\n",
      "Epoch 99/200\n",
      "\u001b[1m2/2\u001b[0m \u001b[32m━━━━━━━━━━━━━━━━━━━━\u001b[0m\u001b[37m\u001b[0m \u001b[1m3s\u001b[0m 732ms/step - accuracy: 0.8067 - loss: 0.0580 - precision: 0.8950 - recall: 0.5967 - val_accuracy: 0.5467 - val_loss: 0.1160 - val_precision: 0.5000 - val_recall: 0.0667 - learning_rate: 1.0000e-16\n",
      "Epoch 100/200\n",
      "\u001b[1m2/2\u001b[0m \u001b[32m━━━━━━━━━━━━━━━━━━━━\u001b[0m\u001b[37m\u001b[0m \u001b[1m3s\u001b[0m 943ms/step - accuracy: 0.7967 - loss: 0.0565 - precision: 0.9113 - recall: 0.6167 - val_accuracy: 0.5467 - val_loss: 0.1161 - val_precision: 0.5000 - val_recall: 0.0667 - learning_rate: 1.0000e-16\n",
      "Epoch 101/200\n",
      "\u001b[1m2/2\u001b[0m \u001b[32m━━━━━━━━━━━━━━━━━━━━\u001b[0m\u001b[37m\u001b[0m \u001b[1m3s\u001b[0m 1s/step - accuracy: 0.7633 - loss: 0.0631 - precision: 0.8634 - recall: 0.5900 - val_accuracy: 0.5467 - val_loss: 0.1162 - val_precision: 0.5000 - val_recall: 0.0667 - learning_rate: 1.0000e-16\n",
      "Epoch 102/200\n",
      "\u001b[1m2/2\u001b[0m \u001b[32m━━━━━━━━━━━━━━━━━━━━\u001b[0m\u001b[37m\u001b[0m \u001b[1m3s\u001b[0m 860ms/step - accuracy: 0.7833 - loss: 0.0611 - precision: 0.8844 - recall: 0.5867 - val_accuracy: 0.5467 - val_loss: 0.1162 - val_precision: 0.5833 - val_recall: 0.0933 - learning_rate: 1.0000e-16\n",
      "Epoch 103/200\n",
      "\u001b[1m2/2\u001b[0m \u001b[32m━━━━━━━━━━━━━━━━━━━━\u001b[0m\u001b[37m\u001b[0m \u001b[1m3s\u001b[0m 911ms/step - accuracy: 0.7567 - loss: 0.0630 - precision: 0.8629 - recall: 0.5667 - val_accuracy: 0.5467 - val_loss: 0.1163 - val_precision: 0.5833 - val_recall: 0.0933 - learning_rate: 1.0000e-16\n",
      "Epoch 104/200\n",
      "\u001b[1m2/2\u001b[0m \u001b[32m━━━━━━━━━━━━━━━━━━━━\u001b[0m\u001b[37m\u001b[0m \u001b[1m3s\u001b[0m 968ms/step - accuracy: 0.7533 - loss: 0.0642 - precision: 0.8844 - recall: 0.5867 - val_accuracy: 0.5467 - val_loss: 0.1163 - val_precision: 0.6154 - val_recall: 0.1067 - learning_rate: 1.0000e-17\n",
      "Epoch 105/200\n",
      "\u001b[1m2/2\u001b[0m \u001b[32m━━━━━━━━━━━━━━━━━━━━\u001b[0m\u001b[37m\u001b[0m \u001b[1m3s\u001b[0m 820ms/step - accuracy: 0.7533 - loss: 0.0652 - precision: 0.8872 - recall: 0.5767 - val_accuracy: 0.5467 - val_loss: 0.1164 - val_precision: 0.6429 - val_recall: 0.1200 - learning_rate: 1.0000e-17\n",
      "Epoch 106/200\n",
      "\u001b[1m2/2\u001b[0m \u001b[32m━━━━━━━━━━━━━━━━━━━━\u001b[0m\u001b[37m\u001b[0m \u001b[1m3s\u001b[0m 868ms/step - accuracy: 0.7733 - loss: 0.0606 - precision: 0.9171 - recall: 0.6267 - val_accuracy: 0.5333 - val_loss: 0.1165 - val_precision: 0.6000 - val_recall: 0.1200 - learning_rate: 1.0000e-17\n",
      "Epoch 107/200\n",
      "\u001b[1m2/2\u001b[0m \u001b[32m━━━━━━━━━━━━━━━━━━━━\u001b[0m\u001b[37m\u001b[0m \u001b[1m3s\u001b[0m 822ms/step - accuracy: 0.7633 - loss: 0.0621 - precision: 0.8980 - recall: 0.5867 - val_accuracy: 0.5333 - val_loss: 0.1165 - val_precision: 0.6000 - val_recall: 0.1200 - learning_rate: 1.0000e-17\n",
      "Epoch 108/200\n",
      "\u001b[1m2/2\u001b[0m \u001b[32m━━━━━━━━━━━━━━━━━━━━\u001b[0m\u001b[37m\u001b[0m \u001b[1m3s\u001b[0m 1s/step - accuracy: 0.7800 - loss: 0.0631 - precision: 0.8776 - recall: 0.5733 - val_accuracy: 0.5333 - val_loss: 0.1166 - val_precision: 0.6000 - val_recall: 0.1200 - learning_rate: 1.0000e-17\n",
      "Epoch 109/200\n",
      "\u001b[1m2/2\u001b[0m \u001b[32m━━━━━━━━━━━━━━━━━━━━\u001b[0m\u001b[37m\u001b[0m \u001b[1m4s\u001b[0m 1s/step - accuracy: 0.7500 - loss: 0.0639 - precision: 0.8978 - recall: 0.5567 - val_accuracy: 0.5333 - val_loss: 0.1167 - val_precision: 0.6000 - val_recall: 0.1200 - learning_rate: 1.0000e-17\n",
      "Epoch 110/200\n",
      "\u001b[1m2/2\u001b[0m \u001b[32m━━━━━━━━━━━━━━━━━━━━\u001b[0m\u001b[37m\u001b[0m \u001b[1m4s\u001b[0m 930ms/step - accuracy: 0.7700 - loss: 0.0622 - precision: 0.8878 - recall: 0.5800 - val_accuracy: 0.5333 - val_loss: 0.1168 - val_precision: 0.6000 - val_recall: 0.1200 - learning_rate: 1.0000e-17\n",
      "Epoch 111/200\n",
      "\u001b[1m2/2\u001b[0m \u001b[32m━━━━━━━━━━━━━━━━━━━━\u001b[0m\u001b[37m\u001b[0m \u001b[1m3s\u001b[0m 707ms/step - accuracy: 0.7667 - loss: 0.0630 - precision: 0.8789 - recall: 0.5567 - val_accuracy: 0.5333 - val_loss: 0.1168 - val_precision: 0.5625 - val_recall: 0.1200 - learning_rate: 1.0000e-17\n",
      "Epoch 112/200\n",
      "\u001b[1m2/2\u001b[0m \u001b[32m━━━━━━━━━━━━━━━━━━━━\u001b[0m\u001b[37m\u001b[0m \u001b[1m3s\u001b[0m 815ms/step - accuracy: 0.7833 - loss: 0.0617 - precision: 0.8980 - recall: 0.5867 - val_accuracy: 0.5333 - val_loss: 0.1169 - val_precision: 0.5294 - val_recall: 0.1200 - learning_rate: 1.0000e-17\n",
      "Epoch 113/200\n",
      "\u001b[1m2/2\u001b[0m \u001b[32m━━━━━━━━━━━━━━━━━━━━\u001b[0m\u001b[37m\u001b[0m \u001b[1m3s\u001b[0m 979ms/step - accuracy: 0.7867 - loss: 0.0606 - precision: 0.9037 - recall: 0.5633 - val_accuracy: 0.5333 - val_loss: 0.1170 - val_precision: 0.5000 - val_recall: 0.1200 - learning_rate: 1.0000e-17\n",
      "Epoch 114/200\n",
      "\u001b[1m2/2\u001b[0m \u001b[32m━━━━━━━━━━━━━━━━━━━━\u001b[0m\u001b[37m\u001b[0m \u001b[1m4s\u001b[0m 1s/step - accuracy: 0.7900 - loss: 0.0624 - precision: 0.8930 - recall: 0.5567 - val_accuracy: 0.5333 - val_loss: 0.1171 - val_precision: 0.5000 - val_recall: 0.1200 - learning_rate: 1.0000e-18\n",
      "Epoch 115/200\n",
      "\u001b[1m2/2\u001b[0m \u001b[32m━━━━━━━━━━━━━━━━━━━━\u001b[0m\u001b[37m\u001b[0m \u001b[1m4s\u001b[0m 895ms/step - accuracy: 0.7933 - loss: 0.0637 - precision: 0.8964 - recall: 0.5767 - val_accuracy: 0.5333 - val_loss: 0.1171 - val_precision: 0.5000 - val_recall: 0.1200 - learning_rate: 1.0000e-18\n",
      "Epoch 116/200\n",
      "\u001b[1m2/2\u001b[0m \u001b[32m━━━━━━━━━━━━━━━━━━━━\u001b[0m\u001b[37m\u001b[0m \u001b[1m4s\u001b[0m 878ms/step - accuracy: 0.7833 - loss: 0.0595 - precision: 0.9144 - recall: 0.5700 - val_accuracy: 0.5333 - val_loss: 0.1172 - val_precision: 0.5263 - val_recall: 0.1333 - learning_rate: 1.0000e-18\n",
      "Epoch 117/200\n",
      "\u001b[1m2/2\u001b[0m \u001b[32m━━━━━━━━━━━━━━━━━━━━\u001b[0m\u001b[37m\u001b[0m \u001b[1m3s\u001b[0m 878ms/step - accuracy: 0.7633 - loss: 0.0609 - precision: 0.8989 - recall: 0.5633 - val_accuracy: 0.5467 - val_loss: 0.1173 - val_precision: 0.4762 - val_recall: 0.1333 - learning_rate: 1.0000e-18\n",
      "Epoch 118/200\n",
      "\u001b[1m2/2\u001b[0m \u001b[32m━━━━━━━━━━━━━━━━━━━━\u001b[0m\u001b[37m\u001b[0m \u001b[1m4s\u001b[0m 1s/step - accuracy: 0.7867 - loss: 0.0598 - precision: 0.9086 - recall: 0.5967 - val_accuracy: 0.5333 - val_loss: 0.1174 - val_precision: 0.4762 - val_recall: 0.1333 - learning_rate: 1.0000e-18\n",
      "Epoch 119/200\n",
      "\u001b[1m2/2\u001b[0m \u001b[32m━━━━━━━━━━━━━━━━━━━━\u001b[0m\u001b[37m\u001b[0m \u001b[1m3s\u001b[0m 757ms/step - accuracy: 0.7767 - loss: 0.0623 - precision: 0.9126 - recall: 0.5567 - val_accuracy: 0.5333 - val_loss: 0.1175 - val_precision: 0.4762 - val_recall: 0.1333 - learning_rate: 1.0000e-18\n",
      "Epoch 120/200\n",
      "\u001b[1m2/2\u001b[0m \u001b[32m━━━━━━━━━━━━━━━━━━━━\u001b[0m\u001b[37m\u001b[0m \u001b[1m3s\u001b[0m 804ms/step - accuracy: 0.8067 - loss: 0.0588 - precision: 0.9086 - recall: 0.5967 - val_accuracy: 0.5333 - val_loss: 0.1176 - val_precision: 0.5000 - val_recall: 0.1467 - learning_rate: 1.0000e-18\n",
      "Epoch 121/200\n",
      "\u001b[1m2/2\u001b[0m \u001b[32m━━━━━━━━━━━━━━━━━━━━\u001b[0m\u001b[37m\u001b[0m \u001b[1m4s\u001b[0m 927ms/step - accuracy: 0.7633 - loss: 0.0626 - precision: 0.8878 - recall: 0.6067 - val_accuracy: 0.5333 - val_loss: 0.1176 - val_precision: 0.5217 - val_recall: 0.1600 - learning_rate: 1.0000e-18\n",
      "Epoch 122/200\n",
      "\u001b[1m2/2\u001b[0m \u001b[32m━━━━━━━━━━━━━━━━━━━━\u001b[0m\u001b[37m\u001b[0m \u001b[1m3s\u001b[0m 971ms/step - accuracy: 0.7633 - loss: 0.0634 - precision: 0.8676 - recall: 0.5900 - val_accuracy: 0.5333 - val_loss: 0.1177 - val_precision: 0.5217 - val_recall: 0.1600 - learning_rate: 1.0000e-18\n",
      "Epoch 123/200\n",
      "\u001b[1m2/2\u001b[0m \u001b[32m━━━━━━━━━━━━━━━━━━━━\u001b[0m\u001b[37m\u001b[0m \u001b[1m4s\u001b[0m 1s/step - accuracy: 0.7767 - loss: 0.0574 - precision: 0.9188 - recall: 0.6033 - val_accuracy: 0.5333 - val_loss: 0.1178 - val_precision: 0.5217 - val_recall: 0.1600 - learning_rate: 1.0000e-18\n",
      "Epoch 124/200\n",
      "\u001b[1m2/2\u001b[0m \u001b[32m━━━━━━━━━━━━━━━━━━━━\u001b[0m\u001b[37m\u001b[0m \u001b[1m3s\u001b[0m 786ms/step - accuracy: 0.7767 - loss: 0.0602 - precision: 0.9062 - recall: 0.5800 - val_accuracy: 0.5333 - val_loss: 0.1179 - val_precision: 0.5217 - val_recall: 0.1600 - learning_rate: 1.0000e-19\n",
      "Epoch 125/200\n",
      "\u001b[1m2/2\u001b[0m \u001b[32m━━━━━━━━━━━━━━━━━━━━\u001b[0m\u001b[37m\u001b[0m \u001b[1m3s\u001b[0m 872ms/step - accuracy: 0.7700 - loss: 0.0622 - precision: 0.9031 - recall: 0.5900 - val_accuracy: 0.5333 - val_loss: 0.1180 - val_precision: 0.5217 - val_recall: 0.1600 - learning_rate: 1.0000e-19\n",
      "Epoch 126/200\n",
      "\u001b[1m2/2\u001b[0m \u001b[32m━━━━━━━━━━━━━━━━━━━━\u001b[0m\u001b[37m\u001b[0m \u001b[1m3s\u001b[0m 764ms/step - accuracy: 0.7800 - loss: 0.0595 - precision: 0.9062 - recall: 0.5800 - val_accuracy: 0.5333 - val_loss: 0.1181 - val_precision: 0.5217 - val_recall: 0.1600 - learning_rate: 1.0000e-19\n",
      "Epoch 127/200\n",
      "\u001b[1m2/2\u001b[0m \u001b[32m━━━━━━━━━━━━━━━━━━━━\u001b[0m\u001b[37m\u001b[0m \u001b[1m3s\u001b[0m 776ms/step - accuracy: 0.7700 - loss: 0.0624 - precision: 0.8934 - recall: 0.5867 - val_accuracy: 0.5333 - val_loss: 0.1182 - val_precision: 0.5217 - val_recall: 0.1600 - learning_rate: 1.0000e-19\n",
      "Epoch 128/200\n",
      "\u001b[1m2/2\u001b[0m \u001b[32m━━━━━━━━━━━━━━━━━━━━\u001b[0m\u001b[37m\u001b[0m \u001b[1m3s\u001b[0m 805ms/step - accuracy: 0.7933 - loss: 0.0599 - precision: 0.9031 - recall: 0.5900 - val_accuracy: 0.5200 - val_loss: 0.1183 - val_precision: 0.5217 - val_recall: 0.1600 - learning_rate: 1.0000e-19\n",
      "Epoch 129/200\n",
      "\u001b[1m2/2\u001b[0m \u001b[32m━━━━━━━━━━━━━━━━━━━━\u001b[0m\u001b[37m\u001b[0m \u001b[1m3s\u001b[0m 727ms/step - accuracy: 0.7700 - loss: 0.0611 - precision: 0.8856 - recall: 0.5933 - val_accuracy: 0.5200 - val_loss: 0.1184 - val_precision: 0.5417 - val_recall: 0.1733 - learning_rate: 1.0000e-19\n",
      "Epoch 130/200\n",
      "\u001b[1m2/2\u001b[0m \u001b[32m━━━━━━━━━━━━━━━━━━━━\u001b[0m\u001b[37m\u001b[0m \u001b[1m3s\u001b[0m 724ms/step - accuracy: 0.7700 - loss: 0.0619 - precision: 0.8685 - recall: 0.6167 - val_accuracy: 0.5200 - val_loss: 0.1185 - val_precision: 0.5417 - val_recall: 0.1733 - learning_rate: 1.0000e-19\n",
      "Epoch 131/200\n",
      "\u001b[1m2/2\u001b[0m \u001b[32m━━━━━━━━━━━━━━━━━━━━\u001b[0m\u001b[37m\u001b[0m \u001b[1m3s\u001b[0m 792ms/step - accuracy: 0.7600 - loss: 0.0601 - precision: 0.9158 - recall: 0.5800 - val_accuracy: 0.5200 - val_loss: 0.1186 - val_precision: 0.5417 - val_recall: 0.1733 - learning_rate: 1.0000e-19\n",
      "Epoch 132/200\n",
      "\u001b[1m2/2\u001b[0m \u001b[32m━━━━━━━━━━━━━━━━━━━━\u001b[0m\u001b[37m\u001b[0m \u001b[1m3s\u001b[0m 761ms/step - accuracy: 0.7700 - loss: 0.0618 - precision: 0.8929 - recall: 0.5833 - val_accuracy: 0.5200 - val_loss: 0.1187 - val_precision: 0.5417 - val_recall: 0.1733 - learning_rate: 1.0000e-19\n",
      "Epoch 133/200\n",
      "\u001b[1m2/2\u001b[0m \u001b[32m━━━━━━━━━━━━━━━━━━━━\u001b[0m\u001b[37m\u001b[0m \u001b[1m4s\u001b[0m 1s/step - accuracy: 0.7900 - loss: 0.0619 - precision: 0.9128 - recall: 0.5933 - val_accuracy: 0.5200 - val_loss: 0.1188 - val_precision: 0.5600 - val_recall: 0.1867 - learning_rate: 1.0000e-19\n",
      "Epoch 134/200\n",
      "\u001b[1m2/2\u001b[0m \u001b[32m━━━━━━━━━━━━━━━━━━━━\u001b[0m\u001b[37m\u001b[0m \u001b[1m3s\u001b[0m 740ms/step - accuracy: 0.7467 - loss: 0.0634 - precision: 0.8824 - recall: 0.5500 - val_accuracy: 0.5200 - val_loss: 0.1189 - val_precision: 0.5600 - val_recall: 0.1867 - learning_rate: 1.0000e-20\n",
      "Epoch 135/200\n",
      "\u001b[1m2/2\u001b[0m \u001b[32m━━━━━━━━━━━━━━━━━━━━\u001b[0m\u001b[37m\u001b[0m \u001b[1m4s\u001b[0m 982ms/step - accuracy: 0.7600 - loss: 0.0616 - precision: 0.8883 - recall: 0.5833 - val_accuracy: 0.5200 - val_loss: 0.1191 - val_precision: 0.5600 - val_recall: 0.1867 - learning_rate: 1.0000e-20\n",
      "Epoch 136/200\n",
      "\u001b[1m2/2\u001b[0m \u001b[32m━━━━━━━━━━━━━━━━━━━━\u001b[0m\u001b[37m\u001b[0m \u001b[1m3s\u001b[0m 968ms/step - accuracy: 0.7600 - loss: 0.0645 - precision: 0.9032 - recall: 0.5600 - val_accuracy: 0.5200 - val_loss: 0.1192 - val_precision: 0.5600 - val_recall: 0.1867 - learning_rate: 1.0000e-20\n",
      "Epoch 137/200\n",
      "\u001b[1m2/2\u001b[0m \u001b[32m━━━━━━━━━━━━━━━━━━━━\u001b[0m\u001b[37m\u001b[0m \u001b[1m3s\u001b[0m 957ms/step - accuracy: 0.8000 - loss: 0.0608 - precision: 0.8792 - recall: 0.6067 - val_accuracy: 0.5200 - val_loss: 0.1193 - val_precision: 0.5600 - val_recall: 0.1867 - learning_rate: 1.0000e-20\n",
      "Epoch 138/200\n",
      "\u001b[1m2/2\u001b[0m \u001b[32m━━━━━━━━━━━━━━━━━━━━\u001b[0m\u001b[37m\u001b[0m \u001b[1m3s\u001b[0m 1s/step - accuracy: 0.7967 - loss: 0.0594 - precision: 0.9010 - recall: 0.5767 - val_accuracy: 0.5200 - val_loss: 0.1194 - val_precision: 0.5600 - val_recall: 0.1867 - learning_rate: 1.0000e-20\n",
      "Epoch 139/200\n",
      "\u001b[1m2/2\u001b[0m \u001b[32m━━━━━━━━━━━━━━━━━━━━\u001b[0m\u001b[37m\u001b[0m \u001b[1m3s\u001b[0m 850ms/step - accuracy: 0.7800 - loss: 0.0640 - precision: 0.8700 - recall: 0.5800 - val_accuracy: 0.5200 - val_loss: 0.1195 - val_precision: 0.5600 - val_recall: 0.1867 - learning_rate: 1.0000e-20\n",
      "Epoch 140/200\n",
      "\u001b[1m2/2\u001b[0m \u001b[32m━━━━━━━━━━━━━━━━━━━━\u001b[0m\u001b[37m\u001b[0m \u001b[1m3s\u001b[0m 781ms/step - accuracy: 0.7600 - loss: 0.0668 - precision: 0.8333 - recall: 0.5667 - val_accuracy: 0.5200 - val_loss: 0.1196 - val_precision: 0.5600 - val_recall: 0.1867 - learning_rate: 1.0000e-20\n",
      "Epoch 141/200\n",
      "\u001b[1m2/2\u001b[0m \u001b[32m━━━━━━━━━━━━━━━━━━━━\u001b[0m\u001b[37m\u001b[0m \u001b[1m3s\u001b[0m 797ms/step - accuracy: 0.8033 - loss: 0.0599 - precision: 0.9153 - recall: 0.5767 - val_accuracy: 0.5200 - val_loss: 0.1197 - val_precision: 0.5385 - val_recall: 0.1867 - learning_rate: 1.0000e-20\n",
      "Epoch 142/200\n",
      "\u001b[1m2/2\u001b[0m \u001b[32m━━━━━━━━━━━━━━━━━━━━\u001b[0m\u001b[37m\u001b[0m \u001b[1m3s\u001b[0m 934ms/step - accuracy: 0.7867 - loss: 0.0579 - precision: 0.9146 - recall: 0.6067 - val_accuracy: 0.5200 - val_loss: 0.1199 - val_precision: 0.5385 - val_recall: 0.1867 - learning_rate: 1.0000e-20\n",
      "Epoch 143/200\n",
      "\u001b[1m2/2\u001b[0m \u001b[32m━━━━━━━━━━━━━━━━━━━━\u001b[0m\u001b[37m\u001b[0m \u001b[1m3s\u001b[0m 727ms/step - accuracy: 0.7900 - loss: 0.0592 - precision: 0.8945 - recall: 0.5933 - val_accuracy: 0.5200 - val_loss: 0.1200 - val_precision: 0.5385 - val_recall: 0.1867 - learning_rate: 1.0000e-20\n",
      "Epoch 144/200\n",
      "\u001b[1m2/2\u001b[0m \u001b[32m━━━━━━━━━━━━━━━━━━━━\u001b[0m\u001b[37m\u001b[0m \u001b[1m3s\u001b[0m 894ms/step - accuracy: 0.7767 - loss: 0.0636 - precision: 0.9077 - recall: 0.5900 - val_accuracy: 0.5200 - val_loss: 0.1201 - val_precision: 0.5385 - val_recall: 0.1867 - learning_rate: 1.0000e-21\n",
      "Epoch 145/200\n",
      "\u001b[1m2/2\u001b[0m \u001b[32m━━━━━━━━━━━━━━━━━━━━\u001b[0m\u001b[37m\u001b[0m \u001b[1m3s\u001b[0m 962ms/step - accuracy: 0.7633 - loss: 0.0625 - precision: 0.8821 - recall: 0.5733 - val_accuracy: 0.5200 - val_loss: 0.1202 - val_precision: 0.5185 - val_recall: 0.1867 - learning_rate: 1.0000e-21\n",
      "Epoch 146/200\n",
      "\u001b[1m2/2\u001b[0m \u001b[32m━━━━━━━━━━━━━━━━━━━━\u001b[0m\u001b[37m\u001b[0m \u001b[1m3s\u001b[0m 913ms/step - accuracy: 0.7467 - loss: 0.0651 - precision: 0.8622 - recall: 0.5633 - val_accuracy: 0.5200 - val_loss: 0.1204 - val_precision: 0.5185 - val_recall: 0.1867 - learning_rate: 1.0000e-21\n"
     ]
    }
   ],
   "source": [
    "es = EarlyStopping(\n",
    "    monitor=\"val_loss\",\n",
    "    patience=100,\n",
    "    restore_best_weights=True,\n",
    "    verbose=0\n",
    ")\n",
    "\n",
    "reduce_lr = ReduceLROnPlateau(\n",
    "        monitor='val_loss'\n",
    "    )\n",
    "\n",
    "history = model_lstm.fit(\n",
    "    X_train_nn,\n",
    "    y_train_cat,\n",
    "    validation_split = 0.2,\n",
    "    epochs=200,\n",
    "    batch_size = 256,\n",
    "    callbacks=[es, reduce_lr],\n",
    "    verbose=1\n",
    ")\n"
   ]
  },
  {
   "cell_type": "code",
   "execution_count": 232,
   "id": "73954299",
   "metadata": {},
   "outputs": [
    {
     "name": "stdout",
     "output_type": "stream",
     "text": [
      "\u001b[1m3/3\u001b[0m \u001b[32m━━━━━━━━━━━━━━━━━━━━\u001b[0m\u001b[37m\u001b[0m \u001b[1m0s\u001b[0m 110ms/step - accuracy: 0.5851 - loss: 0.1113 - precision: 1.0000 - recall: 0.0319\n"
     ]
    },
    {
     "data": {
      "text/plain": [
       "[0.11129780858755112, 0.585106372833252, 1.0, 0.03191489353775978]"
      ]
     },
     "execution_count": 232,
     "metadata": {},
     "output_type": "execute_result"
    }
   ],
   "source": [
    "model_lstm.evaluate(X_test_nn, y_test_cat)"
   ]
  },
  {
   "cell_type": "code",
   "execution_count": 251,
   "id": "8816a672",
   "metadata": {},
   "outputs": [
    {
     "name": "stdout",
     "output_type": "stream",
     "text": [
      "\u001b[1m3/3\u001b[0m \u001b[32m━━━━━━━━━━━━━━━━━━━━\u001b[0m\u001b[37m\u001b[0m \u001b[1m0s\u001b[0m 111ms/step\n"
     ]
    },
    {
     "data": {
      "text/plain": [
       "array([1, 2, 1, 1, 1, 1, 1, 1, 2, 1, 1, 1, 1, 1, 1, 1, 1, 1, 1, 1, 1, 1,\n",
       "       1, 1, 1, 1, 1, 1, 1, 1, 1, 1, 2, 1, 1, 2, 1, 1, 1, 1, 1, 1, 1, 1,\n",
       "       1, 1, 1, 1, 1, 1, 1, 1, 1, 1, 1, 1, 1, 1, 1, 1, 1, 1, 1, 1, 1, 1,\n",
       "       1, 1, 2, 1, 1, 1, 1, 1, 1, 1, 1, 1, 1, 1, 1, 1, 1, 1, 1, 1, 1, 1,\n",
       "       1, 1, 1, 2, 1, 1])"
      ]
     },
     "execution_count": 251,
     "metadata": {},
     "output_type": "execute_result"
    }
   ],
   "source": [
    "y_pred = model_lstm.predict(X_test_nn)\n",
    "y_pred_cat = np.argmax(y_pred,axis =1)\n",
    "y_pred_cat"
   ]
  },
  {
   "cell_type": "code",
   "execution_count": 270,
   "id": "6f4f46f8",
   "metadata": {},
   "outputs": [
    {
     "name": "stdout",
     "output_type": "stream",
     "text": [
      "[0 1 0 0 2 1 0 1 2 0 1 1 1 2 1 1 1 2 1 2 1 1 0 1 2 1 1 1 1 1 1 2 2 2 2 1 1\n",
      " 1 1 0 1 2 0 0 0 2 1 1 1 1 1 2 1 2 0 1 0 1 1 2 1 1 1 1 1 2 1 1 1 0 1 2 1 1\n",
      " 1 0 1 0 2 1 1 1 1 1 1 2 2 1 2 2 1 2 1 0] [1 2 1 1 1 1 1 1 2 1 1 1 1 1 1 1 1 1 1 1 1 1 1 1 1 1 1 1 1 1 1 1 2 1 1 2 1\n",
      " 1 1 1 1 1 1 1 1 1 1 1 1 1 1 1 1 1 1 1 1 1 1 1 1 1 1 1 1 1 1 1 2 1 1 1 1 1\n",
      " 1 1 1 1 1 1 1 1 1 1 1 1 1 1 1 1 1 2 1 1]\n",
      "[16. 55. 23.]\n",
      "(array([1, 2]), array([88,  6]))\n"
     ]
    }
   ],
   "source": [
    "balanced_accuracy_score(y_test, y_pred_cat)\n",
    "\n",
    "print(y_test, y_pred_cat)\n",
    "print(np.sum(y_test_cat, axis = 0))\n",
    "print(np.unique(y_pred_cat, axis = 0,return_counts =True))"
   ]
  }
 ],
 "metadata": {
  "kernelspec": {
   "display_name": "spark",
   "language": "python",
   "name": "python3"
  },
  "language_info": {
   "codemirror_mode": {
    "name": "ipython",
    "version": 3
   },
   "file_extension": ".py",
   "mimetype": "text/x-python",
   "name": "python",
   "nbconvert_exporter": "python",
   "pygments_lexer": "ipython3",
   "version": "3.10.6"
  }
 },
 "nbformat": 4,
 "nbformat_minor": 5
}
