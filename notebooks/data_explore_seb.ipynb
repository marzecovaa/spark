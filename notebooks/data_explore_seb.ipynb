{
 "cells": [
  {
   "cell_type": "markdown",
   "id": "fd31b9c6",
   "metadata": {},
   "source": [
    "# Initial Workbook"
   ]
  },
  {
   "cell_type": "markdown",
   "id": "5f396e6e",
   "metadata": {},
   "source": [
    "## Libary Imports"
   ]
  },
  {
   "cell_type": "code",
   "execution_count": null,
   "id": "d77b7070",
   "metadata": {},
   "outputs": [],
   "source": [
    "import pandas as pd\n",
    "import numpy as np\n",
    "import matplotlib.pyplot as plt\n",
    "import import_ipynb\n",
    "\n",
    "from xgboost import XGBClassifier\n",
    "from sklearn.model_selection import train_test_split\n",
    "from sklearn.metrics import accuracy_score, roc_auc_score, confusion_matrix, classification_report, balanced_accuracy_score\n"
   ]
  },
  {
   "cell_type": "markdown",
   "id": "6fe5ae10",
   "metadata": {},
   "source": [
    "## Exploratory Data Analysis (EDA)"
   ]
  },
  {
   "cell_type": "code",
   "execution_count": 11,
   "id": "df2321c6",
   "metadata": {},
   "outputs": [],
   "source": [
    "from spark.preprocessor import preprocessor"
   ]
  },
  {
   "cell_type": "code",
   "execution_count": 12,
   "id": "46dc7162",
   "metadata": {},
   "outputs": [],
   "source": [
    "X_train, X_test, y_train, y_test = preprocessor(\"~/code/marzecovaa/spark/processed_data/merged_dfq_v2.csv\")"
   ]
  },
  {
   "cell_type": "code",
   "execution_count": null,
   "id": "64780568",
   "metadata": {},
   "outputs": [
    {
     "name": "stdout",
     "output_type": "stream",
     "text": [
      "🔹 Balanced Accuracy: 0.6236166007905138\n",
      "\n",
      "🔹 Confusion Matrix:\n",
      " [[10  3  3]\n",
      " [ 3 47  5]\n",
      " [ 3 11  9]]\n",
      "\n",
      "🔹 Classification Report:\n",
      "               precision    recall  f1-score   support\n",
      "\n",
      "           0       0.62      0.62      0.62        16\n",
      "           1       0.77      0.85      0.81        55\n",
      "           2       0.53      0.39      0.45        23\n",
      "\n",
      "    accuracy                           0.70        94\n",
      "   macro avg       0.64      0.62      0.63        94\n",
      "weighted avg       0.69      0.70      0.69        94\n",
      "\n"
     ]
    }
   ],
   "source": [
    "base_model_xgb = XGBClassifier()\n",
    "base_model_xgb.fit(X_train,y_train)\n",
    "\n",
    "y_pred = base_model_xgb.predict(X_test)\n",
    "\n",
    "\n",
    "# ✅ Metrics\n",
    "print(\"Balanced Accuracy:\", balanced_accuracy_score(y_test, y_pred))\n",
    "\n",
    "print(\"\\nConfusion Matrix:\\n\", confusion_matrix(y_test, y_pred))\n",
    "print(\"\\nClassification Report:\\n\", classification_report(y_test, y_pred))\n"
   ]
  }
 ],
 "metadata": {
  "kernelspec": {
   "display_name": "spark",
   "language": "python",
   "name": "python3"
  },
  "language_info": {
   "codemirror_mode": {
    "name": "ipython",
    "version": 3
   },
   "file_extension": ".py",
   "mimetype": "text/x-python",
   "name": "python",
   "nbconvert_exporter": "python",
   "pygments_lexer": "ipython3",
   "version": "3.10.6"
  }
 },
 "nbformat": 4,
 "nbformat_minor": 5
}
