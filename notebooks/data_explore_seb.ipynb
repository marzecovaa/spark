{
 "cells": [
  {
   "cell_type": "markdown",
   "id": "fd31b9c6",
   "metadata": {},
   "source": [
    "# Initial Workbook"
   ]
  },
  {
   "cell_type": "markdown",
   "id": "5f396e6e",
   "metadata": {},
   "source": [
    "## Libary Imports"
   ]
  },
  {
   "cell_type": "code",
   "execution_count": 1,
   "id": "d77b7070",
   "metadata": {},
   "outputs": [],
   "source": [
    "import pandas as pd\n",
    "import numpy as np\n",
    "import matplotlib.pyplot as plt\n",
    "import import_ipynb\n",
    "\n",
    "from xgboost import XGBClassifier\n",
    "from sklearn.model_selection import train_test_split\n",
    "from sklearn.metrics import accuracy_score, roc_auc_score, confusion_matrix, classification_report, balanced_accuracy_score\n",
    "from dotenv import load_dotenv\n"
   ]
  },
  {
   "cell_type": "markdown",
   "id": "6fe5ae10",
   "metadata": {},
   "source": [
    "## Exploratory Data Analysis (EDA)"
   ]
  },
  {
   "cell_type": "code",
   "execution_count": 2,
   "id": "df2321c6",
   "metadata": {},
   "outputs": [],
   "source": [
    "from spark.preprocessor import preprocessor"
   ]
  },
  {
   "cell_type": "code",
   "execution_count": 3,
   "id": "46dc7162",
   "metadata": {},
   "outputs": [
    {
     "name": "stdout",
     "output_type": "stream",
     "text": [
      "✅ Transformer saved at: ./model_registry/transformer_20250905-144544.joblib\n"
     ]
    },
    {
     "name": "stderr",
     "output_type": "stream",
     "text": [
      "/Users/sebastian.zilles/.pyenv/versions/3.10.6/envs/spark/lib/python3.10/site-packages/sklearn/preprocessing/_encoders.py:246: UserWarning: Found unknown categories in columns [0] during transform. These unknown categories will be encoded as all zeros\n",
      "  warnings.warn(\n"
     ]
    }
   ],
   "source": [
    "X_train, X_test, y_train, y_test = preprocessor(\"/Users/sebastian.zilles/code/marzecovaa/spark/processed_data/merged_dfq.csv\")"
   ]
  },
  {
   "cell_type": "code",
   "execution_count": 4,
   "id": "085240ac",
   "metadata": {},
   "outputs": [
    {
     "data": {
      "text/plain": [
       "<Compressed Sparse Row sparse matrix of dtype 'float64'\n",
       "\twith 5860 stored elements and shape (375, 413)>"
      ]
     },
     "execution_count": 4,
     "metadata": {},
     "output_type": "execute_result"
    }
   ],
   "source": [
    "X_train"
   ]
  },
  {
   "cell_type": "code",
   "execution_count": null,
   "id": "f242f50c",
   "metadata": {},
   "outputs": [],
   "source": []
  },
  {
   "cell_type": "code",
   "execution_count": 5,
   "id": "64780568",
   "metadata": {},
   "outputs": [
    {
     "name": "stdout",
     "output_type": "stream",
     "text": [
      "Balanced Accuracy: 0.6252140974967062\n",
      "\n",
      "Confusion Matrix:\n",
      " [[11  2  3]\n",
      " [ 1 51  3]\n",
      " [ 3 14  6]]\n",
      "\n",
      "Classification Report:\n",
      "               precision    recall  f1-score   support\n",
      "\n",
      "           0       0.73      0.69      0.71        16\n",
      "           1       0.76      0.93      0.84        55\n",
      "           2       0.50      0.26      0.34        23\n",
      "\n",
      "    accuracy                           0.72        94\n",
      "   macro avg       0.66      0.63      0.63        94\n",
      "weighted avg       0.69      0.72      0.69        94\n",
      "\n"
     ]
    }
   ],
   "source": [
    "base_model_xgb = XGBClassifier()\n",
    "base_model_xgb.fit(X_train,y_train)\n",
    "\n",
    "y_pred = base_model_xgb.predict(X_test)\n",
    "\n",
    "\n",
    "# ✅ Metrics\n",
    "print(\"Balanced Accuracy:\", balanced_accuracy_score(y_test, y_pred))\n",
    "\n",
    "print(\"\\nConfusion Matrix:\\n\", confusion_matrix(y_test, y_pred))\n",
    "print(\"\\nClassification Report:\\n\", classification_report(y_test, y_pred))\n"
   ]
  }
 ],
 "metadata": {
  "kernelspec": {
   "display_name": "spark",
   "language": "python",
   "name": "python3"
  },
  "language_info": {
   "codemirror_mode": {
    "name": "ipython",
    "version": 3
   },
   "file_extension": ".py",
   "mimetype": "text/x-python",
   "name": "python",
   "nbconvert_exporter": "python",
   "pygments_lexer": "ipython3",
   "version": "3.10.6"
  }
 },
 "nbformat": 4,
 "nbformat_minor": 5
}
