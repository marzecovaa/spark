{
 "cells": [
  {
   "cell_type": "markdown",
   "id": "c179ca3a",
   "metadata": {},
   "source": [
    "# TIME series model prototype"
   ]
  },
  {
   "cell_type": "code",
   "execution_count": 6,
   "id": "88ced4f0",
   "metadata": {},
   "outputs": [],
   "source": [
    "import pandas as pd\n",
    "import numpy as np\n",
    "from sklearn.model_selection import train_test_split, StratifiedKFold\n",
    "\n",
    "from tensorflow.keras.models import Sequential\n",
    "from tensorflow.keras import layers\n",
    "from tensorflow.keras.optimizers import Adam, AdamW, schedules\n",
    "from tensorflow.keras import Model, regularizers, layers\n",
    "from tensorflow.keras.callbacks import EarlyStopping, ReduceLROnPlateau\n",
    "from tensorflow.keras.utils import to_categorical\n",
    "\n",
    "from sklearn.metrics import balanced_accuracy_score"
   ]
  },
  {
   "cell_type": "markdown",
   "id": "9cded95f",
   "metadata": {},
   "source": [
    "## Loading time series "
   ]
  },
  {
   "cell_type": "code",
   "execution_count": 7,
   "id": "276a0c4c",
   "metadata": {},
   "outputs": [],
   "source": [
    "raw_data_prep_dir = '../raw_data/pads-parkinsons-disease-smartwatch-dataset-1.0.0/preprocessed/'"
   ]
  },
  {
   "cell_type": "code",
   "execution_count": 8,
   "id": "3a5e6883",
   "metadata": {},
   "outputs": [
    {
     "data": {
      "text/html": [
       "<div>\n",
       "<style scoped>\n",
       "    .dataframe tbody tr th:only-of-type {\n",
       "        vertical-align: middle;\n",
       "    }\n",
       "\n",
       "    .dataframe tbody tr th {\n",
       "        vertical-align: top;\n",
       "    }\n",
       "\n",
       "    .dataframe thead th {\n",
       "        text-align: right;\n",
       "    }\n",
       "</style>\n",
       "<table border=\"1\" class=\"dataframe\">\n",
       "  <thead>\n",
       "    <tr style=\"text-align: right;\">\n",
       "      <th></th>\n",
       "      <th>resource_type</th>\n",
       "      <th>id</th>\n",
       "      <th>study_id</th>\n",
       "      <th>condition</th>\n",
       "      <th>disease_comment</th>\n",
       "      <th>age_at_diagnosis</th>\n",
       "      <th>age</th>\n",
       "      <th>height</th>\n",
       "      <th>weight</th>\n",
       "      <th>gender</th>\n",
       "      <th>handedness</th>\n",
       "      <th>appearance_in_kinship</th>\n",
       "      <th>appearance_in_first_grade_kinship</th>\n",
       "      <th>effect_of_alcohol_on_tremor</th>\n",
       "      <th>label</th>\n",
       "    </tr>\n",
       "  </thead>\n",
       "  <tbody>\n",
       "    <tr>\n",
       "      <th>0</th>\n",
       "      <td>patient</td>\n",
       "      <td>1</td>\n",
       "      <td>PADS</td>\n",
       "      <td>Healthy</td>\n",
       "      <td>-</td>\n",
       "      <td>56</td>\n",
       "      <td>56</td>\n",
       "      <td>173</td>\n",
       "      <td>78</td>\n",
       "      <td>male</td>\n",
       "      <td>right</td>\n",
       "      <td>True</td>\n",
       "      <td>True</td>\n",
       "      <td>Unknown</td>\n",
       "      <td>0</td>\n",
       "    </tr>\n",
       "    <tr>\n",
       "      <th>1</th>\n",
       "      <td>patient</td>\n",
       "      <td>2</td>\n",
       "      <td>PADS</td>\n",
       "      <td>Other Movement Disorders</td>\n",
       "      <td>Left-Sided resting tremor and hypokinesia with...</td>\n",
       "      <td>69</td>\n",
       "      <td>81</td>\n",
       "      <td>193</td>\n",
       "      <td>104</td>\n",
       "      <td>male</td>\n",
       "      <td>right</td>\n",
       "      <td>False</td>\n",
       "      <td>NaN</td>\n",
       "      <td>No effect</td>\n",
       "      <td>2</td>\n",
       "    </tr>\n",
       "    <tr>\n",
       "      <th>2</th>\n",
       "      <td>patient</td>\n",
       "      <td>3</td>\n",
       "      <td>PADS</td>\n",
       "      <td>Healthy</td>\n",
       "      <td>-</td>\n",
       "      <td>45</td>\n",
       "      <td>45</td>\n",
       "      <td>170</td>\n",
       "      <td>78</td>\n",
       "      <td>female</td>\n",
       "      <td>right</td>\n",
       "      <td>False</td>\n",
       "      <td>NaN</td>\n",
       "      <td>Unknown</td>\n",
       "      <td>0</td>\n",
       "    </tr>\n",
       "    <tr>\n",
       "      <th>3</th>\n",
       "      <td>patient</td>\n",
       "      <td>4</td>\n",
       "      <td>PADS</td>\n",
       "      <td>Parkinson's</td>\n",
       "      <td>IPS akinetic-rigid type</td>\n",
       "      <td>63</td>\n",
       "      <td>67</td>\n",
       "      <td>161</td>\n",
       "      <td>90</td>\n",
       "      <td>female</td>\n",
       "      <td>right</td>\n",
       "      <td>False</td>\n",
       "      <td>NaN</td>\n",
       "      <td>No effect</td>\n",
       "      <td>1</td>\n",
       "    </tr>\n",
       "    <tr>\n",
       "      <th>4</th>\n",
       "      <td>patient</td>\n",
       "      <td>5</td>\n",
       "      <td>PADS</td>\n",
       "      <td>Parkinson's</td>\n",
       "      <td>IPS tremordominant type</td>\n",
       "      <td>65</td>\n",
       "      <td>75</td>\n",
       "      <td>172</td>\n",
       "      <td>86</td>\n",
       "      <td>male</td>\n",
       "      <td>left</td>\n",
       "      <td>False</td>\n",
       "      <td>NaN</td>\n",
       "      <td>Unknown</td>\n",
       "      <td>1</td>\n",
       "    </tr>\n",
       "    <tr>\n",
       "      <th>...</th>\n",
       "      <td>...</td>\n",
       "      <td>...</td>\n",
       "      <td>...</td>\n",
       "      <td>...</td>\n",
       "      <td>...</td>\n",
       "      <td>...</td>\n",
       "      <td>...</td>\n",
       "      <td>...</td>\n",
       "      <td>...</td>\n",
       "      <td>...</td>\n",
       "      <td>...</td>\n",
       "      <td>...</td>\n",
       "      <td>...</td>\n",
       "      <td>...</td>\n",
       "      <td>...</td>\n",
       "    </tr>\n",
       "    <tr>\n",
       "      <th>464</th>\n",
       "      <td>patient</td>\n",
       "      <td>465</td>\n",
       "      <td>PADS</td>\n",
       "      <td>Parkinson's</td>\n",
       "      <td>IPS mixed type</td>\n",
       "      <td>62</td>\n",
       "      <td>65</td>\n",
       "      <td>175</td>\n",
       "      <td>80</td>\n",
       "      <td>male</td>\n",
       "      <td>right</td>\n",
       "      <td>True</td>\n",
       "      <td>False</td>\n",
       "      <td>No effect</td>\n",
       "      <td>1</td>\n",
       "    </tr>\n",
       "    <tr>\n",
       "      <th>465</th>\n",
       "      <td>patient</td>\n",
       "      <td>466</td>\n",
       "      <td>PADS</td>\n",
       "      <td>Healthy</td>\n",
       "      <td>-</td>\n",
       "      <td>84</td>\n",
       "      <td>84</td>\n",
       "      <td>172</td>\n",
       "      <td>74</td>\n",
       "      <td>female</td>\n",
       "      <td>right</td>\n",
       "      <td>True</td>\n",
       "      <td>True</td>\n",
       "      <td>No effect</td>\n",
       "      <td>0</td>\n",
       "    </tr>\n",
       "    <tr>\n",
       "      <th>466</th>\n",
       "      <td>patient</td>\n",
       "      <td>467</td>\n",
       "      <td>PADS</td>\n",
       "      <td>Parkinson's</td>\n",
       "      <td>Essential Tremor, starting IPS tremordominant ...</td>\n",
       "      <td>55</td>\n",
       "      <td>57</td>\n",
       "      <td>190</td>\n",
       "      <td>100</td>\n",
       "      <td>male</td>\n",
       "      <td>right</td>\n",
       "      <td>False</td>\n",
       "      <td>NaN</td>\n",
       "      <td>Improvement</td>\n",
       "      <td>1</td>\n",
       "    </tr>\n",
       "    <tr>\n",
       "      <th>467</th>\n",
       "      <td>patient</td>\n",
       "      <td>468</td>\n",
       "      <td>PADS</td>\n",
       "      <td>Parkinson's</td>\n",
       "      <td>IPS mixed type</td>\n",
       "      <td>73</td>\n",
       "      <td>76</td>\n",
       "      <td>198</td>\n",
       "      <td>118</td>\n",
       "      <td>male</td>\n",
       "      <td>right</td>\n",
       "      <td>False</td>\n",
       "      <td>NaN</td>\n",
       "      <td>No effect</td>\n",
       "      <td>1</td>\n",
       "    </tr>\n",
       "    <tr>\n",
       "      <th>468</th>\n",
       "      <td>patient</td>\n",
       "      <td>469</td>\n",
       "      <td>PADS</td>\n",
       "      <td>Parkinson's</td>\n",
       "      <td>IPS tremordominant type</td>\n",
       "      <td>44</td>\n",
       "      <td>54</td>\n",
       "      <td>165</td>\n",
       "      <td>67</td>\n",
       "      <td>female</td>\n",
       "      <td>right</td>\n",
       "      <td>False</td>\n",
       "      <td>NaN</td>\n",
       "      <td>Unknown</td>\n",
       "      <td>1</td>\n",
       "    </tr>\n",
       "  </tbody>\n",
       "</table>\n",
       "<p>469 rows × 15 columns</p>\n",
       "</div>"
      ],
      "text/plain": [
       "    resource_type   id study_id                 condition  \\\n",
       "0         patient    1     PADS                   Healthy   \n",
       "1         patient    2     PADS  Other Movement Disorders   \n",
       "2         patient    3     PADS                   Healthy   \n",
       "3         patient    4     PADS               Parkinson's   \n",
       "4         patient    5     PADS               Parkinson's   \n",
       "..            ...  ...      ...                       ...   \n",
       "464       patient  465     PADS               Parkinson's   \n",
       "465       patient  466     PADS                   Healthy   \n",
       "466       patient  467     PADS               Parkinson's   \n",
       "467       patient  468     PADS               Parkinson's   \n",
       "468       patient  469     PADS               Parkinson's   \n",
       "\n",
       "                                       disease_comment  age_at_diagnosis  age  \\\n",
       "0                                                    -                56   56   \n",
       "1    Left-Sided resting tremor and hypokinesia with...                69   81   \n",
       "2                                                    -                45   45   \n",
       "3                              IPS akinetic-rigid type                63   67   \n",
       "4                              IPS tremordominant type                65   75   \n",
       "..                                                 ...               ...  ...   \n",
       "464                                     IPS mixed type                62   65   \n",
       "465                                                  -                84   84   \n",
       "466  Essential Tremor, starting IPS tremordominant ...                55   57   \n",
       "467                                     IPS mixed type                73   76   \n",
       "468                            IPS tremordominant type                44   54   \n",
       "\n",
       "     height  weight  gender handedness  appearance_in_kinship  \\\n",
       "0       173      78    male      right                   True   \n",
       "1       193     104    male      right                  False   \n",
       "2       170      78  female      right                  False   \n",
       "3       161      90  female      right                  False   \n",
       "4       172      86    male       left                  False   \n",
       "..      ...     ...     ...        ...                    ...   \n",
       "464     175      80    male      right                   True   \n",
       "465     172      74  female      right                   True   \n",
       "466     190     100    male      right                  False   \n",
       "467     198     118    male      right                  False   \n",
       "468     165      67  female      right                  False   \n",
       "\n",
       "    appearance_in_first_grade_kinship effect_of_alcohol_on_tremor  label  \n",
       "0                                True                     Unknown      0  \n",
       "1                                 NaN                   No effect      2  \n",
       "2                                 NaN                     Unknown      0  \n",
       "3                                 NaN                   No effect      1  \n",
       "4                                 NaN                     Unknown      1  \n",
       "..                                ...                         ...    ...  \n",
       "464                             False                   No effect      1  \n",
       "465                              True                   No effect      0  \n",
       "466                               NaN                 Improvement      1  \n",
       "467                               NaN                   No effect      1  \n",
       "468                               NaN                     Unknown      1  \n",
       "\n",
       "[469 rows x 15 columns]"
      ]
     },
     "execution_count": 8,
     "metadata": {},
     "output_type": "execute_result"
    }
   ],
   "source": [
    "file_list = pd.read_csv(raw_data_prep_dir  + \"file_list.csv\")\n",
    "file_list"
   ]
  },
  {
   "cell_type": "code",
   "execution_count": 9,
   "id": "f1119e5b",
   "metadata": {},
   "outputs": [
    {
     "data": {
      "text/plain": [
       "469"
      ]
     },
     "execution_count": 9,
     "metadata": {},
     "output_type": "execute_result"
    }
   ],
   "source": [
    "n_id = len(file_list['id'])\n",
    "n_id"
   ]
  },
  {
   "cell_type": "code",
   "execution_count": 10,
   "id": "acf7192b",
   "metadata": {},
   "outputs": [
    {
     "name": "stdout",
     "output_type": "stream",
     "text": [
      "(469,) (469,)\n"
     ]
    }
   ],
   "source": [
    "time_data = []\n",
    "y = []\n",
    "X_to_split = []\n",
    "for idx, subject_idx in enumerate(file_list['id']):\n",
    "    file_name = raw_data_prep_dir + f'movement/{subject_idx:03d}_ml.bin'\n",
    "    time_idx_data = np.fromfile(file_name, dtype=np.float32).reshape((-1, 976))\n",
    "    time_data.append(time_idx_data)\n",
    "    y_idx = file_list[file_list['id']==subject_idx].label.values\n",
    "    X_id = idx\n",
    "    y.append(y_idx)\n",
    "    X_to_split.append(X_id)\n",
    "\n",
    "X_to_split = np.array(X_to_split)\n",
    "y = np.array(y).flatten()\n",
    "print(X_to_split.shape, y.shape)"
   ]
  },
  {
   "cell_type": "code",
   "execution_count": 11,
   "id": "f0f8d2dc",
   "metadata": {},
   "outputs": [
    {
     "data": {
      "text/plain": [
       "132"
      ]
     },
     "execution_count": 11,
     "metadata": {},
     "output_type": "execute_result"
    }
   ],
   "source": [
    "channels = []\n",
    "for task in [\"Relaxed1\", \"Relaxed2\", \"RelaxedTask1\", \"RelaxedTask2\", \"StretchHold\", \"HoldWeight\",\n",
    "                \"DrinkGlas\", \"CrossArms\", \"TouchNose\", \"Entrainment1\", \"Entrainment2\"]:\n",
    "    for device_location in [\"LeftWrist\", \"RightWrist\"]:\n",
    "        for sensor in [\"Acceleration\", \"Rotation\"]:\n",
    "            for axis in [\"X\", \"Y\", \"Z\"]:\n",
    "                channel = f\"{task}_{sensor}_{device_location}_{axis}\"\n",
    "                channels.append(channel)\n",
    "len(channels)"
   ]
  },
  {
   "cell_type": "code",
   "execution_count": 12,
   "id": "e572649d",
   "metadata": {},
   "outputs": [
    {
     "name": "stdout",
     "output_type": "stream",
     "text": [
      "(469, 132, 976)\n"
     ]
    }
   ],
   "source": [
    "time_data_array = np.array(time_data)\n",
    "print(time_data_array.shape)"
   ]
  },
  {
   "cell_type": "code",
   "execution_count": 13,
   "id": "c6ea8174",
   "metadata": {},
   "outputs": [],
   "source": [
    "X_train_idx, X_test_idx, y_train, y_test = train_test_split(X_to_split, y, test_size=0.20, random_state=23, stratify = y)"
   ]
  },
  {
   "cell_type": "code",
   "execution_count": 14,
   "id": "bd3d08ee",
   "metadata": {},
   "outputs": [
    {
     "name": "stdout",
     "output_type": "stream",
     "text": [
      "375 94\n",
      "375 94\n"
     ]
    }
   ],
   "source": [
    "X_train = time_data_array[X_train_idx]\n",
    "X_test = time_data_array[X_test_idx]\n",
    "print(len(X_train), len(X_test))\n",
    "print(len(y_train), len(y_test))"
   ]
  },
  {
   "cell_type": "code",
   "execution_count": 15,
   "id": "b0b2b766",
   "metadata": {},
   "outputs": [
    {
     "data": {
      "text/plain": [
       "(375, 976, 132)"
      ]
     },
     "execution_count": 15,
     "metadata": {},
     "output_type": "execute_result"
    }
   ],
   "source": [
    "n_obs, n_chan, n_time =  X_train.shape\n",
    "\n",
    "X_train_nn = X_train.reshape(n_obs, n_time, n_chan)\n",
    "X_train_nn.shape\n",
    "\n",
    "n_obs_test, n_chan_test, n_time_test =  X_test.shape\n",
    "\n",
    "X_test_nn = X_test.reshape(n_obs_test, n_time_test, n_chan_test)\n",
    "X_test_nn.shape\n",
    "X_train_nn.shape"
   ]
  },
  {
   "cell_type": "code",
   "execution_count": 16,
   "id": "0135f0f4",
   "metadata": {},
   "outputs": [
    {
     "data": {
      "text/plain": [
       "(375,)"
      ]
     },
     "execution_count": 16,
     "metadata": {},
     "output_type": "execute_result"
    }
   ],
   "source": [
    "y_test.shape\n",
    "y_train.shape"
   ]
  },
  {
   "cell_type": "code",
   "execution_count": 17,
   "id": "47e77720",
   "metadata": {},
   "outputs": [],
   "source": [
    "y_train_cat = to_categorical(y_train)\n",
    "y_test_cat  = to_categorical(y_test)"
   ]
  },
  {
   "cell_type": "code",
   "execution_count": 32,
   "id": "c5de54ee",
   "metadata": {},
   "outputs": [],
   "source": [
    "def initialize_model_lstm(input_shape:tuple, dropout_rate: float = 0.3) -> Model:\n",
    "    model = Sequential()\n",
    "    normalizer = layers.Normalization(axis = -1)\n",
    "    normalizer.adapt(X_train_nn)\n",
    "\n",
    "    model.add(layers.Input(shape=input_shape))\n",
    "    model.add(normalizer)\n",
    "\n",
    "    #two lstm layers to better capture\n",
    "    model.add(layers.GRU(units=64, activation='tanh',\n",
    "                   return_sequences=True))\n",
    "    model.add(layers.GRU(units=32, activation='tanh',\n",
    "                          ))\n",
    "    model.add(layers.Flatten())\n",
    "    #dense layer with batch normalization\n",
    "    model.add(layers.Dense(32, activation = layers.LeakyReLU(), kernel_regularizer=regularizers.L2(0.0001)))\n",
    "    model.add(layers.BatchNormalization())\n",
    "    model.add(layers.Dense(16, activation = layers.LeakyReLU(), kernel_regularizer=regularizers.L2(0.0001)))\n",
    "    model.add(layers.Dropout(dropout_rate))\n",
    "\n",
    "    #output layer with 3 classification\n",
    "    model.add(layers.Dense(3, activation='softmax'))\n",
    "\n",
    "    return model"
   ]
  },
  {
   "cell_type": "code",
   "execution_count": 33,
   "id": "b90e71b3",
   "metadata": {},
   "outputs": [],
   "source": [
    "model_lstm = initialize_model_lstm(input_shape=X_train_nn.shape[1:], dropout_rate = 0.2)"
   ]
  },
  {
   "cell_type": "code",
   "execution_count": 34,
   "id": "103b4815",
   "metadata": {},
   "outputs": [],
   "source": [
    "init_lr = 0.001\n",
    "#lr_schedule = schedules.ExponentialDecay(\n",
    "#     init_lr,\n",
    "#     decay_steps=100000,\n",
    "#     decay_rate=0.96,\n",
    "#     staircase=True)\n",
    "\n",
    "opt = AdamW(init_lr)\n",
    "\n",
    "model_lstm.compile(\n",
    "    loss=\"categorical_focal_crossentropy\",\n",
    "    optimizer=opt,\n",
    "    metrics=['accuracy', 'precision', 'recall'])"
   ]
  },
  {
   "cell_type": "code",
   "execution_count": 35,
   "id": "7f4c2b8b",
   "metadata": {},
   "outputs": [
    {
     "data": {
      "text/html": [
       "<pre style=\"white-space:pre;overflow-x:auto;line-height:normal;font-family:Menlo,'DejaVu Sans Mono',consolas,'Courier New',monospace\"><span style=\"font-weight: bold\">Model: \"sequential_2\"</span>\n",
       "</pre>\n"
      ],
      "text/plain": [
       "\u001b[1mModel: \"sequential_2\"\u001b[0m\n"
      ]
     },
     "metadata": {},
     "output_type": "display_data"
    },
    {
     "data": {
      "text/html": [
       "<pre style=\"white-space:pre;overflow-x:auto;line-height:normal;font-family:Menlo,'DejaVu Sans Mono',consolas,'Courier New',monospace\">┏━━━━━━━━━━━━━━━━━━━━━━━━━━━━━━━━━┳━━━━━━━━━━━━━━━━━━━━━━━━┳━━━━━━━━━━━━━━━┓\n",
       "┃<span style=\"font-weight: bold\"> Layer (type)                    </span>┃<span style=\"font-weight: bold\"> Output Shape           </span>┃<span style=\"font-weight: bold\">       Param # </span>┃\n",
       "┡━━━━━━━━━━━━━━━━━━━━━━━━━━━━━━━━━╇━━━━━━━━━━━━━━━━━━━━━━━━╇━━━━━━━━━━━━━━━┩\n",
       "│ normalization_2 (<span style=\"color: #0087ff; text-decoration-color: #0087ff\">Normalization</span>) │ (<span style=\"color: #00d7ff; text-decoration-color: #00d7ff\">None</span>, <span style=\"color: #00af00; text-decoration-color: #00af00\">976</span>, <span style=\"color: #00af00; text-decoration-color: #00af00\">132</span>)       │           <span style=\"color: #00af00; text-decoration-color: #00af00\">265</span> │\n",
       "├─────────────────────────────────┼────────────────────────┼───────────────┤\n",
       "│ gru_4 (<span style=\"color: #0087ff; text-decoration-color: #0087ff\">GRU</span>)                     │ (<span style=\"color: #00d7ff; text-decoration-color: #00d7ff\">None</span>, <span style=\"color: #00af00; text-decoration-color: #00af00\">976</span>, <span style=\"color: #00af00; text-decoration-color: #00af00\">64</span>)        │        <span style=\"color: #00af00; text-decoration-color: #00af00\">38,016</span> │\n",
       "├─────────────────────────────────┼────────────────────────┼───────────────┤\n",
       "│ gru_5 (<span style=\"color: #0087ff; text-decoration-color: #0087ff\">GRU</span>)                     │ (<span style=\"color: #00d7ff; text-decoration-color: #00d7ff\">None</span>, <span style=\"color: #00af00; text-decoration-color: #00af00\">32</span>)             │         <span style=\"color: #00af00; text-decoration-color: #00af00\">9,408</span> │\n",
       "├─────────────────────────────────┼────────────────────────┼───────────────┤\n",
       "│ flatten_2 (<span style=\"color: #0087ff; text-decoration-color: #0087ff\">Flatten</span>)             │ (<span style=\"color: #00d7ff; text-decoration-color: #00d7ff\">None</span>, <span style=\"color: #00af00; text-decoration-color: #00af00\">32</span>)             │             <span style=\"color: #00af00; text-decoration-color: #00af00\">0</span> │\n",
       "├─────────────────────────────────┼────────────────────────┼───────────────┤\n",
       "│ dense_6 (<span style=\"color: #0087ff; text-decoration-color: #0087ff\">Dense</span>)                 │ (<span style=\"color: #00d7ff; text-decoration-color: #00d7ff\">None</span>, <span style=\"color: #00af00; text-decoration-color: #00af00\">32</span>)             │         <span style=\"color: #00af00; text-decoration-color: #00af00\">1,056</span> │\n",
       "├─────────────────────────────────┼────────────────────────┼───────────────┤\n",
       "│ batch_normalization_2           │ (<span style=\"color: #00d7ff; text-decoration-color: #00d7ff\">None</span>, <span style=\"color: #00af00; text-decoration-color: #00af00\">32</span>)             │           <span style=\"color: #00af00; text-decoration-color: #00af00\">128</span> │\n",
       "│ (<span style=\"color: #0087ff; text-decoration-color: #0087ff\">BatchNormalization</span>)            │                        │               │\n",
       "├─────────────────────────────────┼────────────────────────┼───────────────┤\n",
       "│ dense_7 (<span style=\"color: #0087ff; text-decoration-color: #0087ff\">Dense</span>)                 │ (<span style=\"color: #00d7ff; text-decoration-color: #00d7ff\">None</span>, <span style=\"color: #00af00; text-decoration-color: #00af00\">16</span>)             │           <span style=\"color: #00af00; text-decoration-color: #00af00\">528</span> │\n",
       "├─────────────────────────────────┼────────────────────────┼───────────────┤\n",
       "│ dropout_2 (<span style=\"color: #0087ff; text-decoration-color: #0087ff\">Dropout</span>)             │ (<span style=\"color: #00d7ff; text-decoration-color: #00d7ff\">None</span>, <span style=\"color: #00af00; text-decoration-color: #00af00\">16</span>)             │             <span style=\"color: #00af00; text-decoration-color: #00af00\">0</span> │\n",
       "├─────────────────────────────────┼────────────────────────┼───────────────┤\n",
       "│ dense_8 (<span style=\"color: #0087ff; text-decoration-color: #0087ff\">Dense</span>)                 │ (<span style=\"color: #00d7ff; text-decoration-color: #00d7ff\">None</span>, <span style=\"color: #00af00; text-decoration-color: #00af00\">3</span>)              │            <span style=\"color: #00af00; text-decoration-color: #00af00\">51</span> │\n",
       "└─────────────────────────────────┴────────────────────────┴───────────────┘\n",
       "</pre>\n"
      ],
      "text/plain": [
       "┏━━━━━━━━━━━━━━━━━━━━━━━━━━━━━━━━━┳━━━━━━━━━━━━━━━━━━━━━━━━┳━━━━━━━━━━━━━━━┓\n",
       "┃\u001b[1m \u001b[0m\u001b[1mLayer (type)                   \u001b[0m\u001b[1m \u001b[0m┃\u001b[1m \u001b[0m\u001b[1mOutput Shape          \u001b[0m\u001b[1m \u001b[0m┃\u001b[1m \u001b[0m\u001b[1m      Param #\u001b[0m\u001b[1m \u001b[0m┃\n",
       "┡━━━━━━━━━━━━━━━━━━━━━━━━━━━━━━━━━╇━━━━━━━━━━━━━━━━━━━━━━━━╇━━━━━━━━━━━━━━━┩\n",
       "│ normalization_2 (\u001b[38;5;33mNormalization\u001b[0m) │ (\u001b[38;5;45mNone\u001b[0m, \u001b[38;5;34m976\u001b[0m, \u001b[38;5;34m132\u001b[0m)       │           \u001b[38;5;34m265\u001b[0m │\n",
       "├─────────────────────────────────┼────────────────────────┼───────────────┤\n",
       "│ gru_4 (\u001b[38;5;33mGRU\u001b[0m)                     │ (\u001b[38;5;45mNone\u001b[0m, \u001b[38;5;34m976\u001b[0m, \u001b[38;5;34m64\u001b[0m)        │        \u001b[38;5;34m38,016\u001b[0m │\n",
       "├─────────────────────────────────┼────────────────────────┼───────────────┤\n",
       "│ gru_5 (\u001b[38;5;33mGRU\u001b[0m)                     │ (\u001b[38;5;45mNone\u001b[0m, \u001b[38;5;34m32\u001b[0m)             │         \u001b[38;5;34m9,408\u001b[0m │\n",
       "├─────────────────────────────────┼────────────────────────┼───────────────┤\n",
       "│ flatten_2 (\u001b[38;5;33mFlatten\u001b[0m)             │ (\u001b[38;5;45mNone\u001b[0m, \u001b[38;5;34m32\u001b[0m)             │             \u001b[38;5;34m0\u001b[0m │\n",
       "├─────────────────────────────────┼────────────────────────┼───────────────┤\n",
       "│ dense_6 (\u001b[38;5;33mDense\u001b[0m)                 │ (\u001b[38;5;45mNone\u001b[0m, \u001b[38;5;34m32\u001b[0m)             │         \u001b[38;5;34m1,056\u001b[0m │\n",
       "├─────────────────────────────────┼────────────────────────┼───────────────┤\n",
       "│ batch_normalization_2           │ (\u001b[38;5;45mNone\u001b[0m, \u001b[38;5;34m32\u001b[0m)             │           \u001b[38;5;34m128\u001b[0m │\n",
       "│ (\u001b[38;5;33mBatchNormalization\u001b[0m)            │                        │               │\n",
       "├─────────────────────────────────┼────────────────────────┼───────────────┤\n",
       "│ dense_7 (\u001b[38;5;33mDense\u001b[0m)                 │ (\u001b[38;5;45mNone\u001b[0m, \u001b[38;5;34m16\u001b[0m)             │           \u001b[38;5;34m528\u001b[0m │\n",
       "├─────────────────────────────────┼────────────────────────┼───────────────┤\n",
       "│ dropout_2 (\u001b[38;5;33mDropout\u001b[0m)             │ (\u001b[38;5;45mNone\u001b[0m, \u001b[38;5;34m16\u001b[0m)             │             \u001b[38;5;34m0\u001b[0m │\n",
       "├─────────────────────────────────┼────────────────────────┼───────────────┤\n",
       "│ dense_8 (\u001b[38;5;33mDense\u001b[0m)                 │ (\u001b[38;5;45mNone\u001b[0m, \u001b[38;5;34m3\u001b[0m)              │            \u001b[38;5;34m51\u001b[0m │\n",
       "└─────────────────────────────────┴────────────────────────┴───────────────┘\n"
      ]
     },
     "metadata": {},
     "output_type": "display_data"
    },
    {
     "data": {
      "text/html": [
       "<pre style=\"white-space:pre;overflow-x:auto;line-height:normal;font-family:Menlo,'DejaVu Sans Mono',consolas,'Courier New',monospace\"><span style=\"font-weight: bold\"> Total params: </span><span style=\"color: #00af00; text-decoration-color: #00af00\">49,452</span> (193.18 KB)\n",
       "</pre>\n"
      ],
      "text/plain": [
       "\u001b[1m Total params: \u001b[0m\u001b[38;5;34m49,452\u001b[0m (193.18 KB)\n"
      ]
     },
     "metadata": {},
     "output_type": "display_data"
    },
    {
     "data": {
      "text/html": [
       "<pre style=\"white-space:pre;overflow-x:auto;line-height:normal;font-family:Menlo,'DejaVu Sans Mono',consolas,'Courier New',monospace\"><span style=\"font-weight: bold\"> Trainable params: </span><span style=\"color: #00af00; text-decoration-color: #00af00\">49,123</span> (191.89 KB)\n",
       "</pre>\n"
      ],
      "text/plain": [
       "\u001b[1m Trainable params: \u001b[0m\u001b[38;5;34m49,123\u001b[0m (191.89 KB)\n"
      ]
     },
     "metadata": {},
     "output_type": "display_data"
    },
    {
     "data": {
      "text/html": [
       "<pre style=\"white-space:pre;overflow-x:auto;line-height:normal;font-family:Menlo,'DejaVu Sans Mono',consolas,'Courier New',monospace\"><span style=\"font-weight: bold\"> Non-trainable params: </span><span style=\"color: #00af00; text-decoration-color: #00af00\">329</span> (1.29 KB)\n",
       "</pre>\n"
      ],
      "text/plain": [
       "\u001b[1m Non-trainable params: \u001b[0m\u001b[38;5;34m329\u001b[0m (1.29 KB)\n"
      ]
     },
     "metadata": {},
     "output_type": "display_data"
    }
   ],
   "source": [
    "model_lstm.summary()"
   ]
  },
  {
   "cell_type": "code",
   "execution_count": 37,
   "id": "231c4dfa",
   "metadata": {},
   "outputs": [
    {
     "name": "stdout",
     "output_type": "stream",
     "text": [
      "Epoch 1/200\n",
      "\u001b[1m3/3\u001b[0m \u001b[32m━━━━━━━━━━━━━━━━━━━━\u001b[0m\u001b[37m\u001b[0m \u001b[1m4s\u001b[0m 1s/step - accuracy: 0.7367 - loss: 0.0789 - precision: 0.8800 - recall: 0.3667 - val_accuracy: 0.5333 - val_loss: 0.1172 - val_precision: 0.0000e+00 - val_recall: 0.0000e+00 - learning_rate: 1.0000e-13\n",
      "Epoch 2/200\n",
      "\u001b[1m3/3\u001b[0m \u001b[32m━━━━━━━━━━━━━━━━━━━━\u001b[0m\u001b[37m\u001b[0m \u001b[1m4s\u001b[0m 1s/step - accuracy: 0.7000 - loss: 0.0821 - precision: 0.8467 - recall: 0.3867 - val_accuracy: 0.5333 - val_loss: 0.1172 - val_precision: 0.0000e+00 - val_recall: 0.0000e+00 - learning_rate: 1.0000e-13\n",
      "Epoch 3/200\n",
      "\u001b[1m3/3\u001b[0m \u001b[32m━━━━━━━━━━━━━━━━━━━━\u001b[0m\u001b[37m\u001b[0m \u001b[1m3s\u001b[0m 1s/step - accuracy: 0.7033 - loss: 0.0812 - precision: 0.8030 - recall: 0.3533 - val_accuracy: 0.5333 - val_loss: 0.1172 - val_precision: 0.0000e+00 - val_recall: 0.0000e+00 - learning_rate: 1.0000e-13\n",
      "Epoch 4/200\n",
      "\u001b[1m3/3\u001b[0m \u001b[32m━━━━━━━━━━━━━━━━━━━━\u001b[0m\u001b[37m\u001b[0m \u001b[1m3s\u001b[0m 885ms/step - accuracy: 0.7133 - loss: 0.0795 - precision: 0.8450 - recall: 0.3633 - val_accuracy: 0.5333 - val_loss: 0.1173 - val_precision: 0.0000e+00 - val_recall: 0.0000e+00 - learning_rate: 1.0000e-13\n",
      "Epoch 5/200\n",
      "\u001b[1m3/3\u001b[0m \u001b[32m━━━━━━━━━━━━━━━━━━━━\u001b[0m\u001b[37m\u001b[0m \u001b[1m3s\u001b[0m 955ms/step - accuracy: 0.7200 - loss: 0.0788 - precision: 0.9113 - recall: 0.3767 - val_accuracy: 0.5333 - val_loss: 0.1173 - val_precision: 0.0000e+00 - val_recall: 0.0000e+00 - learning_rate: 1.0000e-13\n",
      "Epoch 6/200\n",
      "\u001b[1m3/3\u001b[0m \u001b[32m━━━━━━━━━━━━━━━━━━━━\u001b[0m\u001b[37m\u001b[0m \u001b[1m3s\u001b[0m 1s/step - accuracy: 0.7233 - loss: 0.0835 - precision: 0.8485 - recall: 0.3733 - val_accuracy: 0.5333 - val_loss: 0.1173 - val_precision: 0.0000e+00 - val_recall: 0.0000e+00 - learning_rate: 1.0000e-13\n",
      "Epoch 7/200\n",
      "\u001b[1m3/3\u001b[0m \u001b[32m━━━━━━━━━━━━━━━━━━━━\u001b[0m\u001b[37m\u001b[0m \u001b[1m3s\u001b[0m 1s/step - accuracy: 0.7067 - loss: 0.0790 - precision: 0.8571 - recall: 0.3800 - val_accuracy: 0.5333 - val_loss: 0.1173 - val_precision: 0.0000e+00 - val_recall: 0.0000e+00 - learning_rate: 1.0000e-13\n",
      "Epoch 8/200\n",
      "\u001b[1m3/3\u001b[0m \u001b[32m━━━━━━━━━━━━━━━━━━━━\u001b[0m\u001b[37m\u001b[0m \u001b[1m3s\u001b[0m 891ms/step - accuracy: 0.7133 - loss: 0.0791 - precision: 0.8346 - recall: 0.3700 - val_accuracy: 0.5333 - val_loss: 0.1173 - val_precision: 0.0000e+00 - val_recall: 0.0000e+00 - learning_rate: 1.0000e-13\n",
      "Epoch 9/200\n",
      "\u001b[1m3/3\u001b[0m \u001b[32m━━━━━━━━━━━━━━━━━━━━\u001b[0m\u001b[37m\u001b[0m \u001b[1m3s\u001b[0m 1s/step - accuracy: 0.7367 - loss: 0.0797 - precision: 0.8507 - recall: 0.3800 - val_accuracy: 0.5333 - val_loss: 0.1174 - val_precision: 0.0000e+00 - val_recall: 0.0000e+00 - learning_rate: 1.0000e-13\n",
      "Epoch 10/200\n",
      "\u001b[1m3/3\u001b[0m \u001b[32m━━━━━━━━━━━━━━━━━━━━\u001b[0m\u001b[37m\u001b[0m \u001b[1m3s\u001b[0m 1s/step - accuracy: 0.7033 - loss: 0.0803 - precision: 0.8651 - recall: 0.3633 - val_accuracy: 0.5333 - val_loss: 0.1174 - val_precision: 0.0000e+00 - val_recall: 0.0000e+00 - learning_rate: 1.0000e-13\n",
      "Epoch 11/200\n",
      "\u001b[1m3/3\u001b[0m \u001b[32m━━━━━━━━━━━━━━━━━━━━\u001b[0m\u001b[37m\u001b[0m \u001b[1m4s\u001b[0m 1s/step - accuracy: 0.6967 - loss: 0.0875 - precision: 0.7953 - recall: 0.3367 - val_accuracy: 0.5333 - val_loss: 0.1174 - val_precision: 0.0000e+00 - val_recall: 0.0000e+00 - learning_rate: 1.0000e-13\n",
      "Epoch 12/200\n",
      "\u001b[1m3/3\u001b[0m \u001b[32m━━━━━━━━━━━━━━━━━━━━\u001b[0m\u001b[37m\u001b[0m \u001b[1m3s\u001b[0m 1s/step - accuracy: 0.7067 - loss: 0.0805 - precision: 0.8201 - recall: 0.3800 - val_accuracy: 0.5333 - val_loss: 0.1175 - val_precision: 0.0000e+00 - val_recall: 0.0000e+00 - learning_rate: 1.0000e-14\n",
      "Epoch 13/200\n",
      "\u001b[1m3/3\u001b[0m \u001b[32m━━━━━━━━━━━━━━━━━━━━\u001b[0m\u001b[37m\u001b[0m \u001b[1m4s\u001b[0m 1s/step - accuracy: 0.7467 - loss: 0.0788 - precision: 0.8414 - recall: 0.4067 - val_accuracy: 0.5333 - val_loss: 0.1175 - val_precision: 0.0000e+00 - val_recall: 0.0000e+00 - learning_rate: 1.0000e-14\n",
      "Epoch 14/200\n",
      "\u001b[1m3/3\u001b[0m \u001b[32m━━━━━━━━━━━━━━━━━━━━\u001b[0m\u001b[37m\u001b[0m \u001b[1m4s\u001b[0m 1s/step - accuracy: 0.7167 - loss: 0.0772 - precision: 0.8686 - recall: 0.3967 - val_accuracy: 0.5333 - val_loss: 0.1175 - val_precision: 0.0000e+00 - val_recall: 0.0000e+00 - learning_rate: 1.0000e-14\n",
      "Epoch 15/200\n",
      "\u001b[1m3/3\u001b[0m \u001b[32m━━━━━━━━━━━━━━━━━━━━\u001b[0m\u001b[37m\u001b[0m \u001b[1m4s\u001b[0m 1s/step - accuracy: 0.7267 - loss: 0.0805 - precision: 0.8468 - recall: 0.3500 - val_accuracy: 0.5333 - val_loss: 0.1175 - val_precision: 0.0000e+00 - val_recall: 0.0000e+00 - learning_rate: 1.0000e-14\n",
      "Epoch 16/200\n",
      "\u001b[1m3/3\u001b[0m \u001b[32m━━━━━━━━━━━━━━━━━━━━\u001b[0m\u001b[37m\u001b[0m \u001b[1m3s\u001b[0m 929ms/step - accuracy: 0.6933 - loss: 0.0805 - precision: 0.8182 - recall: 0.3600 - val_accuracy: 0.5333 - val_loss: 0.1176 - val_precision: 0.0000e+00 - val_recall: 0.0000e+00 - learning_rate: 1.0000e-14\n",
      "Epoch 17/200\n",
      "\u001b[1m3/3\u001b[0m \u001b[32m━━━━━━━━━━━━━━━━━━━━\u001b[0m\u001b[37m\u001b[0m \u001b[1m3s\u001b[0m 1s/step - accuracy: 0.7167 - loss: 0.0785 - precision: 0.8538 - recall: 0.3700 - val_accuracy: 0.5333 - val_loss: 0.1176 - val_precision: 0.0000e+00 - val_recall: 0.0000e+00 - learning_rate: 1.0000e-14\n",
      "Epoch 18/200\n",
      "\u001b[1m3/3\u001b[0m \u001b[32m━━━━━━━━━━━━━━━━━━━━\u001b[0m\u001b[37m\u001b[0m \u001b[1m3s\u001b[0m 982ms/step - accuracy: 0.7000 - loss: 0.0807 - precision: 0.8651 - recall: 0.3633 - val_accuracy: 0.5333 - val_loss: 0.1176 - val_precision: 0.0000e+00 - val_recall: 0.0000e+00 - learning_rate: 1.0000e-14\n",
      "Epoch 19/200\n",
      "\u001b[1m3/3\u001b[0m \u001b[32m━━━━━━━━━━━━━━━━━━━━\u001b[0m\u001b[37m\u001b[0m \u001b[1m3s\u001b[0m 1s/step - accuracy: 0.7167 - loss: 0.0793 - precision: 0.8125 - recall: 0.3467 - val_accuracy: 0.5333 - val_loss: 0.1177 - val_precision: 0.0000e+00 - val_recall: 0.0000e+00 - learning_rate: 1.0000e-14\n",
      "Epoch 20/200\n",
      "\u001b[1m3/3\u001b[0m \u001b[32m━━━━━━━━━━━━━━━━━━━━\u001b[0m\u001b[37m\u001b[0m \u001b[1m4s\u001b[0m 1s/step - accuracy: 0.6967 - loss: 0.0840 - precision: 0.8519 - recall: 0.3833 - val_accuracy: 0.5333 - val_loss: 0.1177 - val_precision: 0.0000e+00 - val_recall: 0.0000e+00 - learning_rate: 1.0000e-14\n",
      "Epoch 21/200\n",
      "\u001b[1m3/3\u001b[0m \u001b[32m━━━━━━━━━━━━━━━━━━━━\u001b[0m\u001b[37m\u001b[0m \u001b[1m3s\u001b[0m 961ms/step - accuracy: 0.7167 - loss: 0.0806 - precision: 0.8281 - recall: 0.3533 - val_accuracy: 0.5333 - val_loss: 0.1177 - val_precision: 0.0000e+00 - val_recall: 0.0000e+00 - learning_rate: 1.0000e-14\n",
      "Epoch 22/200\n",
      "\u001b[1m3/3\u001b[0m \u001b[32m━━━━━━━━━━━━━━━━━━━━\u001b[0m\u001b[37m\u001b[0m \u001b[1m4s\u001b[0m 1s/step - accuracy: 0.7000 - loss: 0.0855 - precision: 0.8689 - recall: 0.3533 - val_accuracy: 0.5333 - val_loss: 0.1178 - val_precision: 0.0000e+00 - val_recall: 0.0000e+00 - learning_rate: 1.0000e-15\n",
      "Epoch 23/200\n",
      "\u001b[1m3/3\u001b[0m \u001b[32m━━━━━━━━━━━━━━━━━━━━\u001b[0m\u001b[37m\u001b[0m \u001b[1m4s\u001b[0m 1s/step - accuracy: 0.6867 - loss: 0.0856 - precision: 0.8397 - recall: 0.3667 - val_accuracy: 0.5333 - val_loss: 0.1178 - val_precision: 0.0000e+00 - val_recall: 0.0000e+00 - learning_rate: 1.0000e-15\n",
      "Epoch 24/200\n",
      "\u001b[1m3/3\u001b[0m \u001b[32m━━━━━━━━━━━━━━━━━━━━\u001b[0m\u001b[37m\u001b[0m \u001b[1m3s\u001b[0m 1s/step - accuracy: 0.7000 - loss: 0.0802 - precision: 0.8222 - recall: 0.3700 - val_accuracy: 0.5333 - val_loss: 0.1178 - val_precision: 0.0000e+00 - val_recall: 0.0000e+00 - learning_rate: 1.0000e-15\n",
      "Epoch 25/200\n",
      "\u001b[1m3/3\u001b[0m \u001b[32m━━━━━━━━━━━━━━━━━━━━\u001b[0m\u001b[37m\u001b[0m \u001b[1m4s\u001b[0m 1s/step - accuracy: 0.7167 - loss: 0.0799 - precision: 0.8475 - recall: 0.3333 - val_accuracy: 0.5333 - val_loss: 0.1179 - val_precision: 0.0000e+00 - val_recall: 0.0000e+00 - learning_rate: 1.0000e-15\n",
      "Epoch 26/200\n",
      "\u001b[1m3/3\u001b[0m \u001b[32m━━━━━━━━━━━━━━━━━━━━\u001b[0m\u001b[37m\u001b[0m \u001b[1m3s\u001b[0m 1s/step - accuracy: 0.7100 - loss: 0.0797 - precision: 0.8692 - recall: 0.3767 - val_accuracy: 0.5200 - val_loss: 0.1179 - val_precision: 0.0000e+00 - val_recall: 0.0000e+00 - learning_rate: 1.0000e-15\n",
      "Epoch 27/200\n",
      "\u001b[1m3/3\u001b[0m \u001b[32m━━━━━━━━━━━━━━━━━━━━\u001b[0m\u001b[37m\u001b[0m \u001b[1m3s\u001b[0m 898ms/step - accuracy: 0.7433 - loss: 0.0787 - precision: 0.8209 - recall: 0.3667 - val_accuracy: 0.5200 - val_loss: 0.1180 - val_precision: 0.0000e+00 - val_recall: 0.0000e+00 - learning_rate: 1.0000e-15\n",
      "Epoch 28/200\n",
      "\u001b[1m3/3\u001b[0m \u001b[32m━━━━━━━━━━━━━━━━━━━━\u001b[0m\u001b[37m\u001b[0m \u001b[1m3s\u001b[0m 1s/step - accuracy: 0.7333 - loss: 0.0764 - precision: 0.9160 - recall: 0.4000 - val_accuracy: 0.5200 - val_loss: 0.1180 - val_precision: 0.0000e+00 - val_recall: 0.0000e+00 - learning_rate: 1.0000e-15\n",
      "Epoch 29/200\n",
      "\u001b[1m3/3\u001b[0m \u001b[32m━━━━━━━━━━━━━━━━━━━━\u001b[0m\u001b[37m\u001b[0m \u001b[1m4s\u001b[0m 1s/step - accuracy: 0.6933 - loss: 0.0846 - precision: 0.8029 - recall: 0.3667 - val_accuracy: 0.5200 - val_loss: 0.1180 - val_precision: 0.0000e+00 - val_recall: 0.0000e+00 - learning_rate: 1.0000e-15\n",
      "Epoch 30/200\n",
      "\u001b[1m3/3\u001b[0m \u001b[32m━━━━━━━━━━━━━━━━━━━━\u001b[0m\u001b[37m\u001b[0m \u001b[1m3s\u001b[0m 993ms/step - accuracy: 0.7100 - loss: 0.0846 - precision: 0.8443 - recall: 0.3433 - val_accuracy: 0.5200 - val_loss: 0.1181 - val_precision: 0.0000e+00 - val_recall: 0.0000e+00 - learning_rate: 1.0000e-15\n",
      "Epoch 31/200\n",
      "\u001b[1m3/3\u001b[0m \u001b[32m━━━━━━━━━━━━━━━━━━━━\u001b[0m\u001b[37m\u001b[0m \u001b[1m4s\u001b[0m 1s/step - accuracy: 0.7100 - loss: 0.0802 - precision: 0.8527 - recall: 0.3667 - val_accuracy: 0.5200 - val_loss: 0.1181 - val_precision: 0.0000e+00 - val_recall: 0.0000e+00 - learning_rate: 1.0000e-15\n",
      "Epoch 32/200\n",
      "\u001b[1m3/3\u001b[0m \u001b[32m━━━━━━━━━━━━━━━━━━━━\u001b[0m\u001b[37m\u001b[0m \u001b[1m3s\u001b[0m 1s/step - accuracy: 0.6933 - loss: 0.0903 - precision: 0.8074 - recall: 0.3633 - val_accuracy: 0.5200 - val_loss: 0.1182 - val_precision: 0.0000e+00 - val_recall: 0.0000e+00 - learning_rate: 1.0000e-16\n",
      "Epoch 33/200\n",
      "\u001b[1m3/3\u001b[0m \u001b[32m━━━━━━━━━━━━━━━━━━━━\u001b[0m\u001b[37m\u001b[0m \u001b[1m3s\u001b[0m 932ms/step - accuracy: 0.7167 - loss: 0.0779 - precision: 0.8629 - recall: 0.3567 - val_accuracy: 0.5200 - val_loss: 0.1182 - val_precision: 0.0000e+00 - val_recall: 0.0000e+00 - learning_rate: 1.0000e-16\n",
      "Epoch 34/200\n",
      "\u001b[1m3/3\u001b[0m \u001b[32m━━━━━━━━━━━━━━━━━━━━\u001b[0m\u001b[37m\u001b[0m \u001b[1m3s\u001b[0m 880ms/step - accuracy: 0.6767 - loss: 0.0794 - precision: 0.8740 - recall: 0.3700 - val_accuracy: 0.5200 - val_loss: 0.1183 - val_precision: 0.0000e+00 - val_recall: 0.0000e+00 - learning_rate: 1.0000e-16\n",
      "Epoch 35/200\n",
      "\u001b[1m3/3\u001b[0m \u001b[32m━━━━━━━━━━━━━━━━━━━━\u001b[0m\u001b[37m\u001b[0m \u001b[1m3s\u001b[0m 1s/step - accuracy: 0.7400 - loss: 0.0767 - precision: 0.8779 - recall: 0.3833 - val_accuracy: 0.5200 - val_loss: 0.1183 - val_precision: 0.0000e+00 - val_recall: 0.0000e+00 - learning_rate: 1.0000e-16\n",
      "Epoch 36/200\n",
      "\u001b[1m3/3\u001b[0m \u001b[32m━━━━━━━━━━━━━━━━━━━━\u001b[0m\u001b[37m\u001b[0m \u001b[1m3s\u001b[0m 1s/step - accuracy: 0.7333 - loss: 0.0800 - precision: 0.8222 - recall: 0.3700 - val_accuracy: 0.5333 - val_loss: 0.1184 - val_precision: 0.0000e+00 - val_recall: 0.0000e+00 - learning_rate: 1.0000e-16\n",
      "Epoch 37/200\n",
      "\u001b[1m3/3\u001b[0m \u001b[32m━━━━━━━━━━━━━━━━━━━━\u001b[0m\u001b[37m\u001b[0m \u001b[1m4s\u001b[0m 1s/step - accuracy: 0.6867 - loss: 0.0825 - precision: 0.8129 - recall: 0.3767 - val_accuracy: 0.5467 - val_loss: 0.1184 - val_precision: 0.0000e+00 - val_recall: 0.0000e+00 - learning_rate: 1.0000e-16\n",
      "Epoch 38/200\n",
      "\u001b[1m3/3\u001b[0m \u001b[32m━━━━━━━━━━━━━━━━━━━━\u001b[0m\u001b[37m\u001b[0m \u001b[1m4s\u001b[0m 1s/step - accuracy: 0.6900 - loss: 0.0841 - precision: 0.8346 - recall: 0.3700 - val_accuracy: 0.5200 - val_loss: 0.1185 - val_precision: 0.0000e+00 - val_recall: 0.0000e+00 - learning_rate: 1.0000e-16\n",
      "Epoch 39/200\n",
      "\u001b[1m3/3\u001b[0m \u001b[32m━━━━━━━━━━━━━━━━━━━━\u001b[0m\u001b[37m\u001b[0m \u001b[1m3s\u001b[0m 989ms/step - accuracy: 0.6900 - loss: 0.0821 - precision: 0.8400 - recall: 0.3500 - val_accuracy: 0.5200 - val_loss: 0.1185 - val_precision: 0.0000e+00 - val_recall: 0.0000e+00 - learning_rate: 1.0000e-16\n",
      "Epoch 40/200\n",
      "\u001b[1m3/3\u001b[0m \u001b[32m━━━━━━━━━━━━━━━━━━━━\u001b[0m\u001b[37m\u001b[0m \u001b[1m3s\u001b[0m 953ms/step - accuracy: 0.7233 - loss: 0.0781 - precision: 0.8504 - recall: 0.3600 - val_accuracy: 0.5200 - val_loss: 0.1186 - val_precision: 0.0000e+00 - val_recall: 0.0000e+00 - learning_rate: 1.0000e-16\n",
      "Epoch 41/200\n",
      "\u001b[1m3/3\u001b[0m \u001b[32m━━━━━━━━━━━━━━━━━━━━\u001b[0m\u001b[37m\u001b[0m \u001b[1m4s\u001b[0m 1s/step - accuracy: 0.7067 - loss: 0.0829 - precision: 0.8382 - recall: 0.3800 - val_accuracy: 0.5200 - val_loss: 0.1186 - val_precision: 0.0000e+00 - val_recall: 0.0000e+00 - learning_rate: 1.0000e-16\n",
      "Epoch 42/200\n",
      "\u001b[1m3/3\u001b[0m \u001b[32m━━━━━━━━━━━━━━━━━━━━\u001b[0m\u001b[37m\u001b[0m \u001b[1m4s\u001b[0m 1s/step - accuracy: 0.7367 - loss: 0.0785 - precision: 0.8583 - recall: 0.3633 - val_accuracy: 0.5200 - val_loss: 0.1187 - val_precision: 0.0000e+00 - val_recall: 0.0000e+00 - learning_rate: 1.0000e-17\n",
      "Epoch 43/200\n",
      "\u001b[1m3/3\u001b[0m \u001b[32m━━━━━━━━━━━━━━━━━━━━\u001b[0m\u001b[37m\u001b[0m \u001b[1m4s\u001b[0m 1s/step - accuracy: 0.7000 - loss: 0.0795 - precision: 0.8525 - recall: 0.3467 - val_accuracy: 0.5200 - val_loss: 0.1188 - val_precision: 0.0000e+00 - val_recall: 0.0000e+00 - learning_rate: 1.0000e-17\n",
      "Epoch 44/200\n",
      "\u001b[1m3/3\u001b[0m \u001b[32m━━━━━━━━━━━━━━━━━━━━\u001b[0m\u001b[37m\u001b[0m \u001b[1m3s\u001b[0m 1s/step - accuracy: 0.7033 - loss: 0.0879 - precision: 0.8512 - recall: 0.3433 - val_accuracy: 0.5200 - val_loss: 0.1188 - val_precision: 0.0000e+00 - val_recall: 0.0000e+00 - learning_rate: 1.0000e-17\n",
      "Epoch 45/200\n",
      "\u001b[1m3/3\u001b[0m \u001b[32m━━━━━━━━━━━━━━━━━━━━\u001b[0m\u001b[37m\u001b[0m \u001b[1m4s\u001b[0m 986ms/step - accuracy: 0.7200 - loss: 0.0795 - precision: 0.8661 - recall: 0.3667 - val_accuracy: 0.5200 - val_loss: 0.1189 - val_precision: 0.0000e+00 - val_recall: 0.0000e+00 - learning_rate: 1.0000e-17\n",
      "Epoch 46/200\n",
      "\u001b[1m3/3\u001b[0m \u001b[32m━━━━━━━━━━━━━━━━━━━━\u001b[0m\u001b[37m\u001b[0m \u001b[1m3s\u001b[0m 951ms/step - accuracy: 0.6733 - loss: 0.0845 - precision: 0.8374 - recall: 0.3433 - val_accuracy: 0.5200 - val_loss: 0.1189 - val_precision: 0.0000e+00 - val_recall: 0.0000e+00 - learning_rate: 1.0000e-17\n",
      "Epoch 47/200\n",
      "\u001b[1m3/3\u001b[0m \u001b[32m━━━━━━━━━━━━━━━━━━━━\u001b[0m\u001b[37m\u001b[0m \u001b[1m3s\u001b[0m 1s/step - accuracy: 0.7333 - loss: 0.0780 - precision: 0.8370 - recall: 0.3767 - val_accuracy: 0.5200 - val_loss: 0.1190 - val_precision: 0.0000e+00 - val_recall: 0.0000e+00 - learning_rate: 1.0000e-17\n",
      "Epoch 48/200\n",
      "\u001b[1m3/3\u001b[0m \u001b[32m━━━━━━━━━━━━━━━━━━━━\u001b[0m\u001b[37m\u001b[0m \u001b[1m5s\u001b[0m 1s/step - accuracy: 0.7133 - loss: 0.0802 - precision: 0.8074 - recall: 0.3633 - val_accuracy: 0.5200 - val_loss: 0.1191 - val_precision: 0.0000e+00 - val_recall: 0.0000e+00 - learning_rate: 1.0000e-17\n",
      "Epoch 49/200\n",
      "\u001b[1m3/3\u001b[0m \u001b[32m━━━━━━━━━━━━━━━━━━━━\u001b[0m\u001b[37m\u001b[0m \u001b[1m3s\u001b[0m 932ms/step - accuracy: 0.7067 - loss: 0.0807 - precision: 0.8230 - recall: 0.3100 - val_accuracy: 0.5067 - val_loss: 0.1191 - val_precision: 0.0000e+00 - val_recall: 0.0000e+00 - learning_rate: 1.0000e-17\n",
      "Epoch 50/200\n",
      "\u001b[1m3/3\u001b[0m \u001b[32m━━━━━━━━━━━━━━━━━━━━\u001b[0m\u001b[37m\u001b[0m \u001b[1m3s\u001b[0m 1s/step - accuracy: 0.7267 - loss: 0.0763 - precision: 0.8872 - recall: 0.3933 - val_accuracy: 0.5067 - val_loss: 0.1192 - val_precision: 0.0000e+00 - val_recall: 0.0000e+00 - learning_rate: 1.0000e-17\n",
      "Epoch 51/200\n",
      "\u001b[1m3/3\u001b[0m \u001b[32m━━━━━━━━━━━━━━━━━━━━\u001b[0m\u001b[37m\u001b[0m \u001b[1m3s\u001b[0m 911ms/step - accuracy: 0.7233 - loss: 0.0798 - precision: 0.8527 - recall: 0.3667 - val_accuracy: 0.5067 - val_loss: 0.1193 - val_precision: 0.0000e+00 - val_recall: 0.0000e+00 - learning_rate: 1.0000e-17\n",
      "Epoch 52/200\n",
      "\u001b[1m3/3\u001b[0m \u001b[32m━━━━━━━━━━━━━━━━━━━━\u001b[0m\u001b[37m\u001b[0m \u001b[1m3s\u001b[0m 1s/step - accuracy: 0.6767 - loss: 0.0836 - precision: 0.8015 - recall: 0.3500 - val_accuracy: 0.5067 - val_loss: 0.1193 - val_precision: 0.0000e+00 - val_recall: 0.0000e+00 - learning_rate: 1.0000e-18\n",
      "Epoch 53/200\n",
      "\u001b[1m3/3\u001b[0m \u001b[32m━━━━━━━━━━━━━━━━━━━━\u001b[0m\u001b[37m\u001b[0m \u001b[1m3s\u001b[0m 877ms/step - accuracy: 0.7167 - loss: 0.0808 - precision: 0.8592 - recall: 0.4067 - val_accuracy: 0.5067 - val_loss: 0.1194 - val_precision: 0.0000e+00 - val_recall: 0.0000e+00 - learning_rate: 1.0000e-18\n",
      "Epoch 54/200\n",
      "\u001b[1m3/3\u001b[0m \u001b[32m━━━━━━━━━━━━━━━━━━━━\u001b[0m\u001b[37m\u001b[0m \u001b[1m3s\u001b[0m 1s/step - accuracy: 0.7067 - loss: 0.0802 - precision: 0.8770 - recall: 0.3567 - val_accuracy: 0.5067 - val_loss: 0.1195 - val_precision: 0.0000e+00 - val_recall: 0.0000e+00 - learning_rate: 1.0000e-18\n",
      "Epoch 55/200\n",
      "\u001b[1m3/3\u001b[0m \u001b[32m━━━━━━━━━━━━━━━━━━━━\u001b[0m\u001b[37m\u001b[0m \u001b[1m3s\u001b[0m 903ms/step - accuracy: 0.7300 - loss: 0.0794 - precision: 0.8561 - recall: 0.3767 - val_accuracy: 0.5067 - val_loss: 0.1196 - val_precision: 0.0000e+00 - val_recall: 0.0000e+00 - learning_rate: 1.0000e-18\n",
      "Epoch 56/200\n",
      "\u001b[1m3/3\u001b[0m \u001b[32m━━━━━━━━━━━━━━━━━━━━\u001b[0m\u001b[37m\u001b[0m \u001b[1m3s\u001b[0m 1s/step - accuracy: 0.7233 - loss: 0.0758 - precision: 0.8889 - recall: 0.3733 - val_accuracy: 0.5067 - val_loss: 0.1197 - val_precision: 0.0000e+00 - val_recall: 0.0000e+00 - learning_rate: 1.0000e-18\n",
      "Epoch 57/200\n",
      "\u001b[1m3/3\u001b[0m \u001b[32m━━━━━━━━━━━━━━━━━━━━\u001b[0m\u001b[37m\u001b[0m \u001b[1m3s\u001b[0m 981ms/step - accuracy: 0.7267 - loss: 0.0782 - precision: 0.8636 - recall: 0.3800 - val_accuracy: 0.5067 - val_loss: 0.1197 - val_precision: 0.0000e+00 - val_recall: 0.0000e+00 - learning_rate: 1.0000e-18\n",
      "Epoch 58/200\n",
      "\u001b[1m3/3\u001b[0m \u001b[32m━━━━━━━━━━━━━━━━━━━━\u001b[0m\u001b[37m\u001b[0m \u001b[1m3s\u001b[0m 989ms/step - accuracy: 0.7633 - loss: 0.0772 - precision: 0.8582 - recall: 0.3833 - val_accuracy: 0.5067 - val_loss: 0.1198 - val_precision: 0.0000e+00 - val_recall: 0.0000e+00 - learning_rate: 1.0000e-18\n",
      "Epoch 59/200\n",
      "\u001b[1m3/3\u001b[0m \u001b[32m━━━━━━━━━━━━━━━━━━━━\u001b[0m\u001b[37m\u001b[0m \u001b[1m3s\u001b[0m 950ms/step - accuracy: 0.7033 - loss: 0.0815 - precision: 0.8333 - recall: 0.3667 - val_accuracy: 0.4933 - val_loss: 0.1199 - val_precision: 0.0000e+00 - val_recall: 0.0000e+00 - learning_rate: 1.0000e-18\n",
      "Epoch 60/200\n",
      "\u001b[1m3/3\u001b[0m \u001b[32m━━━━━━━━━━━━━━━━━━━━\u001b[0m\u001b[37m\u001b[0m \u001b[1m3s\u001b[0m 1s/step - accuracy: 0.7300 - loss: 0.0778 - precision: 0.8429 - recall: 0.3933 - val_accuracy: 0.4933 - val_loss: 0.1200 - val_precision: 0.0000e+00 - val_recall: 0.0000e+00 - learning_rate: 1.0000e-18\n",
      "Epoch 61/200\n",
      "\u001b[1m3/3\u001b[0m \u001b[32m━━━━━━━━━━━━━━━━━━━━\u001b[0m\u001b[37m\u001b[0m \u001b[1m3s\u001b[0m 847ms/step - accuracy: 0.7167 - loss: 0.0837 - precision: 0.8525 - recall: 0.3467 - val_accuracy: 0.4933 - val_loss: 0.1201 - val_precision: 0.0000e+00 - val_recall: 0.0000e+00 - learning_rate: 1.0000e-18\n",
      "Epoch 62/200\n",
      "\u001b[1m3/3\u001b[0m \u001b[32m━━━━━━━━━━━━━━━━━━━━\u001b[0m\u001b[37m\u001b[0m \u001b[1m3s\u001b[0m 1s/step - accuracy: 0.6833 - loss: 0.0860 - precision: 0.7857 - recall: 0.3300 - val_accuracy: 0.4933 - val_loss: 0.1202 - val_precision: 0.0000e+00 - val_recall: 0.0000e+00 - learning_rate: 1.0000e-19\n",
      "Epoch 63/200\n",
      "\u001b[1m3/3\u001b[0m \u001b[32m━━━━━━━━━━━━━━━━━━━━\u001b[0m\u001b[37m\u001b[0m \u001b[1m3s\u001b[0m 901ms/step - accuracy: 0.7067 - loss: 0.0814 - precision: 0.8413 - recall: 0.3533 - val_accuracy: 0.4933 - val_loss: 0.1203 - val_precision: 0.0000e+00 - val_recall: 0.0000e+00 - learning_rate: 1.0000e-19\n",
      "Epoch 64/200\n",
      "\u001b[1m3/3\u001b[0m \u001b[32m━━━━━━━━━━━━━━━━━━━━\u001b[0m\u001b[37m\u001b[0m \u001b[1m4s\u001b[0m 1s/step - accuracy: 0.7300 - loss: 0.0787 - precision: 0.8682 - recall: 0.3733 - val_accuracy: 0.4933 - val_loss: 0.1204 - val_precision: 0.0000e+00 - val_recall: 0.0000e+00 - learning_rate: 1.0000e-19\n",
      "Epoch 65/200\n",
      "\u001b[1m3/3\u001b[0m \u001b[32m━━━━━━━━━━━━━━━━━━━━\u001b[0m\u001b[37m\u001b[0m \u001b[1m4s\u001b[0m 1s/step - accuracy: 0.6800 - loss: 0.0872 - precision: 0.8175 - recall: 0.3433 - val_accuracy: 0.4933 - val_loss: 0.1205 - val_precision: 0.0000e+00 - val_recall: 0.0000e+00 - learning_rate: 1.0000e-19\n",
      "Epoch 66/200\n",
      "\u001b[1m3/3\u001b[0m \u001b[32m━━━━━━━━━━━━━━━━━━━━\u001b[0m\u001b[37m\u001b[0m \u001b[1m4s\u001b[0m 1s/step - accuracy: 0.7033 - loss: 0.0798 - precision: 0.8682 - recall: 0.3733 - val_accuracy: 0.4933 - val_loss: 0.1206 - val_precision: 0.0000e+00 - val_recall: 0.0000e+00 - learning_rate: 1.0000e-19\n",
      "Epoch 67/200\n",
      "\u001b[1m3/3\u001b[0m \u001b[32m━━━━━━━━━━━━━━━━━━━━\u001b[0m\u001b[37m\u001b[0m \u001b[1m3s\u001b[0m 961ms/step - accuracy: 0.7233 - loss: 0.0788 - precision: 0.8582 - recall: 0.3833 - val_accuracy: 0.4933 - val_loss: 0.1207 - val_precision: 0.0000e+00 - val_recall: 0.0000e+00 - learning_rate: 1.0000e-19\n",
      "Epoch 68/200\n",
      "\u001b[1m3/3\u001b[0m \u001b[32m━━━━━━━━━━━━━━━━━━━━\u001b[0m\u001b[37m\u001b[0m \u001b[1m3s\u001b[0m 1s/step - accuracy: 0.7167 - loss: 0.0806 - precision: 0.8615 - recall: 0.3733 - val_accuracy: 0.4933 - val_loss: 0.1208 - val_precision: 0.0000e+00 - val_recall: 0.0000e+00 - learning_rate: 1.0000e-19\n",
      "Epoch 69/200\n",
      "\u001b[1m3/3\u001b[0m \u001b[32m━━━━━━━━━━━━━━━━━━━━\u001b[0m\u001b[37m\u001b[0m \u001b[1m3s\u001b[0m 971ms/step - accuracy: 0.7200 - loss: 0.0804 - precision: 0.8450 - recall: 0.3633 - val_accuracy: 0.5067 - val_loss: 0.1209 - val_precision: 0.0000e+00 - val_recall: 0.0000e+00 - learning_rate: 1.0000e-19\n",
      "Epoch 70/200\n",
      "\u001b[1m3/3\u001b[0m \u001b[32m━━━━━━━━━━━━━━━━━━━━\u001b[0m\u001b[37m\u001b[0m \u001b[1m4s\u001b[0m 1s/step - accuracy: 0.7367 - loss: 0.0776 - precision: 0.8672 - recall: 0.3700 - val_accuracy: 0.5067 - val_loss: 0.1210 - val_precision: 0.0000e+00 - val_recall: 0.0000e+00 - learning_rate: 1.0000e-19\n",
      "Epoch 71/200\n",
      "\u001b[1m3/3\u001b[0m \u001b[32m━━━━━━━━━━━━━━━━━━━━\u001b[0m\u001b[37m\u001b[0m \u001b[1m3s\u001b[0m 954ms/step - accuracy: 0.7067 - loss: 0.0775 - precision: 0.8357 - recall: 0.3900 - val_accuracy: 0.5067 - val_loss: 0.1211 - val_precision: 0.0000e+00 - val_recall: 0.0000e+00 - learning_rate: 1.0000e-19\n",
      "Epoch 72/200\n",
      "\u001b[1m3/3\u001b[0m \u001b[32m━━━━━━━━━━━━━━━━━━━━\u001b[0m\u001b[37m\u001b[0m \u001b[1m3s\u001b[0m 973ms/step - accuracy: 0.7200 - loss: 0.0785 - precision: 0.8824 - recall: 0.4000 - val_accuracy: 0.5067 - val_loss: 0.1212 - val_precision: 0.0000e+00 - val_recall: 0.0000e+00 - learning_rate: 1.0000e-20\n",
      "Epoch 73/200\n",
      "\u001b[1m3/3\u001b[0m \u001b[32m━━━━━━━━━━━━━━━━━━━━\u001b[0m\u001b[37m\u001b[0m \u001b[1m3s\u001b[0m 901ms/step - accuracy: 0.7367 - loss: 0.0810 - precision: 0.8321 - recall: 0.3800 - val_accuracy: 0.5067 - val_loss: 0.1214 - val_precision: 0.0000e+00 - val_recall: 0.0000e+00 - learning_rate: 1.0000e-20\n",
      "Epoch 74/200\n",
      "\u001b[1m3/3\u001b[0m \u001b[32m━━━━━━━━━━━━━━━━━━━━\u001b[0m\u001b[37m\u001b[0m \u001b[1m3s\u001b[0m 1s/step - accuracy: 0.7133 - loss: 0.0837 - precision: 0.8429 - recall: 0.3933 - val_accuracy: 0.5067 - val_loss: 0.1215 - val_precision: 0.0000e+00 - val_recall: 0.0000e+00 - learning_rate: 1.0000e-20\n",
      "Epoch 75/200\n",
      "\u001b[1m3/3\u001b[0m \u001b[32m━━━━━━━━━━━━━━━━━━━━\u001b[0m\u001b[37m\u001b[0m \u001b[1m4s\u001b[0m 1s/step - accuracy: 0.7233 - loss: 0.0801 - precision: 0.8235 - recall: 0.3733 - val_accuracy: 0.5067 - val_loss: 0.1216 - val_precision: 0.0000e+00 - val_recall: 0.0000e+00 - learning_rate: 1.0000e-20\n",
      "Epoch 76/200\n",
      "\u001b[1m3/3\u001b[0m \u001b[32m━━━━━━━━━━━━━━━━━━━━\u001b[0m\u001b[37m\u001b[0m \u001b[1m3s\u001b[0m 933ms/step - accuracy: 0.7033 - loss: 0.0831 - precision: 0.8361 - recall: 0.3400 - val_accuracy: 0.5067 - val_loss: 0.1217 - val_precision: 0.0000e+00 - val_recall: 0.0000e+00 - learning_rate: 1.0000e-20\n",
      "Epoch 77/200\n",
      "\u001b[1m3/3\u001b[0m \u001b[32m━━━━━━━━━━━━━━━━━━━━\u001b[0m\u001b[37m\u001b[0m \u001b[1m3s\u001b[0m 987ms/step - accuracy: 0.6867 - loss: 0.0832 - precision: 0.8346 - recall: 0.3533 - val_accuracy: 0.5067 - val_loss: 0.1219 - val_precision: 0.2000 - val_recall: 0.0133 - learning_rate: 1.0000e-20\n",
      "Epoch 78/200\n",
      "\u001b[1m3/3\u001b[0m \u001b[32m━━━━━━━━━━━━━━━━━━━━\u001b[0m\u001b[37m\u001b[0m \u001b[1m3s\u001b[0m 902ms/step - accuracy: 0.7200 - loss: 0.0776 - precision: 0.8750 - recall: 0.3733 - val_accuracy: 0.5067 - val_loss: 0.1220 - val_precision: 0.2000 - val_recall: 0.0133 - learning_rate: 1.0000e-20\n",
      "Epoch 79/200\n",
      "\u001b[1m3/3\u001b[0m \u001b[32m━━━━━━━━━━━━━━━━━━━━\u001b[0m\u001b[37m\u001b[0m \u001b[1m3s\u001b[0m 896ms/step - accuracy: 0.7100 - loss: 0.0769 - precision: 0.8571 - recall: 0.3800 - val_accuracy: 0.5067 - val_loss: 0.1221 - val_precision: 0.2000 - val_recall: 0.0133 - learning_rate: 1.0000e-20\n",
      "Epoch 80/200\n",
      "\u001b[1m3/3\u001b[0m \u001b[32m━━━━━━━━━━━━━━━━━━━━\u001b[0m\u001b[37m\u001b[0m \u001b[1m3s\u001b[0m 855ms/step - accuracy: 0.7333 - loss: 0.0785 - precision: 0.8607 - recall: 0.3500 - val_accuracy: 0.5067 - val_loss: 0.1223 - val_precision: 0.2000 - val_recall: 0.0133 - learning_rate: 1.0000e-20\n",
      "Epoch 81/200\n",
      "\u001b[1m3/3\u001b[0m \u001b[32m━━━━━━━━━━━━━━━━━━━━\u001b[0m\u001b[37m\u001b[0m \u001b[1m3s\u001b[0m 877ms/step - accuracy: 0.7367 - loss: 0.0812 - precision: 0.8258 - recall: 0.3633 - val_accuracy: 0.5067 - val_loss: 0.1224 - val_precision: 0.1667 - val_recall: 0.0133 - learning_rate: 1.0000e-20\n",
      "Epoch 82/200\n",
      "\u001b[1m3/3\u001b[0m \u001b[32m━━━━━━━━━━━━━━━━━━━━\u001b[0m\u001b[37m\u001b[0m \u001b[1m3s\u001b[0m 1s/step - accuracy: 0.7133 - loss: 0.0836 - precision: 0.8387 - recall: 0.3467 - val_accuracy: 0.5067 - val_loss: 0.1226 - val_precision: 0.1667 - val_recall: 0.0133 - learning_rate: 1.0000e-21\n",
      "Epoch 83/200\n",
      "\u001b[1m3/3\u001b[0m \u001b[32m━━━━━━━━━━━━━━━━━━━━\u001b[0m\u001b[37m\u001b[0m \u001b[1m3s\u001b[0m 1s/step - accuracy: 0.7067 - loss: 0.0829 - precision: 0.8074 - recall: 0.3633 - val_accuracy: 0.5067 - val_loss: 0.1227 - val_precision: 0.1667 - val_recall: 0.0133 - learning_rate: 1.0000e-21\n",
      "Epoch 84/200\n",
      "\u001b[1m3/3\u001b[0m \u001b[32m━━━━━━━━━━━━━━━━━━━━\u001b[0m\u001b[37m\u001b[0m \u001b[1m3s\u001b[0m 929ms/step - accuracy: 0.6967 - loss: 0.0803 - precision: 0.8244 - recall: 0.3600 - val_accuracy: 0.5067 - val_loss: 0.1229 - val_precision: 0.1667 - val_recall: 0.0133 - learning_rate: 1.0000e-21\n",
      "Epoch 85/200\n",
      "\u001b[1m3/3\u001b[0m \u001b[32m━━━━━━━━━━━━━━━━━━━━\u001b[0m\u001b[37m\u001b[0m \u001b[1m3s\u001b[0m 1s/step - accuracy: 0.7267 - loss: 0.0777 - precision: 0.8560 - recall: 0.3567 - val_accuracy: 0.5067 - val_loss: 0.1230 - val_precision: 0.1667 - val_recall: 0.0133 - learning_rate: 1.0000e-21\n",
      "Epoch 86/200\n",
      "\u001b[1m3/3\u001b[0m \u001b[32m━━━━━━━━━━━━━━━━━━━━\u001b[0m\u001b[37m\u001b[0m \u001b[1m3s\u001b[0m 939ms/step - accuracy: 0.7267 - loss: 0.0781 - precision: 0.8618 - recall: 0.3533 - val_accuracy: 0.5067 - val_loss: 0.1232 - val_precision: 0.1667 - val_recall: 0.0133 - learning_rate: 1.0000e-21\n",
      "Epoch 87/200\n",
      "\u001b[1m3/3\u001b[0m \u001b[32m━━━━━━━━━━━━━━━━━━━━\u001b[0m\u001b[37m\u001b[0m \u001b[1m3s\u001b[0m 1s/step - accuracy: 0.7100 - loss: 0.0791 - precision: 0.7881 - recall: 0.3100 - val_accuracy: 0.5067 - val_loss: 0.1233 - val_precision: 0.1667 - val_recall: 0.0133 - learning_rate: 1.0000e-21\n",
      "Epoch 88/200\n",
      "\u001b[1m3/3\u001b[0m \u001b[32m━━━━━━━━━━━━━━━━━━━━\u001b[0m\u001b[37m\u001b[0m \u001b[1m3s\u001b[0m 840ms/step - accuracy: 0.7300 - loss: 0.0805 - precision: 0.8519 - recall: 0.3833 - val_accuracy: 0.5067 - val_loss: 0.1235 - val_precision: 0.1667 - val_recall: 0.0133 - learning_rate: 1.0000e-21\n",
      "Epoch 89/200\n",
      "\u001b[1m3/3\u001b[0m \u001b[32m━━━━━━━━━━━━━━━━━━━━\u001b[0m\u001b[37m\u001b[0m \u001b[1m4s\u001b[0m 1s/step - accuracy: 0.6867 - loss: 0.0803 - precision: 0.8480 - recall: 0.3533 - val_accuracy: 0.5067 - val_loss: 0.1236 - val_precision: 0.1667 - val_recall: 0.0133 - learning_rate: 1.0000e-21\n",
      "Epoch 90/200\n",
      "\u001b[1m3/3\u001b[0m \u001b[32m━━━━━━━━━━━━━━━━━━━━\u001b[0m\u001b[37m\u001b[0m \u001b[1m3s\u001b[0m 979ms/step - accuracy: 0.7167 - loss: 0.0794 - precision: 0.8672 - recall: 0.3700 - val_accuracy: 0.4933 - val_loss: 0.1238 - val_precision: 0.1667 - val_recall: 0.0133 - learning_rate: 1.0000e-21\n",
      "Epoch 91/200\n",
      "\u001b[1m3/3\u001b[0m \u001b[32m━━━━━━━━━━━━━━━━━━━━\u001b[0m\u001b[37m\u001b[0m \u001b[1m3s\u001b[0m 938ms/step - accuracy: 0.6833 - loss: 0.0869 - precision: 0.8060 - recall: 0.3600 - val_accuracy: 0.4933 - val_loss: 0.1240 - val_precision: 0.1429 - val_recall: 0.0133 - learning_rate: 1.0000e-21\n",
      "Epoch 92/200\n",
      "\u001b[1m3/3\u001b[0m \u001b[32m━━━━━━━━━━━━━━━━━━━━\u001b[0m\u001b[37m\u001b[0m \u001b[1m4s\u001b[0m 1s/step - accuracy: 0.7267 - loss: 0.0772 - precision: 0.8444 - recall: 0.3800 - val_accuracy: 0.4933 - val_loss: 0.1242 - val_precision: 0.1429 - val_recall: 0.0133 - learning_rate: 1.0000e-22\n",
      "Epoch 93/200\n",
      "\u001b[1m3/3\u001b[0m \u001b[32m━━━━━━━━━━━━━━━━━━━━\u001b[0m\u001b[37m\u001b[0m \u001b[1m3s\u001b[0m 1s/step - accuracy: 0.7200 - loss: 0.0795 - precision: 0.8372 - recall: 0.3600 - val_accuracy: 0.4933 - val_loss: 0.1244 - val_precision: 0.1429 - val_recall: 0.0133 - learning_rate: 1.0000e-22\n",
      "Epoch 94/200\n",
      "\u001b[1m3/3\u001b[0m \u001b[32m━━━━━━━━━━━━━━━━━━━━\u001b[0m\u001b[37m\u001b[0m \u001b[1m3s\u001b[0m 1s/step - accuracy: 0.7433 - loss: 0.0770 - precision: 0.8769 - recall: 0.3800 - val_accuracy: 0.4933 - val_loss: 0.1245 - val_precision: 0.1429 - val_recall: 0.0133 - learning_rate: 1.0000e-22\n",
      "Epoch 95/200\n",
      "\u001b[1m3/3\u001b[0m \u001b[32m━━━━━━━━━━━━━━━━━━━━\u001b[0m\u001b[37m\u001b[0m \u001b[1m3s\u001b[0m 1s/step - accuracy: 0.7333 - loss: 0.0796 - precision: 0.8800 - recall: 0.3667 - val_accuracy: 0.4933 - val_loss: 0.1247 - val_precision: 0.1429 - val_recall: 0.0133 - learning_rate: 1.0000e-22\n",
      "Epoch 96/200\n",
      "\u001b[1m3/3\u001b[0m \u001b[32m━━━━━━━━━━━━━━━━━━━━\u001b[0m\u001b[37m\u001b[0m \u001b[1m4s\u001b[0m 1s/step - accuracy: 0.7000 - loss: 0.0783 - precision: 0.8261 - recall: 0.3800 - val_accuracy: 0.4933 - val_loss: 0.1249 - val_precision: 0.1429 - val_recall: 0.0133 - learning_rate: 1.0000e-22\n",
      "Epoch 97/200\n",
      "\u001b[1m3/3\u001b[0m \u001b[32m━━━━━━━━━━━━━━━━━━━━\u001b[0m\u001b[37m\u001b[0m \u001b[1m4s\u001b[0m 1s/step - accuracy: 0.7200 - loss: 0.0786 - precision: 0.8626 - recall: 0.3767 - val_accuracy: 0.4933 - val_loss: 0.1251 - val_precision: 0.1429 - val_recall: 0.0133 - learning_rate: 1.0000e-22\n",
      "Epoch 98/200\n",
      "\u001b[1m3/3\u001b[0m \u001b[32m━━━━━━━━━━━━━━━━━━━━\u001b[0m\u001b[37m\u001b[0m \u001b[1m3s\u001b[0m 932ms/step - accuracy: 0.6967 - loss: 0.0843 - precision: 0.8140 - recall: 0.3500 - val_accuracy: 0.4933 - val_loss: 0.1253 - val_precision: 0.1429 - val_recall: 0.0133 - learning_rate: 1.0000e-22\n",
      "Epoch 99/200\n",
      "\u001b[1m3/3\u001b[0m \u001b[32m━━━━━━━━━━━━━━━━━━━━\u001b[0m\u001b[37m\u001b[0m \u001b[1m4s\u001b[0m 1s/step - accuracy: 0.7133 - loss: 0.0760 - precision: 0.8768 - recall: 0.4033 - val_accuracy: 0.4933 - val_loss: 0.1255 - val_precision: 0.1429 - val_recall: 0.0133 - learning_rate: 1.0000e-22\n",
      "Epoch 100/200\n",
      "\u001b[1m3/3\u001b[0m \u001b[32m━━━━━━━━━━━━━━━━━━━━\u001b[0m\u001b[37m\u001b[0m \u001b[1m3s\u001b[0m 997ms/step - accuracy: 0.7167 - loss: 0.0791 - precision: 0.8583 - recall: 0.3633 - val_accuracy: 0.4933 - val_loss: 0.1257 - val_precision: 0.1250 - val_recall: 0.0133 - learning_rate: 1.0000e-22\n",
      "Epoch 101/200\n",
      "\u001b[1m3/3\u001b[0m \u001b[32m━━━━━━━━━━━━━━━━━━━━\u001b[0m\u001b[37m\u001b[0m \u001b[1m3s\u001b[0m 910ms/step - accuracy: 0.7233 - loss: 0.0807 - precision: 0.8462 - recall: 0.3300 - val_accuracy: 0.4933 - val_loss: 0.1259 - val_precision: 0.1250 - val_recall: 0.0133 - learning_rate: 1.0000e-22\n"
     ]
    }
   ],
   "source": [
    "es = EarlyStopping(\n",
    "    monitor=\"val_loss\",\n",
    "    patience=100,\n",
    "    restore_best_weights=True,\n",
    "    verbose=0\n",
    ")\n",
    "\n",
    "reduce_lr = ReduceLROnPlateau(\n",
    "        monitor='val_loss'\n",
    "    )\n",
    "\n",
    "history = model_lstm.fit(\n",
    "    X_train_nn,\n",
    "    y_train_cat,\n",
    "    validation_split = 0.2,\n",
    "    epochs=200,\n",
    "    batch_size = 124,\n",
    "    callbacks=[es, reduce_lr],\n",
    "    verbose=1\n",
    ")"
   ]
  },
  {
   "cell_type": "code",
   "execution_count": 24,
   "id": "73954299",
   "metadata": {},
   "outputs": [
    {
     "name": "stdout",
     "output_type": "stream",
     "text": [
      "\u001b[1m3/3\u001b[0m \u001b[32m━━━━━━━━━━━━━━━━━━━━\u001b[0m\u001b[37m\u001b[0m \u001b[1m0s\u001b[0m 147ms/step - accuracy: 0.5851 - loss: 0.9689 - precision: 0.6000 - recall: 0.5106\n"
     ]
    },
    {
     "data": {
      "text/plain": [
       "[0.9688957929611206, 0.585106372833252, 0.6000000238418579, 0.5106382966041565]"
      ]
     },
     "execution_count": 24,
     "metadata": {},
     "output_type": "execute_result"
    }
   ],
   "source": [
    "model_lstm.evaluate(X_test_nn, y_test_cat)"
   ]
  },
  {
   "cell_type": "code",
   "execution_count": 25,
   "id": "8816a672",
   "metadata": {},
   "outputs": [
    {
     "name": "stdout",
     "output_type": "stream",
     "text": [
      "\u001b[1m3/3\u001b[0m \u001b[32m━━━━━━━━━━━━━━━━━━━━\u001b[0m\u001b[37m\u001b[0m \u001b[1m1s\u001b[0m 217ms/step\n"
     ]
    },
    {
     "data": {
      "text/plain": [
       "array([1, 1, 1, 1, 1, 1, 1, 1, 1, 1, 1, 1, 1, 1, 1, 1, 1, 1, 1, 1, 1, 1,\n",
       "       1, 1, 1, 1, 1, 1, 1, 1, 1, 1, 1, 1, 1, 1, 1, 1, 1, 1, 1, 1, 1, 1,\n",
       "       1, 1, 1, 1, 1, 1, 1, 1, 1, 1, 1, 1, 1, 1, 1, 1, 1, 1, 1, 1, 1, 1,\n",
       "       1, 1, 2, 1, 1, 1, 1, 1, 1, 1, 1, 1, 1, 1, 1, 1, 1, 1, 1, 1, 1, 1,\n",
       "       1, 1, 1, 2, 1, 1])"
      ]
     },
     "execution_count": 25,
     "metadata": {},
     "output_type": "execute_result"
    }
   ],
   "source": [
    "y_pred = model_lstm.predict(X_test_nn)\n",
    "y_pred_cat = np.argmax(y_pred,axis =1)\n",
    "y_pred_cat"
   ]
  },
  {
   "cell_type": "code",
   "execution_count": 26,
   "id": "6f4f46f8",
   "metadata": {},
   "outputs": [
    {
     "name": "stdout",
     "output_type": "stream",
     "text": [
      "[0 1 0 0 2 1 0 1 2 0 1 1 1 2 1 1 1 2 1 2 1 1 0 1 2 1 1 1 1 1 1 2 2 2 2 1 1\n",
      " 1 1 0 1 2 0 0 0 2 1 1 1 1 1 2 1 2 0 1 0 1 1 2 1 1 1 1 1 2 1 1 1 0 1 2 1 1\n",
      " 1 0 1 0 2 1 1 1 1 1 1 2 2 1 2 2 1 2 1 0] [1 1 1 1 1 1 1 1 1 1 1 1 1 1 1 1 1 1 1 1 1 1 1 1 1 1 1 1 1 1 1 1 1 1 1 1 1\n",
      " 1 1 1 1 1 1 1 1 1 1 1 1 1 1 1 1 1 1 1 1 1 1 1 1 1 1 1 1 1 1 1 2 1 1 1 1 1\n",
      " 1 1 1 1 1 1 1 1 1 1 1 1 1 1 1 1 1 2 1 1]\n",
      "[16. 55. 23.]\n",
      "(array([1, 2]), array([92,  2]))\n"
     ]
    }
   ],
   "source": [
    "balanced_accuracy_score(y_test, y_pred_cat)\n",
    "\n",
    "print(y_test, y_pred_cat)\n",
    "print(np.sum(y_test_cat, axis = 0))\n",
    "print(np.unique(y_pred_cat, axis = 0,return_counts =True))"
   ]
  }
 ],
 "metadata": {
  "kernelspec": {
   "display_name": "spark",
   "language": "python",
   "name": "python3"
  },
  "language_info": {
   "codemirror_mode": {
    "name": "ipython",
    "version": 3
   },
   "file_extension": ".py",
   "mimetype": "text/x-python",
   "name": "python",
   "nbconvert_exporter": "python",
   "pygments_lexer": "ipython3",
   "version": "3.10.6"
  }
 },
 "nbformat": 4,
 "nbformat_minor": 5
}
