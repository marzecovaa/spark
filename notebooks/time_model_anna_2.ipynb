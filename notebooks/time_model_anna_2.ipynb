{
 "cells": [
  {
   "cell_type": "markdown",
   "id": "c179ca3a",
   "metadata": {},
   "source": [
    "# TIME series model prototype"
   ]
  },
  {
   "cell_type": "code",
   "execution_count": 37,
   "id": "88ced4f0",
   "metadata": {},
   "outputs": [],
   "source": [
    "import pandas as pd\n",
    "import numpy as np\n",
    "from sklearn.model_selection import train_test_split, StratifiedKFold\n",
    "\n",
    "from tensorflow.keras.models import Sequential\n",
    "from tensorflow.keras.layers import LSTM, Masking, Input\n",
    "from tensorflow.keras.optimizers import Adam\n",
    "from tensorflow.keras import Model, regularizers, layers\n",
    "from tensorflow.keras.callbacks import EarlyStopping, ReduceLROnPlateau\n",
    "from tensorflow.keras.utils import to_categorical"
   ]
  },
  {
   "cell_type": "markdown",
   "id": "9cded95f",
   "metadata": {},
   "source": [
    "## Loading time series "
   ]
  },
  {
   "cell_type": "code",
   "execution_count": 38,
   "id": "276a0c4c",
   "metadata": {},
   "outputs": [],
   "source": [
    "raw_data_prep_dir = '../raw_data/pads-parkinsons-disease-smartwatch-dataset-1.0.0/preprocessed/'"
   ]
  },
  {
   "cell_type": "code",
   "execution_count": 39,
   "id": "3a5e6883",
   "metadata": {},
   "outputs": [
    {
     "data": {
      "text/html": [
       "<div>\n",
       "<style scoped>\n",
       "    .dataframe tbody tr th:only-of-type {\n",
       "        vertical-align: middle;\n",
       "    }\n",
       "\n",
       "    .dataframe tbody tr th {\n",
       "        vertical-align: top;\n",
       "    }\n",
       "\n",
       "    .dataframe thead th {\n",
       "        text-align: right;\n",
       "    }\n",
       "</style>\n",
       "<table border=\"1\" class=\"dataframe\">\n",
       "  <thead>\n",
       "    <tr style=\"text-align: right;\">\n",
       "      <th></th>\n",
       "      <th>resource_type</th>\n",
       "      <th>id</th>\n",
       "      <th>study_id</th>\n",
       "      <th>condition</th>\n",
       "      <th>disease_comment</th>\n",
       "      <th>age_at_diagnosis</th>\n",
       "      <th>age</th>\n",
       "      <th>height</th>\n",
       "      <th>weight</th>\n",
       "      <th>gender</th>\n",
       "      <th>handedness</th>\n",
       "      <th>appearance_in_kinship</th>\n",
       "      <th>appearance_in_first_grade_kinship</th>\n",
       "      <th>effect_of_alcohol_on_tremor</th>\n",
       "      <th>label</th>\n",
       "    </tr>\n",
       "  </thead>\n",
       "  <tbody>\n",
       "    <tr>\n",
       "      <th>0</th>\n",
       "      <td>patient</td>\n",
       "      <td>1</td>\n",
       "      <td>PADS</td>\n",
       "      <td>Healthy</td>\n",
       "      <td>-</td>\n",
       "      <td>56</td>\n",
       "      <td>56</td>\n",
       "      <td>173</td>\n",
       "      <td>78</td>\n",
       "      <td>male</td>\n",
       "      <td>right</td>\n",
       "      <td>True</td>\n",
       "      <td>True</td>\n",
       "      <td>Unknown</td>\n",
       "      <td>0</td>\n",
       "    </tr>\n",
       "    <tr>\n",
       "      <th>1</th>\n",
       "      <td>patient</td>\n",
       "      <td>2</td>\n",
       "      <td>PADS</td>\n",
       "      <td>Other Movement Disorders</td>\n",
       "      <td>Left-Sided resting tremor and hypokinesia with...</td>\n",
       "      <td>69</td>\n",
       "      <td>81</td>\n",
       "      <td>193</td>\n",
       "      <td>104</td>\n",
       "      <td>male</td>\n",
       "      <td>right</td>\n",
       "      <td>False</td>\n",
       "      <td>NaN</td>\n",
       "      <td>No effect</td>\n",
       "      <td>2</td>\n",
       "    </tr>\n",
       "    <tr>\n",
       "      <th>2</th>\n",
       "      <td>patient</td>\n",
       "      <td>3</td>\n",
       "      <td>PADS</td>\n",
       "      <td>Healthy</td>\n",
       "      <td>-</td>\n",
       "      <td>45</td>\n",
       "      <td>45</td>\n",
       "      <td>170</td>\n",
       "      <td>78</td>\n",
       "      <td>female</td>\n",
       "      <td>right</td>\n",
       "      <td>False</td>\n",
       "      <td>NaN</td>\n",
       "      <td>Unknown</td>\n",
       "      <td>0</td>\n",
       "    </tr>\n",
       "    <tr>\n",
       "      <th>3</th>\n",
       "      <td>patient</td>\n",
       "      <td>4</td>\n",
       "      <td>PADS</td>\n",
       "      <td>Parkinson's</td>\n",
       "      <td>IPS akinetic-rigid type</td>\n",
       "      <td>63</td>\n",
       "      <td>67</td>\n",
       "      <td>161</td>\n",
       "      <td>90</td>\n",
       "      <td>female</td>\n",
       "      <td>right</td>\n",
       "      <td>False</td>\n",
       "      <td>NaN</td>\n",
       "      <td>No effect</td>\n",
       "      <td>1</td>\n",
       "    </tr>\n",
       "    <tr>\n",
       "      <th>4</th>\n",
       "      <td>patient</td>\n",
       "      <td>5</td>\n",
       "      <td>PADS</td>\n",
       "      <td>Parkinson's</td>\n",
       "      <td>IPS tremordominant type</td>\n",
       "      <td>65</td>\n",
       "      <td>75</td>\n",
       "      <td>172</td>\n",
       "      <td>86</td>\n",
       "      <td>male</td>\n",
       "      <td>left</td>\n",
       "      <td>False</td>\n",
       "      <td>NaN</td>\n",
       "      <td>Unknown</td>\n",
       "      <td>1</td>\n",
       "    </tr>\n",
       "    <tr>\n",
       "      <th>...</th>\n",
       "      <td>...</td>\n",
       "      <td>...</td>\n",
       "      <td>...</td>\n",
       "      <td>...</td>\n",
       "      <td>...</td>\n",
       "      <td>...</td>\n",
       "      <td>...</td>\n",
       "      <td>...</td>\n",
       "      <td>...</td>\n",
       "      <td>...</td>\n",
       "      <td>...</td>\n",
       "      <td>...</td>\n",
       "      <td>...</td>\n",
       "      <td>...</td>\n",
       "      <td>...</td>\n",
       "    </tr>\n",
       "    <tr>\n",
       "      <th>464</th>\n",
       "      <td>patient</td>\n",
       "      <td>465</td>\n",
       "      <td>PADS</td>\n",
       "      <td>Parkinson's</td>\n",
       "      <td>IPS mixed type</td>\n",
       "      <td>62</td>\n",
       "      <td>65</td>\n",
       "      <td>175</td>\n",
       "      <td>80</td>\n",
       "      <td>male</td>\n",
       "      <td>right</td>\n",
       "      <td>True</td>\n",
       "      <td>False</td>\n",
       "      <td>No effect</td>\n",
       "      <td>1</td>\n",
       "    </tr>\n",
       "    <tr>\n",
       "      <th>465</th>\n",
       "      <td>patient</td>\n",
       "      <td>466</td>\n",
       "      <td>PADS</td>\n",
       "      <td>Healthy</td>\n",
       "      <td>-</td>\n",
       "      <td>84</td>\n",
       "      <td>84</td>\n",
       "      <td>172</td>\n",
       "      <td>74</td>\n",
       "      <td>female</td>\n",
       "      <td>right</td>\n",
       "      <td>True</td>\n",
       "      <td>True</td>\n",
       "      <td>No effect</td>\n",
       "      <td>0</td>\n",
       "    </tr>\n",
       "    <tr>\n",
       "      <th>466</th>\n",
       "      <td>patient</td>\n",
       "      <td>467</td>\n",
       "      <td>PADS</td>\n",
       "      <td>Parkinson's</td>\n",
       "      <td>Essential Tremor, starting IPS tremordominant ...</td>\n",
       "      <td>55</td>\n",
       "      <td>57</td>\n",
       "      <td>190</td>\n",
       "      <td>100</td>\n",
       "      <td>male</td>\n",
       "      <td>right</td>\n",
       "      <td>False</td>\n",
       "      <td>NaN</td>\n",
       "      <td>Improvement</td>\n",
       "      <td>1</td>\n",
       "    </tr>\n",
       "    <tr>\n",
       "      <th>467</th>\n",
       "      <td>patient</td>\n",
       "      <td>468</td>\n",
       "      <td>PADS</td>\n",
       "      <td>Parkinson's</td>\n",
       "      <td>IPS mixed type</td>\n",
       "      <td>73</td>\n",
       "      <td>76</td>\n",
       "      <td>198</td>\n",
       "      <td>118</td>\n",
       "      <td>male</td>\n",
       "      <td>right</td>\n",
       "      <td>False</td>\n",
       "      <td>NaN</td>\n",
       "      <td>No effect</td>\n",
       "      <td>1</td>\n",
       "    </tr>\n",
       "    <tr>\n",
       "      <th>468</th>\n",
       "      <td>patient</td>\n",
       "      <td>469</td>\n",
       "      <td>PADS</td>\n",
       "      <td>Parkinson's</td>\n",
       "      <td>IPS tremordominant type</td>\n",
       "      <td>44</td>\n",
       "      <td>54</td>\n",
       "      <td>165</td>\n",
       "      <td>67</td>\n",
       "      <td>female</td>\n",
       "      <td>right</td>\n",
       "      <td>False</td>\n",
       "      <td>NaN</td>\n",
       "      <td>Unknown</td>\n",
       "      <td>1</td>\n",
       "    </tr>\n",
       "  </tbody>\n",
       "</table>\n",
       "<p>469 rows × 15 columns</p>\n",
       "</div>"
      ],
      "text/plain": [
       "    resource_type   id study_id                 condition  \\\n",
       "0         patient    1     PADS                   Healthy   \n",
       "1         patient    2     PADS  Other Movement Disorders   \n",
       "2         patient    3     PADS                   Healthy   \n",
       "3         patient    4     PADS               Parkinson's   \n",
       "4         patient    5     PADS               Parkinson's   \n",
       "..            ...  ...      ...                       ...   \n",
       "464       patient  465     PADS               Parkinson's   \n",
       "465       patient  466     PADS                   Healthy   \n",
       "466       patient  467     PADS               Parkinson's   \n",
       "467       patient  468     PADS               Parkinson's   \n",
       "468       patient  469     PADS               Parkinson's   \n",
       "\n",
       "                                       disease_comment  age_at_diagnosis  age  \\\n",
       "0                                                    -                56   56   \n",
       "1    Left-Sided resting tremor and hypokinesia with...                69   81   \n",
       "2                                                    -                45   45   \n",
       "3                              IPS akinetic-rigid type                63   67   \n",
       "4                              IPS tremordominant type                65   75   \n",
       "..                                                 ...               ...  ...   \n",
       "464                                     IPS mixed type                62   65   \n",
       "465                                                  -                84   84   \n",
       "466  Essential Tremor, starting IPS tremordominant ...                55   57   \n",
       "467                                     IPS mixed type                73   76   \n",
       "468                            IPS tremordominant type                44   54   \n",
       "\n",
       "     height  weight  gender handedness  appearance_in_kinship  \\\n",
       "0       173      78    male      right                   True   \n",
       "1       193     104    male      right                  False   \n",
       "2       170      78  female      right                  False   \n",
       "3       161      90  female      right                  False   \n",
       "4       172      86    male       left                  False   \n",
       "..      ...     ...     ...        ...                    ...   \n",
       "464     175      80    male      right                   True   \n",
       "465     172      74  female      right                   True   \n",
       "466     190     100    male      right                  False   \n",
       "467     198     118    male      right                  False   \n",
       "468     165      67  female      right                  False   \n",
       "\n",
       "    appearance_in_first_grade_kinship effect_of_alcohol_on_tremor  label  \n",
       "0                                True                     Unknown      0  \n",
       "1                                 NaN                   No effect      2  \n",
       "2                                 NaN                     Unknown      0  \n",
       "3                                 NaN                   No effect      1  \n",
       "4                                 NaN                     Unknown      1  \n",
       "..                                ...                         ...    ...  \n",
       "464                             False                   No effect      1  \n",
       "465                              True                   No effect      0  \n",
       "466                               NaN                 Improvement      1  \n",
       "467                               NaN                   No effect      1  \n",
       "468                               NaN                     Unknown      1  \n",
       "\n",
       "[469 rows x 15 columns]"
      ]
     },
     "execution_count": 39,
     "metadata": {},
     "output_type": "execute_result"
    }
   ],
   "source": [
    "file_list = pd.read_csv(raw_data_prep_dir  + \"file_list.csv\")\n",
    "file_list"
   ]
  },
  {
   "cell_type": "code",
   "execution_count": 40,
   "id": "f1119e5b",
   "metadata": {},
   "outputs": [
    {
     "data": {
      "text/plain": [
       "469"
      ]
     },
     "execution_count": 40,
     "metadata": {},
     "output_type": "execute_result"
    }
   ],
   "source": [
    "n_id = len(file_list['id'])\n",
    "n_id"
   ]
  },
  {
   "cell_type": "code",
   "execution_count": 42,
   "id": "acf7192b",
   "metadata": {},
   "outputs": [
    {
     "name": "stdout",
     "output_type": "stream",
     "text": [
      "(469,) (469,)\n"
     ]
    }
   ],
   "source": [
    "time_data = []\n",
    "y = []\n",
    "X_to_split = []\n",
    "for idx, subject_idx in enumerate(file_list['id']):\n",
    "    file_name = raw_data_prep_dir + f'movement/{subject_idx:03d}_ml.bin'\n",
    "    time_idx_data = np.fromfile(file_name, dtype=np.float32).reshape((-1, 976))\n",
    "    time_data.append(time_idx_data)\n",
    "    y_idx = file_list[file_list['id']==subject_idx].label.values\n",
    "    X_id = idx\n",
    "    y.append(y_idx)\n",
    "    X_to_split.append(X_id)\n",
    "\n",
    "X_to_split = np.array(X_to_split)\n",
    "y = np.array(y).flatten()\n",
    "print(X_to_split.shape, y.shape)"
   ]
  },
  {
   "cell_type": "code",
   "execution_count": 43,
   "id": "f0f8d2dc",
   "metadata": {},
   "outputs": [
    {
     "data": {
      "text/plain": [
       "132"
      ]
     },
     "execution_count": 43,
     "metadata": {},
     "output_type": "execute_result"
    }
   ],
   "source": [
    "channels = []\n",
    "for task in [\"Relaxed1\", \"Relaxed2\", \"RelaxedTask1\", \"RelaxedTask2\", \"StretchHold\", \"HoldWeight\",\n",
    "                \"DrinkGlas\", \"CrossArms\", \"TouchNose\", \"Entrainment1\", \"Entrainment2\"]:\n",
    "    for device_location in [\"LeftWrist\", \"RightWrist\"]:\n",
    "        for sensor in [\"Acceleration\", \"Rotation\"]:\n",
    "            for axis in [\"X\", \"Y\", \"Z\"]:\n",
    "                channel = f\"{task}_{sensor}_{device_location}_{axis}\"\n",
    "                channels.append(channel)\n",
    "len(channels)"
   ]
  },
  {
   "cell_type": "code",
   "execution_count": 44,
   "id": "e572649d",
   "metadata": {},
   "outputs": [
    {
     "name": "stdout",
     "output_type": "stream",
     "text": [
      "(469, 132, 976)\n"
     ]
    }
   ],
   "source": [
    "time_data_array = np.array(time_data)\n",
    "print(time_data_array.shape)"
   ]
  },
  {
   "cell_type": "code",
   "execution_count": 45,
   "id": "c6ea8174",
   "metadata": {},
   "outputs": [],
   "source": [
    "X_train_idx, X_test_idx, y_train, y_test = train_test_split(X_to_split, y, test_size=0.20, random_state=42, stratify = y)"
   ]
  },
  {
   "cell_type": "code",
   "execution_count": 46,
   "id": "bd3d08ee",
   "metadata": {},
   "outputs": [
    {
     "name": "stdout",
     "output_type": "stream",
     "text": [
      "375 94\n",
      "375 94\n"
     ]
    }
   ],
   "source": [
    "X_train = time_data_array[X_train_idx]\n",
    "X_test = time_data_array[X_test_idx]\n",
    "print(len(X_train), len(X_test))\n",
    "print(len(y_train), len(y_test))"
   ]
  },
  {
   "cell_type": "code",
   "execution_count": 21,
   "id": "b0b2b766",
   "metadata": {},
   "outputs": [
    {
     "name": "stdout",
     "output_type": "stream",
     "text": [
      "375 132 976\n",
      "94 132 976\n"
     ]
    },
    {
     "data": {
      "text/plain": [
       "(94, 976, 132)"
      ]
     },
     "execution_count": 21,
     "metadata": {},
     "output_type": "execute_result"
    }
   ],
   "source": [
    "n_obs, n_chan, n_time =  X_train.shape\n",
    "print(n_obs, n_chan, n_time)\n",
    "X_train_nn = X_train.reshape(n_obs, n_time, n_chan)\n",
    "X_train_nn.shape\n",
    "\n",
    "n_obs_test, n_chan_test, n_time_test =  X_test.shape\n",
    "print(n_obs_test, n_chan_test, n_time_test)\n",
    "X_test_nn = X_test.reshape(n_obs_test, n_time_test, n_chan_test)\n",
    "X_test_nn.shape"
   ]
  },
  {
   "cell_type": "code",
   "execution_count": 22,
   "id": "0135f0f4",
   "metadata": {},
   "outputs": [
    {
     "data": {
      "text/plain": [
       "(375,)"
      ]
     },
     "execution_count": 22,
     "metadata": {},
     "output_type": "execute_result"
    }
   ],
   "source": [
    "y_test.shape\n",
    "y_train.shape"
   ]
  },
  {
   "cell_type": "code",
   "execution_count": 33,
   "id": "47e77720",
   "metadata": {},
   "outputs": [],
   "source": [
    "y_train_cat = to_categorical(y_train)\n",
    "y_test_cat  = to_categorical(y_test)"
   ]
  },
  {
   "cell_type": "code",
   "execution_count": 24,
   "id": "c5de54ee",
   "metadata": {},
   "outputs": [],
   "source": [
    "def initialize_model_lstm(input_shape:tuple, dropout_rate: float = 0.3) -> Model:\n",
    "    model = Sequential()\n",
    "    model.add(Input(shape=input_shape))\n",
    "\n",
    "    #two lstm layers to better capture\n",
    "    model.add(LSTM(units=64, activation='tanh',\n",
    "                   return_sequences=True,\n",
    "                   dropout=dropout_rate,\n",
    "                   recurrent_dropout=dropout_rate))\n",
    "    model.add(LSTM(units=64, activation='tanh',\n",
    "                   dropout=dropout_rate,\n",
    "                   recurrent_dropout=dropout_rate))\n",
    "\n",
    "    model.add(layers.Dropout(dropout_rate))\n",
    "\n",
    "    #dense layer with batch normalization\n",
    "    model.add(layers.Dense(32, activation='relu'))\n",
    "    model.add(layers.BatchNormalization())\n",
    "    model.add(layers.Dropout(dropout_rate))\n",
    "\n",
    "    model.add(layers.Dense(16, activation='relu'))\n",
    "    model.add(layers.Dropout(dropout_rate))\n",
    "\n",
    "    #output layer with 3 classification\n",
    "    model.add(layers.Dense(3, activation='softmax'))\n",
    "\n",
    "    return model"
   ]
  },
  {
   "cell_type": "code",
   "execution_count": 30,
   "id": "b90e71b3",
   "metadata": {},
   "outputs": [],
   "source": [
    "model_lstm = initialize_model_lstm(input_shape=X_train_nn.shape[1:])\n",
    "\n",
    "model_lstm.compile(\n",
    "    loss=\"categorical_crossentropy\",\n",
    "    optimizer=Adam(learning_rate=0.01),\n",
    "    metrics=['accuracy', 'precision', 'recall'])"
   ]
  },
  {
   "cell_type": "code",
   "execution_count": 31,
   "id": "7f4c2b8b",
   "metadata": {},
   "outputs": [
    {
     "data": {
      "text/html": [
       "<pre style=\"white-space:pre;overflow-x:auto;line-height:normal;font-family:Menlo,'DejaVu Sans Mono',consolas,'Courier New',monospace\"><span style=\"font-weight: bold\">Model: \"sequential_2\"</span>\n",
       "</pre>\n"
      ],
      "text/plain": [
       "\u001b[1mModel: \"sequential_2\"\u001b[0m\n"
      ]
     },
     "metadata": {},
     "output_type": "display_data"
    },
    {
     "data": {
      "text/html": [
       "<pre style=\"white-space:pre;overflow-x:auto;line-height:normal;font-family:Menlo,'DejaVu Sans Mono',consolas,'Courier New',monospace\">┏━━━━━━━━━━━━━━━━━━━━━━━━━━━━━━━━━┳━━━━━━━━━━━━━━━━━━━━━━━━┳━━━━━━━━━━━━━━━┓\n",
       "┃<span style=\"font-weight: bold\"> Layer (type)                    </span>┃<span style=\"font-weight: bold\"> Output Shape           </span>┃<span style=\"font-weight: bold\">       Param # </span>┃\n",
       "┡━━━━━━━━━━━━━━━━━━━━━━━━━━━━━━━━━╇━━━━━━━━━━━━━━━━━━━━━━━━╇━━━━━━━━━━━━━━━┩\n",
       "│ lstm_4 (<span style=\"color: #0087ff; text-decoration-color: #0087ff\">LSTM</span>)                   │ (<span style=\"color: #00d7ff; text-decoration-color: #00d7ff\">None</span>, <span style=\"color: #00af00; text-decoration-color: #00af00\">976</span>, <span style=\"color: #00af00; text-decoration-color: #00af00\">64</span>)        │        <span style=\"color: #00af00; text-decoration-color: #00af00\">50,432</span> │\n",
       "├─────────────────────────────────┼────────────────────────┼───────────────┤\n",
       "│ lstm_5 (<span style=\"color: #0087ff; text-decoration-color: #0087ff\">LSTM</span>)                   │ (<span style=\"color: #00d7ff; text-decoration-color: #00d7ff\">None</span>, <span style=\"color: #00af00; text-decoration-color: #00af00\">64</span>)             │        <span style=\"color: #00af00; text-decoration-color: #00af00\">33,024</span> │\n",
       "├─────────────────────────────────┼────────────────────────┼───────────────┤\n",
       "│ dropout_6 (<span style=\"color: #0087ff; text-decoration-color: #0087ff\">Dropout</span>)             │ (<span style=\"color: #00d7ff; text-decoration-color: #00d7ff\">None</span>, <span style=\"color: #00af00; text-decoration-color: #00af00\">64</span>)             │             <span style=\"color: #00af00; text-decoration-color: #00af00\">0</span> │\n",
       "├─────────────────────────────────┼────────────────────────┼───────────────┤\n",
       "│ dense_6 (<span style=\"color: #0087ff; text-decoration-color: #0087ff\">Dense</span>)                 │ (<span style=\"color: #00d7ff; text-decoration-color: #00d7ff\">None</span>, <span style=\"color: #00af00; text-decoration-color: #00af00\">32</span>)             │         <span style=\"color: #00af00; text-decoration-color: #00af00\">2,080</span> │\n",
       "├─────────────────────────────────┼────────────────────────┼───────────────┤\n",
       "│ batch_normalization_2           │ (<span style=\"color: #00d7ff; text-decoration-color: #00d7ff\">None</span>, <span style=\"color: #00af00; text-decoration-color: #00af00\">32</span>)             │           <span style=\"color: #00af00; text-decoration-color: #00af00\">128</span> │\n",
       "│ (<span style=\"color: #0087ff; text-decoration-color: #0087ff\">BatchNormalization</span>)            │                        │               │\n",
       "├─────────────────────────────────┼────────────────────────┼───────────────┤\n",
       "│ dropout_7 (<span style=\"color: #0087ff; text-decoration-color: #0087ff\">Dropout</span>)             │ (<span style=\"color: #00d7ff; text-decoration-color: #00d7ff\">None</span>, <span style=\"color: #00af00; text-decoration-color: #00af00\">32</span>)             │             <span style=\"color: #00af00; text-decoration-color: #00af00\">0</span> │\n",
       "├─────────────────────────────────┼────────────────────────┼───────────────┤\n",
       "│ dense_7 (<span style=\"color: #0087ff; text-decoration-color: #0087ff\">Dense</span>)                 │ (<span style=\"color: #00d7ff; text-decoration-color: #00d7ff\">None</span>, <span style=\"color: #00af00; text-decoration-color: #00af00\">16</span>)             │           <span style=\"color: #00af00; text-decoration-color: #00af00\">528</span> │\n",
       "├─────────────────────────────────┼────────────────────────┼───────────────┤\n",
       "│ dropout_8 (<span style=\"color: #0087ff; text-decoration-color: #0087ff\">Dropout</span>)             │ (<span style=\"color: #00d7ff; text-decoration-color: #00d7ff\">None</span>, <span style=\"color: #00af00; text-decoration-color: #00af00\">16</span>)             │             <span style=\"color: #00af00; text-decoration-color: #00af00\">0</span> │\n",
       "├─────────────────────────────────┼────────────────────────┼───────────────┤\n",
       "│ dense_8 (<span style=\"color: #0087ff; text-decoration-color: #0087ff\">Dense</span>)                 │ (<span style=\"color: #00d7ff; text-decoration-color: #00d7ff\">None</span>, <span style=\"color: #00af00; text-decoration-color: #00af00\">3</span>)              │            <span style=\"color: #00af00; text-decoration-color: #00af00\">51</span> │\n",
       "└─────────────────────────────────┴────────────────────────┴───────────────┘\n",
       "</pre>\n"
      ],
      "text/plain": [
       "┏━━━━━━━━━━━━━━━━━━━━━━━━━━━━━━━━━┳━━━━━━━━━━━━━━━━━━━━━━━━┳━━━━━━━━━━━━━━━┓\n",
       "┃\u001b[1m \u001b[0m\u001b[1mLayer (type)                   \u001b[0m\u001b[1m \u001b[0m┃\u001b[1m \u001b[0m\u001b[1mOutput Shape          \u001b[0m\u001b[1m \u001b[0m┃\u001b[1m \u001b[0m\u001b[1m      Param #\u001b[0m\u001b[1m \u001b[0m┃\n",
       "┡━━━━━━━━━━━━━━━━━━━━━━━━━━━━━━━━━╇━━━━━━━━━━━━━━━━━━━━━━━━╇━━━━━━━━━━━━━━━┩\n",
       "│ lstm_4 (\u001b[38;5;33mLSTM\u001b[0m)                   │ (\u001b[38;5;45mNone\u001b[0m, \u001b[38;5;34m976\u001b[0m, \u001b[38;5;34m64\u001b[0m)        │        \u001b[38;5;34m50,432\u001b[0m │\n",
       "├─────────────────────────────────┼────────────────────────┼───────────────┤\n",
       "│ lstm_5 (\u001b[38;5;33mLSTM\u001b[0m)                   │ (\u001b[38;5;45mNone\u001b[0m, \u001b[38;5;34m64\u001b[0m)             │        \u001b[38;5;34m33,024\u001b[0m │\n",
       "├─────────────────────────────────┼────────────────────────┼───────────────┤\n",
       "│ dropout_6 (\u001b[38;5;33mDropout\u001b[0m)             │ (\u001b[38;5;45mNone\u001b[0m, \u001b[38;5;34m64\u001b[0m)             │             \u001b[38;5;34m0\u001b[0m │\n",
       "├─────────────────────────────────┼────────────────────────┼───────────────┤\n",
       "│ dense_6 (\u001b[38;5;33mDense\u001b[0m)                 │ (\u001b[38;5;45mNone\u001b[0m, \u001b[38;5;34m32\u001b[0m)             │         \u001b[38;5;34m2,080\u001b[0m │\n",
       "├─────────────────────────────────┼────────────────────────┼───────────────┤\n",
       "│ batch_normalization_2           │ (\u001b[38;5;45mNone\u001b[0m, \u001b[38;5;34m32\u001b[0m)             │           \u001b[38;5;34m128\u001b[0m │\n",
       "│ (\u001b[38;5;33mBatchNormalization\u001b[0m)            │                        │               │\n",
       "├─────────────────────────────────┼────────────────────────┼───────────────┤\n",
       "│ dropout_7 (\u001b[38;5;33mDropout\u001b[0m)             │ (\u001b[38;5;45mNone\u001b[0m, \u001b[38;5;34m32\u001b[0m)             │             \u001b[38;5;34m0\u001b[0m │\n",
       "├─────────────────────────────────┼────────────────────────┼───────────────┤\n",
       "│ dense_7 (\u001b[38;5;33mDense\u001b[0m)                 │ (\u001b[38;5;45mNone\u001b[0m, \u001b[38;5;34m16\u001b[0m)             │           \u001b[38;5;34m528\u001b[0m │\n",
       "├─────────────────────────────────┼────────────────────────┼───────────────┤\n",
       "│ dropout_8 (\u001b[38;5;33mDropout\u001b[0m)             │ (\u001b[38;5;45mNone\u001b[0m, \u001b[38;5;34m16\u001b[0m)             │             \u001b[38;5;34m0\u001b[0m │\n",
       "├─────────────────────────────────┼────────────────────────┼───────────────┤\n",
       "│ dense_8 (\u001b[38;5;33mDense\u001b[0m)                 │ (\u001b[38;5;45mNone\u001b[0m, \u001b[38;5;34m3\u001b[0m)              │            \u001b[38;5;34m51\u001b[0m │\n",
       "└─────────────────────────────────┴────────────────────────┴───────────────┘\n"
      ]
     },
     "metadata": {},
     "output_type": "display_data"
    },
    {
     "data": {
      "text/html": [
       "<pre style=\"white-space:pre;overflow-x:auto;line-height:normal;font-family:Menlo,'DejaVu Sans Mono',consolas,'Courier New',monospace\"><span style=\"font-weight: bold\"> Total params: </span><span style=\"color: #00af00; text-decoration-color: #00af00\">86,243</span> (336.89 KB)\n",
       "</pre>\n"
      ],
      "text/plain": [
       "\u001b[1m Total params: \u001b[0m\u001b[38;5;34m86,243\u001b[0m (336.89 KB)\n"
      ]
     },
     "metadata": {},
     "output_type": "display_data"
    },
    {
     "data": {
      "text/html": [
       "<pre style=\"white-space:pre;overflow-x:auto;line-height:normal;font-family:Menlo,'DejaVu Sans Mono',consolas,'Courier New',monospace\"><span style=\"font-weight: bold\"> Trainable params: </span><span style=\"color: #00af00; text-decoration-color: #00af00\">86,179</span> (336.64 KB)\n",
       "</pre>\n"
      ],
      "text/plain": [
       "\u001b[1m Trainable params: \u001b[0m\u001b[38;5;34m86,179\u001b[0m (336.64 KB)\n"
      ]
     },
     "metadata": {},
     "output_type": "display_data"
    },
    {
     "data": {
      "text/html": [
       "<pre style=\"white-space:pre;overflow-x:auto;line-height:normal;font-family:Menlo,'DejaVu Sans Mono',consolas,'Courier New',monospace\"><span style=\"font-weight: bold\"> Non-trainable params: </span><span style=\"color: #00af00; text-decoration-color: #00af00\">64</span> (256.00 B)\n",
       "</pre>\n"
      ],
      "text/plain": [
       "\u001b[1m Non-trainable params: \u001b[0m\u001b[38;5;34m64\u001b[0m (256.00 B)\n"
      ]
     },
     "metadata": {},
     "output_type": "display_data"
    }
   ],
   "source": [
    "model_lstm.summary()"
   ]
  },
  {
   "cell_type": "code",
   "execution_count": null,
   "id": "231c4dfa",
   "metadata": {},
   "outputs": [
    {
     "name": "stdout",
     "output_type": "stream",
     "text": [
      "Epoch 1/100\n",
      "\u001b[1m10/10\u001b[0m \u001b[32m━━━━━━━━━━━━━━━━━━━━\u001b[0m\u001b[37m\u001b[0m \u001b[1m14s\u001b[0m 1s/step - accuracy: 0.4900 - loss: 1.1433 - precision: 0.5314 - recall: 0.3100 - val_accuracy: 0.6267 - val_loss: 0.9842 - val_precision: 1.0000 - val_recall: 0.0133 - learning_rate: 0.0100\n",
      "Epoch 2/100\n",
      "\u001b[1m10/10\u001b[0m \u001b[32m━━━━━━━━━━━━━━━━━━━━\u001b[0m\u001b[37m\u001b[0m \u001b[1m10s\u001b[0m 974ms/step - accuracy: 0.5567 - loss: 1.0125 - precision: 0.6083 - recall: 0.4400 - val_accuracy: 0.6267 - val_loss: 0.9693 - val_precision: 0.4000 - val_recall: 0.0267 - learning_rate: 0.0100\n",
      "Epoch 3/100\n",
      "\u001b[1m10/10\u001b[0m \u001b[32m━━━━━━━━━━━━━━━━━━━━\u001b[0m\u001b[37m\u001b[0m \u001b[1m10s\u001b[0m 976ms/step - accuracy: 0.5500 - loss: 1.0452 - precision: 0.5659 - recall: 0.3867 - val_accuracy: 0.6267 - val_loss: 0.9845 - val_precision: 1.0000 - val_recall: 0.0267 - learning_rate: 0.0100\n",
      "Epoch 4/100\n",
      "\u001b[1m10/10\u001b[0m \u001b[32m━━━━━━━━━━━━━━━━━━━━\u001b[0m\u001b[37m\u001b[0m \u001b[1m10s\u001b[0m 1s/step - accuracy: 0.5667 - loss: 1.0237 - precision: 0.5955 - recall: 0.3533 - val_accuracy: 0.6267 - val_loss: 0.9035 - val_precision: 0.6250 - val_recall: 0.6000 - learning_rate: 0.0100\n",
      "Epoch 5/100\n",
      "\u001b[1m10/10\u001b[0m \u001b[32m━━━━━━━━━━━━━━━━━━━━\u001b[0m\u001b[37m\u001b[0m \u001b[1m10s\u001b[0m 980ms/step - accuracy: 0.5500 - loss: 0.9911 - precision: 0.6250 - recall: 0.3333 - val_accuracy: 0.6267 - val_loss: 0.9183 - val_precision: 0.6351 - val_recall: 0.6267 - learning_rate: 0.0100\n",
      "Epoch 6/100\n",
      "\u001b[1m10/10\u001b[0m \u001b[32m━━━━━━━━━━━━━━━━━━━━\u001b[0m\u001b[37m\u001b[0m \u001b[1m10s\u001b[0m 976ms/step - accuracy: 0.5333 - loss: 1.0251 - precision: 0.5640 - recall: 0.3233 - val_accuracy: 0.6267 - val_loss: 0.9633 - val_precision: 0.6267 - val_recall: 0.6267 - learning_rate: 0.0100\n",
      "Epoch 7/100\n",
      "\u001b[1m10/10\u001b[0m \u001b[32m━━━━━━━━━━━━━━━━━━━━\u001b[0m\u001b[37m\u001b[0m \u001b[1m0s\u001b[0m 959ms/step - accuracy: 0.5809 - loss: 0.9793 - precision: 0.5897 - recall: 0.4103\n",
      "Epoch 7: ReduceLROnPlateau reducing learning rate to 0.0009999999776482583.\n",
      "\u001b[1m10/10\u001b[0m \u001b[32m━━━━━━━━━━━━━━━━━━━━\u001b[0m\u001b[37m\u001b[0m \u001b[1m10s\u001b[0m 1s/step - accuracy: 0.5900 - loss: 0.9663 - precision: 0.6048 - recall: 0.4233 - val_accuracy: 0.6267 - val_loss: 0.9948 - val_precision: 0.6267 - val_recall: 0.6267 - learning_rate: 0.0100\n",
      "Epoch 8/100\n",
      "\u001b[1m10/10\u001b[0m \u001b[32m━━━━━━━━━━━━━━━━━━━━\u001b[0m\u001b[37m\u001b[0m \u001b[1m10s\u001b[0m 1s/step - accuracy: 0.5867 - loss: 0.9862 - precision: 0.5773 - recall: 0.4233 - val_accuracy: 0.6267 - val_loss: 0.9683 - val_precision: 0.6267 - val_recall: 0.6267 - learning_rate: 1.0000e-03\n",
      "Epoch 9/100\n",
      "\u001b[1m10/10\u001b[0m \u001b[32m━━━━━━━━━━━━━━━━━━━━\u001b[0m\u001b[37m\u001b[0m \u001b[1m10s\u001b[0m 983ms/step - accuracy: 0.5800 - loss: 1.0090 - precision: 0.5696 - recall: 0.4500 - val_accuracy: 0.6267 - val_loss: 0.9407 - val_precision: 0.6267 - val_recall: 0.6267 - learning_rate: 1.0000e-03\n",
      "Epoch 10/100\n",
      "\u001b[1m10/10\u001b[0m \u001b[32m━━━━━━━━━━━━━━━━━━━━\u001b[0m\u001b[37m\u001b[0m \u001b[1m0s\u001b[0m 917ms/step - accuracy: 0.5919 - loss: 0.9438 - precision: 0.6296 - recall: 0.4494\n",
      "Epoch 10: ReduceLROnPlateau reducing learning rate to 9.999999310821295e-05.\n",
      "\u001b[1m10/10\u001b[0m \u001b[32m━━━━━━━━━━━━━━━━━━━━\u001b[0m\u001b[37m\u001b[0m \u001b[1m10s\u001b[0m 981ms/step - accuracy: 0.5833 - loss: 0.9522 - precision: 0.6009 - recall: 0.4267 - val_accuracy: 0.6267 - val_loss: 0.9253 - val_precision: 0.6267 - val_recall: 0.6267 - learning_rate: 1.0000e-03\n",
      "Epoch 11/100\n",
      "\u001b[1m10/10\u001b[0m \u001b[32m━━━━━━━━━━━━━━━━━━━━\u001b[0m\u001b[37m\u001b[0m \u001b[1m10s\u001b[0m 1s/step - accuracy: 0.5900 - loss: 0.9814 - precision: 0.5668 - recall: 0.4100 - val_accuracy: 0.6267 - val_loss: 0.9197 - val_precision: 0.6267 - val_recall: 0.6267 - learning_rate: 1.0000e-04\n",
      "Epoch 12/100\n",
      "\u001b[1m10/10\u001b[0m \u001b[32m━━━━━━━━━━━━━━━━━━━━\u001b[0m\u001b[37m\u001b[0m \u001b[1m10s\u001b[0m 996ms/step - accuracy: 0.5867 - loss: 0.9762 - precision: 0.5826 - recall: 0.4233 - val_accuracy: 0.6267 - val_loss: 0.9161 - val_precision: 0.6267 - val_recall: 0.6267 - learning_rate: 1.0000e-04\n",
      "Epoch 13/100\n",
      "\u001b[1m10/10\u001b[0m \u001b[32m━━━━━━━━━━━━━━━━━━━━\u001b[0m\u001b[37m\u001b[0m \u001b[1m0s\u001b[0m 961ms/step - accuracy: 0.5938 - loss: 0.9784 - precision: 0.5819 - recall: 0.4526\n",
      "Epoch 13: ReduceLROnPlateau reducing learning rate to 9.999999019782991e-06.\n",
      "\u001b[1m10/10\u001b[0m \u001b[32m━━━━━━━━━━━━━━━━━━━━\u001b[0m\u001b[37m\u001b[0m \u001b[1m10s\u001b[0m 1s/step - accuracy: 0.5867 - loss: 0.9815 - precision: 0.5815 - recall: 0.4400 - val_accuracy: 0.6267 - val_loss: 0.9141 - val_precision: 0.6267 - val_recall: 0.6267 - learning_rate: 1.0000e-04\n",
      "Epoch 14/100\n",
      "\u001b[1m10/10\u001b[0m \u001b[32m━━━━━━━━━━━━━━━━━━━━\u001b[0m\u001b[37m\u001b[0m \u001b[1m10s\u001b[0m 984ms/step - accuracy: 0.5633 - loss: 0.9899 - precision: 0.5633 - recall: 0.4300 - val_accuracy: 0.6267 - val_loss: 0.9135 - val_precision: 0.6267 - val_recall: 0.6267 - learning_rate: 1.0000e-05\n",
      "Epoch 15/100\n",
      "\u001b[1m10/10\u001b[0m \u001b[32m━━━━━━━━━━━━━━━━━━━━\u001b[0m\u001b[37m\u001b[0m \u001b[1m10s\u001b[0m 1s/step - accuracy: 0.5867 - loss: 0.9766 - precision: 0.5865 - recall: 0.4633 - val_accuracy: 0.6267 - val_loss: 0.9139 - val_precision: 0.6267 - val_recall: 0.6267 - learning_rate: 1.0000e-05\n",
      "Epoch 16/100\n",
      "\u001b[1m10/10\u001b[0m \u001b[32m━━━━━━━━━━━━━━━━━━━━\u001b[0m\u001b[37m\u001b[0m \u001b[1m0s\u001b[0m 934ms/step - accuracy: 0.6224 - loss: 0.9409 - precision: 0.6144 - recall: 0.4690\n",
      "Epoch 16: ReduceLROnPlateau reducing learning rate to 9.99999883788405e-07.\n",
      "\u001b[1m10/10\u001b[0m \u001b[32m━━━━━━━━━━━━━━━━━━━━\u001b[0m\u001b[37m\u001b[0m \u001b[1m10s\u001b[0m 993ms/step - accuracy: 0.5633 - loss: 1.0089 - precision: 0.5769 - recall: 0.4500 - val_accuracy: 0.6267 - val_loss: 0.9151 - val_precision: 0.6267 - val_recall: 0.6267 - learning_rate: 1.0000e-05\n",
      "Epoch 17/100\n",
      "\u001b[1m10/10\u001b[0m \u001b[32m━━━━━━━━━━━━━━━━━━━━\u001b[0m\u001b[37m\u001b[0m \u001b[1m10s\u001b[0m 1s/step - accuracy: 0.5667 - loss: 0.9817 - precision: 0.5938 - recall: 0.4433 - val_accuracy: 0.6267 - val_loss: 0.9170 - val_precision: 0.6267 - val_recall: 0.6267 - learning_rate: 1.0000e-06\n",
      "Epoch 18/100\n",
      "\u001b[1m10/10\u001b[0m \u001b[32m━━━━━━━━━━━━━━━━━━━━\u001b[0m\u001b[37m\u001b[0m \u001b[1m10s\u001b[0m 1s/step - accuracy: 0.5900 - loss: 0.9684 - precision: 0.6116 - recall: 0.4567 - val_accuracy: 0.6267 - val_loss: 0.9194 - val_precision: 0.6267 - val_recall: 0.6267 - learning_rate: 1.0000e-06\n",
      "Epoch 19/100\n",
      "\u001b[1m10/10\u001b[0m \u001b[32m━━━━━━━━━━━━━━━━━━━━\u001b[0m\u001b[37m\u001b[0m \u001b[1m0s\u001b[0m 971ms/step - accuracy: 0.5776 - loss: 0.9805 - precision: 0.5776 - recall: 0.4375\n",
      "Epoch 19: ReduceLROnPlateau reducing learning rate to 9.99999883788405e-08.\n",
      "\u001b[1m10/10\u001b[0m \u001b[32m━━━━━━━━━━━━━━━━━━━━\u001b[0m\u001b[37m\u001b[0m \u001b[1m10s\u001b[0m 1s/step - accuracy: 0.5767 - loss: 0.9804 - precision: 0.5766 - recall: 0.4267 - val_accuracy: 0.6267 - val_loss: 0.9221 - val_precision: 0.6267 - val_recall: 0.6267 - learning_rate: 1.0000e-06\n",
      "Epoch 20/100\n",
      "\u001b[1m10/10\u001b[0m \u001b[32m━━━━━━━━━━━━━━━━━━━━\u001b[0m\u001b[37m\u001b[0m \u001b[1m10s\u001b[0m 1s/step - accuracy: 0.5867 - loss: 1.0036 - precision: 0.5981 - recall: 0.4167 - val_accuracy: 0.6267 - val_loss: 0.9250 - val_precision: 0.6267 - val_recall: 0.6267 - learning_rate: 1.0000e-07\n",
      "Epoch 21/100\n",
      "\u001b[1m10/10\u001b[0m \u001b[32m━━━━━━━━━━━━━━━━━━━━\u001b[0m\u001b[37m\u001b[0m \u001b[1m10s\u001b[0m 1s/step - accuracy: 0.5933 - loss: 0.9864 - precision: 0.6026 - recall: 0.4700 - val_accuracy: 0.6267 - val_loss: 0.9278 - val_precision: 0.6267 - val_recall: 0.6267 - learning_rate: 1.0000e-07\n",
      "Epoch 22/100\n",
      "\u001b[1m10/10\u001b[0m \u001b[32m━━━━━━━━━━━━━━━━━━━━\u001b[0m\u001b[37m\u001b[0m \u001b[1m0s\u001b[0m 945ms/step - accuracy: 0.5327 - loss: 0.9954 - precision: 0.5864 - recall: 0.4358\n",
      "Epoch 22: ReduceLROnPlateau reducing learning rate to 9.999998695775504e-09.\n",
      "\u001b[1m10/10\u001b[0m \u001b[32m━━━━━━━━━━━━━━━━━━━━\u001b[0m\u001b[37m\u001b[0m \u001b[1m10s\u001b[0m 1s/step - accuracy: 0.5600 - loss: 0.9668 - precision: 0.5833 - recall: 0.4433 - val_accuracy: 0.6267 - val_loss: 0.9311 - val_precision: 0.6389 - val_recall: 0.6133 - learning_rate: 1.0000e-07\n",
      "Epoch 23/100\n",
      "\u001b[1m10/10\u001b[0m \u001b[32m━━━━━━━━━━━━━━━━━━━━\u001b[0m\u001b[37m\u001b[0m \u001b[1m11s\u001b[0m 1s/step - accuracy: 0.5633 - loss: 0.9949 - precision: 0.5600 - recall: 0.4200 - val_accuracy: 0.6267 - val_loss: 0.9340 - val_precision: 0.6429 - val_recall: 0.6000 - learning_rate: 1.0000e-08\n",
      "Epoch 24/100\n",
      "\u001b[1m10/10\u001b[0m \u001b[32m━━━━━━━━━━━━━━━━━━━━\u001b[0m\u001b[37m\u001b[0m \u001b[1m10s\u001b[0m 1s/step - accuracy: 0.5833 - loss: 0.9659 - precision: 0.6178 - recall: 0.4633 - val_accuracy: 0.6267 - val_loss: 0.9374 - val_precision: 0.6471 - val_recall: 0.5867 - learning_rate: 1.0000e-08\n",
      "Epoch 25/100\n",
      "\u001b[1m10/10\u001b[0m \u001b[32m━━━━━━━━━━━━━━━━━━━━\u001b[0m\u001b[37m\u001b[0m \u001b[1m0s\u001b[0m 1s/step - accuracy: 0.5767 - loss: 1.0155 - precision: 0.5728 - recall: 0.4358\n",
      "Epoch 25: ReduceLROnPlateau reducing learning rate to 9.99999905104687e-10.\n",
      "\u001b[1m10/10\u001b[0m \u001b[32m━━━━━━━━━━━━━━━━━━━━\u001b[0m\u001b[37m\u001b[0m \u001b[1m11s\u001b[0m 1s/step - accuracy: 0.5867 - loss: 0.9867 - precision: 0.5867 - recall: 0.4400 - val_accuracy: 0.6267 - val_loss: 0.9402 - val_precision: 0.6667 - val_recall: 0.5867 - learning_rate: 1.0000e-08\n",
      "Epoch 26/100\n",
      "\u001b[1m10/10\u001b[0m \u001b[32m━━━━━━━━━━━━━━━━━━━━\u001b[0m\u001b[37m\u001b[0m \u001b[1m10s\u001b[0m 985ms/step - accuracy: 0.5800 - loss: 0.9991 - precision: 0.5794 - recall: 0.4133 - val_accuracy: 0.6267 - val_loss: 0.9432 - val_precision: 0.6508 - val_recall: 0.5467 - learning_rate: 1.0000e-09\n",
      "Epoch 27/100\n",
      "\u001b[1m10/10\u001b[0m \u001b[32m━━━━━━━━━━━━━━━━━━━━\u001b[0m\u001b[37m\u001b[0m \u001b[1m10s\u001b[0m 1s/step - accuracy: 0.5700 - loss: 0.9805 - precision: 0.5911 - recall: 0.4433 - val_accuracy: 0.6267 - val_loss: 0.9461 - val_precision: 0.6744 - val_recall: 0.3867 - learning_rate: 1.0000e-09\n",
      "Epoch 28/100\n",
      "\u001b[1m10/10\u001b[0m \u001b[32m━━━━━━━━━━━━━━━━━━━━\u001b[0m\u001b[37m\u001b[0m \u001b[1m0s\u001b[0m 988ms/step - accuracy: 0.5530 - loss: 1.0058 - precision: 0.5846 - recall: 0.4547\n",
      "Epoch 28: ReduceLROnPlateau reducing learning rate to 9.999998606957661e-11.\n",
      "\u001b[1m10/10\u001b[0m \u001b[32m━━━━━━━━━━━━━━━━━━━━\u001b[0m\u001b[37m\u001b[0m \u001b[1m10s\u001b[0m 1s/step - accuracy: 0.5667 - loss: 0.9949 - precision: 0.5746 - recall: 0.4367 - val_accuracy: 0.6267 - val_loss: 0.9485 - val_precision: 0.7500 - val_recall: 0.0800 - learning_rate: 1.0000e-09\n",
      "Epoch 29/100\n",
      "\u001b[1m10/10\u001b[0m \u001b[32m━━━━━━━━━━━━━━━━━━━━\u001b[0m\u001b[37m\u001b[0m \u001b[1m10s\u001b[0m 1s/step - accuracy: 0.5933 - loss: 0.9582 - precision: 0.6164 - recall: 0.4500 - val_accuracy: 0.6267 - val_loss: 0.9505 - val_precision: 0.6667 - val_recall: 0.0267 - learning_rate: 1.0000e-10\n",
      "Epoch 30/100\n",
      "\u001b[1m10/10\u001b[0m \u001b[32m━━━━━━━━━━━━━━━━━━━━\u001b[0m\u001b[37m\u001b[0m \u001b[1m11s\u001b[0m 1s/step - accuracy: 0.5833 - loss: 0.9991 - precision: 0.5689 - recall: 0.4267 - val_accuracy: 0.6267 - val_loss: 0.9523 - val_precision: 1.0000 - val_recall: 0.0133 - learning_rate: 1.0000e-10\n",
      "Epoch 31/100\n",
      "\u001b[1m10/10\u001b[0m \u001b[32m━━━━━━━━━━━━━━━━━━━━\u001b[0m\u001b[37m\u001b[0m \u001b[1m0s\u001b[0m 974ms/step - accuracy: 0.5669 - loss: 0.9953 - precision: 0.5901 - recall: 0.4318\n",
      "Epoch 31: ReduceLROnPlateau reducing learning rate to 9.99999874573554e-12.\n",
      "\u001b[1m10/10\u001b[0m \u001b[32m━━━━━━━━━━━━━━━━━━━━\u001b[0m\u001b[37m\u001b[0m \u001b[1m10s\u001b[0m 1s/step - accuracy: 0.5867 - loss: 0.9913 - precision: 0.5945 - recall: 0.4300 - val_accuracy: 0.6267 - val_loss: 0.9534 - val_precision: 1.0000 - val_recall: 0.0133 - learning_rate: 1.0000e-10\n",
      "Epoch 32/100\n",
      "\u001b[1m10/10\u001b[0m \u001b[32m━━━━━━━━━━━━━━━━━━━━\u001b[0m\u001b[37m\u001b[0m \u001b[1m10s\u001b[0m 989ms/step - accuracy: 0.5833 - loss: 0.9707 - precision: 0.6119 - recall: 0.4467 - val_accuracy: 0.6267 - val_loss: 0.9541 - val_precision: 1.0000 - val_recall: 0.0133 - learning_rate: 1.0000e-11\n",
      "Epoch 33/100\n",
      "\u001b[1m10/10\u001b[0m \u001b[32m━━━━━━━━━━━━━━━━━━━━\u001b[0m\u001b[37m\u001b[0m \u001b[1m11s\u001b[0m 1s/step - accuracy: 0.5733 - loss: 1.0024 - precision: 0.5747 - recall: 0.4233 - val_accuracy: 0.6267 - val_loss: 0.9551 - val_precision: 1.0000 - val_recall: 0.0133 - learning_rate: 1.0000e-11\n",
      "Epoch 34/100\n",
      "\u001b[1m10/10\u001b[0m \u001b[32m━━━━━━━━━━━━━━━━━━━━\u001b[0m\u001b[37m\u001b[0m \u001b[1m0s\u001b[0m 955ms/step - accuracy: 0.5691 - loss: 0.9937 - precision: 0.5835 - recall: 0.4291\n",
      "Epoch 34: ReduceLROnPlateau reducing learning rate to 9.999999092680235e-13.\n",
      "\u001b[1m10/10\u001b[0m \u001b[32m━━━━━━━━━━━━━━━━━━━━\u001b[0m\u001b[37m\u001b[0m \u001b[1m10s\u001b[0m 1s/step - accuracy: 0.5700 - loss: 0.9847 - precision: 0.5778 - recall: 0.4333 - val_accuracy: 0.6267 - val_loss: 0.9560 - val_precision: 1.0000 - val_recall: 0.0133 - learning_rate: 1.0000e-11\n",
      "Epoch 35/100\n",
      "\u001b[1m10/10\u001b[0m \u001b[32m━━━━━━━━━━━━━━━━━━━━\u001b[0m\u001b[37m\u001b[0m \u001b[1m10s\u001b[0m 1s/step - accuracy: 0.5667 - loss: 0.9823 - precision: 0.5830 - recall: 0.4333 - val_accuracy: 0.6267 - val_loss: 0.9567 - val_precision: 1.0000 - val_recall: 0.0133 - learning_rate: 1.0000e-12\n",
      "Epoch 36/100\n",
      "\u001b[1m10/10\u001b[0m \u001b[32m━━━━━━━━━━━━━━━━━━━━\u001b[0m\u001b[37m\u001b[0m \u001b[1m10s\u001b[0m 974ms/step - accuracy: 0.5767 - loss: 0.9814 - precision: 0.5688 - recall: 0.4133 - val_accuracy: 0.6267 - val_loss: 0.9574 - val_precision: 1.0000 - val_recall: 0.0133 - learning_rate: 1.0000e-12\n",
      "Epoch 37/100\n",
      "\u001b[1m10/10\u001b[0m \u001b[32m━━━━━━━━━━━━━━━━━━━━\u001b[0m\u001b[37m\u001b[0m \u001b[1m0s\u001b[0m 935ms/step - accuracy: 0.5942 - loss: 0.9721 - precision: 0.5763 - recall: 0.4503\n",
      "Epoch 37: ReduceLROnPlateau reducing learning rate to 9.9999988758398e-14.\n",
      "\u001b[1m10/10\u001b[0m \u001b[32m━━━━━━━━━━━━━━━━━━━━\u001b[0m\u001b[37m\u001b[0m \u001b[1m10s\u001b[0m 997ms/step - accuracy: 0.5833 - loss: 0.9944 - precision: 0.5565 - recall: 0.4267 - val_accuracy: 0.6267 - val_loss: 0.9583 - val_precision: 1.0000 - val_recall: 0.0133 - learning_rate: 1.0000e-12\n",
      "Epoch 38/100\n",
      "\u001b[1m10/10\u001b[0m \u001b[32m━━━━━━━━━━━━━━━━━━━━\u001b[0m\u001b[37m\u001b[0m \u001b[1m10s\u001b[0m 990ms/step - accuracy: 0.6000 - loss: 0.9385 - precision: 0.6288 - recall: 0.4800 - val_accuracy: 0.6267 - val_loss: 0.9584 - val_precision: 1.0000 - val_recall: 0.0133 - learning_rate: 1.0000e-13\n",
      "Epoch 39/100\n",
      "\u001b[1m10/10\u001b[0m \u001b[32m━━━━━━━━━━━━━━━━━━━━\u001b[0m\u001b[37m\u001b[0m \u001b[1m10s\u001b[0m 1s/step - accuracy: 0.5767 - loss: 1.0077 - precision: 0.5764 - recall: 0.4400 - val_accuracy: 0.6267 - val_loss: 0.9592 - val_precision: 1.0000 - val_recall: 0.0133 - learning_rate: 1.0000e-13\n",
      "Epoch 40/100\n",
      "\u001b[1m10/10\u001b[0m \u001b[32m━━━━━━━━━━━━━━━━━━━━\u001b[0m\u001b[37m\u001b[0m \u001b[1m0s\u001b[0m 988ms/step - accuracy: 0.5302 - loss: 1.0177 - precision: 0.5405 - recall: 0.4003\n",
      "Epoch 40: ReduceLROnPlateau reducing learning rate to 9.999999146890344e-15.\n",
      "\u001b[1m10/10\u001b[0m \u001b[32m━━━━━━━━━━━━━━━━━━━━\u001b[0m\u001b[37m\u001b[0m \u001b[1m11s\u001b[0m 1s/step - accuracy: 0.5733 - loss: 0.9864 - precision: 0.5811 - recall: 0.4300 - val_accuracy: 0.6267 - val_loss: 0.9590 - val_precision: 1.0000 - val_recall: 0.0133 - learning_rate: 1.0000e-13\n",
      "Epoch 41/100\n",
      "\u001b[1m10/10\u001b[0m \u001b[32m━━━━━━━━━━━━━━━━━━━━\u001b[0m\u001b[37m\u001b[0m \u001b[1m10s\u001b[0m 1s/step - accuracy: 0.5733 - loss: 0.9571 - precision: 0.6038 - recall: 0.4267 - val_accuracy: 0.6267 - val_loss: 0.9593 - val_precision: 1.0000 - val_recall: 0.0133 - learning_rate: 1.0000e-14\n",
      "Epoch 42/100\n",
      "\u001b[1m10/10\u001b[0m \u001b[32m━━━━━━━━━━━━━━━━━━━━\u001b[0m\u001b[37m\u001b[0m \u001b[1m11s\u001b[0m 1s/step - accuracy: 0.5700 - loss: 0.9703 - precision: 0.6256 - recall: 0.4567 - val_accuracy: 0.6267 - val_loss: 0.9589 - val_precision: 1.0000 - val_recall: 0.0133 - learning_rate: 1.0000e-14\n",
      "Epoch 43/100\n",
      "\u001b[1m10/10\u001b[0m \u001b[32m━━━━━━━━━━━━━━━━━━━━\u001b[0m\u001b[37m\u001b[0m \u001b[1m0s\u001b[0m 930ms/step - accuracy: 0.6302 - loss: 0.9265 - precision: 0.6254 - recall: 0.4994\n",
      "Epoch 43: ReduceLROnPlateau reducing learning rate to 9.999998977483753e-16.\n",
      "\u001b[1m10/10\u001b[0m \u001b[32m━━━━━━━━━━━━━━━━━━━━\u001b[0m\u001b[37m\u001b[0m \u001b[1m10s\u001b[0m 988ms/step - accuracy: 0.5833 - loss: 0.9815 - precision: 0.5727 - recall: 0.4333 - val_accuracy: 0.6267 - val_loss: 0.9590 - val_precision: 1.0000 - val_recall: 0.0133 - learning_rate: 1.0000e-14\n",
      "Epoch 44/100\n",
      "\u001b[1m10/10\u001b[0m \u001b[32m━━━━━━━━━━━━━━━━━━━━\u001b[0m\u001b[37m\u001b[0m \u001b[1m10s\u001b[0m 1s/step - accuracy: 0.5600 - loss: 0.9802 - precision: 0.5560 - recall: 0.4300 - val_accuracy: 0.6267 - val_loss: 0.9583 - val_precision: 1.0000 - val_recall: 0.0133 - learning_rate: 1.0000e-15\n",
      "Epoch 45/100\n",
      "\u001b[1m10/10\u001b[0m \u001b[32m━━━━━━━━━━━━━━━━━━━━\u001b[0m\u001b[37m\u001b[0m \u001b[1m10s\u001b[0m 1s/step - accuracy: 0.5800 - loss: 0.9765 - precision: 0.6000 - recall: 0.4300 - val_accuracy: 0.6267 - val_loss: 0.9581 - val_precision: 1.0000 - val_recall: 0.0133 - learning_rate: 1.0000e-15\n",
      "Epoch 46/100\n",
      "\u001b[1m10/10\u001b[0m \u001b[32m━━━━━━━━━━━━━━━━━━━━\u001b[0m\u001b[37m\u001b[0m \u001b[1m0s\u001b[0m 933ms/step - accuracy: 0.5824 - loss: 0.9993 - precision: 0.5492 - recall: 0.4160\n",
      "Epoch 46: ReduceLROnPlateau reducing learning rate to 9.999998977483754e-17.\n",
      "\u001b[1m10/10\u001b[0m \u001b[32m━━━━━━━━━━━━━━━━━━━━\u001b[0m\u001b[37m\u001b[0m \u001b[1m10s\u001b[0m 999ms/step - accuracy: 0.5700 - loss: 1.0054 - precision: 0.5498 - recall: 0.4233 - val_accuracy: 0.6267 - val_loss: 0.9583 - val_precision: 1.0000 - val_recall: 0.0133 - learning_rate: 1.0000e-15\n",
      "Epoch 47/100\n",
      "\u001b[1m10/10\u001b[0m \u001b[32m━━━━━━━━━━━━━━━━━━━━\u001b[0m\u001b[37m\u001b[0m \u001b[1m11s\u001b[0m 1s/step - accuracy: 0.5900 - loss: 0.9591 - precision: 0.6094 - recall: 0.4733 - val_accuracy: 0.6267 - val_loss: 0.9584 - val_precision: 1.0000 - val_recall: 0.0133 - learning_rate: 1.0000e-16\n",
      "Epoch 48/100\n",
      "\u001b[1m10/10\u001b[0m \u001b[32m━━━━━━━━━━━━━━━━━━━━\u001b[0m\u001b[37m\u001b[0m \u001b[1m11s\u001b[0m 1s/step - accuracy: 0.5867 - loss: 0.9761 - precision: 0.5923 - recall: 0.4600 - val_accuracy: 0.6267 - val_loss: 0.9581 - val_precision: 1.0000 - val_recall: 0.0133 - learning_rate: 1.0000e-16\n",
      "Epoch 49/100\n",
      "\u001b[1m10/10\u001b[0m \u001b[32m━━━━━━━━━━━━━━━━━━━━\u001b[0m\u001b[37m\u001b[0m \u001b[1m0s\u001b[0m 1s/step - accuracy: 0.5644 - loss: 1.0215 - precision: 0.5649 - recall: 0.4148\n",
      "Epoch 49: ReduceLROnPlateau reducing learning rate to 9.999998845134856e-18.\n",
      "\u001b[1m10/10\u001b[0m \u001b[32m━━━━━━━━━━━━━━━━━━━━\u001b[0m\u001b[37m\u001b[0m \u001b[1m11s\u001b[0m 1s/step - accuracy: 0.5667 - loss: 0.9981 - precision: 0.5752 - recall: 0.4333 - val_accuracy: 0.6267 - val_loss: 0.9582 - val_precision: 1.0000 - val_recall: 0.0133 - learning_rate: 1.0000e-16\n",
      "Epoch 50/100\n",
      "\u001b[1m10/10\u001b[0m \u001b[32m━━━━━━━━━━━━━━━━━━━━\u001b[0m\u001b[37m\u001b[0m \u001b[1m11s\u001b[0m 1s/step - accuracy: 0.5833 - loss: 0.9833 - precision: 0.6071 - recall: 0.4533 - val_accuracy: 0.6267 - val_loss: 0.9581 - val_precision: 1.0000 - val_recall: 0.0133 - learning_rate: 1.0000e-17\n",
      "Epoch 51/100\n",
      "\u001b[1m10/10\u001b[0m \u001b[32m━━━━━━━━━━━━━━━━━━━━\u001b[0m\u001b[37m\u001b[0m \u001b[1m11s\u001b[0m 1s/step - accuracy: 0.5600 - loss: 1.0030 - precision: 0.5580 - recall: 0.4167 - val_accuracy: 0.6267 - val_loss: 0.9579 - val_precision: 1.0000 - val_recall: 0.0133 - learning_rate: 1.0000e-17\n",
      "Epoch 52/100\n",
      "\u001b[1m10/10\u001b[0m \u001b[32m━━━━━━━━━━━━━━━━━━━━\u001b[0m\u001b[37m\u001b[0m \u001b[1m0s\u001b[0m 948ms/step - accuracy: 0.6065 - loss: 0.9667 - precision: 0.6449 - recall: 0.4787\n",
      "Epoch 52: ReduceLROnPlateau reducing learning rate to 9.999999010570977e-19.\n",
      "\u001b[1m10/10\u001b[0m \u001b[32m━━━━━━━━━━━━━━━━━━━━\u001b[0m\u001b[37m\u001b[0m \u001b[1m10s\u001b[0m 1s/step - accuracy: 0.5767 - loss: 0.9839 - precision: 0.6027 - recall: 0.4400 - val_accuracy: 0.6267 - val_loss: 0.9579 - val_precision: 1.0000 - val_recall: 0.0133 - learning_rate: 1.0000e-17\n",
      "Epoch 53/100\n",
      "\u001b[1m10/10\u001b[0m \u001b[32m━━━━━━━━━━━━━━━━━━━━\u001b[0m\u001b[37m\u001b[0m \u001b[1m10s\u001b[0m 1s/step - accuracy: 0.5633 - loss: 0.9798 - precision: 0.5814 - recall: 0.4167 - val_accuracy: 0.6267 - val_loss: 0.9576 - val_precision: 1.0000 - val_recall: 0.0133 - learning_rate: 1.0000e-18\n",
      "Epoch 54/100\n",
      "\u001b[1m10/10\u001b[0m \u001b[32m━━━━━━━━━━━━━━━━━━━━\u001b[0m\u001b[37m\u001b[0m \u001b[1m10s\u001b[0m 1s/step - accuracy: 0.5967 - loss: 0.9810 - precision: 0.5919 - recall: 0.4400 - val_accuracy: 0.6267 - val_loss: 0.9576 - val_precision: 1.0000 - val_recall: 0.0133 - learning_rate: 1.0000e-18\n"
     ]
    }
   ],
   "source": [
    "es = EarlyStopping(\n",
    "    monitor=\"val_loss\",\n",
    "    patience=50,\n",
    "    restore_best_weights=True,\n",
    "    verbose=0\n",
    ")\n",
    "\n",
    "reduce_lr = ReduceLROnPlateau(\n",
    "        monitor='val_loss',\n",
    "        factor=0.1,\n",
    "        patience=10,\n",
    "        verbose=1,\n",
    "        min_lr=0\n",
    "    )\n",
    "\n",
    "history = model_lstm.fit(\n",
    "    X_train_nn,\n",
    "    y_train_cat,\n",
    "    validation_split = 0.2,\n",
    "    epochs=100,\n",
    "    batch_size = 32,\n",
    "    callbacks=[es, reduce_lr],\n",
    "    verbose=1\n",
    ")"
   ]
  },
  {
   "cell_type": "code",
   "execution_count": 190,
   "id": "f69716ca",
   "metadata": {},
   "outputs": [
    {
     "name": "stdout",
     "output_type": "stream",
     "text": [
      "(976, 132)\n",
      "(976, 132)\n"
     ]
    },
    {
     "data": {
      "text/plain": [
       "(375, 976, 132)"
      ]
     },
     "execution_count": 190,
     "metadata": {},
     "output_type": "execute_result"
    }
   ],
   "source": [
    "X_train_nn[1,:]\n",
    "print(X_train_nn[1,:].shape)\n",
    "print(X_train_nn.shape[1:])\n",
    "y_train.shape\n",
    "X_train_nn.shape"
   ]
  },
  {
   "cell_type": "code",
   "execution_count": null,
   "id": "73954299",
   "metadata": {},
   "outputs": [
    {
     "name": "stdout",
     "output_type": "stream",
     "text": [
      "\u001b[1m3/3\u001b[0m \u001b[32m━━━━━━━━━━━━━━━━━━━━\u001b[0m\u001b[37m\u001b[0m \u001b[1m1s\u001b[0m 201ms/step - accuracy: 0.5851 - loss: 0.9507 - precision: 0.5955 - recall: 0.5638\n"
     ]
    },
    {
     "data": {
      "text/plain": [
       "[0.9506561756134033, 0.585106372833252, 0.5955055952072144, 0.563829779624939]"
      ]
     },
     "execution_count": 47,
     "metadata": {},
     "output_type": "execute_result"
    }
   ],
   "source": [
    "model_lstm.evaluate(X_test_nn, y_test_cat)"
   ]
  },
  {
   "cell_type": "code",
   "execution_count": null,
   "id": "8816a672",
   "metadata": {},
   "outputs": [
    {
     "name": "stdout",
     "output_type": "stream",
     "text": [
      "\u001b[1m3/3\u001b[0m \u001b[32m━━━━━━━━━━━━━━━━━━━━\u001b[0m\u001b[37m\u001b[0m \u001b[1m1s\u001b[0m 379ms/step\n"
     ]
    },
    {
     "data": {
      "text/plain": [
       "array([[0.21000591, 0.5680015 , 0.22199266],\n",
       "       [0.18966551, 0.6101459 , 0.20018859],\n",
       "       [0.18902658, 0.58213204, 0.22884136],\n",
       "       [0.20419902, 0.5760465 , 0.21975443],\n",
       "       [0.20982492, 0.56663114, 0.22354393],\n",
       "       [0.20402202, 0.5782959 , 0.21768206],\n",
       "       [0.17212388, 0.6465889 , 0.18128718],\n",
       "       [0.20449007, 0.571807  , 0.22370294],\n",
       "       [0.16366723, 0.6563604 , 0.17997234],\n",
       "       [0.19758236, 0.5915597 , 0.2108579 ],\n",
       "       [0.19867754, 0.57953584, 0.22178653],\n",
       "       [0.21316162, 0.5386098 , 0.24822855],\n",
       "       [0.18712825, 0.6072134 , 0.20565838],\n",
       "       [0.22325048, 0.5202358 , 0.2565138 ],\n",
       "       [0.16836359, 0.6537382 , 0.17789826],\n",
       "       [0.14742973, 0.69792247, 0.15464774],\n",
       "       [0.16521971, 0.6599914 , 0.17478892],\n",
       "       [0.25403407, 0.43610638, 0.30985948],\n",
       "       [0.18997173, 0.56569713, 0.24433114],\n",
       "       [0.24091442, 0.447228  , 0.31185758],\n",
       "       [0.19428438, 0.59969765, 0.20601794],\n",
       "       [0.207583  , 0.53746504, 0.25495198],\n",
       "       [0.18769823, 0.61087835, 0.2014234 ],\n",
       "       [0.18284993, 0.623375  , 0.19377506],\n",
       "       [0.18629853, 0.6079711 , 0.20573045],\n",
       "       [0.16058736, 0.66618454, 0.17322804],\n",
       "       [0.19097938, 0.6034623 , 0.20555833],\n",
       "       [0.18176445, 0.6277798 , 0.19045576],\n",
       "       [0.17859617, 0.63333505, 0.18806885],\n",
       "       [0.16312388, 0.6647914 , 0.17208476],\n",
       "       [0.17292461, 0.6448787 , 0.18219672],\n",
       "       [0.17897016, 0.63182694, 0.18920286],\n",
       "       [0.16912217, 0.64622986, 0.18464792],\n",
       "       [0.20427407, 0.55714726, 0.23857868],\n",
       "       [0.19430818, 0.59816635, 0.20752549],\n",
       "       [0.19006567, 0.60744077, 0.20249353],\n",
       "       [0.17064135, 0.64052373, 0.18883479],\n",
       "       [0.18992794, 0.6082797 , 0.20179236],\n",
       "       [0.17478704, 0.61600566, 0.20920725],\n",
       "       [0.1963554 , 0.59059155, 0.213053  ],\n",
       "       [0.16360156, 0.6594526 , 0.17694582],\n",
       "       [0.21034922, 0.55087864, 0.23877217],\n",
       "       [0.19550575, 0.5985797 , 0.20591466],\n",
       "       [0.15698639, 0.6791499 , 0.16386364],\n",
       "       [0.18879314, 0.6131029 , 0.1981039 ],\n",
       "       [0.17403258, 0.6426712 , 0.1832961 ],\n",
       "       [0.16975051, 0.6466681 , 0.1835814 ],\n",
       "       [0.19870628, 0.5917397 , 0.2095539 ],\n",
       "       [0.20264329, 0.56799203, 0.2293646 ],\n",
       "       [0.1865309 , 0.61750114, 0.19596803],\n",
       "       [0.18174677, 0.61601824, 0.20223504],\n",
       "       [0.15429339, 0.6789064 , 0.16680029],\n",
       "       [0.18730849, 0.6127143 , 0.19997725],\n",
       "       [0.17825237, 0.63130474, 0.1904429 ],\n",
       "       [0.1919699 , 0.60497886, 0.2030512 ],\n",
       "       [0.16660346, 0.66021544, 0.17318112],\n",
       "       [0.24737929, 0.43234006, 0.32028064],\n",
       "       [0.19031407, 0.6037388 , 0.20594706],\n",
       "       [0.2039127 , 0.5519338 , 0.24415347],\n",
       "       [0.172803  , 0.6435039 , 0.183693  ],\n",
       "       [0.18059424, 0.6289625 , 0.19044323],\n",
       "       [0.1597842 , 0.6699579 , 0.17025785],\n",
       "       [0.1708972 , 0.64613897, 0.18296385],\n",
       "       [0.18828616, 0.61060315, 0.20111072],\n",
       "       [0.19764043, 0.5945802 , 0.20777935],\n",
       "       [0.20469208, 0.5791466 , 0.21616124],\n",
       "       [0.24642725, 0.4543199 , 0.29925278],\n",
       "       [0.19487593, 0.5987134 , 0.2064107 ],\n",
       "       [0.18532684, 0.6194406 , 0.19523242],\n",
       "       [0.19722156, 0.5925804 , 0.21019806],\n",
       "       [0.1845982 , 0.6218338 , 0.19356807],\n",
       "       [0.15025152, 0.68694365, 0.16280478],\n",
       "       [0.19017276, 0.5931296 , 0.21669766],\n",
       "       [0.18223245, 0.6255432 , 0.19222443],\n",
       "       [0.19321962, 0.5626094 , 0.24417104],\n",
       "       [0.19206175, 0.6010227 , 0.20691542],\n",
       "       [0.19552404, 0.5871566 , 0.21731937],\n",
       "       [0.15216605, 0.68305534, 0.16477863],\n",
       "       [0.18766026, 0.6127285 , 0.19961135],\n",
       "       [0.19037402, 0.6009067 , 0.20871921],\n",
       "       [0.16026519, 0.66535825, 0.1743766 ],\n",
       "       [0.1931144 , 0.6036197 , 0.20326594],\n",
       "       [0.19319339, 0.6015481 , 0.20525855],\n",
       "       [0.17858246, 0.6334812 , 0.18793628],\n",
       "       [0.19057678, 0.6074879 , 0.20193535],\n",
       "       [0.18334249, 0.6206066 , 0.19605088],\n",
       "       [0.28859523, 0.3875317 , 0.32387313],\n",
       "       [0.16561413, 0.65826327, 0.1761226 ],\n",
       "       [0.21525638, 0.53839815, 0.24634548],\n",
       "       [0.18872905, 0.60786337, 0.20340757],\n",
       "       [0.18735999, 0.6121813 , 0.2004587 ],\n",
       "       [0.15363456, 0.675888  , 0.17047743],\n",
       "       [0.17964013, 0.62928545, 0.19107437],\n",
       "       [0.20753431, 0.5453385 , 0.24712719]], dtype=float32)"
      ]
     },
     "execution_count": 48,
     "metadata": {},
     "output_type": "execute_result"
    }
   ],
   "source": [
    "y_pred = model_lstm.predict(X_test_nn)"
   ]
  }
 ],
 "metadata": {
  "kernelspec": {
   "display_name": "spark",
   "language": "python",
   "name": "python3"
  },
  "language_info": {
   "codemirror_mode": {
    "name": "ipython",
    "version": 3
   },
   "file_extension": ".py",
   "mimetype": "text/x-python",
   "name": "python",
   "nbconvert_exporter": "python",
   "pygments_lexer": "ipython3",
   "version": "3.10.6"
  }
 },
 "nbformat": 4,
 "nbformat_minor": 5
}
