{
 "cells": [
  {
   "cell_type": "markdown",
   "id": "c179ca3a",
   "metadata": {},
   "source": [
    "# TIME series model prototype"
   ]
  },
  {
   "cell_type": "code",
   "execution_count": 127,
   "id": "88ced4f0",
   "metadata": {},
   "outputs": [],
   "source": [
    "import pandas as pd\n",
    "import numpy as np\n",
    "from sklearn.model_selection import train_test_split\n",
    "\n",
    "from tensorflow.keras.models import Sequential\n",
    "from tensorflow.keras.layers import LSTM, Masking, Input\n",
    "from tensorflow.keras.optimizers import Adam\n",
    "from tensorflow.keras import Model, regularizers, layers\n",
    "from tensorflow.keras.callbacks import EarlyStopping, ReduceLROnPlateau"
   ]
  },
  {
   "cell_type": "markdown",
   "id": "9cded95f",
   "metadata": {},
   "source": [
    "## Loading time series "
   ]
  },
  {
   "cell_type": "code",
   "execution_count": 5,
   "id": "276a0c4c",
   "metadata": {},
   "outputs": [],
   "source": [
    "raw_data_prep_dir = '../raw_data/pads-parkinsons-disease-smartwatch-dataset-1.0.0/preprocessed/'"
   ]
  },
  {
   "cell_type": "code",
   "execution_count": 6,
   "id": "3a5e6883",
   "metadata": {},
   "outputs": [
    {
     "data": {
      "text/html": [
       "<div>\n",
       "<style scoped>\n",
       "    .dataframe tbody tr th:only-of-type {\n",
       "        vertical-align: middle;\n",
       "    }\n",
       "\n",
       "    .dataframe tbody tr th {\n",
       "        vertical-align: top;\n",
       "    }\n",
       "\n",
       "    .dataframe thead th {\n",
       "        text-align: right;\n",
       "    }\n",
       "</style>\n",
       "<table border=\"1\" class=\"dataframe\">\n",
       "  <thead>\n",
       "    <tr style=\"text-align: right;\">\n",
       "      <th></th>\n",
       "      <th>resource_type</th>\n",
       "      <th>id</th>\n",
       "      <th>study_id</th>\n",
       "      <th>condition</th>\n",
       "      <th>disease_comment</th>\n",
       "      <th>age_at_diagnosis</th>\n",
       "      <th>age</th>\n",
       "      <th>height</th>\n",
       "      <th>weight</th>\n",
       "      <th>gender</th>\n",
       "      <th>handedness</th>\n",
       "      <th>appearance_in_kinship</th>\n",
       "      <th>appearance_in_first_grade_kinship</th>\n",
       "      <th>effect_of_alcohol_on_tremor</th>\n",
       "      <th>label</th>\n",
       "    </tr>\n",
       "  </thead>\n",
       "  <tbody>\n",
       "    <tr>\n",
       "      <th>0</th>\n",
       "      <td>patient</td>\n",
       "      <td>1</td>\n",
       "      <td>PADS</td>\n",
       "      <td>Healthy</td>\n",
       "      <td>-</td>\n",
       "      <td>56</td>\n",
       "      <td>56</td>\n",
       "      <td>173</td>\n",
       "      <td>78</td>\n",
       "      <td>male</td>\n",
       "      <td>right</td>\n",
       "      <td>True</td>\n",
       "      <td>True</td>\n",
       "      <td>Unknown</td>\n",
       "      <td>0</td>\n",
       "    </tr>\n",
       "    <tr>\n",
       "      <th>1</th>\n",
       "      <td>patient</td>\n",
       "      <td>2</td>\n",
       "      <td>PADS</td>\n",
       "      <td>Other Movement Disorders</td>\n",
       "      <td>Left-Sided resting tremor and hypokinesia with...</td>\n",
       "      <td>69</td>\n",
       "      <td>81</td>\n",
       "      <td>193</td>\n",
       "      <td>104</td>\n",
       "      <td>male</td>\n",
       "      <td>right</td>\n",
       "      <td>False</td>\n",
       "      <td>NaN</td>\n",
       "      <td>No effect</td>\n",
       "      <td>2</td>\n",
       "    </tr>\n",
       "    <tr>\n",
       "      <th>2</th>\n",
       "      <td>patient</td>\n",
       "      <td>3</td>\n",
       "      <td>PADS</td>\n",
       "      <td>Healthy</td>\n",
       "      <td>-</td>\n",
       "      <td>45</td>\n",
       "      <td>45</td>\n",
       "      <td>170</td>\n",
       "      <td>78</td>\n",
       "      <td>female</td>\n",
       "      <td>right</td>\n",
       "      <td>False</td>\n",
       "      <td>NaN</td>\n",
       "      <td>Unknown</td>\n",
       "      <td>0</td>\n",
       "    </tr>\n",
       "    <tr>\n",
       "      <th>3</th>\n",
       "      <td>patient</td>\n",
       "      <td>4</td>\n",
       "      <td>PADS</td>\n",
       "      <td>Parkinson's</td>\n",
       "      <td>IPS akinetic-rigid type</td>\n",
       "      <td>63</td>\n",
       "      <td>67</td>\n",
       "      <td>161</td>\n",
       "      <td>90</td>\n",
       "      <td>female</td>\n",
       "      <td>right</td>\n",
       "      <td>False</td>\n",
       "      <td>NaN</td>\n",
       "      <td>No effect</td>\n",
       "      <td>1</td>\n",
       "    </tr>\n",
       "    <tr>\n",
       "      <th>4</th>\n",
       "      <td>patient</td>\n",
       "      <td>5</td>\n",
       "      <td>PADS</td>\n",
       "      <td>Parkinson's</td>\n",
       "      <td>IPS tremordominant type</td>\n",
       "      <td>65</td>\n",
       "      <td>75</td>\n",
       "      <td>172</td>\n",
       "      <td>86</td>\n",
       "      <td>male</td>\n",
       "      <td>left</td>\n",
       "      <td>False</td>\n",
       "      <td>NaN</td>\n",
       "      <td>Unknown</td>\n",
       "      <td>1</td>\n",
       "    </tr>\n",
       "    <tr>\n",
       "      <th>...</th>\n",
       "      <td>...</td>\n",
       "      <td>...</td>\n",
       "      <td>...</td>\n",
       "      <td>...</td>\n",
       "      <td>...</td>\n",
       "      <td>...</td>\n",
       "      <td>...</td>\n",
       "      <td>...</td>\n",
       "      <td>...</td>\n",
       "      <td>...</td>\n",
       "      <td>...</td>\n",
       "      <td>...</td>\n",
       "      <td>...</td>\n",
       "      <td>...</td>\n",
       "      <td>...</td>\n",
       "    </tr>\n",
       "    <tr>\n",
       "      <th>464</th>\n",
       "      <td>patient</td>\n",
       "      <td>465</td>\n",
       "      <td>PADS</td>\n",
       "      <td>Parkinson's</td>\n",
       "      <td>IPS mixed type</td>\n",
       "      <td>62</td>\n",
       "      <td>65</td>\n",
       "      <td>175</td>\n",
       "      <td>80</td>\n",
       "      <td>male</td>\n",
       "      <td>right</td>\n",
       "      <td>True</td>\n",
       "      <td>False</td>\n",
       "      <td>No effect</td>\n",
       "      <td>1</td>\n",
       "    </tr>\n",
       "    <tr>\n",
       "      <th>465</th>\n",
       "      <td>patient</td>\n",
       "      <td>466</td>\n",
       "      <td>PADS</td>\n",
       "      <td>Healthy</td>\n",
       "      <td>-</td>\n",
       "      <td>84</td>\n",
       "      <td>84</td>\n",
       "      <td>172</td>\n",
       "      <td>74</td>\n",
       "      <td>female</td>\n",
       "      <td>right</td>\n",
       "      <td>True</td>\n",
       "      <td>True</td>\n",
       "      <td>No effect</td>\n",
       "      <td>0</td>\n",
       "    </tr>\n",
       "    <tr>\n",
       "      <th>466</th>\n",
       "      <td>patient</td>\n",
       "      <td>467</td>\n",
       "      <td>PADS</td>\n",
       "      <td>Parkinson's</td>\n",
       "      <td>Essential Tremor, starting IPS tremordominant ...</td>\n",
       "      <td>55</td>\n",
       "      <td>57</td>\n",
       "      <td>190</td>\n",
       "      <td>100</td>\n",
       "      <td>male</td>\n",
       "      <td>right</td>\n",
       "      <td>False</td>\n",
       "      <td>NaN</td>\n",
       "      <td>Improvement</td>\n",
       "      <td>1</td>\n",
       "    </tr>\n",
       "    <tr>\n",
       "      <th>467</th>\n",
       "      <td>patient</td>\n",
       "      <td>468</td>\n",
       "      <td>PADS</td>\n",
       "      <td>Parkinson's</td>\n",
       "      <td>IPS mixed type</td>\n",
       "      <td>73</td>\n",
       "      <td>76</td>\n",
       "      <td>198</td>\n",
       "      <td>118</td>\n",
       "      <td>male</td>\n",
       "      <td>right</td>\n",
       "      <td>False</td>\n",
       "      <td>NaN</td>\n",
       "      <td>No effect</td>\n",
       "      <td>1</td>\n",
       "    </tr>\n",
       "    <tr>\n",
       "      <th>468</th>\n",
       "      <td>patient</td>\n",
       "      <td>469</td>\n",
       "      <td>PADS</td>\n",
       "      <td>Parkinson's</td>\n",
       "      <td>IPS tremordominant type</td>\n",
       "      <td>44</td>\n",
       "      <td>54</td>\n",
       "      <td>165</td>\n",
       "      <td>67</td>\n",
       "      <td>female</td>\n",
       "      <td>right</td>\n",
       "      <td>False</td>\n",
       "      <td>NaN</td>\n",
       "      <td>Unknown</td>\n",
       "      <td>1</td>\n",
       "    </tr>\n",
       "  </tbody>\n",
       "</table>\n",
       "<p>469 rows × 15 columns</p>\n",
       "</div>"
      ],
      "text/plain": [
       "    resource_type   id study_id                 condition  \\\n",
       "0         patient    1     PADS                   Healthy   \n",
       "1         patient    2     PADS  Other Movement Disorders   \n",
       "2         patient    3     PADS                   Healthy   \n",
       "3         patient    4     PADS               Parkinson's   \n",
       "4         patient    5     PADS               Parkinson's   \n",
       "..            ...  ...      ...                       ...   \n",
       "464       patient  465     PADS               Parkinson's   \n",
       "465       patient  466     PADS                   Healthy   \n",
       "466       patient  467     PADS               Parkinson's   \n",
       "467       patient  468     PADS               Parkinson's   \n",
       "468       patient  469     PADS               Parkinson's   \n",
       "\n",
       "                                       disease_comment  age_at_diagnosis  age  \\\n",
       "0                                                    -                56   56   \n",
       "1    Left-Sided resting tremor and hypokinesia with...                69   81   \n",
       "2                                                    -                45   45   \n",
       "3                              IPS akinetic-rigid type                63   67   \n",
       "4                              IPS tremordominant type                65   75   \n",
       "..                                                 ...               ...  ...   \n",
       "464                                     IPS mixed type                62   65   \n",
       "465                                                  -                84   84   \n",
       "466  Essential Tremor, starting IPS tremordominant ...                55   57   \n",
       "467                                     IPS mixed type                73   76   \n",
       "468                            IPS tremordominant type                44   54   \n",
       "\n",
       "     height  weight  gender handedness  appearance_in_kinship  \\\n",
       "0       173      78    male      right                   True   \n",
       "1       193     104    male      right                  False   \n",
       "2       170      78  female      right                  False   \n",
       "3       161      90  female      right                  False   \n",
       "4       172      86    male       left                  False   \n",
       "..      ...     ...     ...        ...                    ...   \n",
       "464     175      80    male      right                   True   \n",
       "465     172      74  female      right                   True   \n",
       "466     190     100    male      right                  False   \n",
       "467     198     118    male      right                  False   \n",
       "468     165      67  female      right                  False   \n",
       "\n",
       "    appearance_in_first_grade_kinship effect_of_alcohol_on_tremor  label  \n",
       "0                                True                     Unknown      0  \n",
       "1                                 NaN                   No effect      2  \n",
       "2                                 NaN                     Unknown      0  \n",
       "3                                 NaN                   No effect      1  \n",
       "4                                 NaN                     Unknown      1  \n",
       "..                                ...                         ...    ...  \n",
       "464                             False                   No effect      1  \n",
       "465                              True                   No effect      0  \n",
       "466                               NaN                 Improvement      1  \n",
       "467                               NaN                   No effect      1  \n",
       "468                               NaN                     Unknown      1  \n",
       "\n",
       "[469 rows x 15 columns]"
      ]
     },
     "execution_count": 6,
     "metadata": {},
     "output_type": "execute_result"
    }
   ],
   "source": [
    "file_list = pd.read_csv(raw_data_prep_dir  + \"file_list.csv\")\n",
    "file_list"
   ]
  },
  {
   "cell_type": "code",
   "execution_count": 42,
   "id": "f1119e5b",
   "metadata": {},
   "outputs": [
    {
     "data": {
      "text/plain": [
       "469"
      ]
     },
     "execution_count": 42,
     "metadata": {},
     "output_type": "execute_result"
    }
   ],
   "source": [
    "n_id = len(file_list['id'])\n",
    "n_id"
   ]
  },
  {
   "cell_type": "code",
   "execution_count": 18,
   "id": "44f733dd",
   "metadata": {},
   "outputs": [
    {
     "data": {
      "text/plain": [
       "4    1\n",
       "Name: label, dtype: int64"
      ]
     },
     "execution_count": 18,
     "metadata": {},
     "output_type": "execute_result"
    }
   ],
   "source": [
    "file_list[file_list['id']==5]['label']"
   ]
  },
  {
   "cell_type": "code",
   "execution_count": 64,
   "id": "cb01f388",
   "metadata": {},
   "outputs": [
    {
     "ename": "TypeError",
     "evalue": "_LocationIndexer.__call__() takes from 1 to 2 positional arguments but 3 were given",
     "output_type": "error",
     "traceback": [
      "\u001b[0;31m---------------------------------------------------------------------------\u001b[0m",
      "\u001b[0;31mTypeError\u001b[0m                                 Traceback (most recent call last)",
      "Cell \u001b[0;32mIn[64], line 1\u001b[0m\n\u001b[0;32m----> 1\u001b[0m label \u001b[38;5;241m=\u001b[39m \u001b[43mfile_list\u001b[49m\u001b[38;5;241;43m.\u001b[39;49m\u001b[43mloc\u001b[49m\u001b[43m(\u001b[49m\u001b[43mfile_list\u001b[49m\u001b[43m[\u001b[49m\u001b[38;5;124;43m'\u001b[39;49m\u001b[38;5;124;43mid\u001b[39;49m\u001b[38;5;124;43m'\u001b[39;49m\u001b[43m]\u001b[49m\u001b[38;5;241;43m==\u001b[39;49m\u001b[38;5;241;43m1\u001b[39;49m\u001b[43m,\u001b[49m\u001b[38;5;124;43m'\u001b[39;49m\u001b[38;5;124;43mlabel\u001b[39;49m\u001b[38;5;124;43m'\u001b[39;49m\u001b[43m)\u001b[49m\n",
      "\u001b[0;31mTypeError\u001b[0m: _LocationIndexer.__call__() takes from 1 to 2 positional arguments but 3 were given"
     ]
    }
   ],
   "source": [
    "label = file_list.loc(file_list['id']==1,'label')"
   ]
  },
  {
   "cell_type": "code",
   "execution_count": null,
   "id": "acf7192b",
   "metadata": {},
   "outputs": [
    {
     "name": "stdout",
     "output_type": "stream",
     "text": [
      "(469,) (469,)\n"
     ]
    }
   ],
   "source": [
    "time_data = []\n",
    "y = []\n",
    "X_to_split = []\n",
    "for idx, subject_idx in enumerate(file_list['id']):\n",
    "    file_name = raw_data_prep_dir + f'movement/{subject_idx:03d}_ml.bin'\n",
    "    time_idx_data = np.fromfile(file_name, dtype=np.float32).reshape((-1, 976))\n",
    "    time_data.append(time_idx_data)\n",
    "    y_idx = file_list[file_list['id']==subject_idx].label.values\n",
    "    X_id = idx\n",
    "    y.append(y_idx)\n",
    "    X_to_split.append(X_id)\n",
    "\n",
    "X_to_split = np.array(X_to_split)\n",
    "y = np.array(y).flatten()\n",
    "print(X_to_split.shape, y.shape)"
   ]
  },
  {
   "cell_type": "code",
   "execution_count": 82,
   "id": "f0f8d2dc",
   "metadata": {},
   "outputs": [
    {
     "data": {
      "text/plain": [
       "132"
      ]
     },
     "execution_count": 82,
     "metadata": {},
     "output_type": "execute_result"
    }
   ],
   "source": [
    "channels = []\n",
    "for task in [\"Relaxed1\", \"Relaxed2\", \"RelaxedTask1\", \"RelaxedTask2\", \"StretchHold\", \"HoldWeight\",\n",
    "                \"DrinkGlas\", \"CrossArms\", \"TouchNose\", \"Entrainment1\", \"Entrainment2\"]:\n",
    "    for device_location in [\"LeftWrist\", \"RightWrist\"]:\n",
    "        for sensor in [\"Acceleration\", \"Rotation\"]:\n",
    "            for axis in [\"X\", \"Y\", \"Z\"]:\n",
    "                channel = f\"{task}_{sensor}_{device_location}_{axis}\"\n",
    "                channels.append(channel)\n",
    "len(channels)"
   ]
  },
  {
   "cell_type": "code",
   "execution_count": 53,
   "id": "e572649d",
   "metadata": {},
   "outputs": [
    {
     "name": "stdout",
     "output_type": "stream",
     "text": [
      "(469, 132, 976)\n"
     ]
    }
   ],
   "source": [
    "time_data_array = np.array(time_data)\n",
    "print(time_data_array.shape)"
   ]
  },
  {
   "cell_type": "code",
   "execution_count": 112,
   "id": "c6ea8174",
   "metadata": {},
   "outputs": [],
   "source": [
    "X_train_idx, X_test_idx, y_train, y_test = train_test_split(X_to_split, y, test_size=0.20, random_state=42, stratify = y)"
   ]
  },
  {
   "cell_type": "code",
   "execution_count": 118,
   "id": "bd3d08ee",
   "metadata": {},
   "outputs": [
    {
     "name": "stdout",
     "output_type": "stream",
     "text": [
      "375 94\n",
      "375 94\n"
     ]
    }
   ],
   "source": [
    "X_train = time_data_array[X_train_idx]\n",
    "X_test = time_data_array[X_test_idx]\n",
    "print(len(X_train), len(X_test))\n",
    "print(len(y_train), len(y_test))"
   ]
  },
  {
   "cell_type": "code",
   "execution_count": null,
   "id": "b0b2b766",
   "metadata": {},
   "outputs": [
    {
     "name": "stdout",
     "output_type": "stream",
     "text": [
      "375 132 976\n",
      "(976, 132)\n",
      "94 132 976\n"
     ]
    },
    {
     "data": {
      "text/plain": [
       "(94, 976, 132)"
      ]
     },
     "execution_count": 129,
     "metadata": {},
     "output_type": "execute_result"
    }
   ],
   "source": [
    "n_obs, n_chan, n_time =  X_train.shape\n",
    "print(n_obs, n_chan, n_time)\n",
    "X_train_nn = X_train.reshape(n_obs, n_time, n_chan)\n",
    "input_shape = X_train_nn.shape[1:]\n",
    "print(input_shape)\n",
    "\n",
    "n_obs_test, n_chan_test, n_time_test =  X_test.shape\n",
    "print(n_obs_test, n_chan_test, n_time_test)\n",
    "X_test_nn = X_test.reshape(n_obs_test, n_time_test, n_chan_test)\n",
    "X_test_nn.shape"
   ]
  },
  {
   "cell_type": "code",
   "execution_count": 154,
   "id": "c5de54ee",
   "metadata": {},
   "outputs": [],
   "source": [
    "def initialize_model_lstm(input_shape:tuple, dropout_rate: float = 0.3) -> Model:\n",
    "    model = Sequential()\n",
    "    model.add(Input(shape=input_shape))\n",
    "\n",
    "    #two lstm layers to better capture\n",
    "    model.add(LSTM(units=64, activation='tanh',\n",
    "                   return_sequences=True,\n",
    "                   dropout=dropout_rate,\n",
    "                   recurrent_dropout=dropout_rate))\n",
    "    model.add(LSTM(units=64, activation='tanh',\n",
    "                   dropout=dropout_rate,\n",
    "                   recurrent_dropout=dropout_rate))\n",
    "\n",
    "    model.add(layers.Dropout(dropout_rate))\n",
    "\n",
    "    #dense layer with batch normalization\n",
    "    model.add(layers.Dense(32, activation='relu'))\n",
    "    model.add(layers.BatchNormalization())\n",
    "    model.add(layers.Dropout(dropout_rate))\n",
    "\n",
    "    model.add(layers.Dense(16, activation='relu'))\n",
    "    model.add(layers.Dropout(dropout_rate))\n",
    "\n",
    "    #output layer with 3 classification\n",
    "    model.add(layers.Dense(3, activation='softmax'))\n",
    "\n",
    "    return model"
   ]
  },
  {
   "cell_type": "code",
   "execution_count": 155,
   "id": "b90e71b3",
   "metadata": {},
   "outputs": [],
   "source": [
    "model_lstm = initialize_model_lstm(input_shape=X_train_nn.shape[1:])\n",
    "\n",
    "model_lstm.compile(\n",
    "    loss=\"sparse_categorical_crossentropy\",\n",
    "    optimizer=Adam(learning_rate=0.01),\n",
    "    metrics=['accuracy', 'precision', 'recall'])"
   ]
  },
  {
   "cell_type": "code",
   "execution_count": 156,
   "id": "7f4c2b8b",
   "metadata": {},
   "outputs": [
    {
     "data": {
      "text/html": [
       "<pre style=\"white-space:pre;overflow-x:auto;line-height:normal;font-family:Menlo,'DejaVu Sans Mono',consolas,'Courier New',monospace\"><span style=\"font-weight: bold\">Model: \"sequential_4\"</span>\n",
       "</pre>\n"
      ],
      "text/plain": [
       "\u001b[1mModel: \"sequential_4\"\u001b[0m\n"
      ]
     },
     "metadata": {},
     "output_type": "display_data"
    },
    {
     "data": {
      "text/html": [
       "<pre style=\"white-space:pre;overflow-x:auto;line-height:normal;font-family:Menlo,'DejaVu Sans Mono',consolas,'Courier New',monospace\">┏━━━━━━━━━━━━━━━━━━━━━━━━━━━━━━━━━┳━━━━━━━━━━━━━━━━━━━━━━━━┳━━━━━━━━━━━━━━━┓\n",
       "┃<span style=\"font-weight: bold\"> Layer (type)                    </span>┃<span style=\"font-weight: bold\"> Output Shape           </span>┃<span style=\"font-weight: bold\">       Param # </span>┃\n",
       "┡━━━━━━━━━━━━━━━━━━━━━━━━━━━━━━━━━╇━━━━━━━━━━━━━━━━━━━━━━━━╇━━━━━━━━━━━━━━━┩\n",
       "│ lstm_6 (<span style=\"color: #0087ff; text-decoration-color: #0087ff\">LSTM</span>)                   │ (<span style=\"color: #00d7ff; text-decoration-color: #00d7ff\">None</span>, <span style=\"color: #00af00; text-decoration-color: #00af00\">976</span>, <span style=\"color: #00af00; text-decoration-color: #00af00\">64</span>)        │        <span style=\"color: #00af00; text-decoration-color: #00af00\">50,432</span> │\n",
       "├─────────────────────────────────┼────────────────────────┼───────────────┤\n",
       "│ lstm_7 (<span style=\"color: #0087ff; text-decoration-color: #0087ff\">LSTM</span>)                   │ (<span style=\"color: #00d7ff; text-decoration-color: #00d7ff\">None</span>, <span style=\"color: #00af00; text-decoration-color: #00af00\">64</span>)             │        <span style=\"color: #00af00; text-decoration-color: #00af00\">33,024</span> │\n",
       "├─────────────────────────────────┼────────────────────────┼───────────────┤\n",
       "│ dropout_9 (<span style=\"color: #0087ff; text-decoration-color: #0087ff\">Dropout</span>)             │ (<span style=\"color: #00d7ff; text-decoration-color: #00d7ff\">None</span>, <span style=\"color: #00af00; text-decoration-color: #00af00\">64</span>)             │             <span style=\"color: #00af00; text-decoration-color: #00af00\">0</span> │\n",
       "├─────────────────────────────────┼────────────────────────┼───────────────┤\n",
       "│ dense_9 (<span style=\"color: #0087ff; text-decoration-color: #0087ff\">Dense</span>)                 │ (<span style=\"color: #00d7ff; text-decoration-color: #00d7ff\">None</span>, <span style=\"color: #00af00; text-decoration-color: #00af00\">32</span>)             │         <span style=\"color: #00af00; text-decoration-color: #00af00\">2,080</span> │\n",
       "├─────────────────────────────────┼────────────────────────┼───────────────┤\n",
       "│ batch_normalization_3           │ (<span style=\"color: #00d7ff; text-decoration-color: #00d7ff\">None</span>, <span style=\"color: #00af00; text-decoration-color: #00af00\">32</span>)             │           <span style=\"color: #00af00; text-decoration-color: #00af00\">128</span> │\n",
       "│ (<span style=\"color: #0087ff; text-decoration-color: #0087ff\">BatchNormalization</span>)            │                        │               │\n",
       "├─────────────────────────────────┼────────────────────────┼───────────────┤\n",
       "│ dropout_10 (<span style=\"color: #0087ff; text-decoration-color: #0087ff\">Dropout</span>)            │ (<span style=\"color: #00d7ff; text-decoration-color: #00d7ff\">None</span>, <span style=\"color: #00af00; text-decoration-color: #00af00\">32</span>)             │             <span style=\"color: #00af00; text-decoration-color: #00af00\">0</span> │\n",
       "├─────────────────────────────────┼────────────────────────┼───────────────┤\n",
       "│ dense_10 (<span style=\"color: #0087ff; text-decoration-color: #0087ff\">Dense</span>)                │ (<span style=\"color: #00d7ff; text-decoration-color: #00d7ff\">None</span>, <span style=\"color: #00af00; text-decoration-color: #00af00\">16</span>)             │           <span style=\"color: #00af00; text-decoration-color: #00af00\">528</span> │\n",
       "├─────────────────────────────────┼────────────────────────┼───────────────┤\n",
       "│ dropout_11 (<span style=\"color: #0087ff; text-decoration-color: #0087ff\">Dropout</span>)            │ (<span style=\"color: #00d7ff; text-decoration-color: #00d7ff\">None</span>, <span style=\"color: #00af00; text-decoration-color: #00af00\">16</span>)             │             <span style=\"color: #00af00; text-decoration-color: #00af00\">0</span> │\n",
       "├─────────────────────────────────┼────────────────────────┼───────────────┤\n",
       "│ dense_11 (<span style=\"color: #0087ff; text-decoration-color: #0087ff\">Dense</span>)                │ (<span style=\"color: #00d7ff; text-decoration-color: #00d7ff\">None</span>, <span style=\"color: #00af00; text-decoration-color: #00af00\">3</span>)              │            <span style=\"color: #00af00; text-decoration-color: #00af00\">51</span> │\n",
       "└─────────────────────────────────┴────────────────────────┴───────────────┘\n",
       "</pre>\n"
      ],
      "text/plain": [
       "┏━━━━━━━━━━━━━━━━━━━━━━━━━━━━━━━━━┳━━━━━━━━━━━━━━━━━━━━━━━━┳━━━━━━━━━━━━━━━┓\n",
       "┃\u001b[1m \u001b[0m\u001b[1mLayer (type)                   \u001b[0m\u001b[1m \u001b[0m┃\u001b[1m \u001b[0m\u001b[1mOutput Shape          \u001b[0m\u001b[1m \u001b[0m┃\u001b[1m \u001b[0m\u001b[1m      Param #\u001b[0m\u001b[1m \u001b[0m┃\n",
       "┡━━━━━━━━━━━━━━━━━━━━━━━━━━━━━━━━━╇━━━━━━━━━━━━━━━━━━━━━━━━╇━━━━━━━━━━━━━━━┩\n",
       "│ lstm_6 (\u001b[38;5;33mLSTM\u001b[0m)                   │ (\u001b[38;5;45mNone\u001b[0m, \u001b[38;5;34m976\u001b[0m, \u001b[38;5;34m64\u001b[0m)        │        \u001b[38;5;34m50,432\u001b[0m │\n",
       "├─────────────────────────────────┼────────────────────────┼───────────────┤\n",
       "│ lstm_7 (\u001b[38;5;33mLSTM\u001b[0m)                   │ (\u001b[38;5;45mNone\u001b[0m, \u001b[38;5;34m64\u001b[0m)             │        \u001b[38;5;34m33,024\u001b[0m │\n",
       "├─────────────────────────────────┼────────────────────────┼───────────────┤\n",
       "│ dropout_9 (\u001b[38;5;33mDropout\u001b[0m)             │ (\u001b[38;5;45mNone\u001b[0m, \u001b[38;5;34m64\u001b[0m)             │             \u001b[38;5;34m0\u001b[0m │\n",
       "├─────────────────────────────────┼────────────────────────┼───────────────┤\n",
       "│ dense_9 (\u001b[38;5;33mDense\u001b[0m)                 │ (\u001b[38;5;45mNone\u001b[0m, \u001b[38;5;34m32\u001b[0m)             │         \u001b[38;5;34m2,080\u001b[0m │\n",
       "├─────────────────────────────────┼────────────────────────┼───────────────┤\n",
       "│ batch_normalization_3           │ (\u001b[38;5;45mNone\u001b[0m, \u001b[38;5;34m32\u001b[0m)             │           \u001b[38;5;34m128\u001b[0m │\n",
       "│ (\u001b[38;5;33mBatchNormalization\u001b[0m)            │                        │               │\n",
       "├─────────────────────────────────┼────────────────────────┼───────────────┤\n",
       "│ dropout_10 (\u001b[38;5;33mDropout\u001b[0m)            │ (\u001b[38;5;45mNone\u001b[0m, \u001b[38;5;34m32\u001b[0m)             │             \u001b[38;5;34m0\u001b[0m │\n",
       "├─────────────────────────────────┼────────────────────────┼───────────────┤\n",
       "│ dense_10 (\u001b[38;5;33mDense\u001b[0m)                │ (\u001b[38;5;45mNone\u001b[0m, \u001b[38;5;34m16\u001b[0m)             │           \u001b[38;5;34m528\u001b[0m │\n",
       "├─────────────────────────────────┼────────────────────────┼───────────────┤\n",
       "│ dropout_11 (\u001b[38;5;33mDropout\u001b[0m)            │ (\u001b[38;5;45mNone\u001b[0m, \u001b[38;5;34m16\u001b[0m)             │             \u001b[38;5;34m0\u001b[0m │\n",
       "├─────────────────────────────────┼────────────────────────┼───────────────┤\n",
       "│ dense_11 (\u001b[38;5;33mDense\u001b[0m)                │ (\u001b[38;5;45mNone\u001b[0m, \u001b[38;5;34m3\u001b[0m)              │            \u001b[38;5;34m51\u001b[0m │\n",
       "└─────────────────────────────────┴────────────────────────┴───────────────┘\n"
      ]
     },
     "metadata": {},
     "output_type": "display_data"
    },
    {
     "data": {
      "text/html": [
       "<pre style=\"white-space:pre;overflow-x:auto;line-height:normal;font-family:Menlo,'DejaVu Sans Mono',consolas,'Courier New',monospace\"><span style=\"font-weight: bold\"> Total params: </span><span style=\"color: #00af00; text-decoration-color: #00af00\">86,243</span> (336.89 KB)\n",
       "</pre>\n"
      ],
      "text/plain": [
       "\u001b[1m Total params: \u001b[0m\u001b[38;5;34m86,243\u001b[0m (336.89 KB)\n"
      ]
     },
     "metadata": {},
     "output_type": "display_data"
    },
    {
     "data": {
      "text/html": [
       "<pre style=\"white-space:pre;overflow-x:auto;line-height:normal;font-family:Menlo,'DejaVu Sans Mono',consolas,'Courier New',monospace\"><span style=\"font-weight: bold\"> Trainable params: </span><span style=\"color: #00af00; text-decoration-color: #00af00\">86,179</span> (336.64 KB)\n",
       "</pre>\n"
      ],
      "text/plain": [
       "\u001b[1m Trainable params: \u001b[0m\u001b[38;5;34m86,179\u001b[0m (336.64 KB)\n"
      ]
     },
     "metadata": {},
     "output_type": "display_data"
    },
    {
     "data": {
      "text/html": [
       "<pre style=\"white-space:pre;overflow-x:auto;line-height:normal;font-family:Menlo,'DejaVu Sans Mono',consolas,'Courier New',monospace\"><span style=\"font-weight: bold\"> Non-trainable params: </span><span style=\"color: #00af00; text-decoration-color: #00af00\">64</span> (256.00 B)\n",
       "</pre>\n"
      ],
      "text/plain": [
       "\u001b[1m Non-trainable params: \u001b[0m\u001b[38;5;34m64\u001b[0m (256.00 B)\n"
      ]
     },
     "metadata": {},
     "output_type": "display_data"
    }
   ],
   "source": [
    "model_lstm.summary()"
   ]
  },
  {
   "cell_type": "code",
   "execution_count": 161,
   "id": "231c4dfa",
   "metadata": {},
   "outputs": [
    {
     "name": "stdout",
     "output_type": "stream",
     "text": [
      "Epoch 1/64\n"
     ]
    },
    {
     "ename": "InvalidArgumentError",
     "evalue": "Graph execution error:\n\nDetected at node LogicalAnd_1 defined at (most recent call last):\n  File \"/Users/anna/.pyenv/versions/3.10.6/lib/python3.10/runpy.py\", line 196, in _run_module_as_main\n\n  File \"/Users/anna/.pyenv/versions/3.10.6/lib/python3.10/runpy.py\", line 86, in _run_code\n\n  File \"/Users/anna/.pyenv/versions/3.10.6/envs/spark/lib/python3.10/site-packages/ipykernel_launcher.py\", line 18, in <module>\n\n  File \"/Users/anna/.pyenv/versions/3.10.6/envs/spark/lib/python3.10/site-packages/traitlets/config/application.py\", line 1075, in launch_instance\n\n  File \"/Users/anna/.pyenv/versions/3.10.6/envs/spark/lib/python3.10/site-packages/ipykernel/kernelapp.py\", line 739, in start\n\n  File \"/Users/anna/.pyenv/versions/3.10.6/envs/spark/lib/python3.10/site-packages/tornado/platform/asyncio.py\", line 211, in start\n\n  File \"/Users/anna/.pyenv/versions/3.10.6/lib/python3.10/asyncio/base_events.py\", line 600, in run_forever\n\n  File \"/Users/anna/.pyenv/versions/3.10.6/lib/python3.10/asyncio/base_events.py\", line 1896, in _run_once\n\n  File \"/Users/anna/.pyenv/versions/3.10.6/lib/python3.10/asyncio/events.py\", line 80, in _run\n\n  File \"/Users/anna/.pyenv/versions/3.10.6/envs/spark/lib/python3.10/site-packages/ipykernel/kernelbase.py\", line 519, in dispatch_queue\n\n  File \"/Users/anna/.pyenv/versions/3.10.6/envs/spark/lib/python3.10/site-packages/ipykernel/kernelbase.py\", line 508, in process_one\n\n  File \"/Users/anna/.pyenv/versions/3.10.6/envs/spark/lib/python3.10/site-packages/ipykernel/kernelbase.py\", line 400, in dispatch_shell\n\n  File \"/Users/anna/.pyenv/versions/3.10.6/envs/spark/lib/python3.10/site-packages/ipykernel/ipkernel.py\", line 368, in execute_request\n\n  File \"/Users/anna/.pyenv/versions/3.10.6/envs/spark/lib/python3.10/site-packages/ipykernel/kernelbase.py\", line 767, in execute_request\n\n  File \"/Users/anna/.pyenv/versions/3.10.6/envs/spark/lib/python3.10/site-packages/ipykernel/ipkernel.py\", line 455, in do_execute\n\n  File \"/Users/anna/.pyenv/versions/3.10.6/envs/spark/lib/python3.10/site-packages/ipykernel/zmqshell.py\", line 577, in run_cell\n\n  File \"/Users/anna/.pyenv/versions/3.10.6/envs/spark/lib/python3.10/site-packages/IPython/core/interactiveshell.py\", line 3077, in run_cell\n\n  File \"/Users/anna/.pyenv/versions/3.10.6/envs/spark/lib/python3.10/site-packages/IPython/core/interactiveshell.py\", line 3132, in _run_cell\n\n  File \"/Users/anna/.pyenv/versions/3.10.6/envs/spark/lib/python3.10/site-packages/IPython/core/async_helpers.py\", line 128, in _pseudo_sync_runner\n\n  File \"/Users/anna/.pyenv/versions/3.10.6/envs/spark/lib/python3.10/site-packages/IPython/core/interactiveshell.py\", line 3336, in run_cell_async\n\n  File \"/Users/anna/.pyenv/versions/3.10.6/envs/spark/lib/python3.10/site-packages/IPython/core/interactiveshell.py\", line 3519, in run_ast_nodes\n\n  File \"/Users/anna/.pyenv/versions/3.10.6/envs/spark/lib/python3.10/site-packages/IPython/core/interactiveshell.py\", line 3579, in run_code\n\n  File \"/var/folders/k1/75shbs593v71_7_c871hhjyh0000gn/T/ipykernel_26637/2018928941.py\", line 16, in <module>\n\n  File \"/Users/anna/.pyenv/versions/3.10.6/envs/spark/lib/python3.10/site-packages/keras/src/utils/traceback_utils.py\", line 117, in error_handler\n\n  File \"/Users/anna/.pyenv/versions/3.10.6/envs/spark/lib/python3.10/site-packages/keras/src/backend/tensorflow/trainer.py\", line 377, in fit\n\n  File \"/Users/anna/.pyenv/versions/3.10.6/envs/spark/lib/python3.10/site-packages/keras/src/backend/tensorflow/trainer.py\", line 220, in function\n\n  File \"/Users/anna/.pyenv/versions/3.10.6/envs/spark/lib/python3.10/site-packages/keras/src/backend/tensorflow/trainer.py\", line 133, in multi_step_on_iterator\n\n  File \"/Users/anna/.pyenv/versions/3.10.6/envs/spark/lib/python3.10/site-packages/keras/src/backend/tensorflow/trainer.py\", line 114, in one_step_on_data\n\n  File \"/Users/anna/.pyenv/versions/3.10.6/envs/spark/lib/python3.10/site-packages/keras/src/backend/tensorflow/trainer.py\", line 85, in train_step\n\n  File \"/Users/anna/.pyenv/versions/3.10.6/envs/spark/lib/python3.10/site-packages/keras/src/trainers/trainer.py\", line 490, in compute_metrics\n\n  File \"/Users/anna/.pyenv/versions/3.10.6/envs/spark/lib/python3.10/site-packages/keras/src/trainers/compile_utils.py\", line 334, in update_state\n\n  File \"/Users/anna/.pyenv/versions/3.10.6/envs/spark/lib/python3.10/site-packages/keras/src/trainers/compile_utils.py\", line 21, in update_state\n\n  File \"/Users/anna/.pyenv/versions/3.10.6/envs/spark/lib/python3.10/site-packages/keras/src/metrics/confusion_metrics.py\", line 378, in update_state\n\n  File \"/Users/anna/.pyenv/versions/3.10.6/envs/spark/lib/python3.10/site-packages/keras/src/metrics/metrics_utils.py\", line 595, in update_confusion_matrix_variables\n\n  File \"/Users/anna/.pyenv/versions/3.10.6/envs/spark/lib/python3.10/site-packages/keras/src/metrics/metrics_utils.py\", line 568, in weighted_assign_add\n\n  File \"/Users/anna/.pyenv/versions/3.10.6/envs/spark/lib/python3.10/site-packages/keras/src/ops/numpy.py\", line 4011, in logical_and\n\n  File \"/Users/anna/.pyenv/versions/3.10.6/envs/spark/lib/python3.10/site-packages/keras/src/backend/tensorflow/numpy.py\", line 1737, in logical_and\n\nIncompatible shapes: [1,96] vs. [1,32]\n\t [[{{node LogicalAnd_1}}]] [Op:__inference_multi_step_on_iterator_27897]",
     "output_type": "error",
     "traceback": [
      "\u001b[0;31m---------------------------------------------------------------------------\u001b[0m",
      "\u001b[0;31mInvalidArgumentError\u001b[0m                      Traceback (most recent call last)",
      "Cell \u001b[0;32mIn[161], line 16\u001b[0m\n\u001b[1;32m      1\u001b[0m es \u001b[38;5;241m=\u001b[39m EarlyStopping(\n\u001b[1;32m      2\u001b[0m     monitor\u001b[38;5;241m=\u001b[39m\u001b[38;5;124m\"\u001b[39m\u001b[38;5;124mval_loss\u001b[39m\u001b[38;5;124m\"\u001b[39m,\n\u001b[1;32m      3\u001b[0m     patience\u001b[38;5;241m=\u001b[39m\u001b[38;5;241m50\u001b[39m,\n\u001b[1;32m      4\u001b[0m     restore_best_weights\u001b[38;5;241m=\u001b[39m\u001b[38;5;28;01mTrue\u001b[39;00m,\n\u001b[1;32m      5\u001b[0m     verbose\u001b[38;5;241m=\u001b[39m\u001b[38;5;241m0\u001b[39m\n\u001b[1;32m      6\u001b[0m )\n\u001b[1;32m      8\u001b[0m reduce_lr \u001b[38;5;241m=\u001b[39m ReduceLROnPlateau(\n\u001b[1;32m      9\u001b[0m         monitor\u001b[38;5;241m=\u001b[39m\u001b[38;5;124m'\u001b[39m\u001b[38;5;124mval_loss\u001b[39m\u001b[38;5;124m'\u001b[39m,\n\u001b[1;32m     10\u001b[0m         factor\u001b[38;5;241m=\u001b[39m\u001b[38;5;241m0.1\u001b[39m,\n\u001b[0;32m   (...)\u001b[0m\n\u001b[1;32m     13\u001b[0m         min_lr\u001b[38;5;241m=\u001b[39m\u001b[38;5;241m0\u001b[39m\n\u001b[1;32m     14\u001b[0m     )\n\u001b[0;32m---> 16\u001b[0m history \u001b[38;5;241m=\u001b[39m \u001b[43mmodel_lstm\u001b[49m\u001b[38;5;241;43m.\u001b[39;49m\u001b[43mfit\u001b[49m\u001b[43m(\u001b[49m\n\u001b[1;32m     17\u001b[0m \u001b[43m    \u001b[49m\u001b[43mX_train_nn\u001b[49m\u001b[43m,\u001b[49m\n\u001b[1;32m     18\u001b[0m \u001b[43m    \u001b[49m\u001b[43my_train\u001b[49m\u001b[43m,\u001b[49m\n\u001b[1;32m     19\u001b[0m \u001b[43m    \u001b[49m\u001b[43mvalidation_split\u001b[49m\u001b[43m \u001b[49m\u001b[38;5;241;43m=\u001b[39;49m\u001b[43m \u001b[49m\u001b[38;5;241;43m0.2\u001b[39;49m\u001b[43m,\u001b[49m\n\u001b[1;32m     20\u001b[0m \u001b[43m    \u001b[49m\u001b[43mepochs\u001b[49m\u001b[38;5;241;43m=\u001b[39;49m\u001b[38;5;241;43m64\u001b[39;49m\u001b[43m,\u001b[49m\n\u001b[1;32m     21\u001b[0m \u001b[43m    \u001b[49m\u001b[43mbatch_size\u001b[49m\u001b[43m \u001b[49m\u001b[38;5;241;43m=\u001b[39;49m\u001b[43m \u001b[49m\u001b[38;5;241;43m32\u001b[39;49m\u001b[43m,\u001b[49m\n\u001b[1;32m     22\u001b[0m \u001b[43m    \u001b[49m\u001b[43mcallbacks\u001b[49m\u001b[38;5;241;43m=\u001b[39;49m\u001b[43m[\u001b[49m\u001b[43mes\u001b[49m\u001b[43m,\u001b[49m\u001b[43m \u001b[49m\u001b[43mreduce_lr\u001b[49m\u001b[43m]\u001b[49m\u001b[43m,\u001b[49m\n\u001b[1;32m     23\u001b[0m \u001b[43m    \u001b[49m\u001b[43mverbose\u001b[49m\u001b[38;5;241;43m=\u001b[39;49m\u001b[38;5;241;43m1\u001b[39;49m\n\u001b[1;32m     24\u001b[0m \u001b[43m)\u001b[49m\n",
      "File \u001b[0;32m~/.pyenv/versions/3.10.6/envs/spark/lib/python3.10/site-packages/keras/src/utils/traceback_utils.py:122\u001b[0m, in \u001b[0;36mfilter_traceback.<locals>.error_handler\u001b[0;34m(*args, **kwargs)\u001b[0m\n\u001b[1;32m    119\u001b[0m     filtered_tb \u001b[38;5;241m=\u001b[39m _process_traceback_frames(e\u001b[38;5;241m.\u001b[39m__traceback__)\n\u001b[1;32m    120\u001b[0m     \u001b[38;5;66;03m# To get the full stack trace, call:\u001b[39;00m\n\u001b[1;32m    121\u001b[0m     \u001b[38;5;66;03m# `keras.config.disable_traceback_filtering()`\u001b[39;00m\n\u001b[0;32m--> 122\u001b[0m     \u001b[38;5;28;01mraise\u001b[39;00m e\u001b[38;5;241m.\u001b[39mwith_traceback(filtered_tb) \u001b[38;5;28;01mfrom\u001b[39;00m\u001b[38;5;250m \u001b[39m\u001b[38;5;28;01mNone\u001b[39;00m\n\u001b[1;32m    123\u001b[0m \u001b[38;5;28;01mfinally\u001b[39;00m:\n\u001b[1;32m    124\u001b[0m     \u001b[38;5;28;01mdel\u001b[39;00m filtered_tb\n",
      "File \u001b[0;32m~/.pyenv/versions/3.10.6/envs/spark/lib/python3.10/site-packages/tensorflow/python/eager/execute.py:53\u001b[0m, in \u001b[0;36mquick_execute\u001b[0;34m(op_name, num_outputs, inputs, attrs, ctx, name)\u001b[0m\n\u001b[1;32m     51\u001b[0m \u001b[38;5;28;01mtry\u001b[39;00m:\n\u001b[1;32m     52\u001b[0m   ctx\u001b[38;5;241m.\u001b[39mensure_initialized()\n\u001b[0;32m---> 53\u001b[0m   tensors \u001b[38;5;241m=\u001b[39m pywrap_tfe\u001b[38;5;241m.\u001b[39mTFE_Py_Execute(ctx\u001b[38;5;241m.\u001b[39m_handle, device_name, op_name,\n\u001b[1;32m     54\u001b[0m                                       inputs, attrs, num_outputs)\n\u001b[1;32m     55\u001b[0m \u001b[38;5;28;01mexcept\u001b[39;00m core\u001b[38;5;241m.\u001b[39m_NotOkStatusException \u001b[38;5;28;01mas\u001b[39;00m e:\n\u001b[1;32m     56\u001b[0m   \u001b[38;5;28;01mif\u001b[39;00m name \u001b[38;5;129;01mis\u001b[39;00m \u001b[38;5;129;01mnot\u001b[39;00m \u001b[38;5;28;01mNone\u001b[39;00m:\n",
      "\u001b[0;31mInvalidArgumentError\u001b[0m: Graph execution error:\n\nDetected at node LogicalAnd_1 defined at (most recent call last):\n  File \"/Users/anna/.pyenv/versions/3.10.6/lib/python3.10/runpy.py\", line 196, in _run_module_as_main\n\n  File \"/Users/anna/.pyenv/versions/3.10.6/lib/python3.10/runpy.py\", line 86, in _run_code\n\n  File \"/Users/anna/.pyenv/versions/3.10.6/envs/spark/lib/python3.10/site-packages/ipykernel_launcher.py\", line 18, in <module>\n\n  File \"/Users/anna/.pyenv/versions/3.10.6/envs/spark/lib/python3.10/site-packages/traitlets/config/application.py\", line 1075, in launch_instance\n\n  File \"/Users/anna/.pyenv/versions/3.10.6/envs/spark/lib/python3.10/site-packages/ipykernel/kernelapp.py\", line 739, in start\n\n  File \"/Users/anna/.pyenv/versions/3.10.6/envs/spark/lib/python3.10/site-packages/tornado/platform/asyncio.py\", line 211, in start\n\n  File \"/Users/anna/.pyenv/versions/3.10.6/lib/python3.10/asyncio/base_events.py\", line 600, in run_forever\n\n  File \"/Users/anna/.pyenv/versions/3.10.6/lib/python3.10/asyncio/base_events.py\", line 1896, in _run_once\n\n  File \"/Users/anna/.pyenv/versions/3.10.6/lib/python3.10/asyncio/events.py\", line 80, in _run\n\n  File \"/Users/anna/.pyenv/versions/3.10.6/envs/spark/lib/python3.10/site-packages/ipykernel/kernelbase.py\", line 519, in dispatch_queue\n\n  File \"/Users/anna/.pyenv/versions/3.10.6/envs/spark/lib/python3.10/site-packages/ipykernel/kernelbase.py\", line 508, in process_one\n\n  File \"/Users/anna/.pyenv/versions/3.10.6/envs/spark/lib/python3.10/site-packages/ipykernel/kernelbase.py\", line 400, in dispatch_shell\n\n  File \"/Users/anna/.pyenv/versions/3.10.6/envs/spark/lib/python3.10/site-packages/ipykernel/ipkernel.py\", line 368, in execute_request\n\n  File \"/Users/anna/.pyenv/versions/3.10.6/envs/spark/lib/python3.10/site-packages/ipykernel/kernelbase.py\", line 767, in execute_request\n\n  File \"/Users/anna/.pyenv/versions/3.10.6/envs/spark/lib/python3.10/site-packages/ipykernel/ipkernel.py\", line 455, in do_execute\n\n  File \"/Users/anna/.pyenv/versions/3.10.6/envs/spark/lib/python3.10/site-packages/ipykernel/zmqshell.py\", line 577, in run_cell\n\n  File \"/Users/anna/.pyenv/versions/3.10.6/envs/spark/lib/python3.10/site-packages/IPython/core/interactiveshell.py\", line 3077, in run_cell\n\n  File \"/Users/anna/.pyenv/versions/3.10.6/envs/spark/lib/python3.10/site-packages/IPython/core/interactiveshell.py\", line 3132, in _run_cell\n\n  File \"/Users/anna/.pyenv/versions/3.10.6/envs/spark/lib/python3.10/site-packages/IPython/core/async_helpers.py\", line 128, in _pseudo_sync_runner\n\n  File \"/Users/anna/.pyenv/versions/3.10.6/envs/spark/lib/python3.10/site-packages/IPython/core/interactiveshell.py\", line 3336, in run_cell_async\n\n  File \"/Users/anna/.pyenv/versions/3.10.6/envs/spark/lib/python3.10/site-packages/IPython/core/interactiveshell.py\", line 3519, in run_ast_nodes\n\n  File \"/Users/anna/.pyenv/versions/3.10.6/envs/spark/lib/python3.10/site-packages/IPython/core/interactiveshell.py\", line 3579, in run_code\n\n  File \"/var/folders/k1/75shbs593v71_7_c871hhjyh0000gn/T/ipykernel_26637/2018928941.py\", line 16, in <module>\n\n  File \"/Users/anna/.pyenv/versions/3.10.6/envs/spark/lib/python3.10/site-packages/keras/src/utils/traceback_utils.py\", line 117, in error_handler\n\n  File \"/Users/anna/.pyenv/versions/3.10.6/envs/spark/lib/python3.10/site-packages/keras/src/backend/tensorflow/trainer.py\", line 377, in fit\n\n  File \"/Users/anna/.pyenv/versions/3.10.6/envs/spark/lib/python3.10/site-packages/keras/src/backend/tensorflow/trainer.py\", line 220, in function\n\n  File \"/Users/anna/.pyenv/versions/3.10.6/envs/spark/lib/python3.10/site-packages/keras/src/backend/tensorflow/trainer.py\", line 133, in multi_step_on_iterator\n\n  File \"/Users/anna/.pyenv/versions/3.10.6/envs/spark/lib/python3.10/site-packages/keras/src/backend/tensorflow/trainer.py\", line 114, in one_step_on_data\n\n  File \"/Users/anna/.pyenv/versions/3.10.6/envs/spark/lib/python3.10/site-packages/keras/src/backend/tensorflow/trainer.py\", line 85, in train_step\n\n  File \"/Users/anna/.pyenv/versions/3.10.6/envs/spark/lib/python3.10/site-packages/keras/src/trainers/trainer.py\", line 490, in compute_metrics\n\n  File \"/Users/anna/.pyenv/versions/3.10.6/envs/spark/lib/python3.10/site-packages/keras/src/trainers/compile_utils.py\", line 334, in update_state\n\n  File \"/Users/anna/.pyenv/versions/3.10.6/envs/spark/lib/python3.10/site-packages/keras/src/trainers/compile_utils.py\", line 21, in update_state\n\n  File \"/Users/anna/.pyenv/versions/3.10.6/envs/spark/lib/python3.10/site-packages/keras/src/metrics/confusion_metrics.py\", line 378, in update_state\n\n  File \"/Users/anna/.pyenv/versions/3.10.6/envs/spark/lib/python3.10/site-packages/keras/src/metrics/metrics_utils.py\", line 595, in update_confusion_matrix_variables\n\n  File \"/Users/anna/.pyenv/versions/3.10.6/envs/spark/lib/python3.10/site-packages/keras/src/metrics/metrics_utils.py\", line 568, in weighted_assign_add\n\n  File \"/Users/anna/.pyenv/versions/3.10.6/envs/spark/lib/python3.10/site-packages/keras/src/ops/numpy.py\", line 4011, in logical_and\n\n  File \"/Users/anna/.pyenv/versions/3.10.6/envs/spark/lib/python3.10/site-packages/keras/src/backend/tensorflow/numpy.py\", line 1737, in logical_and\n\nIncompatible shapes: [1,96] vs. [1,32]\n\t [[{{node LogicalAnd_1}}]] [Op:__inference_multi_step_on_iterator_27897]"
     ]
    }
   ],
   "source": [
    "es = EarlyStopping(\n",
    "    monitor=\"val_loss\",\n",
    "    patience=50,\n",
    "    restore_best_weights=True,\n",
    "    verbose=0\n",
    ")\n",
    "\n",
    "reduce_lr = ReduceLROnPlateau(\n",
    "        monitor='val_loss',\n",
    "        factor=0.1,\n",
    "        patience=3,\n",
    "        verbose=1,\n",
    "        min_lr=0\n",
    "    )\n",
    "\n",
    "history = model_lstm.fit(\n",
    "    X_train_nn,\n",
    "    y_train,\n",
    "    validation_split = 0.2,\n",
    "    epochs=64,\n",
    "    batch_size = 32,\n",
    "    callbacks=[es, reduce_lr],\n",
    "    verbose=1\n",
    ")"
   ]
  },
  {
   "cell_type": "code",
   "execution_count": 141,
   "id": "f69716ca",
   "metadata": {},
   "outputs": [
    {
     "data": {
      "text/plain": [
       "(976, 132)"
      ]
     },
     "execution_count": 141,
     "metadata": {},
     "output_type": "execute_result"
    }
   ],
   "source": [
    "input_shape"
   ]
  }
 ],
 "metadata": {
  "kernelspec": {
   "display_name": "spark",
   "language": "python",
   "name": "python3"
  },
  "language_info": {
   "codemirror_mode": {
    "name": "ipython",
    "version": 3
   },
   "file_extension": ".py",
   "mimetype": "text/x-python",
   "name": "python",
   "nbconvert_exporter": "python",
   "pygments_lexer": "ipython3",
   "version": "3.10.6"
  }
 },
 "nbformat": 4,
 "nbformat_minor": 5
}
