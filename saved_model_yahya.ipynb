{
 "cells": [
  {
   "cell_type": "code",
   "execution_count": 1,
   "id": "01194059-30e8-4fc0-8ae1-0bda09fac530",
   "metadata": {
    "execution": {
     "iopub.execute_input": "2025-09-04T21:27:38.713952Z",
     "iopub.status.busy": "2025-09-04T21:27:38.713494Z",
     "iopub.status.idle": "2025-09-04T21:27:44.324230Z",
     "shell.execute_reply": "2025-09-04T21:27:44.322712Z",
     "shell.execute_reply.started": "2025-09-04T21:27:38.713903Z"
    }
   },
   "outputs": [
    {
     "name": "stderr",
     "output_type": "stream",
     "text": [
      "2025-09-04 22:27:40.533058: I external/local_xla/xla/tsl/cuda/cudart_stub.cc:31] Could not find cuda drivers on your machine, GPU will not be used.\n",
      "2025-09-04 22:27:40.629070: I tensorflow/core/platform/cpu_feature_guard.cc:210] This TensorFlow binary is optimized to use available CPU instructions in performance-critical operations.\n",
      "To enable the following instructions: AVX2 FMA, in other operations, rebuild TensorFlow with the appropriate compiler flags.\n",
      "2025-09-04 22:27:43.078445: I external/local_xla/xla/tsl/cuda/cudart_stub.cc:31] Could not find cuda drivers on your machine, GPU will not be used.\n"
     ]
    }
   ],
   "source": [
    "from spark.train import *\n",
    "from spark.model_io import *\n",
    "from spark.preprocessor import *"
   ]
  },
  {
   "cell_type": "code",
   "execution_count": 2,
   "id": "4d9fcf72-72ba-4f23-9fb2-1669f2f0b780",
   "metadata": {
    "execution": {
     "iopub.execute_input": "2025-09-04T21:27:47.351640Z",
     "iopub.status.busy": "2025-09-04T21:27:47.350699Z",
     "iopub.status.idle": "2025-09-04T21:27:47.511402Z",
     "shell.execute_reply": "2025-09-04T21:27:47.509889Z",
     "shell.execute_reply.started": "2025-09-04T21:27:47.351590Z"
    }
   },
   "outputs": [
    {
     "name": "stdout",
     "output_type": "stream",
     "text": [
      "✅ Transformer saved at: ./model_registry/transformer_20250904-222747.joblib\n"
     ]
    },
    {
     "name": "stderr",
     "output_type": "stream",
     "text": [
      "/home/yahya/.pyenv/versions/3.10.6/envs/spark/lib/python3.10/site-packages/sklearn/preprocessing/_encoders.py:246: UserWarning: Found unknown categories in columns [0] during transform. These unknown categories will be encoded as all zeros\n",
      "  warnings.warn(\n"
     ]
    }
   ],
   "source": [
    "X_train, X_test, y_train, y_test = preprocessor('merged_df.csv')"
   ]
  },
  {
   "cell_type": "code",
   "execution_count": 3,
   "id": "27cbd2f3-6998-4ef3-9cfe-156e45141b68",
   "metadata": {
    "execution": {
     "iopub.execute_input": "2025-09-04T21:27:51.013494Z",
     "iopub.status.busy": "2025-09-04T21:27:51.012374Z",
     "iopub.status.idle": "2025-09-04T21:27:51.029031Z",
     "shell.execute_reply": "2025-09-04T21:27:51.026512Z",
     "shell.execute_reply.started": "2025-09-04T21:27:51.013399Z"
    }
   },
   "outputs": [
    {
     "data": {
      "text/plain": [
       "((375, 413), (94, 413), (375,), (94,))"
      ]
     },
     "execution_count": 3,
     "metadata": {},
     "output_type": "execute_result"
    }
   ],
   "source": [
    "X_train.shape, X_test.shape, y_train.shape, y_test.shape"
   ]
  },
  {
   "cell_type": "code",
   "execution_count": 4,
   "id": "079f3969-6e02-4ef0-8d7e-47f5b686002f",
   "metadata": {
    "execution": {
     "iopub.execute_input": "2025-09-04T21:28:06.916258Z",
     "iopub.status.busy": "2025-09-04T21:28:06.915572Z",
     "iopub.status.idle": "2025-09-04T21:28:35.936746Z",
     "shell.execute_reply": "2025-09-04T21:28:35.933712Z",
     "shell.execute_reply.started": "2025-09-04T21:28:06.916198Z"
    }
   },
   "outputs": [
    {
     "name": "stdout",
     "output_type": "stream",
     "text": [
      "Saved locally: ./model_registry/model_20250904-222835.joblib\n"
     ]
    }
   ],
   "source": [
    "path = train_base_model(X_train,y_train)"
   ]
  },
  {
   "cell_type": "code",
   "execution_count": 5,
   "id": "e8769c67-1de4-4298-aa4b-a7dfa0fa7a86",
   "metadata": {
    "execution": {
     "iopub.execute_input": "2025-09-04T21:28:44.175710Z",
     "iopub.status.busy": "2025-09-04T21:28:44.175031Z",
     "iopub.status.idle": "2025-09-04T21:28:44.249881Z",
     "shell.execute_reply": "2025-09-04T21:28:44.247328Z",
     "shell.execute_reply.started": "2025-09-04T21:28:44.175672Z"
    }
   },
   "outputs": [
    {
     "name": "stdout",
     "output_type": "stream",
     "text": [
      "✅ Model evaluated, Balanced Accuracy: 0.74\n",
      "[[13  3  0]\n",
      " [ 2 48  5]\n",
      " [ 3  8 12]]\n",
      "              precision    recall  f1-score   support\n",
      "\n",
      "           0       0.72      0.81      0.76        16\n",
      "           1       0.81      0.87      0.84        55\n",
      "           2       0.71      0.52      0.60        23\n",
      "\n",
      "    accuracy                           0.78        94\n",
      "   macro avg       0.75      0.74      0.74        94\n",
      "weighted avg       0.77      0.78      0.77        94\n",
      "\n"
     ]
    }
   ],
   "source": [
    "balanced_accuracy = evaluate_base_model(path,X_test,y_test)"
   ]
  },
  {
   "cell_type": "code",
   "execution_count": null,
   "id": "699ead90-f97c-489b-9830-240da021d89d",
   "metadata": {},
   "outputs": [],
   "source": []
  }
 ],
 "metadata": {
  "kernelspec": {
   "display_name": "Python 3 (ipykernel)",
   "language": "python",
   "name": "python3"
  },
  "language_info": {
   "codemirror_mode": {
    "name": "ipython",
    "version": 3
   },
   "file_extension": ".py",
   "mimetype": "text/x-python",
   "name": "python",
   "nbconvert_exporter": "python",
   "pygments_lexer": "ipython3",
   "version": "3.10.6"
  }
 },
 "nbformat": 4,
 "nbformat_minor": 5
}
